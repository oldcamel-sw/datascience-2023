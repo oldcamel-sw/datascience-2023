{
 "cells": [
  {
   "cell_type": "code",
   "execution_count": 1,
   "id": "86e4c251-b9bd-4858-81a0-b904b9d23207",
   "metadata": {},
   "outputs": [],
   "source": [
    "import pandas as pd\n",
    "import numpy as np"
   ]
  },
  {
   "cell_type": "code",
   "execution_count": 6,
   "id": "bc8b8116-9fd4-46c4-8d77-8f22ceda34a0",
   "metadata": {},
   "outputs": [
    {
     "name": "stdout",
     "output_type": "stream",
     "text": [
      "<class 'pandas.core.frame.DataFrame'>\n",
      "RangeIndex: 9493 entries, 0 to 9492\n",
      "Data columns (total 7 columns):\n",
      " #   Column            Non-Null Count  Dtype         \n",
      "---  ------            --------------  -----         \n",
      " 0   transaction_id    9493 non-null   object        \n",
      " 1   store             9493 non-null   object        \n",
      " 2   status            9493 non-null   object        \n",
      " 3   transaction_date  9493 non-null   datetime64[ns]\n",
      " 4   plan              9493 non-null   object        \n",
      " 5   contract_type     9493 non-null   object        \n",
      " 6   amount            9493 non-null   float64       \n",
      "dtypes: datetime64[ns](1), float64(1), object(5)\n",
      "memory usage: 519.3+ KB\n"
     ]
    }
   ],
   "source": [
    "df = pd.read_excel(\"/Users/jihunkang/python-for-excel/sales_data/new/January.xlsx\")\n",
    "df.info()"
   ]
  },
  {
   "cell_type": "code",
   "execution_count": 7,
   "id": "f336da6d-c0d1-42b0-a19e-827cf78b5939",
   "metadata": {},
   "outputs": [
    {
     "data": {
      "text/html": [
       "<div>\n",
       "<style scoped>\n",
       "    .dataframe tbody tr th:only-of-type {\n",
       "        vertical-align: middle;\n",
       "    }\n",
       "\n",
       "    .dataframe tbody tr th {\n",
       "        vertical-align: top;\n",
       "    }\n",
       "\n",
       "    .dataframe thead th {\n",
       "        text-align: right;\n",
       "    }\n",
       "</style>\n",
       "<table border=\"1\" class=\"dataframe\">\n",
       "  <thead>\n",
       "    <tr style=\"text-align: right;\">\n",
       "      <th></th>\n",
       "      <th>transaction_id</th>\n",
       "      <th>store</th>\n",
       "      <th>status</th>\n",
       "      <th>transaction_date</th>\n",
       "      <th>plan</th>\n",
       "      <th>contract_type</th>\n",
       "      <th>amount</th>\n",
       "    </tr>\n",
       "  </thead>\n",
       "  <tbody>\n",
       "    <tr>\n",
       "      <th>0</th>\n",
       "      <td>abfbdd6d</td>\n",
       "      <td>Chicago</td>\n",
       "      <td>ACTIVE</td>\n",
       "      <td>2019-01-01</td>\n",
       "      <td>Silver</td>\n",
       "      <td>NEW</td>\n",
       "      <td>14.25</td>\n",
       "    </tr>\n",
       "    <tr>\n",
       "      <th>1</th>\n",
       "      <td>136a9997</td>\n",
       "      <td>San Francisco</td>\n",
       "      <td>ACTIVE</td>\n",
       "      <td>2019-01-01</td>\n",
       "      <td>Gold</td>\n",
       "      <td>NEW</td>\n",
       "      <td>19.35</td>\n",
       "    </tr>\n",
       "    <tr>\n",
       "      <th>2</th>\n",
       "      <td>c6688f32</td>\n",
       "      <td>San Francisco</td>\n",
       "      <td>ACTIVE</td>\n",
       "      <td>2019-01-01</td>\n",
       "      <td>Bronze</td>\n",
       "      <td>NEW</td>\n",
       "      <td>12.20</td>\n",
       "    </tr>\n",
       "    <tr>\n",
       "      <th>3</th>\n",
       "      <td>6ef349c1</td>\n",
       "      <td>Chicago</td>\n",
       "      <td>ACTIVE</td>\n",
       "      <td>2019-01-01</td>\n",
       "      <td>Gold</td>\n",
       "      <td>NEW</td>\n",
       "      <td>19.35</td>\n",
       "    </tr>\n",
       "    <tr>\n",
       "      <th>4</th>\n",
       "      <td>22066f29</td>\n",
       "      <td>San Francisco</td>\n",
       "      <td>ACTIVE</td>\n",
       "      <td>2019-01-01</td>\n",
       "      <td>Silver</td>\n",
       "      <td>NEW</td>\n",
       "      <td>14.25</td>\n",
       "    </tr>\n",
       "  </tbody>\n",
       "</table>\n",
       "</div>"
      ],
      "text/plain": [
       "  transaction_id          store  status transaction_date    plan  \\\n",
       "0       abfbdd6d        Chicago  ACTIVE       2019-01-01  Silver   \n",
       "1       136a9997  San Francisco  ACTIVE       2019-01-01    Gold   \n",
       "2       c6688f32  San Francisco  ACTIVE       2019-01-01  Bronze   \n",
       "3       6ef349c1        Chicago  ACTIVE       2019-01-01    Gold   \n",
       "4       22066f29  San Francisco  ACTIVE       2019-01-01  Silver   \n",
       "\n",
       "  contract_type  amount  \n",
       "0           NEW   14.25  \n",
       "1           NEW   19.35  \n",
       "2           NEW   12.20  \n",
       "3           NEW   19.35  \n",
       "4           NEW   14.25  "
      ]
     },
     "execution_count": 7,
     "metadata": {},
     "output_type": "execute_result"
    }
   ],
   "source": [
    "df.head()"
   ]
  },
  {
   "cell_type": "code",
   "execution_count": 8,
   "id": "628d76c0-6dc2-4668-ad13-b056a411a60c",
   "metadata": {},
   "outputs": [],
   "source": [
    "from pathlib import Path\n",
    "\n",
    "# Directory of this file\n",
    "this_dir = Path(__file__)"
   ]
  },
  {
   "cell_type": "code",
   "execution_count": 11,
   "id": "c08c078b-7dd8-44e5-8b4d-15fb9795edbf",
   "metadata": {},
   "outputs": [
    {
     "ename": "NameError",
     "evalue": "name '__file__' is not defined",
     "output_type": "error",
     "traceback": [
      "\u001b[0;31m---------------------------------------------------------------------------\u001b[0m",
      "\u001b[0;31mNameError\u001b[0m                                 Traceback (most recent call last)",
      "Cell \u001b[0;32mIn[11], line 1\u001b[0m\n\u001b[0;32m----> 1\u001b[0m Path(\u001b[38;5;18;43m__file__\u001b[39;49m)\u001b[38;5;241m.\u001b[39mresolve()\u001b[38;5;241m.\u001b[39mparent\n",
      "\u001b[0;31mNameError\u001b[0m: name '__file__' is not defined"
     ]
    }
   ],
   "source": [
    "Path(__file__).resolve().parent"
   ]
  },
  {
   "cell_type": "code",
   "execution_count": 13,
   "id": "4a527503-846f-47e6-9b79-e7b84455372e",
   "metadata": {},
   "outputs": [
    {
     "data": {
      "text/plain": [
       "PosixPath('/Users/jihunkang/My Drive/Colab Notebooks/sales_data')"
      ]
     },
     "execution_count": 13,
     "metadata": {},
     "output_type": "execute_result"
    }
   ],
   "source": [
    "Path(\".\").resolve()/'sales_data'"
   ]
  },
  {
   "cell_type": "code",
   "execution_count": null,
   "id": "420435ec-fcb8-4448-bc92-a34198e741e6",
   "metadata": {},
   "outputs": [],
   "source": []
  },
  {
   "cell_type": "code",
   "execution_count": null,
   "id": "f970bbdf-77d6-4aea-b620-92490723b3de",
   "metadata": {},
   "outputs": [],
   "source": []
  }
 ],
 "metadata": {
  "kernelspec": {
   "display_name": "Python 3 (ipykernel)",
   "language": "python",
   "name": "python3"
  },
  "language_info": {
   "codemirror_mode": {
    "name": "ipython",
    "version": 3
   },
   "file_extension": ".py",
   "mimetype": "text/x-python",
   "name": "python",
   "nbconvert_exporter": "python",
   "pygments_lexer": "ipython3",
   "version": "3.9.1"
  }
 },
 "nbformat": 4,
 "nbformat_minor": 5
}
