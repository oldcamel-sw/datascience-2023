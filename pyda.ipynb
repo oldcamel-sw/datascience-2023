{
 "cells": [
  {
   "cell_type": "code",
   "execution_count": 27,
   "outputs": [],
   "source": [
    "import pandas as pd\n",
    "import numpy as np\n",
    "\n",
    "from sklearn import datasets\n",
    "data_dir = \"../datasets/\"\n",
    "titanic_path = \"../datasets/titanic/train.csv\"\n",
    "bike_path = \"../datasets/bike-sharing-demand/train.csv\"\n",
    "X_iris, y_iris = datasets.load_iris(return_X_y=True, as_frame=True)\n",
    "df_iris = pd.concat([X_iris, y_iris], axis=1)\n",
    "X_diab, y_diab = datasets.load_diabetes(return_X_y=True, as_frame=True)\n",
    "df_diab = pd.concat([X_diab, y_diab], axis=1)\n",
    "\n",
    "import warnings\n",
    "warnings.filterwarnings('ignore')"
   ],
   "metadata": {
    "collapsed": false
   }
  },
  {
   "cell_type": "markdown",
   "source": [
    "## 8. 월별로 데이터 집계"
   ],
   "metadata": {
    "collapsed": false
   }
  },
  {
   "cell_type": "code",
   "execution_count": 2,
   "outputs": [],
   "source": [
    "df = pd.read_csv(bike_path)"
   ],
   "metadata": {
    "collapsed": false
   }
  },
  {
   "cell_type": "code",
   "execution_count": 3,
   "outputs": [],
   "source": [
    "df['date'] = pd.to_datetime(df['datetime'])"
   ],
   "metadata": {
    "collapsed": false
   }
  },
  {
   "cell_type": "code",
   "execution_count": 4,
   "outputs": [],
   "source": [
    "df['year-month'] = df['date'].dt.strftime(\"%Y%m\")"
   ],
   "metadata": {
    "collapsed": false
   }
  },
  {
   "cell_type": "code",
   "execution_count": 5,
   "outputs": [
    {
     "data": {
      "text/plain": "                 date year-month\n0 2011-01-01 00:00:00     201101\n1 2011-01-01 01:00:00     201101\n2 2011-01-01 02:00:00     201101",
      "text/html": "<div>\n<style scoped>\n    .dataframe tbody tr th:only-of-type {\n        vertical-align: middle;\n    }\n\n    .dataframe tbody tr th {\n        vertical-align: top;\n    }\n\n    .dataframe thead th {\n        text-align: right;\n    }\n</style>\n<table border=\"1\" class=\"dataframe\">\n  <thead>\n    <tr style=\"text-align: right;\">\n      <th></th>\n      <th>date</th>\n      <th>year-month</th>\n    </tr>\n  </thead>\n  <tbody>\n    <tr>\n      <th>0</th>\n      <td>2011-01-01 00:00:00</td>\n      <td>201101</td>\n    </tr>\n    <tr>\n      <th>1</th>\n      <td>2011-01-01 01:00:00</td>\n      <td>201101</td>\n    </tr>\n    <tr>\n      <th>2</th>\n      <td>2011-01-01 02:00:00</td>\n      <td>201101</td>\n    </tr>\n  </tbody>\n</table>\n</div>"
     },
     "execution_count": 5,
     "metadata": {},
     "output_type": "execute_result"
    }
   ],
   "source": [
    "df[['date', 'year-month']].head(3)"
   ],
   "metadata": {
    "collapsed": false
   }
  },
  {
   "cell_type": "code",
   "execution_count": 7,
   "outputs": [
    {
     "data": {
      "text/plain": "year-month\n201101     2008\n201102     3776\n201103     7910\n201104    12229\n201105    15865\n201106    19600\n201107    26145\n201108    17580\n201109    18311\n201110    17159\n201111    10155\n201112     5079\n201201     5244\n201202     5521\n201203    17146\n201204    27584\n201205    25420\n201206    28974\n201207    24802\n201208    28290\n201209    27590\n201210    20928\n201211    15198\n201212     9621\nName: casual, dtype: int64"
     },
     "execution_count": 7,
     "metadata": {},
     "output_type": "execute_result"
    }
   ],
   "source": [
    "df.groupby('year-month').sum()['casual']"
   ],
   "metadata": {
    "collapsed": false
   }
  },
  {
   "cell_type": "markdown",
   "source": [
    "## 9. 월별, 상품별로 데이터 집계"
   ],
   "metadata": {
    "collapsed": false
   }
  },
  {
   "cell_type": "code",
   "execution_count": 18,
   "outputs": [],
   "source": [
    "df['hum_bin'] = pd.cut(df['humidity'], bins=10)"
   ],
   "metadata": {
    "collapsed": false
   }
  },
  {
   "cell_type": "code",
   "execution_count": 20,
   "outputs": [
    {
     "data": {
      "text/plain": "                      casual  registered\nseason hum_bin                          \n1      (-0.1, 10.0]       81         726\n       (10.0, 20.0]      691        1703\n       (20.0, 30.0]     4330       19811\n       (30.0, 40.0]    10337       62540\n       (40.0, 50.0]     9372       58813\n       (50.0, 60.0]     6308       42412\n       (60.0, 70.0]     4324       33139\n       (70.0, 80.0]     2904       19036\n       (80.0, 90.0]     2543       22999\n       (90.0, 100.0]     715        9714\n2      (-0.1, 10.0]        0           0\n       (10.0, 20.0]     3050        4801\n       (20.0, 30.0]    18685       51075\n       (30.0, 40.0]    28222       80526\n       (40.0, 50.0]    23453       80025\n       (50.0, 60.0]    20981       73999\n       (60.0, 70.0]    14732       58298\n       (70.0, 80.0]    11029       52828\n       (80.0, 90.0]     8147       48736\n       (90.0, 100.0]    1373        8322\n3      (-0.1, 10.0]        0           0\n       (10.0, 20.0]      532         912\n       (20.0, 30.0]     5834       18247\n       (30.0, 40.0]    23355       65178\n       (40.0, 50.0]    30062       88400\n       (50.0, 60.0]    28834       97347\n       (60.0, 70.0]    30454      111943\n       (70.0, 80.0]    15463       68868\n       (80.0, 90.0]     7534       42387\n       (90.0, 100.0]     650        4662\n4      (-0.1, 10.0]        0           0\n       (10.0, 20.0]      152        1422\n       (20.0, 30.0]     1266        4682\n       (30.0, 40.0]    14259       45065\n       (40.0, 50.0]    20525       99345\n       (50.0, 60.0]    13794       92347\n       (60.0, 70.0]    11290       80074\n       (70.0, 80.0]     7964       56909\n       (80.0, 90.0]     6927       59950\n       (90.0, 100.0]    1963       26100",
      "text/html": "<div>\n<style scoped>\n    .dataframe tbody tr th:only-of-type {\n        vertical-align: middle;\n    }\n\n    .dataframe tbody tr th {\n        vertical-align: top;\n    }\n\n    .dataframe thead th {\n        text-align: right;\n    }\n</style>\n<table border=\"1\" class=\"dataframe\">\n  <thead>\n    <tr style=\"text-align: right;\">\n      <th></th>\n      <th></th>\n      <th>casual</th>\n      <th>registered</th>\n    </tr>\n    <tr>\n      <th>season</th>\n      <th>hum_bin</th>\n      <th></th>\n      <th></th>\n    </tr>\n  </thead>\n  <tbody>\n    <tr>\n      <th rowspan=\"10\" valign=\"top\">1</th>\n      <th>(-0.1, 10.0]</th>\n      <td>81</td>\n      <td>726</td>\n    </tr>\n    <tr>\n      <th>(10.0, 20.0]</th>\n      <td>691</td>\n      <td>1703</td>\n    </tr>\n    <tr>\n      <th>(20.0, 30.0]</th>\n      <td>4330</td>\n      <td>19811</td>\n    </tr>\n    <tr>\n      <th>(30.0, 40.0]</th>\n      <td>10337</td>\n      <td>62540</td>\n    </tr>\n    <tr>\n      <th>(40.0, 50.0]</th>\n      <td>9372</td>\n      <td>58813</td>\n    </tr>\n    <tr>\n      <th>(50.0, 60.0]</th>\n      <td>6308</td>\n      <td>42412</td>\n    </tr>\n    <tr>\n      <th>(60.0, 70.0]</th>\n      <td>4324</td>\n      <td>33139</td>\n    </tr>\n    <tr>\n      <th>(70.0, 80.0]</th>\n      <td>2904</td>\n      <td>19036</td>\n    </tr>\n    <tr>\n      <th>(80.0, 90.0]</th>\n      <td>2543</td>\n      <td>22999</td>\n    </tr>\n    <tr>\n      <th>(90.0, 100.0]</th>\n      <td>715</td>\n      <td>9714</td>\n    </tr>\n    <tr>\n      <th rowspan=\"10\" valign=\"top\">2</th>\n      <th>(-0.1, 10.0]</th>\n      <td>0</td>\n      <td>0</td>\n    </tr>\n    <tr>\n      <th>(10.0, 20.0]</th>\n      <td>3050</td>\n      <td>4801</td>\n    </tr>\n    <tr>\n      <th>(20.0, 30.0]</th>\n      <td>18685</td>\n      <td>51075</td>\n    </tr>\n    <tr>\n      <th>(30.0, 40.0]</th>\n      <td>28222</td>\n      <td>80526</td>\n    </tr>\n    <tr>\n      <th>(40.0, 50.0]</th>\n      <td>23453</td>\n      <td>80025</td>\n    </tr>\n    <tr>\n      <th>(50.0, 60.0]</th>\n      <td>20981</td>\n      <td>73999</td>\n    </tr>\n    <tr>\n      <th>(60.0, 70.0]</th>\n      <td>14732</td>\n      <td>58298</td>\n    </tr>\n    <tr>\n      <th>(70.0, 80.0]</th>\n      <td>11029</td>\n      <td>52828</td>\n    </tr>\n    <tr>\n      <th>(80.0, 90.0]</th>\n      <td>8147</td>\n      <td>48736</td>\n    </tr>\n    <tr>\n      <th>(90.0, 100.0]</th>\n      <td>1373</td>\n      <td>8322</td>\n    </tr>\n    <tr>\n      <th rowspan=\"10\" valign=\"top\">3</th>\n      <th>(-0.1, 10.0]</th>\n      <td>0</td>\n      <td>0</td>\n    </tr>\n    <tr>\n      <th>(10.0, 20.0]</th>\n      <td>532</td>\n      <td>912</td>\n    </tr>\n    <tr>\n      <th>(20.0, 30.0]</th>\n      <td>5834</td>\n      <td>18247</td>\n    </tr>\n    <tr>\n      <th>(30.0, 40.0]</th>\n      <td>23355</td>\n      <td>65178</td>\n    </tr>\n    <tr>\n      <th>(40.0, 50.0]</th>\n      <td>30062</td>\n      <td>88400</td>\n    </tr>\n    <tr>\n      <th>(50.0, 60.0]</th>\n      <td>28834</td>\n      <td>97347</td>\n    </tr>\n    <tr>\n      <th>(60.0, 70.0]</th>\n      <td>30454</td>\n      <td>111943</td>\n    </tr>\n    <tr>\n      <th>(70.0, 80.0]</th>\n      <td>15463</td>\n      <td>68868</td>\n    </tr>\n    <tr>\n      <th>(80.0, 90.0]</th>\n      <td>7534</td>\n      <td>42387</td>\n    </tr>\n    <tr>\n      <th>(90.0, 100.0]</th>\n      <td>650</td>\n      <td>4662</td>\n    </tr>\n    <tr>\n      <th rowspan=\"10\" valign=\"top\">4</th>\n      <th>(-0.1, 10.0]</th>\n      <td>0</td>\n      <td>0</td>\n    </tr>\n    <tr>\n      <th>(10.0, 20.0]</th>\n      <td>152</td>\n      <td>1422</td>\n    </tr>\n    <tr>\n      <th>(20.0, 30.0]</th>\n      <td>1266</td>\n      <td>4682</td>\n    </tr>\n    <tr>\n      <th>(30.0, 40.0]</th>\n      <td>14259</td>\n      <td>45065</td>\n    </tr>\n    <tr>\n      <th>(40.0, 50.0]</th>\n      <td>20525</td>\n      <td>99345</td>\n    </tr>\n    <tr>\n      <th>(50.0, 60.0]</th>\n      <td>13794</td>\n      <td>92347</td>\n    </tr>\n    <tr>\n      <th>(60.0, 70.0]</th>\n      <td>11290</td>\n      <td>80074</td>\n    </tr>\n    <tr>\n      <th>(70.0, 80.0]</th>\n      <td>7964</td>\n      <td>56909</td>\n    </tr>\n    <tr>\n      <th>(80.0, 90.0]</th>\n      <td>6927</td>\n      <td>59950</td>\n    </tr>\n    <tr>\n      <th>(90.0, 100.0]</th>\n      <td>1963</td>\n      <td>26100</td>\n    </tr>\n  </tbody>\n</table>\n</div>"
     },
     "execution_count": 20,
     "metadata": {},
     "output_type": "execute_result"
    }
   ],
   "source": [
    "df.groupby(['season', 'hum_bin']).sum()[['casual', 'registered']]"
   ],
   "metadata": {
    "collapsed": false
   }
  },
  {
   "cell_type": "code",
   "execution_count": 21,
   "outputs": [
    {
     "data": {
      "text/plain": "              casual                                                      \\\nhum_bin (-0.1, 10.0] (10.0, 20.0] (20.0, 30.0] (30.0, 40.0] (40.0, 50.0]   \nseason                                                                     \n1                 81          691         4330        10337         9372   \n2                  0         3050        18685        28222        23453   \n3                  0          532         5834        23355        30062   \n4                  0          152         1266        14259        20525   \n\n                                                                           \\\nhum_bin (50.0, 60.0] (60.0, 70.0] (70.0, 80.0] (80.0, 90.0] (90.0, 100.0]   \nseason                                                                      \n1               6308         4324         2904         2543           715   \n2              20981        14732        11029         8147          1373   \n3              28834        30454        15463         7534           650   \n4              13794        11290         7964         6927          1963   \n\n          registered                                                      \\\nhum_bin (-0.1, 10.0] (10.0, 20.0] (20.0, 30.0] (30.0, 40.0] (40.0, 50.0]   \nseason                                                                     \n1                726         1703        19811        62540        58813   \n2                  0         4801        51075        80526        80025   \n3                  0          912        18247        65178        88400   \n4                  0         1422         4682        45065        99345   \n\n                                                                           \nhum_bin (50.0, 60.0] (60.0, 70.0] (70.0, 80.0] (80.0, 90.0] (90.0, 100.0]  \nseason                                                                     \n1              42412        33139        19036        22999          9714  \n2              73999        58298        52828        48736          8322  \n3              97347       111943        68868        42387          4662  \n4              92347        80074        56909        59950         26100  ",
      "text/html": "<div>\n<style scoped>\n    .dataframe tbody tr th:only-of-type {\n        vertical-align: middle;\n    }\n\n    .dataframe tbody tr th {\n        vertical-align: top;\n    }\n\n    .dataframe thead tr th {\n        text-align: left;\n    }\n\n    .dataframe thead tr:last-of-type th {\n        text-align: right;\n    }\n</style>\n<table border=\"1\" class=\"dataframe\">\n  <thead>\n    <tr>\n      <th></th>\n      <th colspan=\"10\" halign=\"left\">casual</th>\n      <th colspan=\"10\" halign=\"left\">registered</th>\n    </tr>\n    <tr>\n      <th>hum_bin</th>\n      <th>(-0.1, 10.0]</th>\n      <th>(10.0, 20.0]</th>\n      <th>(20.0, 30.0]</th>\n      <th>(30.0, 40.0]</th>\n      <th>(40.0, 50.0]</th>\n      <th>(50.0, 60.0]</th>\n      <th>(60.0, 70.0]</th>\n      <th>(70.0, 80.0]</th>\n      <th>(80.0, 90.0]</th>\n      <th>(90.0, 100.0]</th>\n      <th>(-0.1, 10.0]</th>\n      <th>(10.0, 20.0]</th>\n      <th>(20.0, 30.0]</th>\n      <th>(30.0, 40.0]</th>\n      <th>(40.0, 50.0]</th>\n      <th>(50.0, 60.0]</th>\n      <th>(60.0, 70.0]</th>\n      <th>(70.0, 80.0]</th>\n      <th>(80.0, 90.0]</th>\n      <th>(90.0, 100.0]</th>\n    </tr>\n    <tr>\n      <th>season</th>\n      <th></th>\n      <th></th>\n      <th></th>\n      <th></th>\n      <th></th>\n      <th></th>\n      <th></th>\n      <th></th>\n      <th></th>\n      <th></th>\n      <th></th>\n      <th></th>\n      <th></th>\n      <th></th>\n      <th></th>\n      <th></th>\n      <th></th>\n      <th></th>\n      <th></th>\n      <th></th>\n    </tr>\n  </thead>\n  <tbody>\n    <tr>\n      <th>1</th>\n      <td>81</td>\n      <td>691</td>\n      <td>4330</td>\n      <td>10337</td>\n      <td>9372</td>\n      <td>6308</td>\n      <td>4324</td>\n      <td>2904</td>\n      <td>2543</td>\n      <td>715</td>\n      <td>726</td>\n      <td>1703</td>\n      <td>19811</td>\n      <td>62540</td>\n      <td>58813</td>\n      <td>42412</td>\n      <td>33139</td>\n      <td>19036</td>\n      <td>22999</td>\n      <td>9714</td>\n    </tr>\n    <tr>\n      <th>2</th>\n      <td>0</td>\n      <td>3050</td>\n      <td>18685</td>\n      <td>28222</td>\n      <td>23453</td>\n      <td>20981</td>\n      <td>14732</td>\n      <td>11029</td>\n      <td>8147</td>\n      <td>1373</td>\n      <td>0</td>\n      <td>4801</td>\n      <td>51075</td>\n      <td>80526</td>\n      <td>80025</td>\n      <td>73999</td>\n      <td>58298</td>\n      <td>52828</td>\n      <td>48736</td>\n      <td>8322</td>\n    </tr>\n    <tr>\n      <th>3</th>\n      <td>0</td>\n      <td>532</td>\n      <td>5834</td>\n      <td>23355</td>\n      <td>30062</td>\n      <td>28834</td>\n      <td>30454</td>\n      <td>15463</td>\n      <td>7534</td>\n      <td>650</td>\n      <td>0</td>\n      <td>912</td>\n      <td>18247</td>\n      <td>65178</td>\n      <td>88400</td>\n      <td>97347</td>\n      <td>111943</td>\n      <td>68868</td>\n      <td>42387</td>\n      <td>4662</td>\n    </tr>\n    <tr>\n      <th>4</th>\n      <td>0</td>\n      <td>152</td>\n      <td>1266</td>\n      <td>14259</td>\n      <td>20525</td>\n      <td>13794</td>\n      <td>11290</td>\n      <td>7964</td>\n      <td>6927</td>\n      <td>1963</td>\n      <td>0</td>\n      <td>1422</td>\n      <td>4682</td>\n      <td>45065</td>\n      <td>99345</td>\n      <td>92347</td>\n      <td>80074</td>\n      <td>56909</td>\n      <td>59950</td>\n      <td>26100</td>\n    </tr>\n  </tbody>\n</table>\n</div>"
     },
     "execution_count": 21,
     "metadata": {},
     "output_type": "execute_result"
    }
   ],
   "source": [
    "pd.pivot_table(df, index='season', columns='hum_bin', values=['casual', 'registered'], aggfunc='sum')"
   ],
   "metadata": {
    "collapsed": false
   }
  },
  {
   "cell_type": "markdown",
   "source": [
    "## 10. 상품별 매출 추이 시각화"
   ],
   "metadata": {
    "collapsed": false
   }
  },
  {
   "cell_type": "code",
   "execution_count": 22,
   "outputs": [],
   "source": [
    "graph_data = pd.pivot_table(df, index='season', columns='hum_bin', values='casual', aggfunc='sum')"
   ],
   "metadata": {
    "collapsed": false
   }
  },
  {
   "cell_type": "code",
   "execution_count": 23,
   "outputs": [
    {
     "data": {
      "text/plain": "hum_bin  (-0.1, 10.0]  (10.0, 20.0]  (20.0, 30.0]  (30.0, 40.0]  (40.0, 50.0]  \\\nseason                                                                          \n1                  81           691          4330         10337          9372   \n2                   0          3050         18685         28222         23453   \n3                   0           532          5834         23355         30062   \n4                   0           152          1266         14259         20525   \n\nhum_bin  (50.0, 60.0]  (60.0, 70.0]  (70.0, 80.0]  (80.0, 90.0]  (90.0, 100.0]  \nseason                                                                          \n1                6308          4324          2904          2543            715  \n2               20981         14732         11029          8147           1373  \n3               28834         30454         15463          7534            650  \n4               13794         11290          7964          6927           1963  ",
      "text/html": "<div>\n<style scoped>\n    .dataframe tbody tr th:only-of-type {\n        vertical-align: middle;\n    }\n\n    .dataframe tbody tr th {\n        vertical-align: top;\n    }\n\n    .dataframe thead th {\n        text-align: right;\n    }\n</style>\n<table border=\"1\" class=\"dataframe\">\n  <thead>\n    <tr style=\"text-align: right;\">\n      <th>hum_bin</th>\n      <th>(-0.1, 10.0]</th>\n      <th>(10.0, 20.0]</th>\n      <th>(20.0, 30.0]</th>\n      <th>(30.0, 40.0]</th>\n      <th>(40.0, 50.0]</th>\n      <th>(50.0, 60.0]</th>\n      <th>(60.0, 70.0]</th>\n      <th>(70.0, 80.0]</th>\n      <th>(80.0, 90.0]</th>\n      <th>(90.0, 100.0]</th>\n    </tr>\n    <tr>\n      <th>season</th>\n      <th></th>\n      <th></th>\n      <th></th>\n      <th></th>\n      <th></th>\n      <th></th>\n      <th></th>\n      <th></th>\n      <th></th>\n      <th></th>\n    </tr>\n  </thead>\n  <tbody>\n    <tr>\n      <th>1</th>\n      <td>81</td>\n      <td>691</td>\n      <td>4330</td>\n      <td>10337</td>\n      <td>9372</td>\n      <td>6308</td>\n      <td>4324</td>\n      <td>2904</td>\n      <td>2543</td>\n      <td>715</td>\n    </tr>\n    <tr>\n      <th>2</th>\n      <td>0</td>\n      <td>3050</td>\n      <td>18685</td>\n      <td>28222</td>\n      <td>23453</td>\n      <td>20981</td>\n      <td>14732</td>\n      <td>11029</td>\n      <td>8147</td>\n      <td>1373</td>\n    </tr>\n    <tr>\n      <th>3</th>\n      <td>0</td>\n      <td>532</td>\n      <td>5834</td>\n      <td>23355</td>\n      <td>30062</td>\n      <td>28834</td>\n      <td>30454</td>\n      <td>15463</td>\n      <td>7534</td>\n      <td>650</td>\n    </tr>\n    <tr>\n      <th>4</th>\n      <td>0</td>\n      <td>152</td>\n      <td>1266</td>\n      <td>14259</td>\n      <td>20525</td>\n      <td>13794</td>\n      <td>11290</td>\n      <td>7964</td>\n      <td>6927</td>\n      <td>1963</td>\n    </tr>\n  </tbody>\n</table>\n</div>"
     },
     "execution_count": 23,
     "metadata": {},
     "output_type": "execute_result"
    }
   ],
   "source": [
    "graph_data"
   ],
   "metadata": {
    "collapsed": false
   }
  },
  {
   "cell_type": "code",
   "execution_count": 26,
   "outputs": [
    {
     "data": {
      "text/plain": "<Figure size 640x480 with 1 Axes>",
      "image/png": "[encoded data removed]"
     },
     "metadata": {},
     "output_type": "display_data"
    }
   ],
   "source": [
    "import matplotlib.pyplot as plt\n",
    "%matplotlib inline\n",
    "\n",
    "plt.plot(list(graph_data.index), graph_data.iloc[:,0], label=graph_data.columns[0])\n",
    "plt.plot(list(graph_data.index), graph_data.iloc[:,1], label=graph_data.columns[1])\n",
    "plt.plot(list(graph_data.index), graph_data.iloc[:,2], label=graph_data.columns[2])\n",
    "plt.plot(list(graph_data.index), graph_data.iloc[:,3], label=graph_data.columns[3])\n",
    "plt.legend();"
   ],
   "metadata": {
    "collapsed": false
   }
  },
  {
   "cell_type": "markdown",
   "source": [
    "## 14. 상품명 오류 수정"
   ],
   "metadata": {
    "collapsed": false
   }
  },
  {
   "cell_type": "code",
   "execution_count": 31,
   "outputs": [],
   "source": [
    "uriage_data = pd.read_csv(data_dir + \"uriage.csv\")\n",
    "kokyaku_data = pd.read_excel(data_dir + \"kokyaku_daicho.xlsx\")"
   ],
   "metadata": {
    "collapsed": false
   }
  },
  {
   "cell_type": "code",
   "execution_count": 33,
   "outputs": [
    {
     "data": {
      "text/plain": "      purchase_date item_name  item_price customer_name\n0  2019-06-13 18:02       상품A       100.0           김가온\n1  2019-07-13 13:05     상 품 S         NaN           김우찬\n2  2019-05-11 19:42     상 품 a         NaN           김유찬",
      "text/html": "<div>\n<style scoped>\n    .dataframe tbody tr th:only-of-type {\n        vertical-align: middle;\n    }\n\n    .dataframe tbody tr th {\n        vertical-align: top;\n    }\n\n    .dataframe thead th {\n        text-align: right;\n    }\n</style>\n<table border=\"1\" class=\"dataframe\">\n  <thead>\n    <tr style=\"text-align: right;\">\n      <th></th>\n      <th>purchase_date</th>\n      <th>item_name</th>\n      <th>item_price</th>\n      <th>customer_name</th>\n    </tr>\n  </thead>\n  <tbody>\n    <tr>\n      <th>0</th>\n      <td>2019-06-13 18:02</td>\n      <td>상품A</td>\n      <td>100.0</td>\n      <td>김가온</td>\n    </tr>\n    <tr>\n      <th>1</th>\n      <td>2019-07-13 13:05</td>\n      <td>상 품 S</td>\n      <td>NaN</td>\n      <td>김우찬</td>\n    </tr>\n    <tr>\n      <th>2</th>\n      <td>2019-05-11 19:42</td>\n      <td>상 품 a</td>\n      <td>NaN</td>\n      <td>김유찬</td>\n    </tr>\n  </tbody>\n</table>\n</div>"
     },
     "execution_count": 33,
     "metadata": {},
     "output_type": "execute_result"
    }
   ],
   "source": [
    "uriage_data.head(3)"
   ],
   "metadata": {
    "collapsed": false
   }
  },
  {
   "cell_type": "code",
   "execution_count": 34,
   "outputs": [
    {
     "data": {
      "text/plain": "   고객이름  지역                  등록일\n0  김 현성  H시  2018-01-04 00:00:00\n1  김 도윤  E시                42782\n2  김 지한  A시  2018-01-07 00:00:00",
      "text/html": "<div>\n<style scoped>\n    .dataframe tbody tr th:only-of-type {\n        vertical-align: middle;\n    }\n\n    .dataframe tbody tr th {\n        vertical-align: top;\n    }\n\n    .dataframe thead th {\n        text-align: right;\n    }\n</style>\n<table border=\"1\" class=\"dataframe\">\n  <thead>\n    <tr style=\"text-align: right;\">\n      <th></th>\n      <th>고객이름</th>\n      <th>지역</th>\n      <th>등록일</th>\n    </tr>\n  </thead>\n  <tbody>\n    <tr>\n      <th>0</th>\n      <td>김 현성</td>\n      <td>H시</td>\n      <td>2018-01-04 00:00:00</td>\n    </tr>\n    <tr>\n      <th>1</th>\n      <td>김 도윤</td>\n      <td>E시</td>\n      <td>42782</td>\n    </tr>\n    <tr>\n      <th>2</th>\n      <td>김 지한</td>\n      <td>A시</td>\n      <td>2018-01-07 00:00:00</td>\n    </tr>\n  </tbody>\n</table>\n</div>"
     },
     "execution_count": 34,
     "metadata": {},
     "output_type": "execute_result"
    }
   ],
   "source": [
    "kokyaku_data.head(3)"
   ],
   "metadata": {
    "collapsed": false
   }
  },
  {
   "cell_type": "code",
   "execution_count": 36,
   "outputs": [
    {
     "data": {
      "text/plain": "         purchase_date item_name  item_price customer_name\n0     2019-06-13 18:02       상품A       100.0           김가온\n1748  2019-05-19 20:22       상품A       100.0           김시훈\n223    2019-06-25 8:13       상품A       100.0           김유진\n1742  2019-06-13 16:03       상품A       100.0           김건희\n1738   2019-02-10 0:28       상품A       100.0           김하랑\n...                ...       ...         ...           ...\n2880   2019-04-22 0:36       상품Y         NaN           김동욱\n2881  2019-04-30 14:21       상품Y         NaN           김하준\n1525  2019-01-24 10:27       상품Y      2500.0           김범준\n1361  2019-05-28 13:45       상품Y      2500.0           김수현\n3     2019-02-12 23:40       상품Z      2600.0           김재현\n\n[2999 rows x 4 columns]",
      "text/html": "<div>\n<style scoped>\n    .dataframe tbody tr th:only-of-type {\n        vertical-align: middle;\n    }\n\n    .dataframe tbody tr th {\n        vertical-align: top;\n    }\n\n    .dataframe thead th {\n        text-align: right;\n    }\n</style>\n<table border=\"1\" class=\"dataframe\">\n  <thead>\n    <tr style=\"text-align: right;\">\n      <th></th>\n      <th>purchase_date</th>\n      <th>item_name</th>\n      <th>item_price</th>\n      <th>customer_name</th>\n    </tr>\n  </thead>\n  <tbody>\n    <tr>\n      <th>0</th>\n      <td>2019-06-13 18:02</td>\n      <td>상품A</td>\n      <td>100.0</td>\n      <td>김가온</td>\n    </tr>\n    <tr>\n      <th>1748</th>\n      <td>2019-05-19 20:22</td>\n      <td>상품A</td>\n      <td>100.0</td>\n      <td>김시훈</td>\n    </tr>\n    <tr>\n      <th>223</th>\n      <td>2019-06-25 8:13</td>\n      <td>상품A</td>\n      <td>100.0</td>\n      <td>김유진</td>\n    </tr>\n    <tr>\n      <th>1742</th>\n      <td>2019-06-13 16:03</td>\n      <td>상품A</td>\n      <td>100.0</td>\n      <td>김건희</td>\n    </tr>\n    <tr>\n      <th>1738</th>\n      <td>2019-02-10 0:28</td>\n      <td>상품A</td>\n      <td>100.0</td>\n      <td>김하랑</td>\n    </tr>\n    <tr>\n      <th>...</th>\n      <td>...</td>\n      <td>...</td>\n      <td>...</td>\n      <td>...</td>\n    </tr>\n    <tr>\n      <th>2880</th>\n      <td>2019-04-22 0:36</td>\n      <td>상품Y</td>\n      <td>NaN</td>\n      <td>김동욱</td>\n    </tr>\n    <tr>\n      <th>2881</th>\n      <td>2019-04-30 14:21</td>\n      <td>상품Y</td>\n      <td>NaN</td>\n      <td>김하준</td>\n    </tr>\n    <tr>\n      <th>1525</th>\n      <td>2019-01-24 10:27</td>\n      <td>상품Y</td>\n      <td>2500.0</td>\n      <td>김범준</td>\n    </tr>\n    <tr>\n      <th>1361</th>\n      <td>2019-05-28 13:45</td>\n      <td>상품Y</td>\n      <td>2500.0</td>\n      <td>김수현</td>\n    </tr>\n    <tr>\n      <th>3</th>\n      <td>2019-02-12 23:40</td>\n      <td>상품Z</td>\n      <td>2600.0</td>\n      <td>김재현</td>\n    </tr>\n  </tbody>\n</table>\n<p>2999 rows × 4 columns</p>\n</div>"
     },
     "execution_count": 36,
     "metadata": {},
     "output_type": "execute_result"
    }
   ],
   "source": [
    "uriage_data['item_name'] = uriage_data['item_name'].str.upper()\n",
    "uriage_data['item_name'] = uriage_data['item_name'].str.replace(\"  \", \"\")\n",
    "uriage_data['item_name'] = uriage_data['item_name'].str.replace(\" \", \"\")\n",
    "uriage_data.sort_values(by=['item_name'], ascending=True)"
   ],
   "metadata": {
    "collapsed": false
   }
  },
  {
   "cell_type": "code",
   "execution_count": 38,
   "outputs": [
    {
     "name": "stdout",
     "output_type": "stream",
     "text": [
      "26\n",
      "['상품A' '상품S' '상품Z' '상품V' '상품O' '상품U' '상품L' '상품C' '상품I' '상품R' '상품X' '상품G'\n",
      " '상품P' '상품Q' '상품Y' '상품N' '상품W' '상품E' '상품K' '상품B' '상품F' '상품D' '상품M' '상품H'\n",
      " '상품T' '상품J']\n"
     ]
    }
   ],
   "source": [
    "print(len(uriage_data['item_name'].unique()))\n",
    "print(pd.unique(uriage_data['item_name']))"
   ],
   "metadata": {
    "collapsed": false
   }
  },
  {
   "cell_type": "code",
   "execution_count": 40,
   "outputs": [],
   "source": [
    "data = [1,2,3]"
   ],
   "metadata": {
    "collapsed": false
   }
  },
  {
   "cell_type": "code",
   "execution_count": null,
   "outputs": [],
   "source": [],
   "metadata": {
    "collapsed": false
   }
  },
  {
   "cell_type": "code",
   "execution_count": null,
   "outputs": [],
   "source": [],
   "metadata": {
    "collapsed": false
   }
  },
  {
   "cell_type": "code",
   "execution_count": null,
   "outputs": [],
   "source": [],
   "metadata": {
    "collapsed": false
   }
  },
  {
   "cell_type": "code",
   "execution_count": null,
   "outputs": [],
   "source": [],
   "metadata": {
    "collapsed": false
   }
  },
  {
   "cell_type": "code",
   "execution_count": null,
   "outputs": [],
   "source": [],
   "metadata": {
    "collapsed": false
   }
  }
 ],
 "metadata": {
  "kernelspec": {
   "display_name": "Python 3",
   "language": "python",
   "name": "python3"
  },
  "language_info": {
   "codemirror_mode": {
    "name": "ipython",
    "version": 2
   },
   "file_extension": ".py",
   "mimetype": "text/x-python",
   "name": "python",
   "nbconvert_exporter": "python",
   "pygments_lexer": "ipython2",
   "version": "2.7.6"
  }
 },
 "nbformat": 4,
 "nbformat_minor": 0
}
