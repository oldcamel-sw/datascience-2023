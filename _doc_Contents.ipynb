{
 "cells": [
  {
   "cell_type": "markdown",
   "id": "159f0f41",
   "metadata": {
    "id": "159f0f41"
   },
   "source": [
    "# python\n",
    "\n",
    "### Markdown\n",
    "\n",
    "### List, Dictionary, Tuple, Set\n",
    "- dict.values, dict.keys, dict.items\n",
    "- enumerate\n",
    "- append와 extend의 차이\n",
    "- set와\n",
    "\n",
    "\n",
    "### mutable vs immutable\n",
    "\n",
    "\n",
    "### shallow copy vs deep copy\n",
    "\n",
    "\n",
    "\n",
    "### for, if, while\n",
    "\n",
    "\n",
    "### variable length argument\n",
    "- \\*args, \\**kwargs\n",
    "\n",
    "\n",
    "### Lambda 함수 (sort key, map, apply)\n",
    "\n",
    "\n",
    "### class, instance, method\n",
    "\n",
    "#### instance method, class method, static method\n",
    "\n",
    "### 정규표현식\n",
    "\n",
    "\n",
    "### strings - split, strip, formatting\n",
    "\n",
    "\n",
    "### lexical closures\n",
    "\n",
    "\n",
    "### decorator\n",
    "\n",
    "### iterator, generator\n",
    "\n",
    "\n",
    "### Exercise\n",
    "- 복소수 클래스 만들기\n",
    "- team code review\n",
    "- 함수 과제\n",
    "- 모방 set oop과제\n",
    "- \n",
    "\n"
   ]
  },
  {
   "cell_type": "code",
   "execution_count": null,
   "id": "73d39d16",
   "metadata": {
    "id": "73d39d16"
   },
   "outputs": [],
   "source": []
  },
  {
   "cell_type": "markdown",
   "id": "22b498d3",
   "metadata": {
    "id": "22b498d3"
   },
   "source": [
    "# pandas, numpy\n",
    "\n",
    "### np arrays\n",
    "- np.array, np.arange, np.ones, np.linspace, etc.\n",
    "\n",
    "### ndarray indexing\n",
    "\n",
    "\n",
    "### ndarray sorting\n",
    "\n",
    "\n",
    "### np.random\n",
    "\n",
    "\n",
    "### np operator\n",
    "\n",
    "\n",
    "### np linalg\n",
    "\n",
    "\n",
    "### pd series\n",
    "\n",
    "\n",
    "\n",
    "### pd descriptive\n",
    "- df.shape,\n",
    "- df.describe, .info, .corr() etc.\n",
    "\n",
    "\n",
    "### pd dataframe\n",
    "- .columns, .index, .index.values\n",
    "- .query\n",
    "- indexing, slicing df[:10], df[['columns', 'columns2']]\n",
    "- .iloc, .loc\n",
    "\n",
    "### df 생성하기는 빼기 (or 아래랑 합치기)\n",
    "\n",
    "### df - ndarray - list - dict relationship\n",
    "\n",
    "\n",
    "\n",
    "\n",
    "### pd handling datatype\n",
    "\n",
    "\n",
    "### groupby   / index 이용한 gruopby\n",
    "\n",
    "### aggregate function\n",
    "\n",
    "### transform function\n",
    "\n",
    "### pivot and pivot table\n",
    "\n",
    "\n",
    "### df concat, merge, join\n",
    "\n",
    "### pd where, mask\n",
    "\n",
    "### pd filter, regex\n",
    "\n",
    "\n",
    "### examples\n",
    "- skewness가 큰 데이터에 log 취하기\n",
    "- 가위바위보게임, 숫자맞추기 게임, 커피자판기\n",
    "- 연락처관리 프로그램\n",
    "- 포스코 빅데이터 조작 실습"
   ]
  },
  {
   "cell_type": "code",
   "execution_count": null,
   "id": "56abeadd",
   "metadata": {
    "id": "56abeadd"
   },
   "outputs": [],
   "source": []
  },
  {
   "cell_type": "code",
   "execution_count": null,
   "id": "3ea86dce",
   "metadata": {
    "id": "3ea86dce"
   },
   "outputs": [],
   "source": []
  },
  {
   "cell_type": "markdown",
   "id": "a72e612d",
   "metadata": {
    "id": "a72e612d"
   },
   "source": [
    "# matplotlib, seaborn\n",
    "\n",
    "### 기본그래프\n",
    "\n",
    "### 그래프 주석 추가\n",
    "\n",
    "### subplot\n",
    "\n",
    "\n",
    "### histogram\n",
    "\n",
    "\n",
    "## Examplars\n",
    "- plot.pit, sns.countplot\n",
    "- plot.bar\n",
    "- sns.factorplot\n",
    "- sns.kdeplot, plot(kde)\n",
    "- sns.violinplot\n",
    "- sns.distplot\n",
    "- sns.heatmap\n",
    "- sns.barplot\n",
    "- sns.facetgrid and map\n",
    "- two y-axis\n",
    "- plot decision grid\n",
    "- plot learning curve"
   ]
  },
  {
   "cell_type": "markdown",
   "id": "cf65b42c",
   "metadata": {
    "id": "cf65b42c"
   },
   "source": [
    "#### relationship\n",
    "- scatter plot\n",
    "- marginal histogram\n",
    "- pair plot\n",
    "- heatmap\n",
    "\n",
    "#### data over time\n",
    "- line chart\n",
    "- area chart\n",
    "- stacked area chart\n",
    "- area chart unstacked\n",
    "\n",
    "#### ranking\n",
    "- vertical bar chart\n",
    "- horizontal bar chart\n",
    "- multi-set bar chart\n",
    "- stack bar chart\n",
    "- lollipop chart\n",
    "\n",
    "#### distribution\n",
    "- histogram\n",
    "- density plot\n",
    "- box plot\n",
    "- strip plot\n",
    "- violin plot\n",
    "- population pyramid\n",
    "\n",
    "#### comparisons\n",
    "- bubble chart\n",
    "- bullet chart\n",
    "- pie chart\n",
    "- net pie chart\n",
    "- donut chart\n",
    "- tree map\n",
    "- diverging bar\n",
    "- choropleth map\n",
    "- bubble map\n"
   ]
  },
  {
   "cell_type": "code",
   "execution_count": null,
   "id": "7ba0bc36",
   "metadata": {
    "id": "7ba0bc36"
   },
   "outputs": [],
   "source": []
  },
  {
   "cell_type": "code",
   "execution_count": null,
   "id": "b1017145",
   "metadata": {
    "id": "b1017145"
   },
   "outputs": [],
   "source": []
  },
  {
   "cell_type": "markdown",
   "id": "e92c4c80",
   "metadata": {
    "id": "e92c4c80"
   },
   "source": [
    "# 추론통계\n",
    "\n",
    "- 분포 roadmap\n",
    "\n",
    "- 분포별 확률 계산 stats library 실습\n",
    "    - 정규분포\n",
    "    - t분포\n",
    "    - 카이제곱분포\n",
    "    - f분포\n",
    "    - 와이블분포\n",
    "    - 이항분포\n",
    "    - 포아송분포\n",
    "\n",
    "\n",
    "#### 표준오차 개념 이해\n",
    "    \n",
    "\n",
    "#### 표집분포(Sampling distribution)\n",
    "- 표본평균의 분포\n",
    "    - 모집단이 정규분포이거나, 표본크기가 30 이상이거나, 표본에 대한 정규성 검정이 채택되었을 때,\n",
    "    - 모분산을 알고 있으면 표본평균의 분포를 \"정규분포\"로 가정하고,\n",
    "    - 모분산을 모르면 표본평균의 분포를 \"t 분포\"로 가정한다.\n",
    "    \n",
    "    - 이때 표본평균 분포의 평균(기대값)은 모평균과 같고,\n",
    "    - 분포의 분산은 모분산(혹은 표본분산)을 n으로 나눈 것과 같고,\n",
    "    - 분포의 표준편차를 '표준오차'라고 한다.\n",
    "    \n",
    "- 표본비율의 분포\n",
    "    - 표본비율의 분포는 이항분포를 따르는데, 이항분포 B(n, p)는 n이 충분히 크면 근사적으로 정규분포 N(np, npq)를 따른다.\n",
    "    \n",
    "    - 표본비율 분포의 평균은 모비율과 같고,\n",
    "    - 표본비율 분포의 분산은 \n",
    "    \n",
    "- 표본분산의 분포\n",
    "    - 모집단이 정규분포를 따를 때, 표본분산의 분포는 카이제곱분포를 따른다.\n",
    "    \n",
    "    \n",
    "- 표본분산비율의 분포\n",
    "    - 정규분포를 이루는 모집단으로부터 추출된 두 독립적인 표본간 표본분산비율의 분포는 F분포를 따른다.\n",
    "    \n",
    "\n",
    "### 추정과 검정\n",
    "- 추정 / 검정의 개념 차이\n",
    "- 추정의 종류 (점추정 / 신뢰구간추정)\n",
    "- 검정의 종류 (비모수 / 모수)\n",
    "\n",
    "#### 점추정 / 신뢰구간추정\n",
    "- 모평균 점추정 (표본평균)\n",
    "- 모평균 신뢰구간 추정 (z통계량, t통계량)\n",
    "- 모분산 점추정 (표본분산)\n",
    "- 모분산 신뢰구간 추정 (카이제곱통계량)\n",
    "- 모비율 점추정 (표본비율)\n",
    "- 모비율 신뢰구간 추정 (z통계량)\n",
    "\n",
    "\n",
    "### 모수검정을 중심으로..\n",
    "- 검정 roadmap / decision tree\n",
    "- 몇몇 검정 기법의 가정\n",
    "    - 정규성 검정 shapiro\n",
    "    - 등분산성 검정 Bartlett, Levene\n",
    "\n",
    "#### z-test & t-test\n",
    "- '평균'에 통계적으로 유의한 차이가 있는가?\n",
    "- t-test의 종류\n",
    "    - one sample t test\n",
    "    - two sample t test\n",
    "    - paired t test\n",
    "- t-test의 가정\n",
    "\n",
    "#### proportion test\n",
    "- '비율'에 통계적으로 유의한 차이가 있는가?\n",
    "- 종류\n",
    "    - 1 proportion test\n",
    "    - 2 proportion test\n",
    "- proportion test의 가정\n",
    "\n",
    "#### 카이제곱검정\n",
    "- 동일성 검정 / 독립성 검정 / 적합도 검정\n",
    "    - \n",
    "- 카이제곱검정의 가정\n",
    "\n",
    "#### ANOVA\n",
    "\n",
    "- ANOVA의 가정\n"
   ]
  },
  {
   "cell_type": "code",
   "execution_count": null,
   "id": "352287aa",
   "metadata": {
    "id": "352287aa"
   },
   "outputs": [],
   "source": []
  },
  {
   "cell_type": "code",
   "execution_count": null,
   "id": "4ffc7538",
   "metadata": {
    "id": "4ffc7538"
   },
   "outputs": [],
   "source": []
  },
  {
   "cell_type": "code",
   "execution_count": null,
   "id": "b75721ce",
   "metadata": {
    "id": "b75721ce"
   },
   "outputs": [],
   "source": []
  },
  {
   "cell_type": "code",
   "execution_count": null,
   "id": "dd20cb96",
   "metadata": {
    "id": "dd20cb96"
   },
   "outputs": [],
   "source": []
  },
  {
   "cell_type": "markdown",
   "id": "81152bad",
   "metadata": {
    "id": "81152bad"
   },
   "source": [
    "# Machine Learning"
   ]
  },
  {
   "cell_type": "markdown",
   "id": "2c6110e1",
   "metadata": {
    "id": "2c6110e1"
   },
   "source": [
    "## General\n",
    "\n",
    "#### Null 값 처리\n",
    "- fillna\n",
    "- SimpleImputer (#Raschka_2)\n",
    "\n",
    "#### Feature Engineering 개요\n",
    "- 각각의 역할과 의미 (scaling, labeling, selection, extraction)\n",
    "- 어떤 모델에서 중요한지?\n",
    "- 어떤 효과를 갖는지?\n",
    "\n",
    "##### Feature Scaling - 정규화 표준화\n",
    "- standardscaler\n",
    "- minmax scaler\n",
    "\n",
    "##### Feature Labeling\n",
    "- LabelEncoder\n",
    "- mapping\n",
    "- OneHotEncoding\n",
    "- string 처리: 앞글자 하나를 레이블로\n",
    "- numeric to category: age를 category화하는 함수를 apply하기\n",
    "- preprocessing pipeline 예시\n",
    "\n",
    "##### Feature Regularization\n",
    "- 규제 Regularization L1, L2\n",
    "- Ridge, Lasso, ElasticNet\n",
    "\n",
    "\n",
    "#### Feature Selection\n",
    "- 순차특성선택 알고리즘 SBS\n",
    "- Forward, Backward, Stepwise (#doc_models)\n",
    "- VIF를 이용한 변수 제거 (#doc_models)\n",
    "\n",
    "##### Feature Extraction\n",
    "- PCA (#doc_models) (#Raschka_2)\n",
    "- LDA (#Raschka_2)\n",
    "- Kernel PCA (#Raschka_2)\n",
    "\n",
    "#### **PIPELINE** 내용 추가\n",
    "\n",
    "#### 교차검증 (분류모델 / 회귀모델 모두 사용 가능하다)\n",
    "- Kfold (#inflearn_ML)  (#Raschka_3)\n",
    "    - 학습곡선 시각화 (#Raschka_3)\n",
    "- cross_val_score, gridsearchCV (#inflearn_ML)\n",
    "- scoring='accuracy'말고 회귀모델 대상으로 어떻게 사용하는지 확인\n",
    "\n",
    "#### Class Imbalance\n",
    "- Resample (#Raschka_3)\n",
    "- undersampling, oversampling (#note_12-imbalance)\n",
    "- SMOTE (#note_12-imbalance)"
   ]
  },
  {
   "cell_type": "markdown",
   "id": "fd3ba797",
   "metadata": {
    "id": "fd3ba797"
   },
   "source": [
    "## Supervised\n",
    "***train_test_split까지 완료해놓고 data return하는 함수 정의하자***\n",
    "\n",
    "#### Linear Regression and Multiple Linear Regression (회귀)\n",
    "- 모델링, model performance 확인 (#doc_models)\n",
    "    - 상관분석 (correlation) 수식\n",
    "- (#Raschka_4)\n",
    "- 다중공선성 진단법 (vif) (#doc_models)\n",
    "    - 해결법은 general 확인\n",
    "- 적합성 진단 - 잔차분석 (#doc_models)\n",
    "- ridge, lasso (# doc_models)\n",
    "\n",
    "\n",
    "\n",
    "#### Logistic Regression (분류)\n",
    "- 파이썬으로 경사하강법 적용 로지스틱 분류기 구현 (#Raschka_1)\n",
    "- 모델링, model performance 확인 (#doc_models)\n",
    "- feature selection 함수 만들기(#doc_models)\n",
    "\n",
    "#### Gaussian Naive Bayes (분류/회귀)\n",
    "\n",
    "\n",
    "#### SVM (회귀)  (#Raschka_1)\n",
    "- SVM\n",
    "- 슬랙 변수 SVM\n",
    "- Kernel SVM\n",
    "\n",
    "\n",
    "#### KNN (분류) (#Raschka_1)\n",
    "\n",
    "\n",
    "#### Decision Tree (분류/회귀)\n",
    "- 모델링, 시각화 (#note_9-2) (#inflearn ML2) (#Raschka_1)\n",
    "    - Feature importance 확인 (#inflearn ML2)\n",
    "    - Decision boundary 시각화하기 (#inflearn ML2)\n",
    "- 하이퍼파라미터 (#note_9-2)\n",
    "- decision regression tree 모델 briefly (#note_9-2)\n",
    "\n",
    "\n",
    "#### Neural Network\n",
    "- 퍼셉트론 구현 (#Raschka_1)\n",
    "    - decision boundary 시각화하기 (#Raschka_1)\n",
    "- 경사하강법 적용 적응형 선형 뉴런(AdalineGD) 구현 (#Raschka_1)\n",
    "- 확률적 경사하강법 적용 적응형 선형 뉴런(AdalineSGD) 구현 (#Raschka_1)"
   ]
  },
  {
   "cell_type": "markdown",
   "id": "ace3704f",
   "metadata": {
    "id": "ace3704f"
   },
   "source": [
    "## Unsupervised\n",
    "\n",
    "#### K-means (#note_11)\n",
    "\n",
    "#### Hierarchical clutering (#note_11)\n",
    "\n",
    "#### DBSCAN (#note_11)"
   ]
  },
  {
   "cell_type": "markdown",
   "id": "267396b3",
   "metadata": {
    "id": "267396b3"
   },
   "source": [
    "# Ensemble\n",
    "\n",
    "직접 다수결 투표 분류기 구현 (#Raschka_3)\n",
    "\n",
    "Bagging\n",
    "\n",
    "Boosting\n",
    "- XGBoost\n",
    "- Gradient Boosting\n",
    "- LightGBM\n",
    "\n",
    "Pipeline\n",
    "- \n",
    "\n",
    "랜덤포레스트\n",
    "- 특성중요도  (#Raschka_2)\n",
    "\n",
    "\n",
    "SHAP value"
   ]
  },
  {
   "cell_type": "code",
   "execution_count": null,
   "id": "22650235",
   "metadata": {
    "id": "22650235"
   },
   "outputs": [],
   "source": []
  },
  {
   "cell_type": "code",
   "execution_count": null,
   "id": "3d540758",
   "metadata": {
    "id": "3d540758"
   },
   "outputs": [],
   "source": []
  },
  {
   "cell_type": "code",
   "execution_count": null,
   "id": "8c185a5a",
   "metadata": {
    "id": "8c185a5a"
   },
   "outputs": [],
   "source": []
  },
  {
   "cell_type": "markdown",
   "id": "d76c2eb1",
   "metadata": {
    "id": "d76c2eb1"
   },
   "source": [
    "# Deep Learning\n",
    "\n",
    "Deep Neural Network from Scratch\n",
    "\n",
    "CNN\n",
    "\n",
    "GAN"
   ]
  },
  {
   "cell_type": "code",
   "execution_count": null,
   "id": "6c575848",
   "metadata": {
    "id": "6c575848"
   },
   "outputs": [],
   "source": []
  },
  {
   "cell_type": "code",
   "execution_count": null,
   "id": "e6a1de79",
   "metadata": {
    "id": "e6a1de79"
   },
   "outputs": [],
   "source": []
  },
  {
   "cell_type": "code",
   "execution_count": null,
   "id": "18ab32d7",
   "metadata": {
    "id": "18ab32d7"
   },
   "outputs": [],
   "source": []
  },
  {
   "cell_type": "code",
   "execution_count": null,
   "id": "e3c5caeb",
   "metadata": {
    "id": "e3c5caeb"
   },
   "outputs": [],
   "source": []
  },
  {
   "cell_type": "code",
   "execution_count": null,
   "id": "9676446b",
   "metadata": {
    "id": "9676446b"
   },
   "outputs": [],
   "source": []
  },
  {
   "cell_type": "code",
   "execution_count": null,
   "id": "037d5749",
   "metadata": {
    "id": "037d5749"
   },
   "outputs": [],
   "source": []
  },
  {
   "cell_type": "code",
   "execution_count": null,
   "id": "9a3ab813",
   "metadata": {
    "id": "9a3ab813"
   },
   "outputs": [],
   "source": []
  },
  {
   "cell_type": "code",
   "execution_count": null,
   "id": "7127a89b",
   "metadata": {
    "id": "7127a89b"
   },
   "outputs": [],
   "source": []
  }
 ],
 "metadata": {
  "kernelspec": {
   "display_name": "Python 3 (ipykernel)",
   "language": "python",
   "name": "python3"
  },
  "language_info": {
   "codemirror_mode": {
    "name": "ipython",
    "version": 3
   },
   "file_extension": ".py",
   "mimetype": "text/x-python",
   "name": "python",
   "nbconvert_exporter": "python",
   "pygments_lexer": "ipython3",
   "version": "3.8.8"
  },
  "toc": {
   "base_numbering": 1,
   "nav_menu": {},
   "number_sections": false,
   "sideBar": true,
   "skip_h1_title": false,
   "title_cell": "Table of Contents",
   "title_sidebar": "Contents",
   "toc_cell": true,
   "toc_position": {},
   "toc_section_display": true,
   "toc_window_display": false
  },
  "colab": {
   "provenance": [],
   "toc_visible": true
  }
 },
 "nbformat": 4,
 "nbformat_minor": 5
}
