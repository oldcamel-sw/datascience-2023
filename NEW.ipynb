{
 "cells": [
  {
   "cell_type": "markdown",
   "source": [
    "# Markdown"
   ],
   "metadata": {
    "collapsed": false
   }
  },
  {
   "cell_type": "markdown",
   "source": [
    "## Basic MD Usage\n",
    "- math $\n",
    "- block quote >\n",
    "- nested block quote >>\n",
    "- strong ** / __\n",
    "- italic * / _\n",
    "- line break <br>\n",
    "- horizontal line *** / ---\n",
    "- internal link \\[heading title](#heading-title)\n",
    "- external link \\[link text](https://url)\n",
    "- monospace  `\n",
    "- code  ```\n",
    "- font color \\<font color='red'>bar\\</font>"
   ],
   "metadata": {
    "collapsed": false
   }
  },
  {
   "cell_type": "markdown",
   "source": [
    "## MD Image\n",
    "### insert image with IPython\n",
    "```python\n",
    "from IPython.display import Image\n",
    "Image(url='https://www...', width=300)\n",
    "```\n",
    "\n",
    "### insert image with custom size\n",
    "- \\<div>\n",
    "- \\<img src=\"attachment:Screenshot.png\" width=\"500\"/>\n",
    "- \\</div>\n",
    "\n",
    "### link image with custom size\n",
    "- \\<img src=\"image.JPG\" alt=\"Drawing\" style=\"width: 200px;\"/>\n",
    "\n",
    "### link image local file with custome size\n",
    "- \\<div>\n",
    "- \\<img src=\"Images/Screenshot1.png\" width=\"500\"/>\n",
    "- \\</div>"
   ],
   "metadata": {
    "collapsed": false
   }
  },
  {
   "cell_type": "code",
   "execution_count": null,
   "outputs": [],
   "source": [],
   "metadata": {
    "collapsed": false
   }
  },
  {
   "cell_type": "code",
   "execution_count": null,
   "outputs": [],
   "source": [],
   "metadata": {
    "collapsed": false
   }
  },
  {
   "cell_type": "code",
   "execution_count": null,
   "outputs": [],
   "source": [],
   "metadata": {
    "collapsed": false
   }
  },
  {
   "cell_type": "code",
   "execution_count": null,
   "outputs": [],
   "source": [],
   "metadata": {
    "collapsed": false
   }
  },
  {
   "cell_type": "markdown",
   "source": [
    "# Python"
   ],
   "metadata": {
    "collapsed": false
   }
  },
  {
   "cell_type": "markdown",
   "source": [
    "### 모듈화 - import custom func from .py\n",
    "- 파일 이름: `math_function.py`\n",
    "    - 파일 내 정의된 함수 이름: `plus_multi`\n",
    "- 같은 폴더인 경우\n",
    "```python\n",
    "from math_function import plus_multi\n",
    "```\n",
    "- function_01이라는 하위 폴더에 있는 경우\n",
    "```python\n",
    "from function_01.math_function import plus_multi\n",
    "```"
   ],
   "metadata": {
    "collapsed": false
   }
  },
  {
   "cell_type": "markdown",
   "source": [
    "## List, Dict, Tuple\n",
    "- append() 리스트 제일 뒤에 항목을 추가한다.\n",
    "- pop() 리스트 제일 뒤의 항목을 빼내고, 빼낸 항목은 삭제한다.\n",
    "- sort() 리스트의 항목을 정렬한다.\n",
    "- reverse() 리스트 항목의 순서를 역순으로 만든다.\n",
    "- index() 지정한 값을 찾아서 그 위치를 반환한다.\n",
    "- insert() 지정된 위치에 값을 삽입한다.\n",
    "- remove() 리스트에서 지정한 값을 제거한다.\n",
    "    - 단, 지정한 값이 여러 개일 경우 첫 번째 값만 지운다.\n",
    "- extend() 리스트 뒤에 리스트를 추가한다. 리스트의 더하기(+)\n",
    "    - 연산과 동일한 기능이다.\n",
    "- count() 리스트에서 찾을 값의 개수를 센다.\n",
    "- del() 리스트에서 해당 위치의 항목을 삭제한다.\n",
    "- len() 리스트에 포함된 전체 항목의 개수를 센다."
   ],
   "metadata": {
    "collapsed": false
   }
  },
  {
   "cell_type": "markdown",
   "source": [
    "### Dict 생성, 주요 method"
   ],
   "metadata": {
    "collapsed": false
   }
  },
  {
   "cell_type": "code",
   "execution_count": 2,
   "outputs": [
    {
     "name": "stdout",
     "output_type": "stream",
     "text": [
      "dict_values(['seoul', 'tokyo', 'ottawa'])\n",
      "dict_keys(['korea', 'japan', 'canada'])\n",
      "\n",
      "dict_items([('korea', 'seoul'), ('japan', 'tokyo'), ('canada', 'ottawa')])\n"
     ]
    }
   ],
   "source": [
    "a = {'korea': 'seoul', 'japan': 'tokyo', 'canada': 'ottawa'}\n",
    "print(a.values())\n",
    "print(a.keys())\n",
    "print()\n",
    "# items : return a 'list of tuples'\n",
    "print(a.items())"
   ],
   "metadata": {
    "collapsed": false
   }
  },
  {
   "cell_type": "code",
   "execution_count": 3,
   "outputs": [
    {
     "data": {
      "text/plain": "[(0, 'korea'), (1, 'japan'), (2, 'canada')]"
     },
     "execution_count": 3,
     "metadata": {},
     "output_type": "execute_result"
    }
   ],
   "source": [
    "# enumerate : return a 'list of tuples'\n",
    "list(enumerate(a))"
   ],
   "metadata": {
    "collapsed": false
   }
  },
  {
   "cell_type": "markdown",
   "source": [
    "## For, If\n",
    "```python\n",
    "x = 2\n",
    "while x <= 9:\n",
    "    y = 1\n",
    "    while y <= 9:\n",
    "        print(x, 'x', y, '=', x*y)\n",
    "        y += 1\n",
    "    x += 1\n",
    "```"
   ],
   "metadata": {
    "collapsed": false
   }
  },
  {
   "cell_type": "markdown",
   "source": [
    "## Variable Length Argument\n",
    "\n",
    "> *args: 파라미터를 튜플의 형태로 전달\n",
    "> *kwargs: 파라미터를 딕셔너리 형태로 전달 (aka. named parameter)\n",
    "\n",
    "```python\n",
    "def test(*x):\n",
    "    for item in x:\n",
    "        print(item)\n",
    "\n",
    "test(10, 20, 'hello')\n",
    "# 10, 20, 'hello'가 차례로 print됌.\n",
    "\n",
    "\n",
    "\n",
    "def test2(**x):\n",
    "    for key, value in x.items():\n",
    "        print('key:', key, ', value:', value)\n",
    "\n",
    "test2(a=1, b=2, c=9, d='hello')\n",
    "```"
   ],
   "metadata": {
    "collapsed": false
   }
  },
  {
   "cell_type": "markdown",
   "source": [
    "## Lambda"
   ],
   "metadata": {
    "collapsed": false
   }
  },
  {
   "cell_type": "code",
   "execution_count": 5,
   "outputs": [
    {
     "name": "stdout",
     "output_type": "stream",
     "text": [
      "25\n"
     ]
    }
   ],
   "source": [
    "square = lambda x:x**2\n",
    "print(square(5))"
   ],
   "metadata": {
    "collapsed": false
   }
  },
  {
   "cell_type": "code",
   "execution_count": 6,
   "outputs": [
    {
     "name": "stdout",
     "output_type": "stream",
     "text": [
      "['bob', 'teddy', 'charles', 'alexander']\n"
     ]
    }
   ],
   "source": [
    "strings = ['bob', 'charles', 'alexander', 'teddy']\n",
    "strings.sort(key=lambda s:len(s))\n",
    "# key parameter엔 function이 필요\n",
    "\n",
    "print(strings)"
   ],
   "metadata": {
    "collapsed": false
   }
  },
  {
   "cell_type": "code",
   "execution_count": 10,
   "outputs": [
    {
     "name": "stdout",
     "output_type": "stream",
     "text": [
      "[2, 4, 6, 8]\n"
     ]
    }
   ],
   "source": [
    "# filter\n",
    "nums = [1, 2, 3, 4, 6, 8, 9]\n",
    "\n",
    "filter_result = list(filter(lambda x:x%2==0, nums))\n",
    "print(filter_result)"
   ],
   "metadata": {
    "collapsed": false
   }
  },
  {
   "cell_type": "code",
   "execution_count": 8,
   "outputs": [
    {
     "name": "stdout",
     "output_type": "stream",
     "text": [
      "[1, 4, 9, 16, 25, 36, 49, 100, 121, 169]\n",
      "[False, True, False, True, False, True, False, True, False, False]\n"
     ]
    }
   ],
   "source": [
    "# map은 주어진 리스트를 토대로 새로운 리스트를 반환하는 것\n",
    "nums = [1, 2, 3, 4, 5, 6, 7, 10, 11, 13]\n",
    "print(list(map(lambda n:n**2, nums)))\n",
    "\n",
    "print(list(map(lambda n:n%2==0, nums)))"
   ],
   "metadata": {
    "collapsed": false
   }
  },
  {
   "cell_type": "markdown",
   "source": [
    "## Class, Object\n",
    "- class는 똑같은 무엇인가를 계속해서 만들어낼 수 있는 '틀' 같은 것\n",
    "- object(객체)는 클래스에 의해서 만들어진 물건이나 실체 같은 것\n",
    "- instance는 객체와 같은 말인데, class와의 관계를 강조할 때 인스턴스라고 말한다.\n",
    "    - '트럭은 인스턴스'보다 '트럭은 객체'가 더 어울리고,\n",
    "    - '트럭은 자동차의 객체'보다 '트럭은 자동차의 인스턴스'가 더 어울린다.\n",
    "\n",
    "```python\n",
    "class Singer:  # 가수라는 클래스를 정의한다\n",
    "    def sing(self):    # 가수는 노래하기 method를 가졌다.\n",
    "        return \"lalala~\"\n",
    "\n",
    "# Jihun이라는 인스턴스를 만들어서 Singer 클래스를 부여.\n",
    "jihun = Singer()\n",
    "jihun.sing()       # jihun은 Singer의 method를 사용한다.\n",
    "```"
   ],
   "metadata": {
    "collapsed": false
   }
  },
  {
   "cell_type": "code",
   "execution_count": 11,
   "outputs": [
    {
     "name": "stdout",
     "output_type": "stream",
     "text": [
      "<__main__.Person object at 0x17d467520> is generated\n",
      "Aaron 은 잠을 잡니다.\n"
     ]
    }
   ],
   "source": [
    "class Person:\n",
    "    def __init__(self, name, age):\n",
    "        print(self, 'is generated')\n",
    "        self.name = name\n",
    "        self.age = age\n",
    "\n",
    "    def sleep(self):\n",
    "        print(self.name, '은 잠을 잡니다.')\n",
    "\n",
    "a = Person('Aaron', 20)\n",
    "\n",
    "a.sleep()   # self는 'a'이다. => 여기서 a.sleep(a)인 거랑 같은 말이다.\n",
    "            # 'a'라는 변수 자체는 \"어떤 메모리 주소에 저장된 값\", 혹은 \"어떤 주소\" 그 자체다.\n",
    "\n",
    "## SELF 는 관례적으로 모든 METHOD 파라미터의 첫 번째 자리에 온다."
   ],
   "metadata": {
    "collapsed": false
   }
  },
  {
   "cell_type": "markdown",
   "source": [
    "### Instance Method, Class Method, Static Method\n",
    "> **method**: 클래스에 포함되어 있는 함수\n",
    "- **instance**:\n",
    "    - 첫 번째 매개변수로 self (인스턴스)를 받는다.\n",
    "    - self를 통해 인스턴스의 속성에 접근 가능 &\n",
    "    - 다른 인스턴스 메서드를 호출 가능\n",
    "- **class**:\n",
    "    - @classmethod 데코레이터를 사용해 선언\n",
    "    - 첫 번째 매개변수로 cls (클래스)를 받는다.\n",
    "    - cls를 통해 클래스의 속성에 접근 가능 &\n",
    "    - 클래스 메서드를 호출 가능\n",
    "    - BUT, 인스턴스 속성에 접근하거나 다른 인스턴스 메서드 호출 불가\n",
    "- **static**:\n",
    "    - @staticmethod 데코레이터를 사용해 선언\n",
    "    - 첫 번째 매개변수가 할당되지 않음\n",
    "    - 인스턴스/클래스 속성에 접근하거나, 인스턴스/클래스 메서드 호출 불가\n"
   ],
   "metadata": {
    "collapsed": false
   }
  },
  {
   "cell_type": "code",
   "execution_count": 13,
   "outputs": [
    {
     "name": "stdout",
     "output_type": "stream",
     "text": [
      "3\n"
     ]
    }
   ],
   "source": [
    "# instance method\n",
    "class Counter:\n",
    "    def __init__(self, value = 0):\n",
    "        self.value = value\n",
    "\n",
    "    def increment(self, delta = 1):\n",
    "        self.value += delta\n",
    "\n",
    "    def decrement(self, delta = 1):\n",
    "        self.value -= delta\n",
    "\n",
    "# 반드시 먼저 인스턴스를 생성한 후에 해당 인스턴스 대상으로 method 호출해야 함.\n",
    "counter = Counter()\n",
    "\n",
    "counter.increment(3)\n",
    "print(counter.value)"
   ],
   "metadata": {
    "collapsed": false
   }
  },
  {
   "cell_type": "code",
   "execution_count": 14,
   "outputs": [],
   "source": [
    "# class method\n",
    "class User:\n",
    "    def __init__(self, email, password):\n",
    "        self.email = email\n",
    "        self.password = password\n",
    "\n",
    "    @classmethod\n",
    "    def fromTuple(cls, tup):\n",
    "        return cls(tup[0], tup[1])\n",
    "\n",
    "    @classmethod\n",
    "    def fromDictionary(cls, dic):\n",
    "        return cls(dic[\"email\"], dic[\"password\"])"
   ],
   "metadata": {
    "collapsed": false
   }
  },
  {
   "cell_type": "markdown",
   "source": [
    "```python\n",
    ">>> user = User(\"user@test.com\", \"1234\")\n",
    ">>> user.email, user.password\n",
    "('user@test.com', '1234')\n",
    "\n",
    "# class method로 객체 생성(인스턴스 대상으로 method 호출한 게 아님!!)\n",
    ">>> user = User.fromTuple((\"user@test.com\", \"1234\"))\n",
    ">>> user.email, user.password\n",
    "('user@test.com', '1234')\n",
    "```"
   ],
   "metadata": {
    "collapsed": false
   }
  },
  {
   "cell_type": "code",
   "execution_count": null,
   "outputs": [],
   "source": [
    "# static method\n",
    "class StringUtils:\n",
    "    @staticmethod\n",
    "    def toCamelcase(text):\n",
    "        words = iter(text.split(\"_\"))\n",
    "        return next(words) + \"\".join(i.title() for i in words)\n",
    "\n",
    "    @staticmethod\n",
    "    def toSnakecase(text):\n",
    "        letters = [\"_\" + i.lower() if i.isupper() else i for i in text]\n",
    "        return \"\".join(letters).lstrip(\"_\")\n",
    "\n",
    "# 보통 이런 류의 여러 유틸리티 methods를 하나의 클래스로 묶어두고 싶을 때 사용"
   ],
   "metadata": {
    "collapsed": false
   }
  },
  {
   "cell_type": "markdown",
   "source": [
    "```python\n",
    ">>> StringUtils.toCamelcase(\"last_modified_date\")\n",
    "'lastModifiedDate'\n",
    ">>> StringUtils.toSnakecase(\"lastModifiedDate\")\n",
    "'last_modified_date'\n",
    "```"
   ],
   "metadata": {
    "collapsed": false
   }
  },
  {
   "cell_type": "markdown",
   "source": [
    "## 정규표현식 Regex"
   ],
   "metadata": {
    "collapsed": false
   }
  },
  {
   "cell_type": "markdown",
   "source": [
    "### 기본 표현\n",
    "- . (마침표) - 어떤 한 개의 character와 일치\n",
    "- \\w - 문자 character와 일치\n",
    "- \\s - 공백문자와 일치\n",
    "- \\t, \\n, \\r - tab, newline, return\n",
    "- \\d - 숫자 character와 일치\n",
    "- ^ = 시작, $ = 끝.  (각각 문자열의 시작과 끝을 의미)\n",
    "- \\가 앞에 붙으면 스페셜한 의미가 없어짐. (예를 들어 \\\\는 \\를 의미)"
   ],
   "metadata": {
    "collapsed": false
   }
  },
  {
   "cell_type": "code",
   "execution_count": 2,
   "outputs": [
    {
     "name": "stdout",
     "output_type": "stream",
     "text": [
      "3\n",
      "6\n"
     ]
    }
   ],
   "source": [
    "import re\n",
    "\n",
    "m = re.search(r'abc', '123abcdef')\n",
    "print(m.start())\n",
    "print(m.end())"
   ],
   "metadata": {
    "collapsed": false
   }
  },
  {
   "cell_type": "markdown",
   "source": [
    "### 메타 캐릭터\n",
    "> **[ ]** - 문자들의 범위를 나타내기 위해 사용\n",
    "\n",
    "- [abc.^]: a or b or c or . or ^\n",
    "- [a-d]: a~d 사이 문자 중 하나\n",
    "- [0-9]: 모든 숫자\n",
    "- [a-z]  : 모든 소문자\n",
    "- [A-Z]  : 모든 대문자\n",
    "- [a-zA-Z0-9] : 모든 알파벳 문자 및 숫자\n",
    "- [^0-9] : ^가 맨 앞에 사용 되는 경우 해당 문자 패턴이 아닌 것과 매칭"
   ],
   "metadata": {
    "collapsed": false
   }
  },
  {
   "cell_type": "code",
   "execution_count": 3,
   "outputs": [
    {
     "data": {
      "text/plain": "<re.Match object; span=(0, 5), match='caron'>"
     },
     "execution_count": 3,
     "metadata": {},
     "output_type": "execute_result"
    }
   ],
   "source": [
    "re.search(r'[abc.^]aron', 'caron')"
   ],
   "metadata": {
    "collapsed": false
   }
  },
  {
   "cell_type": "code",
   "execution_count": 4,
   "outputs": [
    {
     "data": {
      "text/plain": "<re.Match object; span=(0, 5), match='#aron'>"
     },
     "execution_count": 4,
     "metadata": {},
     "output_type": "execute_result"
    }
   ],
   "source": [
    "# ^가 맨 앞에 쓰이는 경우: not의 의미를 지닌다.\n",
    "re.search(r'[^abc]aron', '#aron')"
   ],
   "metadata": {
    "collapsed": false
   }
  },
  {
   "cell_type": "code",
   "execution_count": null,
   "outputs": [],
   "source": [],
   "metadata": {
    "collapsed": false
   }
  },
  {
   "cell_type": "code",
   "execution_count": null,
   "outputs": [],
   "source": [],
   "metadata": {
    "collapsed": false
   }
  }
 ],
 "metadata": {
  "kernelspec": {
   "display_name": "Python 3",
   "language": "python",
   "name": "python3"
  },
  "language_info": {
   "codemirror_mode": {
    "name": "ipython",
    "version": 2
   },
   "file_extension": ".py",
   "mimetype": "text/x-python",
   "name": "python",
   "nbconvert_exporter": "python",
   "pygments_lexer": "ipython2",
   "version": "2.7.6"
  }
 },
 "nbformat": 4,
 "nbformat_minor": 0
}
