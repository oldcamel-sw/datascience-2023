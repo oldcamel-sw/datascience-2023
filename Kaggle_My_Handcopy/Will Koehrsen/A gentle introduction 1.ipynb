{
 "cells": [
  {
   "cell_type": "code",
   "execution_count": 1,
   "metadata": {
    "collapsed": true
   },
   "outputs": [],
   "source": [
    "import numpy as np\n",
    "import pandas as pd\n",
    "\n",
    "from sklearn.preprocessing import LabelEncoder\n",
    "\n",
    "import os\n",
    "\n",
    "import warnings\n",
    "warnings.filterwarnings('ignore')\n",
    "\n",
    "import matplotlib.pyplot as plt\n",
    "import seaborn as sns"
   ]
  },
  {
   "cell_type": "code",
   "execution_count": 2,
   "outputs": [
    {
     "name": "stdout",
     "output_type": "stream",
     "text": [
      "['application_test.csv', 'HomeCredit_columns_description.csv', 'POS_CASH_balance.csv', 'credit_card_balance.csv', 'installments_payments.csv', 'application_train.csv', 'bureau.csv', 'previous_application.csv', 'bureau_balance.csv', 'sample_submission.csv']\n"
     ]
    }
   ],
   "source": [
    "# List files available\n",
    "print(os.listdir(\"../../datasets/home-credit-default-risk/\"))"
   ],
   "metadata": {
    "collapsed": false
   }
  },
  {
   "cell_type": "code",
   "execution_count": 3,
   "outputs": [
    {
     "name": "stdout",
     "output_type": "stream",
     "text": [
      "Training data shape:  (307511, 122)\n"
     ]
    },
    {
     "data": {
      "text/plain": "   SK_ID_CURR  TARGET NAME_CONTRACT_TYPE CODE_GENDER FLAG_OWN_CAR  \\\n0      100002       1         Cash loans           M            N   \n1      100003       0         Cash loans           F            N   \n2      100004       0    Revolving loans           M            Y   \n3      100006       0         Cash loans           F            N   \n4      100007       0         Cash loans           M            N   \n\n  FLAG_OWN_REALTY  CNT_CHILDREN  AMT_INCOME_TOTAL  AMT_CREDIT  AMT_ANNUITY  \\\n0               Y             0          202500.0    406597.5      24700.5   \n1               N             0          270000.0   1293502.5      35698.5   \n2               Y             0           67500.0    135000.0       6750.0   \n3               Y             0          135000.0    312682.5      29686.5   \n4               Y             0          121500.0    513000.0      21865.5   \n\n   ...  FLAG_DOCUMENT_18 FLAG_DOCUMENT_19 FLAG_DOCUMENT_20 FLAG_DOCUMENT_21  \\\n0  ...                 0                0                0                0   \n1  ...                 0                0                0                0   \n2  ...                 0                0                0                0   \n3  ...                 0                0                0                0   \n4  ...                 0                0                0                0   \n\n  AMT_REQ_CREDIT_BUREAU_HOUR AMT_REQ_CREDIT_BUREAU_DAY  \\\n0                        0.0                       0.0   \n1                        0.0                       0.0   \n2                        0.0                       0.0   \n3                        NaN                       NaN   \n4                        0.0                       0.0   \n\n   AMT_REQ_CREDIT_BUREAU_WEEK  AMT_REQ_CREDIT_BUREAU_MON  \\\n0                         0.0                        0.0   \n1                         0.0                        0.0   \n2                         0.0                        0.0   \n3                         NaN                        NaN   \n4                         0.0                        0.0   \n\n   AMT_REQ_CREDIT_BUREAU_QRT  AMT_REQ_CREDIT_BUREAU_YEAR  \n0                        0.0                         1.0  \n1                        0.0                         0.0  \n2                        0.0                         0.0  \n3                        NaN                         NaN  \n4                        0.0                         0.0  \n\n[5 rows x 122 columns]",
      "text/html": "<div>\n<style scoped>\n    .dataframe tbody tr th:only-of-type {\n        vertical-align: middle;\n    }\n\n    .dataframe tbody tr th {\n        vertical-align: top;\n    }\n\n    .dataframe thead th {\n        text-align: right;\n    }\n</style>\n<table border=\"1\" class=\"dataframe\">\n  <thead>\n    <tr style=\"text-align: right;\">\n      <th></th>\n      <th>SK_ID_CURR</th>\n      <th>TARGET</th>\n      <th>NAME_CONTRACT_TYPE</th>\n      <th>CODE_GENDER</th>\n      <th>FLAG_OWN_CAR</th>\n      <th>FLAG_OWN_REALTY</th>\n      <th>CNT_CHILDREN</th>\n      <th>AMT_INCOME_TOTAL</th>\n      <th>AMT_CREDIT</th>\n      <th>AMT_ANNUITY</th>\n      <th>...</th>\n      <th>FLAG_DOCUMENT_18</th>\n      <th>FLAG_DOCUMENT_19</th>\n      <th>FLAG_DOCUMENT_20</th>\n      <th>FLAG_DOCUMENT_21</th>\n      <th>AMT_REQ_CREDIT_BUREAU_HOUR</th>\n      <th>AMT_REQ_CREDIT_BUREAU_DAY</th>\n      <th>AMT_REQ_CREDIT_BUREAU_WEEK</th>\n      <th>AMT_REQ_CREDIT_BUREAU_MON</th>\n      <th>AMT_REQ_CREDIT_BUREAU_QRT</th>\n      <th>AMT_REQ_CREDIT_BUREAU_YEAR</th>\n    </tr>\n  </thead>\n  <tbody>\n    <tr>\n      <th>0</th>\n      <td>100002</td>\n      <td>1</td>\n      <td>Cash loans</td>\n      <td>M</td>\n      <td>N</td>\n      <td>Y</td>\n      <td>0</td>\n      <td>202500.0</td>\n      <td>406597.5</td>\n      <td>24700.5</td>\n      <td>...</td>\n      <td>0</td>\n      <td>0</td>\n      <td>0</td>\n      <td>0</td>\n      <td>0.0</td>\n      <td>0.0</td>\n      <td>0.0</td>\n      <td>0.0</td>\n      <td>0.0</td>\n      <td>1.0</td>\n    </tr>\n    <tr>\n      <th>1</th>\n      <td>100003</td>\n      <td>0</td>\n      <td>Cash loans</td>\n      <td>F</td>\n      <td>N</td>\n      <td>N</td>\n      <td>0</td>\n      <td>270000.0</td>\n      <td>1293502.5</td>\n      <td>35698.5</td>\n      <td>...</td>\n      <td>0</td>\n      <td>0</td>\n      <td>0</td>\n      <td>0</td>\n      <td>0.0</td>\n      <td>0.0</td>\n      <td>0.0</td>\n      <td>0.0</td>\n      <td>0.0</td>\n      <td>0.0</td>\n    </tr>\n    <tr>\n      <th>2</th>\n      <td>100004</td>\n      <td>0</td>\n      <td>Revolving loans</td>\n      <td>M</td>\n      <td>Y</td>\n      <td>Y</td>\n      <td>0</td>\n      <td>67500.0</td>\n      <td>135000.0</td>\n      <td>6750.0</td>\n      <td>...</td>\n      <td>0</td>\n      <td>0</td>\n      <td>0</td>\n      <td>0</td>\n      <td>0.0</td>\n      <td>0.0</td>\n      <td>0.0</td>\n      <td>0.0</td>\n      <td>0.0</td>\n      <td>0.0</td>\n    </tr>\n    <tr>\n      <th>3</th>\n      <td>100006</td>\n      <td>0</td>\n      <td>Cash loans</td>\n      <td>F</td>\n      <td>N</td>\n      <td>Y</td>\n      <td>0</td>\n      <td>135000.0</td>\n      <td>312682.5</td>\n      <td>29686.5</td>\n      <td>...</td>\n      <td>0</td>\n      <td>0</td>\n      <td>0</td>\n      <td>0</td>\n      <td>NaN</td>\n      <td>NaN</td>\n      <td>NaN</td>\n      <td>NaN</td>\n      <td>NaN</td>\n      <td>NaN</td>\n    </tr>\n    <tr>\n      <th>4</th>\n      <td>100007</td>\n      <td>0</td>\n      <td>Cash loans</td>\n      <td>M</td>\n      <td>N</td>\n      <td>Y</td>\n      <td>0</td>\n      <td>121500.0</td>\n      <td>513000.0</td>\n      <td>21865.5</td>\n      <td>...</td>\n      <td>0</td>\n      <td>0</td>\n      <td>0</td>\n      <td>0</td>\n      <td>0.0</td>\n      <td>0.0</td>\n      <td>0.0</td>\n      <td>0.0</td>\n      <td>0.0</td>\n      <td>0.0</td>\n    </tr>\n  </tbody>\n</table>\n<p>5 rows × 122 columns</p>\n</div>"
     },
     "execution_count": 3,
     "metadata": {},
     "output_type": "execute_result"
    }
   ],
   "source": [
    "# Training data\n",
    "app_train = pd.read_csv('../../datasets/home-credit-default-risk/application_train.csv')\n",
    "print('Training data shape: ', app_train.shape)\n",
    "app_train.head()"
   ],
   "metadata": {
    "collapsed": false
   }
  },
  {
   "cell_type": "code",
   "execution_count": 4,
   "outputs": [
    {
     "name": "stdout",
     "output_type": "stream",
     "text": [
      "Testing data shape: (48744, 121)\n"
     ]
    },
    {
     "data": {
      "text/plain": "   SK_ID_CURR NAME_CONTRACT_TYPE CODE_GENDER FLAG_OWN_CAR FLAG_OWN_REALTY  \\\n0      100001         Cash loans           F            N               Y   \n1      100005         Cash loans           M            N               Y   \n2      100013         Cash loans           M            Y               Y   \n3      100028         Cash loans           F            N               Y   \n4      100038         Cash loans           M            Y               N   \n\n   CNT_CHILDREN  AMT_INCOME_TOTAL  AMT_CREDIT  AMT_ANNUITY  AMT_GOODS_PRICE  \\\n0             0          135000.0    568800.0      20560.5         450000.0   \n1             0           99000.0    222768.0      17370.0         180000.0   \n2             0          202500.0    663264.0      69777.0         630000.0   \n3             2          315000.0   1575000.0      49018.5        1575000.0   \n4             1          180000.0    625500.0      32067.0         625500.0   \n\n   ... FLAG_DOCUMENT_18 FLAG_DOCUMENT_19 FLAG_DOCUMENT_20 FLAG_DOCUMENT_21  \\\n0  ...                0                0                0                0   \n1  ...                0                0                0                0   \n2  ...                0                0                0                0   \n3  ...                0                0                0                0   \n4  ...                0                0                0                0   \n\n  AMT_REQ_CREDIT_BUREAU_HOUR  AMT_REQ_CREDIT_BUREAU_DAY  \\\n0                        0.0                        0.0   \n1                        0.0                        0.0   \n2                        0.0                        0.0   \n3                        0.0                        0.0   \n4                        NaN                        NaN   \n\n   AMT_REQ_CREDIT_BUREAU_WEEK  AMT_REQ_CREDIT_BUREAU_MON  \\\n0                         0.0                        0.0   \n1                         0.0                        0.0   \n2                         0.0                        0.0   \n3                         0.0                        0.0   \n4                         NaN                        NaN   \n\n   AMT_REQ_CREDIT_BUREAU_QRT  AMT_REQ_CREDIT_BUREAU_YEAR  \n0                        0.0                         0.0  \n1                        0.0                         3.0  \n2                        1.0                         4.0  \n3                        0.0                         3.0  \n4                        NaN                         NaN  \n\n[5 rows x 121 columns]",
      "text/html": "<div>\n<style scoped>\n    .dataframe tbody tr th:only-of-type {\n        vertical-align: middle;\n    }\n\n    .dataframe tbody tr th {\n        vertical-align: top;\n    }\n\n    .dataframe thead th {\n        text-align: right;\n    }\n</style>\n<table border=\"1\" class=\"dataframe\">\n  <thead>\n    <tr style=\"text-align: right;\">\n      <th></th>\n      <th>SK_ID_CURR</th>\n      <th>NAME_CONTRACT_TYPE</th>\n      <th>CODE_GENDER</th>\n      <th>FLAG_OWN_CAR</th>\n      <th>FLAG_OWN_REALTY</th>\n      <th>CNT_CHILDREN</th>\n      <th>AMT_INCOME_TOTAL</th>\n      <th>AMT_CREDIT</th>\n      <th>AMT_ANNUITY</th>\n      <th>AMT_GOODS_PRICE</th>\n      <th>...</th>\n      <th>FLAG_DOCUMENT_18</th>\n      <th>FLAG_DOCUMENT_19</th>\n      <th>FLAG_DOCUMENT_20</th>\n      <th>FLAG_DOCUMENT_21</th>\n      <th>AMT_REQ_CREDIT_BUREAU_HOUR</th>\n      <th>AMT_REQ_CREDIT_BUREAU_DAY</th>\n      <th>AMT_REQ_CREDIT_BUREAU_WEEK</th>\n      <th>AMT_REQ_CREDIT_BUREAU_MON</th>\n      <th>AMT_REQ_CREDIT_BUREAU_QRT</th>\n      <th>AMT_REQ_CREDIT_BUREAU_YEAR</th>\n    </tr>\n  </thead>\n  <tbody>\n    <tr>\n      <th>0</th>\n      <td>100001</td>\n      <td>Cash loans</td>\n      <td>F</td>\n      <td>N</td>\n      <td>Y</td>\n      <td>0</td>\n      <td>135000.0</td>\n      <td>568800.0</td>\n      <td>20560.5</td>\n      <td>450000.0</td>\n      <td>...</td>\n      <td>0</td>\n      <td>0</td>\n      <td>0</td>\n      <td>0</td>\n      <td>0.0</td>\n      <td>0.0</td>\n      <td>0.0</td>\n      <td>0.0</td>\n      <td>0.0</td>\n      <td>0.0</td>\n    </tr>\n    <tr>\n      <th>1</th>\n      <td>100005</td>\n      <td>Cash loans</td>\n      <td>M</td>\n      <td>N</td>\n      <td>Y</td>\n      <td>0</td>\n      <td>99000.0</td>\n      <td>222768.0</td>\n      <td>17370.0</td>\n      <td>180000.0</td>\n      <td>...</td>\n      <td>0</td>\n      <td>0</td>\n      <td>0</td>\n      <td>0</td>\n      <td>0.0</td>\n      <td>0.0</td>\n      <td>0.0</td>\n      <td>0.0</td>\n      <td>0.0</td>\n      <td>3.0</td>\n    </tr>\n    <tr>\n      <th>2</th>\n      <td>100013</td>\n      <td>Cash loans</td>\n      <td>M</td>\n      <td>Y</td>\n      <td>Y</td>\n      <td>0</td>\n      <td>202500.0</td>\n      <td>663264.0</td>\n      <td>69777.0</td>\n      <td>630000.0</td>\n      <td>...</td>\n      <td>0</td>\n      <td>0</td>\n      <td>0</td>\n      <td>0</td>\n      <td>0.0</td>\n      <td>0.0</td>\n      <td>0.0</td>\n      <td>0.0</td>\n      <td>1.0</td>\n      <td>4.0</td>\n    </tr>\n    <tr>\n      <th>3</th>\n      <td>100028</td>\n      <td>Cash loans</td>\n      <td>F</td>\n      <td>N</td>\n      <td>Y</td>\n      <td>2</td>\n      <td>315000.0</td>\n      <td>1575000.0</td>\n      <td>49018.5</td>\n      <td>1575000.0</td>\n      <td>...</td>\n      <td>0</td>\n      <td>0</td>\n      <td>0</td>\n      <td>0</td>\n      <td>0.0</td>\n      <td>0.0</td>\n      <td>0.0</td>\n      <td>0.0</td>\n      <td>0.0</td>\n      <td>3.0</td>\n    </tr>\n    <tr>\n      <th>4</th>\n      <td>100038</td>\n      <td>Cash loans</td>\n      <td>M</td>\n      <td>Y</td>\n      <td>N</td>\n      <td>1</td>\n      <td>180000.0</td>\n      <td>625500.0</td>\n      <td>32067.0</td>\n      <td>625500.0</td>\n      <td>...</td>\n      <td>0</td>\n      <td>0</td>\n      <td>0</td>\n      <td>0</td>\n      <td>NaN</td>\n      <td>NaN</td>\n      <td>NaN</td>\n      <td>NaN</td>\n      <td>NaN</td>\n      <td>NaN</td>\n    </tr>\n  </tbody>\n</table>\n<p>5 rows × 121 columns</p>\n</div>"
     },
     "execution_count": 4,
     "metadata": {},
     "output_type": "execute_result"
    }
   ],
   "source": [
    "# Testing data features\n",
    "app_test = pd.read_csv('../../datasets/home-credit-default-risk/application_test.csv')\n",
    "print('Testing data shape:', app_test.shape)\n",
    "app_test.head()"
   ],
   "metadata": {
    "collapsed": false
   }
  },
  {
   "cell_type": "markdown",
   "source": [
    "# EDA"
   ],
   "metadata": {
    "collapsed": false
   }
  },
  {
   "cell_type": "markdown",
   "source": [
    "## Examine the distribution of the target column"
   ],
   "metadata": {
    "collapsed": false
   }
  },
  {
   "cell_type": "code",
   "execution_count": 5,
   "outputs": [
    {
     "data": {
      "text/plain": "0    282686\n1     24825\nName: TARGET, dtype: int64"
     },
     "execution_count": 5,
     "metadata": {},
     "output_type": "execute_result"
    }
   ],
   "source": [
    "app_train['TARGET'].value_counts()"
   ],
   "metadata": {
    "collapsed": false
   }
  },
  {
   "cell_type": "code",
   "execution_count": 6,
   "outputs": [
    {
     "data": {
      "text/plain": "<AxesSubplot: ylabel='Frequency'>"
     },
     "execution_count": 6,
     "metadata": {},
     "output_type": "execute_result"
    },
    {
     "data": {
      "text/plain": "<Figure size 640x480 with 1 Axes>",
      "image/png": "[encoded data removed]"
     },
     "metadata": {},
     "output_type": "display_data"
    }
   ],
   "source": [
    "app_train['TARGET'].astype(int).plot.hist()"
   ],
   "metadata": {
    "collapsed": false
   }
  },
  {
   "cell_type": "markdown",
   "source": [
    "## Examine Missing Values"
   ],
   "metadata": {
    "collapsed": false
   }
  },
  {
   "cell_type": "code",
   "execution_count": 7,
   "outputs": [],
   "source": [
    "# Function to calculate missing values by column\n",
    "def missing_values_table(df):\n",
    "    # total missing values\n",
    "    mis_val = df.isnull().sum()\n",
    "\n",
    "    # percentage of missing values\n",
    "    mis_val_percent = 100 * df.isnull().sum() / len(df)\n",
    "\n",
    "    # Make a table with the results\n",
    "    mis_val_table = pd.concat([mis_val, mis_val_percent], axis=1)\n",
    "\n",
    "    # Rename the columns\n",
    "    mis_val_table_ren_columns = mis_val_table.rename(\n",
    "        columns = {0 : 'Missing Values', 1 : '% of Total Values'})\n",
    "\n",
    "    # Sort the table by percentage of missing descending\n",
    "    mis_val_table_ren_columns = mis_val_table_ren_columns[\n",
    "        mis_val_table_ren_columns.iloc[:,1] != 0].sort_values(\n",
    "        '% of Total Values', ascending=False).round(1)\n",
    "\n",
    "    # Print some summary information\n",
    "    print (\"Your selected dataframe has \" + str(df.shape[1]) + \" columns.\\n\" +\n",
    "           \"There are \" + str(mis_val_table_ren_columns.shape[0]) +\n",
    "           \" columns that have missing values.\")\n",
    "\n",
    "    # return the dataframe with missing information\n",
    "    return mis_val_table_ren_columns"
   ],
   "metadata": {
    "collapsed": false
   }
  },
  {
   "cell_type": "code",
   "execution_count": 8,
   "outputs": [
    {
     "name": "stdout",
     "output_type": "stream",
     "text": [
      "Your selected dataframe has 122 columns.\n",
      "There are 67 columns that have missing values.\n"
     ]
    },
    {
     "data": {
      "text/plain": "                          Missing Values  % of Total Values\nCOMMONAREA_MEDI                   214865               69.9\nCOMMONAREA_AVG                    214865               69.9\nCOMMONAREA_MODE                   214865               69.9\nNONLIVINGAPARTMENTS_MEDI          213514               69.4\nNONLIVINGAPARTMENTS_MODE          213514               69.4\nNONLIVINGAPARTMENTS_AVG           213514               69.4\nFONDKAPREMONT_MODE                210295               68.4\nLIVINGAPARTMENTS_MODE             210199               68.4\nLIVINGAPARTMENTS_MEDI             210199               68.4\nLIVINGAPARTMENTS_AVG              210199               68.4\nFLOORSMIN_MODE                    208642               67.8\nFLOORSMIN_MEDI                    208642               67.8\nFLOORSMIN_AVG                     208642               67.8\nYEARS_BUILD_MODE                  204488               66.5\nYEARS_BUILD_MEDI                  204488               66.5\nYEARS_BUILD_AVG                   204488               66.5\nOWN_CAR_AGE                       202929               66.0\nLANDAREA_AVG                      182590               59.4\nLANDAREA_MEDI                     182590               59.4\nLANDAREA_MODE                     182590               59.4",
      "text/html": "<div>\n<style scoped>\n    .dataframe tbody tr th:only-of-type {\n        vertical-align: middle;\n    }\n\n    .dataframe tbody tr th {\n        vertical-align: top;\n    }\n\n    .dataframe thead th {\n        text-align: right;\n    }\n</style>\n<table border=\"1\" class=\"dataframe\">\n  <thead>\n    <tr style=\"text-align: right;\">\n      <th></th>\n      <th>Missing Values</th>\n      <th>% of Total Values</th>\n    </tr>\n  </thead>\n  <tbody>\n    <tr>\n      <th>COMMONAREA_MEDI</th>\n      <td>214865</td>\n      <td>69.9</td>\n    </tr>\n    <tr>\n      <th>COMMONAREA_AVG</th>\n      <td>214865</td>\n      <td>69.9</td>\n    </tr>\n    <tr>\n      <th>COMMONAREA_MODE</th>\n      <td>214865</td>\n      <td>69.9</td>\n    </tr>\n    <tr>\n      <th>NONLIVINGAPARTMENTS_MEDI</th>\n      <td>213514</td>\n      <td>69.4</td>\n    </tr>\n    <tr>\n      <th>NONLIVINGAPARTMENTS_MODE</th>\n      <td>213514</td>\n      <td>69.4</td>\n    </tr>\n    <tr>\n      <th>NONLIVINGAPARTMENTS_AVG</th>\n      <td>213514</td>\n      <td>69.4</td>\n    </tr>\n    <tr>\n      <th>FONDKAPREMONT_MODE</th>\n      <td>210295</td>\n      <td>68.4</td>\n    </tr>\n    <tr>\n      <th>LIVINGAPARTMENTS_MODE</th>\n      <td>210199</td>\n      <td>68.4</td>\n    </tr>\n    <tr>\n      <th>LIVINGAPARTMENTS_MEDI</th>\n      <td>210199</td>\n      <td>68.4</td>\n    </tr>\n    <tr>\n      <th>LIVINGAPARTMENTS_AVG</th>\n      <td>210199</td>\n      <td>68.4</td>\n    </tr>\n    <tr>\n      <th>FLOORSMIN_MODE</th>\n      <td>208642</td>\n      <td>67.8</td>\n    </tr>\n    <tr>\n      <th>FLOORSMIN_MEDI</th>\n      <td>208642</td>\n      <td>67.8</td>\n    </tr>\n    <tr>\n      <th>FLOORSMIN_AVG</th>\n      <td>208642</td>\n      <td>67.8</td>\n    </tr>\n    <tr>\n      <th>YEARS_BUILD_MODE</th>\n      <td>204488</td>\n      <td>66.5</td>\n    </tr>\n    <tr>\n      <th>YEARS_BUILD_MEDI</th>\n      <td>204488</td>\n      <td>66.5</td>\n    </tr>\n    <tr>\n      <th>YEARS_BUILD_AVG</th>\n      <td>204488</td>\n      <td>66.5</td>\n    </tr>\n    <tr>\n      <th>OWN_CAR_AGE</th>\n      <td>202929</td>\n      <td>66.0</td>\n    </tr>\n    <tr>\n      <th>LANDAREA_AVG</th>\n      <td>182590</td>\n      <td>59.4</td>\n    </tr>\n    <tr>\n      <th>LANDAREA_MEDI</th>\n      <td>182590</td>\n      <td>59.4</td>\n    </tr>\n    <tr>\n      <th>LANDAREA_MODE</th>\n      <td>182590</td>\n      <td>59.4</td>\n    </tr>\n  </tbody>\n</table>\n</div>"
     },
     "execution_count": 8,
     "metadata": {},
     "output_type": "execute_result"
    }
   ],
   "source": [
    "# Missing values statistics\n",
    "missing_values = missing_values_table(app_train)\n",
    "missing_values.head(20)"
   ],
   "metadata": {
    "collapsed": false
   }
  },
  {
   "cell_type": "markdown",
   "source": [
    "## Column Types"
   ],
   "metadata": {
    "collapsed": false
   }
  },
  {
   "cell_type": "code",
   "execution_count": 9,
   "outputs": [
    {
     "data": {
      "text/plain": "float64    65\nint64      41\nobject     16\ndtype: int64"
     },
     "execution_count": 9,
     "metadata": {},
     "output_type": "execute_result"
    }
   ],
   "source": [
    "# Number of each type of column\n",
    "app_train.dtypes.value_counts()"
   ],
   "metadata": {
    "collapsed": false
   }
  },
  {
   "cell_type": "code",
   "execution_count": 10,
   "outputs": [
    {
     "data": {
      "text/plain": "NAME_CONTRACT_TYPE             2\nCODE_GENDER                    3\nFLAG_OWN_CAR                   2\nFLAG_OWN_REALTY                2\nNAME_TYPE_SUITE                7\nNAME_INCOME_TYPE               8\nNAME_EDUCATION_TYPE            5\nNAME_FAMILY_STATUS             6\nNAME_HOUSING_TYPE              6\nOCCUPATION_TYPE               18\nWEEKDAY_APPR_PROCESS_START     7\nORGANIZATION_TYPE             58\nFONDKAPREMONT_MODE             4\nHOUSETYPE_MODE                 3\nWALLSMATERIAL_MODE             7\nEMERGENCYSTATE_MODE            2\ndtype: int64"
     },
     "execution_count": 10,
     "metadata": {},
     "output_type": "execute_result"
    }
   ],
   "source": [
    "# Number of unique classes in each object column\n",
    "app_train.select_dtypes('object').apply(pd.Series.nunique, axis = 0)"
   ],
   "metadata": {
    "collapsed": false
   }
  },
  {
   "cell_type": "markdown",
   "source": [
    "Most of the categorical variables have a relatively small number of unique entries. We will need to find a way to deal with these categorical variables!"
   ],
   "metadata": {
    "collapsed": false
   }
  },
  {
   "cell_type": "markdown",
   "source": [
    "## Encoding Categorical Variables"
   ],
   "metadata": {
    "collapsed": false
   }
  },
  {
   "cell_type": "markdown",
   "source": [
    "one-hot encoding is the safest approach to deal with categorical features with many classes.\n",
    "To deal with exploding number of features, we can perform one-hot encoding followed by PCA or other dimensionality reduction methods to reduce the number of dimensions.\n"
   ],
   "metadata": {
    "collapsed": false
   }
  },
  {
   "cell_type": "markdown",
   "source": [
    "### Label Encoding and One-Hot Encoding"
   ],
   "metadata": {
    "collapsed": false
   }
  },
  {
   "cell_type": "code",
   "execution_count": 15,
   "outputs": [
    {
     "name": "stdout",
     "output_type": "stream",
     "text": [
      "3 columns were label encoded\n"
     ]
    }
   ],
   "source": [
    "# create a lable encoder object\n",
    "le = LabelEncoder()\n",
    "le_count = 0\n",
    "\n",
    "# Iterate through the columns\n",
    "for col in app_train:\n",
    "    if app_train[col].dtype == 'object':\n",
    "        # If 2 or fewer unique categories\n",
    "        if len(list(app_train[col].unique())) <= 2:\n",
    "            # Train on the training data\n",
    "            le.fit(app_train[col])\n",
    "            # Transform both training and testing data\n",
    "            app_train[col] = le.transform(app_train[col])\n",
    "            app_test[col] = le.transform(app_test[col])\n",
    "\n",
    "            # Keep track of how many columns were label encoded\n",
    "            le_count += 1\n",
    "\n",
    "print('%d columns were label encoded' % le_count)"
   ],
   "metadata": {
    "collapsed": false
   }
  },
  {
   "cell_type": "code",
   "execution_count": 16,
   "outputs": [
    {
     "name": "stdout",
     "output_type": "stream",
     "text": [
      "Training Features shape:  (307511, 243)\n",
      "Testing Features shape:  (48744, 239)\n"
     ]
    }
   ],
   "source": [
    "# one-hot encoding of categorical variables\n",
    "app_train = pd.get_dummies(app_train)\n",
    "app_test = pd.get_dummies(app_test)\n",
    "\n",
    "print('Training Features shape: ', app_train.shape)\n",
    "print('Testing Features shape: ', app_test.shape)"
   ],
   "metadata": {
    "collapsed": false
   }
  },
  {
   "cell_type": "markdown",
   "source": [
    "### Aligning Training and Testing Data"
   ],
   "metadata": {
    "collapsed": false
   }
  },
  {
   "cell_type": "code",
   "execution_count": null,
   "outputs": [],
   "source": [],
   "metadata": {
    "collapsed": false
   }
  },
  {
   "cell_type": "code",
   "execution_count": null,
   "outputs": [],
   "source": [],
   "metadata": {
    "collapsed": false
   }
  }
 ],
 "metadata": {
  "kernelspec": {
   "display_name": "Python 3",
   "language": "python",
   "name": "python3"
  },
  "language_info": {
   "codemirror_mode": {
    "name": "ipython",
    "version": 2
   },
   "file_extension": ".py",
   "mimetype": "text/x-python",
   "name": "python",
   "nbconvert_exporter": "python",
   "pygments_lexer": "ipython2",
   "version": "2.7.6"
  }
 },
 "nbformat": 4,
 "nbformat_minor": 0
}
