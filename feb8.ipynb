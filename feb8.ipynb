{
 "cells": [
  {
   "cell_type": "code",
   "execution_count": 20,
   "id": "initial_id",
   "metadata": {
    "collapsed": true,
    "ExecuteTime": {
     "end_time": "2024-02-08T11:02:59.733429Z",
     "start_time": "2024-02-08T11:02:59.723590Z"
    }
   },
   "outputs": [],
   "source": [
    "import pandas as pd"
   ]
  },
  {
   "cell_type": "code",
   "outputs": [],
   "source": [
    "autos = pd.read_csv(\"/Users/jihunkang/My Drive/Colab Notebooks/datasets/vehicles.csv\", low_memory=False)"
   ],
   "metadata": {
    "collapsed": false,
    "ExecuteTime": {
     "end_time": "2024-02-08T11:03:00.288791Z",
     "start_time": "2024-02-08T11:02:59.871471Z"
    }
   },
   "id": "46327c86e9c3b9e3",
   "execution_count": 21
  },
  {
   "cell_type": "code",
   "outputs": [
    {
     "data": {
      "text/plain": "       barrels08  barrelsA08  charge120  charge240  city08  city08U  cityA08  \\\n0      14.167143         0.0        0.0        0.0      19      0.0        0   \n1      27.046364         0.0        0.0        0.0       9      0.0        0   \n2      11.018889         0.0        0.0        0.0      23      0.0        0   \n3      27.046364         0.0        0.0        0.0      10      0.0        0   \n4      15.658421         0.0        0.0        0.0      17      0.0        0   \n...          ...         ...        ...        ...     ...      ...      ...   \n47070  13.523182         0.0        0.0        0.0      19      0.0        0   \n47071  12.935217         0.0        0.0        0.0      20      0.0        0   \n47072  14.167143         0.0        0.0        0.0      18      0.0        0   \n47073  14.167143         0.0        0.0        0.0      18      0.0        0   \n47074  16.528333         0.0        0.0        0.0      16      0.0        0   \n\n       cityA08U  cityCD  cityE  ...  mfrCode  c240Dscr  charge240b  c240bDscr  \\\n0           0.0     0.0    0.0  ...      NaN       NaN         0.0        NaN   \n1           0.0     0.0    0.0  ...      NaN       NaN         0.0        NaN   \n2           0.0     0.0    0.0  ...      NaN       NaN         0.0        NaN   \n3           0.0     0.0    0.0  ...      NaN       NaN         0.0        NaN   \n4           0.0     0.0    0.0  ...      NaN       NaN         0.0        NaN   \n...         ...     ...    ...  ...      ...       ...         ...        ...   \n47070       0.0     0.0    0.0  ...      NaN       NaN         0.0        NaN   \n47071       0.0     0.0    0.0  ...      NaN       NaN         0.0        NaN   \n47072       0.0     0.0    0.0  ...      NaN       NaN         0.0        NaN   \n47073       0.0     0.0    0.0  ...      NaN       NaN         0.0        NaN   \n47074       0.0     0.0    0.0  ...      NaN       NaN         0.0        NaN   \n\n                          createdOn                    modifiedOn  startStop  \\\n0      Tue Jan 01 00:00:00 EST 2013  Tue Jan 01 00:00:00 EST 2013        NaN   \n1      Tue Jan 01 00:00:00 EST 2013  Tue Jan 01 00:00:00 EST 2013        NaN   \n2      Tue Jan 01 00:00:00 EST 2013  Tue Jan 01 00:00:00 EST 2013        NaN   \n3      Tue Jan 01 00:00:00 EST 2013  Tue Jan 01 00:00:00 EST 2013        NaN   \n4      Tue Jan 01 00:00:00 EST 2013  Tue Jan 01 00:00:00 EST 2013        NaN   \n...                             ...                           ...        ...   \n47070  Tue Jan 01 00:00:00 EST 2013  Tue Jan 01 00:00:00 EST 2013        NaN   \n47071  Tue Jan 01 00:00:00 EST 2013  Tue Jan 01 00:00:00 EST 2013        NaN   \n47072  Tue Jan 01 00:00:00 EST 2013  Tue Jan 01 00:00:00 EST 2013        NaN   \n47073  Tue Jan 01 00:00:00 EST 2013  Tue Jan 01 00:00:00 EST 2013        NaN   \n47074  Tue Jan 01 00:00:00 EST 2013  Tue Jan 01 00:00:00 EST 2013        NaN   \n\n       phevCity  phevHwy  phevComb  \n0             0        0         0  \n1             0        0         0  \n2             0        0         0  \n3             0        0         0  \n4             0        0         0  \n...         ...      ...       ...  \n47070         0        0         0  \n47071         0        0         0  \n47072         0        0         0  \n47073         0        0         0  \n47074         0        0         0  \n\n[47075 rows x 84 columns]",
      "text/html": "<div>\n<style scoped>\n    .dataframe tbody tr th:only-of-type {\n        vertical-align: middle;\n    }\n\n    .dataframe tbody tr th {\n        vertical-align: top;\n    }\n\n    .dataframe thead th {\n        text-align: right;\n    }\n</style>\n<table border=\"1\" class=\"dataframe\">\n  <thead>\n    <tr style=\"text-align: right;\">\n      <th></th>\n      <th>barrels08</th>\n      <th>barrelsA08</th>\n      <th>charge120</th>\n      <th>charge240</th>\n      <th>city08</th>\n      <th>city08U</th>\n      <th>cityA08</th>\n      <th>cityA08U</th>\n      <th>cityCD</th>\n      <th>cityE</th>\n      <th>...</th>\n      <th>mfrCode</th>\n      <th>c240Dscr</th>\n      <th>charge240b</th>\n      <th>c240bDscr</th>\n      <th>createdOn</th>\n      <th>modifiedOn</th>\n      <th>startStop</th>\n      <th>phevCity</th>\n      <th>phevHwy</th>\n      <th>phevComb</th>\n    </tr>\n  </thead>\n  <tbody>\n    <tr>\n      <th>0</th>\n      <td>14.167143</td>\n      <td>0.0</td>\n      <td>0.0</td>\n      <td>0.0</td>\n      <td>19</td>\n      <td>0.0</td>\n      <td>0</td>\n      <td>0.0</td>\n      <td>0.0</td>\n      <td>0.0</td>\n      <td>...</td>\n      <td>NaN</td>\n      <td>NaN</td>\n      <td>0.0</td>\n      <td>NaN</td>\n      <td>Tue Jan 01 00:00:00 EST 2013</td>\n      <td>Tue Jan 01 00:00:00 EST 2013</td>\n      <td>NaN</td>\n      <td>0</td>\n      <td>0</td>\n      <td>0</td>\n    </tr>\n    <tr>\n      <th>1</th>\n      <td>27.046364</td>\n      <td>0.0</td>\n      <td>0.0</td>\n      <td>0.0</td>\n      <td>9</td>\n      <td>0.0</td>\n      <td>0</td>\n      <td>0.0</td>\n      <td>0.0</td>\n      <td>0.0</td>\n      <td>...</td>\n      <td>NaN</td>\n      <td>NaN</td>\n      <td>0.0</td>\n      <td>NaN</td>\n      <td>Tue Jan 01 00:00:00 EST 2013</td>\n      <td>Tue Jan 01 00:00:00 EST 2013</td>\n      <td>NaN</td>\n      <td>0</td>\n      <td>0</td>\n      <td>0</td>\n    </tr>\n    <tr>\n      <th>2</th>\n      <td>11.018889</td>\n      <td>0.0</td>\n      <td>0.0</td>\n      <td>0.0</td>\n      <td>23</td>\n      <td>0.0</td>\n      <td>0</td>\n      <td>0.0</td>\n      <td>0.0</td>\n      <td>0.0</td>\n      <td>...</td>\n      <td>NaN</td>\n      <td>NaN</td>\n      <td>0.0</td>\n      <td>NaN</td>\n      <td>Tue Jan 01 00:00:00 EST 2013</td>\n      <td>Tue Jan 01 00:00:00 EST 2013</td>\n      <td>NaN</td>\n      <td>0</td>\n      <td>0</td>\n      <td>0</td>\n    </tr>\n    <tr>\n      <th>3</th>\n      <td>27.046364</td>\n      <td>0.0</td>\n      <td>0.0</td>\n      <td>0.0</td>\n      <td>10</td>\n      <td>0.0</td>\n      <td>0</td>\n      <td>0.0</td>\n      <td>0.0</td>\n      <td>0.0</td>\n      <td>...</td>\n      <td>NaN</td>\n      <td>NaN</td>\n      <td>0.0</td>\n      <td>NaN</td>\n      <td>Tue Jan 01 00:00:00 EST 2013</td>\n      <td>Tue Jan 01 00:00:00 EST 2013</td>\n      <td>NaN</td>\n      <td>0</td>\n      <td>0</td>\n      <td>0</td>\n    </tr>\n    <tr>\n      <th>4</th>\n      <td>15.658421</td>\n      <td>0.0</td>\n      <td>0.0</td>\n      <td>0.0</td>\n      <td>17</td>\n      <td>0.0</td>\n      <td>0</td>\n      <td>0.0</td>\n      <td>0.0</td>\n      <td>0.0</td>\n      <td>...</td>\n      <td>NaN</td>\n      <td>NaN</td>\n      <td>0.0</td>\n      <td>NaN</td>\n      <td>Tue Jan 01 00:00:00 EST 2013</td>\n      <td>Tue Jan 01 00:00:00 EST 2013</td>\n      <td>NaN</td>\n      <td>0</td>\n      <td>0</td>\n      <td>0</td>\n    </tr>\n    <tr>\n      <th>...</th>\n      <td>...</td>\n      <td>...</td>\n      <td>...</td>\n      <td>...</td>\n      <td>...</td>\n      <td>...</td>\n      <td>...</td>\n      <td>...</td>\n      <td>...</td>\n      <td>...</td>\n      <td>...</td>\n      <td>...</td>\n      <td>...</td>\n      <td>...</td>\n      <td>...</td>\n      <td>...</td>\n      <td>...</td>\n      <td>...</td>\n      <td>...</td>\n      <td>...</td>\n      <td>...</td>\n    </tr>\n    <tr>\n      <th>47070</th>\n      <td>13.523182</td>\n      <td>0.0</td>\n      <td>0.0</td>\n      <td>0.0</td>\n      <td>19</td>\n      <td>0.0</td>\n      <td>0</td>\n      <td>0.0</td>\n      <td>0.0</td>\n      <td>0.0</td>\n      <td>...</td>\n      <td>NaN</td>\n      <td>NaN</td>\n      <td>0.0</td>\n      <td>NaN</td>\n      <td>Tue Jan 01 00:00:00 EST 2013</td>\n      <td>Tue Jan 01 00:00:00 EST 2013</td>\n      <td>NaN</td>\n      <td>0</td>\n      <td>0</td>\n      <td>0</td>\n    </tr>\n    <tr>\n      <th>47071</th>\n      <td>12.935217</td>\n      <td>0.0</td>\n      <td>0.0</td>\n      <td>0.0</td>\n      <td>20</td>\n      <td>0.0</td>\n      <td>0</td>\n      <td>0.0</td>\n      <td>0.0</td>\n      <td>0.0</td>\n      <td>...</td>\n      <td>NaN</td>\n      <td>NaN</td>\n      <td>0.0</td>\n      <td>NaN</td>\n      <td>Tue Jan 01 00:00:00 EST 2013</td>\n      <td>Tue Jan 01 00:00:00 EST 2013</td>\n      <td>NaN</td>\n      <td>0</td>\n      <td>0</td>\n      <td>0</td>\n    </tr>\n    <tr>\n      <th>47072</th>\n      <td>14.167143</td>\n      <td>0.0</td>\n      <td>0.0</td>\n      <td>0.0</td>\n      <td>18</td>\n      <td>0.0</td>\n      <td>0</td>\n      <td>0.0</td>\n      <td>0.0</td>\n      <td>0.0</td>\n      <td>...</td>\n      <td>NaN</td>\n      <td>NaN</td>\n      <td>0.0</td>\n      <td>NaN</td>\n      <td>Tue Jan 01 00:00:00 EST 2013</td>\n      <td>Tue Jan 01 00:00:00 EST 2013</td>\n      <td>NaN</td>\n      <td>0</td>\n      <td>0</td>\n      <td>0</td>\n    </tr>\n    <tr>\n      <th>47073</th>\n      <td>14.167143</td>\n      <td>0.0</td>\n      <td>0.0</td>\n      <td>0.0</td>\n      <td>18</td>\n      <td>0.0</td>\n      <td>0</td>\n      <td>0.0</td>\n      <td>0.0</td>\n      <td>0.0</td>\n      <td>...</td>\n      <td>NaN</td>\n      <td>NaN</td>\n      <td>0.0</td>\n      <td>NaN</td>\n      <td>Tue Jan 01 00:00:00 EST 2013</td>\n      <td>Tue Jan 01 00:00:00 EST 2013</td>\n      <td>NaN</td>\n      <td>0</td>\n      <td>0</td>\n      <td>0</td>\n    </tr>\n    <tr>\n      <th>47074</th>\n      <td>16.528333</td>\n      <td>0.0</td>\n      <td>0.0</td>\n      <td>0.0</td>\n      <td>16</td>\n      <td>0.0</td>\n      <td>0</td>\n      <td>0.0</td>\n      <td>0.0</td>\n      <td>0.0</td>\n      <td>...</td>\n      <td>NaN</td>\n      <td>NaN</td>\n      <td>0.0</td>\n      <td>NaN</td>\n      <td>Tue Jan 01 00:00:00 EST 2013</td>\n      <td>Tue Jan 01 00:00:00 EST 2013</td>\n      <td>NaN</td>\n      <td>0</td>\n      <td>0</td>\n      <td>0</td>\n    </tr>\n  </tbody>\n</table>\n<p>47075 rows × 84 columns</p>\n</div>"
     },
     "execution_count": 22,
     "metadata": {},
     "output_type": "execute_result"
    }
   ],
   "source": [
    "autos"
   ],
   "metadata": {
    "collapsed": false,
    "ExecuteTime": {
     "end_time": "2024-02-08T11:03:00.323517Z",
     "start_time": "2024-02-08T11:03:00.291491Z"
    }
   },
   "id": "cd85fa3597a54376",
   "execution_count": 22
  },
  {
   "cell_type": "code",
   "outputs": [
    {
     "name": "stdout",
     "output_type": "stream",
     "text": [
      "<class 'pandas.core.frame.DataFrame'>\n",
      "RangeIndex: 47075 entries, 0 to 47074\n",
      "Data columns (total 84 columns):\n",
      " #   Column           Non-Null Count  Dtype  \n",
      "---  ------           --------------  -----  \n",
      " 0   barrels08        47075 non-null  float64\n",
      " 1   barrelsA08       47075 non-null  float64\n",
      " 2   charge120        47075 non-null  float64\n",
      " 3   charge240        47075 non-null  float64\n",
      " 4   city08           47075 non-null  int64  \n",
      " 5   city08U          47075 non-null  float64\n",
      " 6   cityA08          47075 non-null  int64  \n",
      " 7   cityA08U         47075 non-null  float64\n",
      " 8   cityCD           47075 non-null  float64\n",
      " 9   cityE            47075 non-null  float64\n",
      " 10  cityUF           47075 non-null  float64\n",
      " 11  co2              47075 non-null  int64  \n",
      " 12  co2A             47075 non-null  int64  \n",
      " 13  co2TailpipeAGpm  47075 non-null  float64\n",
      " 14  co2TailpipeGpm   47075 non-null  float64\n",
      " 15  comb08           47075 non-null  int64  \n",
      " 16  comb08U          47075 non-null  float64\n",
      " 17  combA08          47075 non-null  int64  \n",
      " 18  combA08U         47075 non-null  float64\n",
      " 19  combE            47075 non-null  float64\n",
      " 20  combinedCD       47075 non-null  float64\n",
      " 21  combinedUF       47075 non-null  float64\n",
      " 22  cylinders        46423 non-null  float64\n",
      " 23  displ            46425 non-null  float64\n",
      " 24  drive            45889 non-null  object \n",
      " 25  engId            47075 non-null  int64  \n",
      " 26  eng_dscr         29769 non-null  object \n",
      " 27  feScore          47075 non-null  int64  \n",
      " 28  fuelCost08       47075 non-null  int64  \n",
      " 29  fuelCostA08      47075 non-null  int64  \n",
      " 30  fuelType         47075 non-null  object \n",
      " 31  fuelType1        47075 non-null  object \n",
      " 32  ghgScore         47075 non-null  int64  \n",
      " 33  ghgScoreA        47075 non-null  int64  \n",
      " 34  highway08        47075 non-null  int64  \n",
      " 35  highway08U       47075 non-null  float64\n",
      " 36  highwayA08       47075 non-null  int64  \n",
      " 37  highwayA08U      47075 non-null  float64\n",
      " 38  highwayCD        47075 non-null  float64\n",
      " 39  highwayE         47075 non-null  float64\n",
      " 40  highwayUF        47075 non-null  float64\n",
      " 41  hlv              47075 non-null  int64  \n",
      " 42  hpv              47075 non-null  int64  \n",
      " 43  id               47075 non-null  int64  \n",
      " 44  lv2              47075 non-null  int64  \n",
      " 45  lv4              47075 non-null  int64  \n",
      " 46  make             47075 non-null  object \n",
      " 47  model            47075 non-null  object \n",
      " 48  mpgData          47075 non-null  object \n",
      " 49  phevBlended      47075 non-null  bool   \n",
      " 50  pv2              47075 non-null  int64  \n",
      " 51  pv4              47075 non-null  int64  \n",
      " 52  range            47075 non-null  int64  \n",
      " 53  rangeCity        47075 non-null  float64\n",
      " 54  rangeCityA       47075 non-null  float64\n",
      " 55  rangeHwy         47075 non-null  float64\n",
      " 56  rangeHwyA        47075 non-null  float64\n",
      " 57  trany            47064 non-null  object \n",
      " 58  UCity            47075 non-null  float64\n",
      " 59  UCityA           47075 non-null  float64\n",
      " 60  UHighway         47075 non-null  float64\n",
      " 61  UHighwayA        47075 non-null  float64\n",
      " 62  VClass           47075 non-null  object \n",
      " 63  year             47075 non-null  int64  \n",
      " 64  youSaveSpend     47075 non-null  int64  \n",
      " 65  baseModel        47075 non-null  object \n",
      " 66  guzzler          2753 non-null   object \n",
      " 67  trans_dscr       15044 non-null  object \n",
      " 68  tCharger         10121 non-null  object \n",
      " 69  sCharger         1003 non-null   object \n",
      " 70  atvType          5096 non-null   object \n",
      " 71  fuelType2        1891 non-null   object \n",
      " 72  rangeA           1886 non-null   object \n",
      " 73  evMotor          2217 non-null   object \n",
      " 74  mfrCode          16267 non-null  object \n",
      " 75  c240Dscr         141 non-null    object \n",
      " 76  charge240b       47075 non-null  float64\n",
      " 77  c240bDscr        135 non-null    object \n",
      " 78  createdOn        47075 non-null  object \n",
      " 79  modifiedOn       47075 non-null  object \n",
      " 80  startStop        15386 non-null  object \n",
      " 81  phevCity         47075 non-null  int64  \n",
      " 82  phevHwy          47075 non-null  int64  \n",
      " 83  phevComb         47075 non-null  int64  \n",
      "dtypes: bool(1), float64(32), int64(27), object(24)\n",
      "memory usage: 29.9+ MB\n"
     ]
    }
   ],
   "source": [
    "autos.info()"
   ],
   "metadata": {
    "collapsed": false,
    "ExecuteTime": {
     "end_time": "2024-02-08T11:03:03.522266Z",
     "start_time": "2024-02-08T11:03:03.413943Z"
    }
   },
   "id": "1b6e4677dd7b208c",
   "execution_count": 23
  },
  {
   "cell_type": "code",
   "outputs": [],
   "source": [],
   "metadata": {
    "collapsed": false
   },
   "id": "b73ff205ddde1ce9"
  },
  {
   "cell_type": "code",
   "outputs": [],
   "source": [],
   "metadata": {
    "collapsed": false
   },
   "id": "79afc651222c1681"
  },
  {
   "cell_type": "code",
   "outputs": [],
   "source": [],
   "metadata": {
    "collapsed": false
   },
   "id": "f8a800b8901c9094"
  },
  {
   "cell_type": "code",
   "outputs": [],
   "source": [],
   "metadata": {
    "collapsed": false
   },
   "id": "9534999e70633270"
  },
  {
   "cell_type": "code",
   "outputs": [],
   "source": [],
   "metadata": {
    "collapsed": false
   },
   "id": "577fccb522c9df40"
  },
  {
   "cell_type": "code",
   "outputs": [],
   "source": [],
   "metadata": {
    "collapsed": false
   },
   "id": "d2095d212bdaa99"
  },
  {
   "cell_type": "code",
   "outputs": [],
   "source": [],
   "metadata": {
    "collapsed": false
   },
   "id": "5edad9e1391fd1ec"
  },
  {
   "cell_type": "code",
   "outputs": [],
   "source": [],
   "metadata": {
    "collapsed": false
   },
   "id": "5a15d5e3c29dff84"
  },
  {
   "cell_type": "code",
   "outputs": [],
   "source": [],
   "metadata": {
    "collapsed": false
   },
   "id": "d84989f923d87d44"
  },
  {
   "cell_type": "code",
   "outputs": [],
   "source": [],
   "metadata": {
    "collapsed": false
   },
   "id": "6b3f8e8d13725683"
  },
  {
   "cell_type": "code",
   "outputs": [],
   "source": [],
   "metadata": {
    "collapsed": false
   },
   "id": "ed8f796094b3c16b"
  },
  {
   "cell_type": "code",
   "outputs": [],
   "source": [],
   "metadata": {
    "collapsed": false
   },
   "id": "22ec64faeda76020"
  },
  {
   "cell_type": "code",
   "outputs": [],
   "source": [],
   "metadata": {
    "collapsed": false
   },
   "id": "e20cc3a3bd9c463a"
  },
  {
   "cell_type": "code",
   "outputs": [],
   "source": [],
   "metadata": {
    "collapsed": false
   },
   "id": "3b168ad315001b4a"
  },
  {
   "cell_type": "code",
   "outputs": [],
   "source": [],
   "metadata": {
    "collapsed": false
   },
   "id": "66a275a76b37e7cd"
  },
  {
   "cell_type": "code",
   "outputs": [],
   "source": [],
   "metadata": {
    "collapsed": false
   },
   "id": "ec4d63a423a6fe4c"
  },
  {
   "cell_type": "code",
   "outputs": [],
   "source": [],
   "metadata": {
    "collapsed": false
   },
   "id": "255e15c8e78267ea"
  }
 ],
 "metadata": {
  "kernelspec": {
   "display_name": "Python 3",
   "language": "python",
   "name": "python3"
  },
  "language_info": {
   "codemirror_mode": {
    "name": "ipython",
    "version": 2
   },
   "file_extension": ".py",
   "mimetype": "text/x-python",
   "name": "python",
   "nbconvert_exporter": "python",
   "pygments_lexer": "ipython2",
   "version": "2.7.6"
  }
 },
 "nbformat": 4,
 "nbformat_minor": 5
}
