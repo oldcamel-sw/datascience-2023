{
 "cells": [
  {
   "cell_type": "markdown",
   "id": "d698cf4a",
   "metadata": {
    "toc": true
   },
   "source": [
    "<h1>Table of Contents<span class=\"tocSkip\"></span></h1>\n",
    "<div class=\"toc\"><ul class=\"toc-item\"><li><span><a href=\"#일표본-t-test\" data-toc-modified-id=\"일표본-t-test-1\"><span class=\"toc-item-num\">1&nbsp;&nbsp;</span>일표본 t-test</a></span></li><li><span><a href=\"#대응표본-t-test\" data-toc-modified-id=\"대응표본-t-test-2\"><span class=\"toc-item-num\">2&nbsp;&nbsp;</span>대응표본 t-test</a></span></li><li><span><a href=\"#독립표본-t-test\" data-toc-modified-id=\"독립표본-t-test-3\"><span class=\"toc-item-num\">3&nbsp;&nbsp;</span>독립표본 t-test</a></span></li></ul></div>"
   ]
  },
  {
   "cell_type": "markdown",
   "id": "8c06e962",
   "metadata": {},
   "source": [
    "# 일표본 t-test"
   ]
  },
  {
   "cell_type": "markdown",
   "id": "450b366f",
   "metadata": {},
   "source": [
    " cats 데이터에서 고양이들의 평균몸무게가 2.6kg인지 아닌지 통계적 검정을 수행하고, 결과를 해석해보자(양측검정, 유의수준 : 0.05)."
   ]
  },
  {
   "cell_type": "code",
   "execution_count": 1,
   "id": "dfdd408e",
   "metadata": {
    "scrolled": true
   },
   "outputs": [
    {
     "data": {
      "text/html": [
       "<div>\n",
       "<style scoped>\n",
       "    .dataframe tbody tr th:only-of-type {\n",
       "        vertical-align: middle;\n",
       "    }\n",
       "\n",
       "    .dataframe tbody tr th {\n",
       "        vertical-align: top;\n",
       "    }\n",
       "\n",
       "    .dataframe thead th {\n",
       "        text-align: right;\n",
       "    }\n",
       "</style>\n",
       "<table border=\"1\" class=\"dataframe\">\n",
       "  <thead>\n",
       "    <tr style=\"text-align: right;\">\n",
       "      <th></th>\n",
       "      <th>Sex</th>\n",
       "      <th>Bwt</th>\n",
       "      <th>Hwt</th>\n",
       "    </tr>\n",
       "  </thead>\n",
       "  <tbody>\n",
       "    <tr>\n",
       "      <th>0</th>\n",
       "      <td>F</td>\n",
       "      <td>2.0</td>\n",
       "      <td>7.0</td>\n",
       "    </tr>\n",
       "    <tr>\n",
       "      <th>1</th>\n",
       "      <td>F</td>\n",
       "      <td>2.0</td>\n",
       "      <td>7.4</td>\n",
       "    </tr>\n",
       "    <tr>\n",
       "      <th>2</th>\n",
       "      <td>F</td>\n",
       "      <td>2.0</td>\n",
       "      <td>9.5</td>\n",
       "    </tr>\n",
       "    <tr>\n",
       "      <th>3</th>\n",
       "      <td>F</td>\n",
       "      <td>2.1</td>\n",
       "      <td>7.2</td>\n",
       "    </tr>\n",
       "    <tr>\n",
       "      <th>4</th>\n",
       "      <td>F</td>\n",
       "      <td>2.1</td>\n",
       "      <td>7.3</td>\n",
       "    </tr>\n",
       "    <tr>\n",
       "      <th>...</th>\n",
       "      <td>...</td>\n",
       "      <td>...</td>\n",
       "      <td>...</td>\n",
       "    </tr>\n",
       "    <tr>\n",
       "      <th>139</th>\n",
       "      <td>M</td>\n",
       "      <td>3.7</td>\n",
       "      <td>11.0</td>\n",
       "    </tr>\n",
       "    <tr>\n",
       "      <th>140</th>\n",
       "      <td>M</td>\n",
       "      <td>3.8</td>\n",
       "      <td>14.8</td>\n",
       "    </tr>\n",
       "    <tr>\n",
       "      <th>141</th>\n",
       "      <td>M</td>\n",
       "      <td>3.8</td>\n",
       "      <td>16.8</td>\n",
       "    </tr>\n",
       "    <tr>\n",
       "      <th>142</th>\n",
       "      <td>M</td>\n",
       "      <td>3.9</td>\n",
       "      <td>14.4</td>\n",
       "    </tr>\n",
       "    <tr>\n",
       "      <th>143</th>\n",
       "      <td>M</td>\n",
       "      <td>3.9</td>\n",
       "      <td>20.5</td>\n",
       "    </tr>\n",
       "  </tbody>\n",
       "</table>\n",
       "<p>144 rows × 3 columns</p>\n",
       "</div>"
      ],
      "text/plain": [
       "    Sex  Bwt   Hwt\n",
       "0     F  2.0   7.0\n",
       "1     F  2.0   7.4\n",
       "2     F  2.0   9.5\n",
       "3     F  2.1   7.2\n",
       "4     F  2.1   7.3\n",
       "..   ..  ...   ...\n",
       "139   M  3.7  11.0\n",
       "140   M  3.8  14.8\n",
       "141   M  3.8  16.8\n",
       "142   M  3.9  14.4\n",
       "143   M  3.9  20.5\n",
       "\n",
       "[144 rows x 3 columns]"
      ]
     },
     "execution_count": 1,
     "metadata": {},
     "output_type": "execute_result"
    }
   ],
   "source": [
    "import pandas as pd\n",
    "cats=pd.read_csv('../data/cats.csv')\n",
    "cats\n"
   ]
  },
  {
   "cell_type": "markdown",
   "id": "fe195806",
   "metadata": {},
   "source": [
    "Bwt 컬럼은 고양이의 몸무게를 의미하고, Hwt는 고양이의 길이를 의미한다. \n",
    "cats의 데이터의 정보를 info로 확인해준다. "
   ]
  },
  {
   "cell_type": "code",
   "execution_count": 2,
   "id": "80c4ffec",
   "metadata": {},
   "outputs": [
    {
     "name": "stdout",
     "output_type": "stream",
     "text": [
      "<class 'pandas.core.frame.DataFrame'>\n",
      "RangeIndex: 144 entries, 0 to 143\n",
      "Data columns (total 3 columns):\n",
      " #   Column  Non-Null Count  Dtype  \n",
      "---  ------  --------------  -----  \n",
      " 0   Sex     144 non-null    object \n",
      " 1   Bwt     144 non-null    float64\n",
      " 2   Hwt     144 non-null    float64\n",
      "dtypes: float64(2), object(1)\n",
      "memory usage: 3.5+ KB\n"
     ]
    }
   ],
   "source": [
    "cats.info()"
   ]
  },
  {
   "cell_type": "markdown",
   "id": "ebb8a0a8",
   "metadata": {},
   "source": [
    "shapiro test를 통해 데이터의 정규성을 검정한다. 고양이의 몸무게를 검정하므로 고양이의 몸무게만 추출하여 shapiro test를 진행해야 한다. "
   ]
  },
  {
   "cell_type": "code",
   "execution_count": 3,
   "id": "04e61ead",
   "metadata": {},
   "outputs": [
    {
     "data": {
      "text/plain": [
       "ShapiroResult(statistic=0.9518786668777466, pvalue=6.730248423991725e-05)"
      ]
     },
     "execution_count": 3,
     "metadata": {},
     "output_type": "execute_result"
    }
   ],
   "source": [
    "import scipy.stats as stats\n",
    "from scipy.stats import shapiro\n",
    "mu =2.6\n",
    "shapiro(cats['Bwt'])\n"
   ]
  },
  {
   "cell_type": "markdown",
   "id": "095c09a2",
   "metadata": {},
   "source": [
    "[결과해석]\n",
    "첫번째 값 (검정통계치) : 0.95187\n",
    "두번째 값 (p-value) : 6.730e-05\n",
    "유의수준보다 작으므로 '데이터가 정규분포를 따른다'는 귀무가설을 기각한다. 즉, cats 데이이터의 Bwt 변수는 정규분포를 따르지 않는다. 데이터가 정규분포를 따르지 않으므로 wilcox test 로 t-test를 진행한다. 만약, 정규분포를 따른다면 stats.ttest_1samp(cats.Bwt, popmean=mu)를 사용하면 된다. "
   ]
  },
  {
   "cell_type": "code",
   "execution_count": 4,
   "id": "1f90d539",
   "metadata": {},
   "outputs": [
    {
     "data": {
      "text/plain": [
       "WilcoxonResult(statistic=3573.0, pvalue=0.02524520294814093)"
      ]
     },
     "execution_count": 4,
     "metadata": {},
     "output_type": "execute_result"
    }
   ],
   "source": [
    "stats.wilcoxon(cats.Bwt - mu , alternative='two-sided')"
   ]
  },
  {
   "cell_type": "code",
   "execution_count": 5,
   "id": "7026ec8d",
   "metadata": {},
   "outputs": [
    {
     "data": {
      "text/plain": [
       "Text(0, 0.5, 'Count')"
      ]
     },
     "execution_count": 5,
     "metadata": {},
     "output_type": "execute_result"
    },
    {
     "data": {
      "image/png": "[encoded data removed]",
      "text/plain": [
       "<Figure size 432x288 with 1 Axes>"
      ]
     },
     "metadata": {
      "needs_background": "light"
     },
     "output_type": "display_data"
    }
   ],
   "source": [
    "import matplotlib.pyplot as plt\n",
    "cats_Bwt_cnt = pd.value_counts(cats['Bwt'].values, sort=False)\n",
    "width =0.4\n",
    "plt.bar(cats_Bwt_cnt.index, cats_Bwt_cnt.values,width)\n",
    "plt.title('Bwt')\n",
    "plt.ylabel('Count')\n"
   ]
  },
  {
   "cell_type": "markdown",
   "id": "827d9c3f",
   "metadata": {},
   "source": [
    "# 대응표본 t-test\n",
    "\n",
    "10명의 환자 대상 수면영양제 복용 전과 후의 수면시간을 측정하였다.  \n",
    "영양제의 효과가 있는지를 판단해보자. "
   ]
  },
  {
   "cell_type": "code",
   "execution_count": 6,
   "id": "aa6dd71c",
   "metadata": {},
   "outputs": [
    {
     "data": {
      "text/html": [
       "<div>\n",
       "<style scoped>\n",
       "    .dataframe tbody tr th:only-of-type {\n",
       "        vertical-align: middle;\n",
       "    }\n",
       "\n",
       "    .dataframe tbody tr th {\n",
       "        vertical-align: top;\n",
       "    }\n",
       "\n",
       "    .dataframe thead th {\n",
       "        text-align: right;\n",
       "    }\n",
       "</style>\n",
       "<table border=\"1\" class=\"dataframe\">\n",
       "  <thead>\n",
       "    <tr style=\"text-align: right;\">\n",
       "      <th></th>\n",
       "      <th>before</th>\n",
       "      <th>after</th>\n",
       "    </tr>\n",
       "  </thead>\n",
       "  <tbody>\n",
       "    <tr>\n",
       "      <th>0</th>\n",
       "      <td>7</td>\n",
       "      <td>8</td>\n",
       "    </tr>\n",
       "    <tr>\n",
       "      <th>1</th>\n",
       "      <td>3</td>\n",
       "      <td>4</td>\n",
       "    </tr>\n",
       "    <tr>\n",
       "      <th>2</th>\n",
       "      <td>4</td>\n",
       "      <td>5</td>\n",
       "    </tr>\n",
       "    <tr>\n",
       "      <th>3</th>\n",
       "      <td>5</td>\n",
       "      <td>6</td>\n",
       "    </tr>\n",
       "    <tr>\n",
       "      <th>4</th>\n",
       "      <td>2</td>\n",
       "      <td>2</td>\n",
       "    </tr>\n",
       "    <tr>\n",
       "      <th>5</th>\n",
       "      <td>1</td>\n",
       "      <td>3</td>\n",
       "    </tr>\n",
       "    <tr>\n",
       "      <th>6</th>\n",
       "      <td>6</td>\n",
       "      <td>6</td>\n",
       "    </tr>\n",
       "    <tr>\n",
       "      <th>7</th>\n",
       "      <td>6</td>\n",
       "      <td>8</td>\n",
       "    </tr>\n",
       "    <tr>\n",
       "      <th>8</th>\n",
       "      <td>5</td>\n",
       "      <td>6</td>\n",
       "    </tr>\n",
       "    <tr>\n",
       "      <th>9</th>\n",
       "      <td>4</td>\n",
       "      <td>5</td>\n",
       "    </tr>\n",
       "  </tbody>\n",
       "</table>\n",
       "</div>"
      ],
      "text/plain": [
       "   before  after\n",
       "0       7      8\n",
       "1       3      4\n",
       "2       4      5\n",
       "3       5      6\n",
       "4       2      2\n",
       "5       1      3\n",
       "6       6      6\n",
       "7       6      8\n",
       "8       5      6\n",
       "9       4      5"
      ]
     },
     "execution_count": 6,
     "metadata": {},
     "output_type": "execute_result"
    }
   ],
   "source": [
    "# 데이터 불러오기 및 확인 \n",
    "import pandas as pd \n",
    "data = {'before':[7,3,4,5,2,1,6,6,5,4],\n",
    "       'after':[8,4,5,6,2,3,6,8,6,5]}\n",
    "data = pd.DataFrame(data)\n",
    "data\n"
   ]
  },
  {
   "cell_type": "markdown",
   "id": "565d698c",
   "metadata": {},
   "source": [
    "해당 데이터를 검정하기 위한 가설 수립한다.  <br> <br>\n",
    "귀무가설(H0) <br>\n",
    "수면제 복용 전과 후의 수면시간 차이는 없다. <br>\n",
    "대립가설(H1)<br>\n",
    "수면제 복용 전과 후의 수면시간 차이는 있다. <br>\n"
   ]
  },
  {
   "cell_type": "code",
   "execution_count": 7,
   "id": "d9df3862",
   "metadata": {},
   "outputs": [
    {
     "data": {
      "text/plain": [
       "Ttest_relResult(statistic=4.743416490252569, pvalue=0.0005269356285082765)"
      ]
     },
     "execution_count": 7,
     "metadata": {},
     "output_type": "execute_result"
    }
   ],
   "source": [
    "stats.ttest_rel(data['after'],data['before'],alternative='greater')"
   ]
  },
  {
   "cell_type": "code",
   "execution_count": 8,
   "id": "79250a8d",
   "metadata": {},
   "outputs": [
    {
     "data": {
      "text/plain": [
       "before    4.3\n",
       "after     5.3\n",
       "dtype: float64"
      ]
     },
     "execution_count": 8,
     "metadata": {},
     "output_type": "execute_result"
    }
   ],
   "source": [
    "data.mean()"
   ]
  },
  {
   "cell_type": "markdown",
   "id": "a93e9308",
   "metadata": {},
   "source": [
    "[결과해석]\n",
    "p-value가 유의수준보다 작으므로 '수면영양제를 복용하기 전과 후의 평균 수면시간의 차이는 통계적으로 유의하며, 영양제를 복용한 후 수면시간이 늘었다'는 결론을 낼 수 있다. "
   ]
  },
  {
   "cell_type": "markdown",
   "id": "454e50fb",
   "metadata": {},
   "source": [
    "# 독립표본 t-test"
   ]
  },
  {
   "cell_type": "code",
   "execution_count": 9,
   "id": "5d65b4f1",
   "metadata": {},
   "outputs": [
    {
     "data": {
      "text/plain": [
       "LeveneResult(statistic=19.43101190877999, pvalue=2.0435285255189404e-05)"
      ]
     },
     "execution_count": 9,
     "metadata": {},
     "output_type": "execute_result"
    }
   ],
   "source": [
    "import pandas as pd\n",
    "cats=pd.read_csv('../data/cats.csv')\n",
    "\n",
    "female = cats.loc[cats.Sex =='F', 'Bwt']\n",
    "male = cats.loc[cats.Sex =='M', 'Bwt']\n",
    "stats.levene(female, male)\n"
   ]
  },
  {
   "cell_type": "code",
   "execution_count": 10,
   "id": "db35eebc",
   "metadata": {},
   "outputs": [
    {
     "data": {
      "text/plain": [
       "Ttest_indResult(statistic=-8.70948849909559, pvalue=8.831034455859356e-15)"
      ]
     },
     "execution_count": 10,
     "metadata": {},
     "output_type": "execute_result"
    }
   ],
   "source": [
    "stats.ttest_ind(female, male, equal_var=False)"
   ]
  },
  {
   "cell_type": "code",
   "execution_count": 11,
   "id": "23456b1d",
   "metadata": {},
   "outputs": [
    {
     "name": "stdout",
     "output_type": "stream",
     "text": [
      "2.359574468085107\n",
      "2.8999999999999995\n"
     ]
    }
   ],
   "source": [
    "print(female.mean())\n",
    "print(male.mean())\n"
   ]
  },
  {
   "cell_type": "code",
   "execution_count": 12,
   "id": "1efa5aaa",
   "metadata": {
    "scrolled": true
   },
   "outputs": [
    {
     "data": {
      "image/png": "[encoded data removed]",
      "text/plain": [
       "<Figure size 1440x360 with 2 Axes>"
      ]
     },
     "metadata": {
      "needs_background": "light"
     },
     "output_type": "display_data"
    }
   ],
   "source": [
    "female_Bwt_cnt = pd.value_counts(female.values, sort=False)\n",
    "male_Bwt_cnt = pd.value_counts(male.values, sort=False)\n",
    "fig, axs = plt.subplots(1, 2,figsize=(20,5))\n",
    "fig.suptitle('Bar plot')\n",
    "width =0.4\n",
    "axs[0].bar(female_Bwt_cnt.index, female_Bwt_cnt.values)\n",
    "axs[0].set_title('female_Bwt')\n",
    "axs[0].set_ylabel('Count')\n",
    "axs[1].bar(male_Bwt_cnt.index, male_Bwt_cnt.values)\n",
    "axs[1].set_title('male_Bwt')\n",
    "axs[1].set_ylabel('Count')\n",
    "plt.show()\n"
   ]
  },
  {
   "cell_type": "code",
   "execution_count": null,
   "id": "4d5ba7fb",
   "metadata": {},
   "outputs": [],
   "source": []
  },
  {
   "cell_type": "markdown",
   "id": "0fd90ff3-f1f0-4513-a391-1e38ec670cf6",
   "metadata": {
    "jp-MarkdownHeadingCollapsed": true,
    "toc": true
   },
   "source": [
    "<h1>Table of Contents<span class=\"tocSkip\"></span></h1>\n",
    "<div class=\"toc\"><ul class=\"toc-item\"><li><span><a href=\"#일원배치-분산분석\" data-toc-modified-id=\"일원배치-분산분석-1\"><span class=\"toc-item-num\">1&nbsp;&nbsp;</span>일원배치 분산분석</a></span></li><li><span><a href=\"#이원배치-분산분석\" data-toc-modified-id=\"이원배치-분산분석-2\"><span class=\"toc-item-num\">2&nbsp;&nbsp;</span>이원배치 분산분석</a></span></li></ul></div>"
   ]
  },
  {
   "cell_type": "markdown",
   "id": "98ccc11e-2b33-406c-b8be-2de375d22d42",
   "metadata": {},
   "source": [
    "# 일원배치 분산분석"
   ]
  },
  {
   "cell_type": "code",
   "execution_count": 1,
   "id": "2296e850-9d32-4bfd-8c44-6e0514a7bad3",
   "metadata": {},
   "outputs": [
    {
     "data": {
      "text/html": [
       "<div>\n",
       "<style scoped>\n",
       "    .dataframe tbody tr th:only-of-type {\n",
       "        vertical-align: middle;\n",
       "    }\n",
       "\n",
       "    .dataframe tbody tr th {\n",
       "        vertical-align: top;\n",
       "    }\n",
       "\n",
       "    .dataframe thead th {\n",
       "        text-align: right;\n",
       "    }\n",
       "</style>\n",
       "<table border=\"1\" class=\"dataframe\">\n",
       "  <thead>\n",
       "    <tr style=\"text-align: right;\">\n",
       "      <th></th>\n",
       "      <th>sepal length</th>\n",
       "      <th>sepal width</th>\n",
       "      <th>petal length</th>\n",
       "      <th>petal width</th>\n",
       "      <th>target</th>\n",
       "    </tr>\n",
       "  </thead>\n",
       "  <tbody>\n",
       "    <tr>\n",
       "      <th>0</th>\n",
       "      <td>5.1</td>\n",
       "      <td>3.5</td>\n",
       "      <td>1.4</td>\n",
       "      <td>0.2</td>\n",
       "      <td>Iris-setosa</td>\n",
       "    </tr>\n",
       "    <tr>\n",
       "      <th>1</th>\n",
       "      <td>4.9</td>\n",
       "      <td>3.0</td>\n",
       "      <td>1.4</td>\n",
       "      <td>0.2</td>\n",
       "      <td>Iris-setosa</td>\n",
       "    </tr>\n",
       "    <tr>\n",
       "      <th>2</th>\n",
       "      <td>4.7</td>\n",
       "      <td>3.2</td>\n",
       "      <td>1.3</td>\n",
       "      <td>0.2</td>\n",
       "      <td>Iris-setosa</td>\n",
       "    </tr>\n",
       "    <tr>\n",
       "      <th>3</th>\n",
       "      <td>4.6</td>\n",
       "      <td>3.1</td>\n",
       "      <td>1.5</td>\n",
       "      <td>0.2</td>\n",
       "      <td>Iris-setosa</td>\n",
       "    </tr>\n",
       "    <tr>\n",
       "      <th>4</th>\n",
       "      <td>5.0</td>\n",
       "      <td>3.6</td>\n",
       "      <td>1.4</td>\n",
       "      <td>0.2</td>\n",
       "      <td>Iris-setosa</td>\n",
       "    </tr>\n",
       "    <tr>\n",
       "      <th>...</th>\n",
       "      <td>...</td>\n",
       "      <td>...</td>\n",
       "      <td>...</td>\n",
       "      <td>...</td>\n",
       "      <td>...</td>\n",
       "    </tr>\n",
       "    <tr>\n",
       "      <th>95</th>\n",
       "      <td>5.7</td>\n",
       "      <td>3.0</td>\n",
       "      <td>4.2</td>\n",
       "      <td>1.2</td>\n",
       "      <td>Iris-versicolor</td>\n",
       "    </tr>\n",
       "    <tr>\n",
       "      <th>96</th>\n",
       "      <td>5.7</td>\n",
       "      <td>2.9</td>\n",
       "      <td>4.2</td>\n",
       "      <td>1.3</td>\n",
       "      <td>Iris-versicolor</td>\n",
       "    </tr>\n",
       "    <tr>\n",
       "      <th>97</th>\n",
       "      <td>6.2</td>\n",
       "      <td>2.9</td>\n",
       "      <td>4.3</td>\n",
       "      <td>1.3</td>\n",
       "      <td>Iris-versicolor</td>\n",
       "    </tr>\n",
       "    <tr>\n",
       "      <th>98</th>\n",
       "      <td>5.1</td>\n",
       "      <td>2.5</td>\n",
       "      <td>3.0</td>\n",
       "      <td>1.1</td>\n",
       "      <td>Iris-versicolor</td>\n",
       "    </tr>\n",
       "    <tr>\n",
       "      <th>99</th>\n",
       "      <td>5.7</td>\n",
       "      <td>2.8</td>\n",
       "      <td>4.1</td>\n",
       "      <td>1.3</td>\n",
       "      <td>Iris-versicolor</td>\n",
       "    </tr>\n",
       "  </tbody>\n",
       "</table>\n",
       "<p>100 rows × 5 columns</p>\n",
       "</div>"
      ],
      "text/plain": [
       "    sepal length  sepal width  petal length  petal width           target\n",
       "0            5.1          3.5           1.4          0.2      Iris-setosa\n",
       "1            4.9          3.0           1.4          0.2      Iris-setosa\n",
       "2            4.7          3.2           1.3          0.2      Iris-setosa\n",
       "3            4.6          3.1           1.5          0.2      Iris-setosa\n",
       "4            5.0          3.6           1.4          0.2      Iris-setosa\n",
       "..           ...          ...           ...          ...              ...\n",
       "95           5.7          3.0           4.2          1.2  Iris-versicolor\n",
       "96           5.7          2.9           4.2          1.3  Iris-versicolor\n",
       "97           6.2          2.9           4.3          1.3  Iris-versicolor\n",
       "98           5.1          2.5           3.0          1.1  Iris-versicolor\n",
       "99           5.7          2.8           4.1          1.3  Iris-versicolor\n",
       "\n",
       "[100 rows x 5 columns]"
      ]
     },
     "execution_count": 1,
     "metadata": {},
     "output_type": "execute_result"
    }
   ],
   "source": [
    "import scipy.stats as stats  \n",
    "import pandas as pd\n",
    "Iris_data = pd.read_csv(\"../data/iris.csv\")\n",
    "Iris_data.head(100)\n"
   ]
  },
  {
   "cell_type": "code",
   "execution_count": 2,
   "id": "7a9aef42-2764-40f2-8315-efc87f0922a8",
   "metadata": {},
   "outputs": [
    {
     "data": {
      "text/plain": [
       "array(['Iris-setosa', 'Iris-versicolor', 'Iris-virginica'], dtype=object)"
      ]
     },
     "execution_count": 2,
     "metadata": {},
     "output_type": "execute_result"
    }
   ],
   "source": [
    "Iris_data[\"target\"].unique()"
   ]
  },
  {
   "cell_type": "code",
   "execution_count": 3,
   "id": "868ff61f-e04c-4a0d-93d6-f6fbbc32f072",
   "metadata": {},
   "outputs": [
    {
     "data": {
      "text/plain": [
       "Iris-setosa        50\n",
       "Iris-versicolor    50\n",
       "Iris-virginica     50\n",
       "Name: target, dtype: int64"
      ]
     },
     "execution_count": 3,
     "metadata": {},
     "output_type": "execute_result"
    }
   ],
   "source": [
    "Iris_data.target.value_counts()"
   ]
  },
  {
   "cell_type": "code",
   "execution_count": 4,
   "id": "1f92647d-28b9-47a0-b72d-4a1628aaf22f",
   "metadata": {},
   "outputs": [
    {
     "name": "stdout",
     "output_type": "stream",
     "text": [
      "['Iris-setosa' 'Iris-versicolor' 'Iris-virginica']\n"
     ]
    }
   ],
   "source": [
    "target_list = Iris_data[\"target\"].unique()\n",
    "setosa = Iris_data[Iris_data[\"target\"]==target_list[0]][\"sepal width\"]\n",
    "versicolor = Iris_data[Iris_data[\"target\"]==target_list[1]][\"sepal width\"]\n",
    "virginica = Iris_data[Iris_data[\"target\"]==target_list[2]][\"sepal width\"]\n",
    "print(target_list)\n"
   ]
  },
  {
   "cell_type": "code",
   "execution_count": 5,
   "id": "8beccfec-443f-4025-b22a-cb6f3e67c33b",
   "metadata": {
    "scrolled": true
   },
   "outputs": [
    {
     "data": {
      "image/png": "[encoded data removed]",
      "text/plain": [
       "<Figure size 432x288 with 1 Axes>"
      ]
     },
     "metadata": {
      "needs_background": "light"
     },
     "output_type": "display_data"
    }
   ],
   "source": [
    "import seaborn as sns\n",
    "import matplotlib.pyplot as plt\n",
    "# Scatter plot by Groups\n",
    "sns.scatterplot(x='target', \n",
    "                y='sepal width', \n",
    "                hue='target', # different colors by group\n",
    "                style='target', # different shapes by group\n",
    "                s=100, # marker size\n",
    "                data=Iris_data)\n",
    "plt.show()\n"
   ]
  },
  {
   "cell_type": "code",
   "execution_count": 6,
   "id": "0a73552e-a7ac-4af8-b98f-b6cb3105ee65",
   "metadata": {},
   "outputs": [
    {
     "name": "stdout",
     "output_type": "stream",
     "text": [
      "ShapiroResult(statistic=0.968691885471344, pvalue=0.20465604960918427)\n",
      "ShapiroResult(statistic=0.9741330742835999, pvalue=0.33798879384994507)\n",
      "ShapiroResult(statistic=0.9673910140991211, pvalue=0.1809043288230896)\n"
     ]
    }
   ],
   "source": [
    "print(stats.shapiro(setosa))\n",
    "print(stats.shapiro(versicolor))\n",
    "print(stats.shapiro(virginica))\n"
   ]
  },
  {
   "cell_type": "code",
   "execution_count": 7,
   "id": "15197f3d-4890-4a9b-b772-f3f5e3e413e9",
   "metadata": {},
   "outputs": [
    {
     "data": {
      "text/plain": [
       "LeveneResult(statistic=0.6475222363405327, pvalue=0.5248269975064537)"
      ]
     },
     "execution_count": 7,
     "metadata": {},
     "output_type": "execute_result"
    }
   ],
   "source": [
    "stats.levene(setosa,versicolor,virginica)"
   ]
  },
  {
   "cell_type": "code",
   "execution_count": 8,
   "id": "124e65f9-e664-4c9c-8f39-e49ca9c96971",
   "metadata": {},
   "outputs": [
    {
     "data": {
      "text/plain": [
       "F_onewayResult(statistic=47.36446140299382, pvalue=1.3279165184572242e-16)"
      ]
     },
     "execution_count": 8,
     "metadata": {},
     "output_type": "execute_result"
    }
   ],
   "source": [
    "stats.f_oneway(setosa,versicolor,virginica)"
   ]
  },
  {
   "cell_type": "code",
   "execution_count": 9,
   "id": "10d2ce91-ddf7-4ff2-b9d0-a676b29b1a37",
   "metadata": {},
   "outputs": [
    {
     "name": "stderr",
     "output_type": "stream",
     "text": [
      "C:\\Users\\jjang\\anaconda3\\envs\\ADP_Class\\lib\\site-packages\\statsmodels\\sandbox\\stats\\multicomp.py:775: UserWarning: FixedFormatter should only be used together with FixedLocator\n",
      "  ax1.set_yticklabels(np.insert(self.groupsunique.astype(str), 0, ''))\n"
     ]
    },
    {
     "data": {
      "image/png": "[encoded data removed]",
      "text/plain": [
       "<Figure size 720x432 with 1 Axes>"
      ]
     },
     "metadata": {
      "needs_background": "light"
     },
     "output_type": "display_data"
    }
   ],
   "source": [
    "from statsmodels.stats.multicomp import pairwise_tukeyhsd\n",
    "from statsmodels.stats.multicomp import MultiComparison\n",
    "mc = MultiComparison(data= Iris_data[\"sepal width\"], groups=Iris_data[\"target\"] )\n",
    "tuekeyhsd = mc.tukeyhsd(alpha=0.05)\n",
    "fig = tuekeyhsd.plot_simultaneous()\n"
   ]
  },
  {
   "cell_type": "code",
   "execution_count": 10,
   "id": "c0f19f8e-42e3-4c50-9256-337cc2b52e96",
   "metadata": {},
   "outputs": [
    {
     "data": {
      "text/html": [
       "<table class=\"simpletable\">\n",
       "<caption>Multiple Comparison of Means - Tukey HSD, FWER=0.05</caption>\n",
       "<tr>\n",
       "      <th>group1</th>          <th>group2</th>      <th>meandiff</th>  <th>p-adj</th>  <th>lower</th>   <th>upper</th>  <th>reject</th>\n",
       "</tr>\n",
       "<tr>\n",
       "    <td>Iris-setosa</td>   <td>Iris-versicolor</td>  <td>-0.648</td>   <td>0.001</td> <td>-0.8092</td> <td>-0.4868</td>  <td>True</td> \n",
       "</tr>\n",
       "<tr>\n",
       "    <td>Iris-setosa</td>   <td>Iris-virginica</td>   <td>-0.444</td>   <td>0.001</td> <td>-0.6052</td> <td>-0.2828</td>  <td>True</td> \n",
       "</tr>\n",
       "<tr>\n",
       "  <td>Iris-versicolor</td> <td>Iris-virginica</td>    <td>0.204</td>  <td>0.0089</td> <td>0.0428</td>  <td>0.3652</td>   <td>True</td> \n",
       "</tr>\n",
       "</table>"
      ],
      "text/plain": [
       "<class 'statsmodels.iolib.table.SimpleTable'>"
      ]
     },
     "execution_count": 10,
     "metadata": {},
     "output_type": "execute_result"
    }
   ],
   "source": [
    "tuekeyhsd.summary()"
   ]
  },
  {
   "cell_type": "code",
   "execution_count": 11,
   "id": "125e4943-edac-4596-a50d-1800d9c42152",
   "metadata": {},
   "outputs": [
    {
     "data": {
      "text/plain": [
       "KruskalResult(statistic=62.49463010053111, pvalue=2.6882119006774528e-14)"
      ]
     },
     "execution_count": 11,
     "metadata": {},
     "output_type": "execute_result"
    }
   ],
   "source": [
    "stats.kruskal(setosa,versicolor,virginica)"
   ]
  },
  {
   "cell_type": "code",
   "execution_count": 12,
   "id": "f25e259a-95f6-430c-9bb0-2efcb36ac189",
   "metadata": {},
   "outputs": [
    {
     "data": {
      "text/html": [
       "<div>\n",
       "<style scoped>\n",
       "    .dataframe tbody tr th:only-of-type {\n",
       "        vertical-align: middle;\n",
       "    }\n",
       "\n",
       "    .dataframe tbody tr th {\n",
       "        vertical-align: top;\n",
       "    }\n",
       "\n",
       "    .dataframe thead th {\n",
       "        text-align: right;\n",
       "    }\n",
       "</style>\n",
       "<table border=\"1\" class=\"dataframe\">\n",
       "  <thead>\n",
       "    <tr style=\"text-align: right;\">\n",
       "      <th></th>\n",
       "      <th>Source</th>\n",
       "      <th>ddof1</th>\n",
       "      <th>ddof2</th>\n",
       "      <th>F</th>\n",
       "      <th>p-unc</th>\n",
       "      <th>np2</th>\n",
       "    </tr>\n",
       "  </thead>\n",
       "  <tbody>\n",
       "    <tr>\n",
       "      <th>0</th>\n",
       "      <td>target</td>\n",
       "      <td>2</td>\n",
       "      <td>97.369597</td>\n",
       "      <td>43.303381</td>\n",
       "      <td>3.519723e-14</td>\n",
       "      <td>0.391881</td>\n",
       "    </tr>\n",
       "  </tbody>\n",
       "</table>\n",
       "</div>"
      ],
      "text/plain": [
       "   Source  ddof1      ddof2          F         p-unc       np2\n",
       "0  target      2  97.369597  43.303381  3.519723e-14  0.391881"
      ]
     },
     "execution_count": 12,
     "metadata": {},
     "output_type": "execute_result"
    },
    {
     "name": "stderr",
     "output_type": "stream",
     "text": [
      "C:\\Users\\jjang\\anaconda3\\envs\\ADP_Class\\lib\\site-packages\\outdated\\utils.py:18: OutdatedPackageWarning: The package pingouin is out of date. Your version is 0.4.0, the latest is 0.5.1.\n",
      "Set the environment variable OUTDATED_IGNORE=1 to disable these warnings.\n",
      "  **kwargs\n"
     ]
    }
   ],
   "source": [
    "# pip install pingouin \n",
    "# conda install pingouin\n",
    "import pingouin as pg\n",
    "pg.welch_anova(data = Iris_data, dv ='sepal width', between='target')\n"
   ]
  },
  {
   "cell_type": "markdown",
   "id": "1dd7265a-522c-42a7-a410-899158f8d5eb",
   "metadata": {},
   "source": [
    "# 이원배치 분산분석"
   ]
  },
  {
   "cell_type": "code",
   "execution_count": 1,
   "id": "97fba0cd-35da-4aee-b995-ccdb5ebef758",
   "metadata": {},
   "outputs": [
    {
     "data": {
      "text/html": [
       "<div>\n",
       "<style scoped>\n",
       "    .dataframe tbody tr th:only-of-type {\n",
       "        vertical-align: middle;\n",
       "    }\n",
       "\n",
       "    .dataframe tbody tr th {\n",
       "        vertical-align: top;\n",
       "    }\n",
       "\n",
       "    .dataframe thead th {\n",
       "        text-align: right;\n",
       "    }\n",
       "</style>\n",
       "<table border=\"1\" class=\"dataframe\">\n",
       "  <thead>\n",
       "    <tr style=\"text-align: right;\">\n",
       "      <th></th>\n",
       "      <th>Unnamed: 0</th>\n",
       "      <th>mpg</th>\n",
       "      <th>cyl</th>\n",
       "      <th>disp</th>\n",
       "      <th>hp</th>\n",
       "      <th>drat</th>\n",
       "      <th>wt</th>\n",
       "      <th>qsec</th>\n",
       "      <th>vs</th>\n",
       "      <th>am</th>\n",
       "      <th>gear</th>\n",
       "      <th>carb</th>\n",
       "    </tr>\n",
       "  </thead>\n",
       "  <tbody>\n",
       "    <tr>\n",
       "      <th>0</th>\n",
       "      <td>Mazda RX4</td>\n",
       "      <td>21.0</td>\n",
       "      <td>6</td>\n",
       "      <td>160.0</td>\n",
       "      <td>110</td>\n",
       "      <td>3.90</td>\n",
       "      <td>2.620</td>\n",
       "      <td>16.46</td>\n",
       "      <td>0</td>\n",
       "      <td>1</td>\n",
       "      <td>4</td>\n",
       "      <td>4</td>\n",
       "    </tr>\n",
       "    <tr>\n",
       "      <th>1</th>\n",
       "      <td>Mazda RX4 Wag</td>\n",
       "      <td>21.0</td>\n",
       "      <td>6</td>\n",
       "      <td>160.0</td>\n",
       "      <td>110</td>\n",
       "      <td>3.90</td>\n",
       "      <td>2.875</td>\n",
       "      <td>17.02</td>\n",
       "      <td>0</td>\n",
       "      <td>1</td>\n",
       "      <td>4</td>\n",
       "      <td>4</td>\n",
       "    </tr>\n",
       "    <tr>\n",
       "      <th>2</th>\n",
       "      <td>Datsun 710</td>\n",
       "      <td>22.8</td>\n",
       "      <td>4</td>\n",
       "      <td>108.0</td>\n",
       "      <td>93</td>\n",
       "      <td>3.85</td>\n",
       "      <td>2.320</td>\n",
       "      <td>18.61</td>\n",
       "      <td>1</td>\n",
       "      <td>1</td>\n",
       "      <td>4</td>\n",
       "      <td>1</td>\n",
       "    </tr>\n",
       "    <tr>\n",
       "      <th>3</th>\n",
       "      <td>Hornet 4 Drive</td>\n",
       "      <td>21.4</td>\n",
       "      <td>6</td>\n",
       "      <td>258.0</td>\n",
       "      <td>110</td>\n",
       "      <td>3.08</td>\n",
       "      <td>3.215</td>\n",
       "      <td>19.44</td>\n",
       "      <td>1</td>\n",
       "      <td>0</td>\n",
       "      <td>3</td>\n",
       "      <td>1</td>\n",
       "    </tr>\n",
       "    <tr>\n",
       "      <th>4</th>\n",
       "      <td>Hornet Sportabout</td>\n",
       "      <td>18.7</td>\n",
       "      <td>8</td>\n",
       "      <td>360.0</td>\n",
       "      <td>175</td>\n",
       "      <td>3.15</td>\n",
       "      <td>3.440</td>\n",
       "      <td>17.02</td>\n",
       "      <td>0</td>\n",
       "      <td>0</td>\n",
       "      <td>3</td>\n",
       "      <td>2</td>\n",
       "    </tr>\n",
       "  </tbody>\n",
       "</table>\n",
       "</div>"
      ],
      "text/plain": [
       "          Unnamed: 0   mpg  cyl   disp   hp  drat     wt   qsec  vs  am  gear  \\\n",
       "0          Mazda RX4  21.0    6  160.0  110  3.90  2.620  16.46   0   1     4   \n",
       "1      Mazda RX4 Wag  21.0    6  160.0  110  3.90  2.875  17.02   0   1     4   \n",
       "2         Datsun 710  22.8    4  108.0   93  3.85  2.320  18.61   1   1     4   \n",
       "3     Hornet 4 Drive  21.4    6  258.0  110  3.08  3.215  19.44   1   0     3   \n",
       "4  Hornet Sportabout  18.7    8  360.0  175  3.15  3.440  17.02   0   0     3   \n",
       "\n",
       "   carb  \n",
       "0     4  \n",
       "1     4  \n",
       "2     1  \n",
       "3     1  \n",
       "4     2  "
      ]
     },
     "execution_count": 1,
     "metadata": {},
     "output_type": "execute_result"
    }
   ],
   "source": [
    "# 데이터 불러오기\n",
    "import pandas as pd\n",
    "mtcars = pd.read_csv('../data/mtcars.csv')\n",
    "mtcars.head()\n"
   ]
  },
  {
   "cell_type": "code",
   "execution_count": 2,
   "id": "103401b9-2389-4030-9e88-2776981fc5ef",
   "metadata": {},
   "outputs": [
    {
     "name": "stdout",
     "output_type": "stream",
     "text": [
      "<class 'pandas.core.frame.DataFrame'>\n",
      "RangeIndex: 32 entries, 0 to 31\n",
      "Data columns (total 3 columns):\n",
      " #   Column  Non-Null Count  Dtype  \n",
      "---  ------  --------------  -----  \n",
      " 0   mpg     32 non-null     float64\n",
      " 1   am      32 non-null     int64  \n",
      " 2   cyl     32 non-null     int64  \n",
      "dtypes: float64(1), int64(2)\n",
      "memory usage: 896.0 bytes\n"
     ]
    }
   ],
   "source": [
    "## cyl, am, mpg 변수들로만 구성된 분석용 데이터셋 생성 \n",
    "mtcars = mtcars[[\"mpg\",\"am\",\"cyl\"]]\n",
    "mtcars.info()\n"
   ]
  },
  {
   "cell_type": "code",
   "execution_count": 3,
   "id": "e9acd6cc-0935-4718-8d8f-34dd089cc3fd",
   "metadata": {},
   "outputs": [
    {
     "data": {
      "text/html": [
       "<div>\n",
       "<style scoped>\n",
       "    .dataframe tbody tr th:only-of-type {\n",
       "        vertical-align: middle;\n",
       "    }\n",
       "\n",
       "    .dataframe tbody tr th {\n",
       "        vertical-align: top;\n",
       "    }\n",
       "\n",
       "    .dataframe thead th {\n",
       "        text-align: right;\n",
       "    }\n",
       "</style>\n",
       "<table border=\"1\" class=\"dataframe\">\n",
       "  <thead>\n",
       "    <tr style=\"text-align: right;\">\n",
       "      <th></th>\n",
       "      <th>sum_sq</th>\n",
       "      <th>df</th>\n",
       "      <th>F</th>\n",
       "      <th>PR(&gt;F)</th>\n",
       "    </tr>\n",
       "  </thead>\n",
       "  <tbody>\n",
       "    <tr>\n",
       "      <th>C(cyl)</th>\n",
       "      <td>456.400921</td>\n",
       "      <td>2.0</td>\n",
       "      <td>24.819011</td>\n",
       "      <td>9.354735e-07</td>\n",
       "    </tr>\n",
       "    <tr>\n",
       "      <th>C(am)</th>\n",
       "      <td>36.766919</td>\n",
       "      <td>1.0</td>\n",
       "      <td>3.998759</td>\n",
       "      <td>5.608373e-02</td>\n",
       "    </tr>\n",
       "    <tr>\n",
       "      <th>C(cyl):C(am)</th>\n",
       "      <td>25.436511</td>\n",
       "      <td>2.0</td>\n",
       "      <td>1.383233</td>\n",
       "      <td>2.686140e-01</td>\n",
       "    </tr>\n",
       "    <tr>\n",
       "      <th>Residual</th>\n",
       "      <td>239.059167</td>\n",
       "      <td>26.0</td>\n",
       "      <td>NaN</td>\n",
       "      <td>NaN</td>\n",
       "    </tr>\n",
       "  </tbody>\n",
       "</table>\n",
       "</div>"
      ],
      "text/plain": [
       "                  sum_sq    df          F        PR(>F)\n",
       "C(cyl)        456.400921   2.0  24.819011  9.354735e-07\n",
       "C(am)          36.766919   1.0   3.998759  5.608373e-02\n",
       "C(cyl):C(am)   25.436511   2.0   1.383233  2.686140e-01\n",
       "Residual      239.059167  26.0        NaN           NaN"
      ]
     },
     "execution_count": 3,
     "metadata": {},
     "output_type": "execute_result"
    }
   ],
   "source": [
    "## 분산분석 수행 \n",
    "from statsmodels.formula.api import ols\n",
    "from statsmodels.stats.anova import anova_lm\n",
    "\n",
    "formula = 'mpg ~ C(cyl) + C(am) + C(cyl):C(am)'\n",
    "model = ols(formula, mtcars).fit()\n",
    "aov_table = anova_lm(model, typ=2)\n",
    "aov_table\n"
   ]
  },
  {
   "cell_type": "code",
   "execution_count": 4,
   "id": "47307034-fa9d-477a-a10a-47566feaf68c",
   "metadata": {},
   "outputs": [
    {
     "data": {
      "image/png": "[encoded data removed]",
      "text/plain": [
       "<Figure size 432x432 with 1 Axes>"
      ]
     },
     "metadata": {
      "needs_background": "light"
     },
     "output_type": "display_data"
    }
   ],
   "source": [
    "from statsmodels.graphics.factorplots import interaction_plot\n",
    "import matplotlib.pyplot as plt\n",
    "\n",
    "## 독립변수 cyl,am와 종속변수 mpg을 Series로 변경 \n",
    "cyl = mtcars[\"cyl\"]\n",
    "am = mtcars[\"am\"]\n",
    "mpg = mtcars[\"mpg\"]\n",
    "\n",
    "fig, ax = plt.subplots(figsize=(6, 6))\n",
    "fig = interaction_plot(cyl,am, mpg,\n",
    "                       colors=['red', 'blue'], markers=['D', '^'], ms=10, ax=ax)\n"
   ]
  },
  {
   "cell_type": "code",
   "execution_count": null,
   "id": "5f4c6b3f-a0d1-4be2-a7d2-e6e647ad62c0",
   "metadata": {},
   "outputs": [],
   "source": []
  },
  {
   "cell_type": "markdown",
   "id": "c2ad0a85-de10-42e3-9a6b-b1f2db8d213e",
   "metadata": {
    "toc": true
   },
   "source": [
    "<h1>Table of Contents<span class=\"tocSkip\"></span></h1>\n",
    "<div class=\"toc\"><ul class=\"toc-item\"><li><span><a href=\"#적합도-검정\" data-toc-modified-id=\"적합도-검정-1\"><span class=\"toc-item-num\">1&nbsp;&nbsp;</span>적합도 검정</a></span></li><li><span><a href=\"#독립성-검정\" data-toc-modified-id=\"독립성-검정-2\"><span class=\"toc-item-num\">2&nbsp;&nbsp;</span>독립성 검정</a></span></li></ul></div>"
   ]
  },
  {
   "cell_type": "markdown",
   "id": "50776828-8a97-4214-8b71-c71fffb46d93",
   "metadata": {},
   "source": [
    "## 적합도 검정"
   ]
  },
  {
   "cell_type": "code",
   "execution_count": 1,
   "id": "c90512a2-ffc6-4823-9314-d475e7ea9170",
   "metadata": {},
   "outputs": [
    {
     "name": "stdout",
     "output_type": "stream",
     "text": [
      "<class 'pandas.core.frame.DataFrame'>\n",
      "RangeIndex: 891 entries, 0 to 890\n",
      "Data columns (total 11 columns):\n",
      " #   Column       Non-Null Count  Dtype  \n",
      "---  ------       --------------  -----  \n",
      " 0   survived     891 non-null    int64  \n",
      " 1   pclass       891 non-null    int64  \n",
      " 2   sex          891 non-null    object \n",
      " 3   age          714 non-null    float64\n",
      " 4   sibsp        891 non-null    int64  \n",
      " 5   parch        891 non-null    int64  \n",
      " 6   fare         891 non-null    float64\n",
      " 7   embarked     889 non-null    object \n",
      " 8   class        891 non-null    object \n",
      " 9   adult_male   891 non-null    bool   \n",
      " 10  embark_town  889 non-null    object \n",
      "dtypes: bool(1), float64(2), int64(4), object(4)\n",
      "memory usage: 70.6+ KB\n"
     ]
    }
   ],
   "source": [
    "import pandas as pd\n",
    "# 데이터 불러오기\n",
    "df = pd.read_csv(\"../data/titanic.csv\")\n",
    "# titinic 데이터의 구조 확인\n",
    "df.info()\n"
   ]
  },
  {
   "cell_type": "code",
   "execution_count": 2,
   "id": "f85e5178-853e-4232-b241-59134d5b8a05",
   "metadata": {},
   "outputs": [
    {
     "data": {
      "text/plain": [
       "sex   \n",
       "female    233\n",
       "male      109\n",
       "dtype: int64"
      ]
     },
     "execution_count": 2,
     "metadata": {},
     "output_type": "execute_result"
    }
   ],
   "source": [
    "df_t = df[df['survived']==1]\n",
    "table= df_t[['sex']].value_counts()\n",
    "table\n"
   ]
  },
  {
   "cell_type": "code",
   "execution_count": 3,
   "id": "5e8d9121-651a-4fbf-a6f6-154e8f5a6ffb",
   "metadata": {},
   "outputs": [
    {
     "name": "stdout",
     "output_type": "stream",
     "text": [
      "<적합도 검정>\n",
      " Power_divergenceResult(statistic=44.95906432748538, pvalue=2.0119672574477235e-11)\n"
     ]
    }
   ],
   "source": [
    "# 유의수준 0.05로 적합도 검정 수행\n",
    "from scipy.stats import chisquare\n",
    "chi = chisquare(table, f_exp=[171,171])\n",
    "print('<적합도 검정>\\n',chi)\n"
   ]
  },
  {
   "cell_type": "markdown",
   "id": "c15effb8-b787-42a5-91ba-798a2d715f82",
   "metadata": {},
   "source": [
    "## 독립성 검정"
   ]
  },
  {
   "cell_type": "code",
   "execution_count": 4,
   "id": "21441674-2429-432a-adfb-25b44a2af9a2",
   "metadata": {},
   "outputs": [
    {
     "data": {
      "text/html": [
       "<div>\n",
       "<style scoped>\n",
       "    .dataframe tbody tr th:only-of-type {\n",
       "        vertical-align: middle;\n",
       "    }\n",
       "\n",
       "    .dataframe tbody tr th {\n",
       "        vertical-align: top;\n",
       "    }\n",
       "\n",
       "    .dataframe thead th {\n",
       "        text-align: right;\n",
       "    }\n",
       "</style>\n",
       "<table border=\"1\" class=\"dataframe\">\n",
       "  <thead>\n",
       "    <tr style=\"text-align: right;\">\n",
       "      <th>survived</th>\n",
       "      <th>0</th>\n",
       "      <th>1</th>\n",
       "    </tr>\n",
       "    <tr>\n",
       "      <th>class</th>\n",
       "      <th></th>\n",
       "      <th></th>\n",
       "    </tr>\n",
       "  </thead>\n",
       "  <tbody>\n",
       "    <tr>\n",
       "      <th>First</th>\n",
       "      <td>80</td>\n",
       "      <td>136</td>\n",
       "    </tr>\n",
       "    <tr>\n",
       "      <th>Second</th>\n",
       "      <td>97</td>\n",
       "      <td>87</td>\n",
       "    </tr>\n",
       "    <tr>\n",
       "      <th>Third</th>\n",
       "      <td>372</td>\n",
       "      <td>119</td>\n",
       "    </tr>\n",
       "  </tbody>\n",
       "</table>\n",
       "</div>"
      ],
      "text/plain": [
       "survived    0    1\n",
       "class             \n",
       "First      80  136\n",
       "Second     97   87\n",
       "Third     372  119"
      ]
     },
     "execution_count": 4,
     "metadata": {},
     "output_type": "execute_result"
    }
   ],
   "source": [
    "# 데이터 불러오기\n",
    "df = pd.read_csv(\"../data/titanic.csv\")\n",
    "table = pd.crosstab(df['class'], df['survived'])\n",
    "table\n"
   ]
  },
  {
   "cell_type": "code",
   "execution_count": 5,
   "id": "52e67710-e089-4867-9bea-656a16fc795f",
   "metadata": {},
   "outputs": [
    {
     "name": "stdout",
     "output_type": "stream",
     "text": [
      "Statistic: 102.88898875696056\n",
      "p-value: 4.549251711298793e-23\n",
      "df: 2\n",
      "expect: \n",
      " [[133.09090909  82.90909091]\n",
      " [113.37373737  70.62626263]\n",
      " [302.53535354 188.46464646]]\n"
     ]
    }
   ],
   "source": [
    "# 카이제곱 검정을 통한 독립성 검정 수행\n",
    "from scipy.stats import chi2_contingency\n",
    "chi, p, df, expect = chi2_contingency(table) \n",
    "print('Statistic:', chi)\n",
    "print('p-value:', p)\n",
    "print('df:', df)\n",
    "print('expect: \\n', expect)\n"
   ]
  },
  {
   "cell_type": "code",
   "execution_count": null,
   "id": "26cdb050-5490-4432-b6ab-5aaf54bf986d",
   "metadata": {},
   "outputs": [],
   "source": []
  },
  {
   "cell_type": "code",
   "execution_count": 13,
   "id": "fd3f8e0c-4d3e-4efb-93d1-81a9ebd1bcb1",
   "metadata": {},
   "outputs": [
    {
     "data": {
      "text/html": [
       "<div>\n",
       "<style scoped>\n",
       "    .dataframe tbody tr th:only-of-type {\n",
       "        vertical-align: middle;\n",
       "    }\n",
       "\n",
       "    .dataframe tbody tr th {\n",
       "        vertical-align: top;\n",
       "    }\n",
       "\n",
       "    .dataframe thead th {\n",
       "        text-align: right;\n",
       "    }\n",
       "</style>\n",
       "<table border=\"1\" class=\"dataframe\">\n",
       "  <thead>\n",
       "    <tr style=\"text-align: right;\">\n",
       "      <th></th>\n",
       "      <th>price</th>\n",
       "      <th>sqft_living</th>\n",
       "    </tr>\n",
       "  </thead>\n",
       "  <tbody>\n",
       "    <tr>\n",
       "      <th>price</th>\n",
       "      <td>1.000000</td>\n",
       "      <td>0.702035</td>\n",
       "    </tr>\n",
       "    <tr>\n",
       "      <th>sqft_living</th>\n",
       "      <td>0.702035</td>\n",
       "      <td>1.000000</td>\n",
       "    </tr>\n",
       "  </tbody>\n",
       "</table>\n",
       "</div>"
      ],
      "text/plain": [
       "                price  sqft_living\n",
       "price        1.000000     0.702035\n",
       "sqft_living  0.702035     1.000000"
      ]
     },
     "execution_count": 13,
     "metadata": {},
     "output_type": "execute_result"
    }
   ],
   "source": [
    "import pandas as pd \n",
    "import numpy as np \n",
    "house = pd.read_csv('../data/kc_house_data.csv')\n",
    "house = house[[\"price\",\"sqft_living\"]]\n",
    "## 독립변수와 종속변수의 선형 가정 \n",
    "house.corr()\n"
   ]
  },
  {
   "cell_type": "code",
   "execution_count": 14,
   "id": "84608757-f97a-4f7c-9e97-ad1955ac7f95",
   "metadata": {},
   "outputs": [
    {
     "data": {
      "image/png": "[encoded data removed]",
      "text/plain": [
       "<Figure size 432x288 with 1 Axes>"
      ]
     },
     "metadata": {
      "needs_background": "light"
     },
     "output_type": "display_data"
    }
   ],
   "source": [
    "from statsmodels.formula.api import ols\n",
    "import matplotlib.pyplot as plt\n",
    "# 변수 할당 \n",
    "y = house['price']\n",
    "X = house[['sqft_living']]\n",
    "# 단순선형회귀모형 적합\n",
    "lr = ols('price ~ sqft_living',data=house).fit()\n",
    "y_pred = lr.predict(X)\n",
    "# 시각화 \n",
    "plt.scatter(X, y) ## 원 데이터 산포도\n",
    "plt.plot(X, y_pred, color='red') ## 회귀직선 추가 \n",
    "plt.xlabel('sqft_living', fontsize=10)\n",
    "plt.ylabel('price',fontsize=10)\n",
    "plt.title('Linear Regression Result')\n",
    "plt.show()\n"
   ]
  },
  {
   "cell_type": "code",
   "execution_count": 15,
   "id": "80d1fa44-331a-480c-a942-d0741477d99a",
   "metadata": {},
   "outputs": [
    {
     "data": {
      "text/html": [
       "<table class=\"simpletable\">\n",
       "<caption>OLS Regression Results</caption>\n",
       "<tr>\n",
       "  <th>Dep. Variable:</th>          <td>price</td>      <th>  R-squared:         </th>  <td>   0.493</td>  \n",
       "</tr>\n",
       "<tr>\n",
       "  <th>Model:</th>                   <td>OLS</td>       <th>  Adj. R-squared:    </th>  <td>   0.493</td>  \n",
       "</tr>\n",
       "<tr>\n",
       "  <th>Method:</th>             <td>Least Squares</td>  <th>  F-statistic:       </th>  <td>2.100e+04</td> \n",
       "</tr>\n",
       "<tr>\n",
       "  <th>Date:</th>             <td>Mon, 18 Apr 2022</td> <th>  Prob (F-statistic):</th>   <td>  0.00</td>   \n",
       "</tr>\n",
       "<tr>\n",
       "  <th>Time:</th>                 <td>23:53:51</td>     <th>  Log-Likelihood:    </th> <td>-3.0027e+05</td>\n",
       "</tr>\n",
       "<tr>\n",
       "  <th>No. Observations:</th>      <td> 21613</td>      <th>  AIC:               </th>  <td>6.005e+05</td> \n",
       "</tr>\n",
       "<tr>\n",
       "  <th>Df Residuals:</th>          <td> 21611</td>      <th>  BIC:               </th>  <td>6.006e+05</td> \n",
       "</tr>\n",
       "<tr>\n",
       "  <th>Df Model:</th>              <td>     1</td>      <th>                     </th>      <td> </td>     \n",
       "</tr>\n",
       "<tr>\n",
       "  <th>Covariance Type:</th>      <td>nonrobust</td>    <th>                     </th>      <td> </td>     \n",
       "</tr>\n",
       "</table>\n",
       "<table class=\"simpletable\">\n",
       "<tr>\n",
       "       <td></td>          <th>coef</th>     <th>std err</th>      <th>t</th>      <th>P>|t|</th>  <th>[0.025</th>    <th>0.975]</th>  \n",
       "</tr>\n",
       "<tr>\n",
       "  <th>Intercept</th>   <td>-4.358e+04</td> <td> 4402.690</td> <td>   -9.899</td> <td> 0.000</td> <td>-5.22e+04</td> <td> -3.5e+04</td>\n",
       "</tr>\n",
       "<tr>\n",
       "  <th>sqft_living</th> <td>  280.6236</td> <td>    1.936</td> <td>  144.920</td> <td> 0.000</td> <td>  276.828</td> <td>  284.419</td>\n",
       "</tr>\n",
       "</table>\n",
       "<table class=\"simpletable\">\n",
       "<tr>\n",
       "  <th>Omnibus:</th>       <td>14832.490</td> <th>  Durbin-Watson:     </th>  <td>   1.983</td> \n",
       "</tr>\n",
       "<tr>\n",
       "  <th>Prob(Omnibus):</th>  <td> 0.000</td>   <th>  Jarque-Bera (JB):  </th> <td>546444.713</td>\n",
       "</tr>\n",
       "<tr>\n",
       "  <th>Skew:</th>           <td> 2.824</td>   <th>  Prob(JB):          </th>  <td>    0.00</td> \n",
       "</tr>\n",
       "<tr>\n",
       "  <th>Kurtosis:</th>       <td>26.977</td>   <th>  Cond. No.          </th>  <td>5.63e+03</td> \n",
       "</tr>\n",
       "</table><br/><br/>Warnings:<br/>[1] Standard Errors assume that the covariance matrix of the errors is correctly specified.<br/>[2] The condition number is large, 5.63e+03. This might indicate that there are<br/>strong multicollinearity or other numerical problems."
      ],
      "text/plain": [
       "<class 'statsmodels.iolib.summary.Summary'>\n",
       "\"\"\"\n",
       "                            OLS Regression Results                            \n",
       "==============================================================================\n",
       "Dep. Variable:                  price   R-squared:                       0.493\n",
       "Model:                            OLS   Adj. R-squared:                  0.493\n",
       "Method:                 Least Squares   F-statistic:                 2.100e+04\n",
       "Date:                Mon, 18 Apr 2022   Prob (F-statistic):               0.00\n",
       "Time:                        23:53:51   Log-Likelihood:            -3.0027e+05\n",
       "No. Observations:               21613   AIC:                         6.005e+05\n",
       "Df Residuals:                   21611   BIC:                         6.006e+05\n",
       "Df Model:                           1                                         \n",
       "Covariance Type:            nonrobust                                         \n",
       "===============================================================================\n",
       "                  coef    std err          t      P>|t|      [0.025      0.975]\n",
       "-------------------------------------------------------------------------------\n",
       "Intercept   -4.358e+04   4402.690     -9.899      0.000   -5.22e+04    -3.5e+04\n",
       "sqft_living   280.6236      1.936    144.920      0.000     276.828     284.419\n",
       "==============================================================================\n",
       "Omnibus:                    14832.490   Durbin-Watson:                   1.983\n",
       "Prob(Omnibus):                  0.000   Jarque-Bera (JB):           546444.713\n",
       "Skew:                           2.824   Prob(JB):                         0.00\n",
       "Kurtosis:                      26.977   Cond. No.                     5.63e+03\n",
       "==============================================================================\n",
       "\n",
       "Warnings:\n",
       "[1] Standard Errors assume that the covariance matrix of the errors is correctly specified.\n",
       "[2] The condition number is large, 5.63e+03. This might indicate that there are\n",
       "strong multicollinearity or other numerical problems.\n",
       "\"\"\""
      ]
     },
     "execution_count": 15,
     "metadata": {},
     "output_type": "execute_result"
    }
   ],
   "source": [
    "lr.summary()"
   ]
  },
  {
   "cell_type": "code",
   "execution_count": 7,
   "id": "118a5d48-4c92-420e-b26e-e461e4e9dcba",
   "metadata": {},
   "outputs": [
    {
     "data": {
      "text/plain": [
       "1.5"
      ]
     },
     "execution_count": 7,
     "metadata": {},
     "output_type": "execute_result"
    }
   ],
   "source": []
  },
  {
   "cell_type": "code",
   "execution_count": 17,
   "id": "cbe5994b-ec27-470d-87f1-0a1ff7954bef",
   "metadata": {},
   "outputs": [
    {
     "name": "stdout",
     "output_type": "stream",
     "text": [
      "<class 'pandas.core.frame.DataFrame'>\n",
      "RangeIndex: 93 entries, 0 to 92\n",
      "Data columns (total 27 columns):\n",
      " #   Column              Non-Null Count  Dtype  \n",
      "---  ------              --------------  -----  \n",
      " 0   Manufacturer        93 non-null     object \n",
      " 1   Model               93 non-null     object \n",
      " 2   Type                93 non-null     object \n",
      " 3   Min.Price           93 non-null     float64\n",
      " 4   Price               93 non-null     float64\n",
      " 5   Max.Price           93 non-null     float64\n",
      " 6   MPG.city            93 non-null     int64  \n",
      " 7   MPG.highway         93 non-null     int64  \n",
      " 8   AirBags             93 non-null     object \n",
      " 9   DriveTrain          93 non-null     object \n",
      " 10  Cylinders           93 non-null     object \n",
      " 11  EngineSize          93 non-null     float64\n",
      " 12  Horsepower          93 non-null     int64  \n",
      " 13  RPM                 93 non-null     int64  \n",
      " 14  Rev.per.mile        93 non-null     int64  \n",
      " 15  Man.trans.avail     93 non-null     object \n",
      " 16  Fuel.tank.capacity  93 non-null     float64\n",
      " 17  Passengers          93 non-null     int64  \n",
      " 18  Length              93 non-null     int64  \n",
      " 19  Wheelbase           93 non-null     int64  \n",
      " 20  Width               93 non-null     int64  \n",
      " 21  Turn.circle         93 non-null     int64  \n",
      " 22  Rear.seat.room      91 non-null     float64\n",
      " 23  Luggage.room        93 non-null     int64  \n",
      " 24  Weight              93 non-null     int64  \n",
      " 25  Origin              93 non-null     object \n",
      " 26  Make                93 non-null     object \n",
      "dtypes: float64(6), int64(12), object(9)\n",
      "memory usage: 19.7+ KB\n"
     ]
    }
   ],
   "source": [
    "import pandas as pd\n",
    "# 데이터 불러오기\n",
    "Cars = pd.read_csv('../data/Cars93.csv')\n",
    "Cars.info()\n"
   ]
  },
  {
   "cell_type": "code",
   "execution_count": 18,
   "id": "936f6fb4-6902-4840-b41e-7ffcea9df9c5",
   "metadata": {},
   "outputs": [
    {
     "name": "stderr",
     "output_type": "stream",
     "text": [
      "C:\\Users\\jjang\\anaconda3\\envs\\ADP_Class\\lib\\importlib\\_bootstrap.py:219: RuntimeWarning: numpy.ufunc size changed, may indicate binary incompatibility. Expected 192 from C header, got 216 from PyObject\n",
      "  return f(*args, **kwds)\n",
      "C:\\Users\\jjang\\anaconda3\\envs\\ADP_Class\\lib\\site-packages\\ipykernel_launcher.py:5: FutureWarning: The default value of regex will change from True to False in a future version. In addition, single character regular expressions will*not* be treated as literal strings when regex=True.\n",
      "  \"\"\"\n"
     ]
    },
    {
     "data": {
      "text/html": [
       "<table class=\"simpletable\">\n",
       "<caption>OLS Regression Results</caption>\n",
       "<tr>\n",
       "  <th>Dep. Variable:</th>          <td>Price</td>      <th>  R-squared:         </th> <td>   0.572</td>\n",
       "</tr>\n",
       "<tr>\n",
       "  <th>Model:</th>                   <td>OLS</td>       <th>  Adj. R-squared:    </th> <td>   0.542</td>\n",
       "</tr>\n",
       "<tr>\n",
       "  <th>Method:</th>             <td>Least Squares</td>  <th>  F-statistic:       </th> <td>   19.14</td>\n",
       "</tr>\n",
       "<tr>\n",
       "  <th>Date:</th>             <td>Mon, 18 Apr 2022</td> <th>  Prob (F-statistic):</th> <td>4.88e-14</td>\n",
       "</tr>\n",
       "<tr>\n",
       "  <th>Time:</th>                 <td>23:54:52</td>     <th>  Log-Likelihood:    </th> <td> -302.94</td>\n",
       "</tr>\n",
       "<tr>\n",
       "  <th>No. Observations:</th>      <td>    93</td>      <th>  AIC:               </th> <td>   619.9</td>\n",
       "</tr>\n",
       "<tr>\n",
       "  <th>Df Residuals:</th>          <td>    86</td>      <th>  BIC:               </th> <td>   637.6</td>\n",
       "</tr>\n",
       "<tr>\n",
       "  <th>Df Model:</th>              <td>     6</td>      <th>                     </th>     <td> </td>   \n",
       "</tr>\n",
       "<tr>\n",
       "  <th>Covariance Type:</th>      <td>nonrobust</td>    <th>                     </th>     <td> </td>   \n",
       "</tr>\n",
       "</table>\n",
       "<table class=\"simpletable\">\n",
       "<tr>\n",
       "       <td></td>         <th>coef</th>     <th>std err</th>      <th>t</th>      <th>P>|t|</th>  <th>[0.025</th>    <th>0.975]</th>  \n",
       "</tr>\n",
       "<tr>\n",
       "  <th>Intercept</th>  <td>  -32.2157</td> <td>   17.812</td> <td>   -1.809</td> <td> 0.074</td> <td>  -67.625</td> <td>    3.193</td>\n",
       "</tr>\n",
       "<tr>\n",
       "  <th>EngineSize</th> <td>    4.4732</td> <td>    1.410</td> <td>    3.172</td> <td> 0.002</td> <td>    1.670</td> <td>    7.276</td>\n",
       "</tr>\n",
       "<tr>\n",
       "  <th>RPM</th>        <td>    0.0071</td> <td>    0.001</td> <td>    5.138</td> <td> 0.000</td> <td>    0.004</td> <td>    0.010</td>\n",
       "</tr>\n",
       "<tr>\n",
       "  <th>Weight</th>     <td>    0.0056</td> <td>    0.003</td> <td>    1.634</td> <td> 0.106</td> <td>   -0.001</td> <td>    0.012</td>\n",
       "</tr>\n",
       "<tr>\n",
       "  <th>Length</th>     <td>   -0.0464</td> <td>    0.094</td> <td>   -0.496</td> <td> 0.621</td> <td>   -0.232</td> <td>    0.139</td>\n",
       "</tr>\n",
       "<tr>\n",
       "  <th>MPGcity</th>    <td>   -0.3478</td> <td>    0.448</td> <td>   -0.776</td> <td> 0.440</td> <td>   -1.239</td> <td>    0.544</td>\n",
       "</tr>\n",
       "<tr>\n",
       "  <th>MPGhighway</th> <td>    0.0582</td> <td>    0.460</td> <td>    0.126</td> <td> 0.900</td> <td>   -0.856</td> <td>    0.973</td>\n",
       "</tr>\n",
       "</table>\n",
       "<table class=\"simpletable\">\n",
       "<tr>\n",
       "  <th>Omnibus:</th>       <td>62.984</td> <th>  Durbin-Watson:     </th> <td>   1.446</td>\n",
       "</tr>\n",
       "<tr>\n",
       "  <th>Prob(Omnibus):</th> <td> 0.000</td> <th>  Jarque-Bera (JB):  </th> <td> 383.289</td>\n",
       "</tr>\n",
       "<tr>\n",
       "  <th>Skew:</th>          <td> 2.074</td> <th>  Prob(JB):          </th> <td>5.89e-84</td>\n",
       "</tr>\n",
       "<tr>\n",
       "  <th>Kurtosis:</th>      <td>12.039</td> <th>  Cond. No.          </th> <td>1.61e+05</td>\n",
       "</tr>\n",
       "</table><br/><br/>Warnings:<br/>[1] Standard Errors assume that the covariance matrix of the errors is correctly specified.<br/>[2] The condition number is large, 1.61e+05. This might indicate that there are<br/>strong multicollinearity or other numerical problems."
      ],
      "text/plain": [
       "<class 'statsmodels.iolib.summary.Summary'>\n",
       "\"\"\"\n",
       "                            OLS Regression Results                            \n",
       "==============================================================================\n",
       "Dep. Variable:                  Price   R-squared:                       0.572\n",
       "Model:                            OLS   Adj. R-squared:                  0.542\n",
       "Method:                 Least Squares   F-statistic:                     19.14\n",
       "Date:                Mon, 18 Apr 2022   Prob (F-statistic):           4.88e-14\n",
       "Time:                        23:54:52   Log-Likelihood:                -302.94\n",
       "No. Observations:                  93   AIC:                             619.9\n",
       "Df Residuals:                      86   BIC:                             637.6\n",
       "Df Model:                           6                                         \n",
       "Covariance Type:            nonrobust                                         \n",
       "==============================================================================\n",
       "                 coef    std err          t      P>|t|      [0.025      0.975]\n",
       "------------------------------------------------------------------------------\n",
       "Intercept    -32.2157     17.812     -1.809      0.074     -67.625       3.193\n",
       "EngineSize     4.4732      1.410      3.172      0.002       1.670       7.276\n",
       "RPM            0.0071      0.001      5.138      0.000       0.004       0.010\n",
       "Weight         0.0056      0.003      1.634      0.106      -0.001       0.012\n",
       "Length        -0.0464      0.094     -0.496      0.621      -0.232       0.139\n",
       "MPGcity       -0.3478      0.448     -0.776      0.440      -1.239       0.544\n",
       "MPGhighway     0.0582      0.460      0.126      0.900      -0.856       0.973\n",
       "==============================================================================\n",
       "Omnibus:                       62.984   Durbin-Watson:                   1.446\n",
       "Prob(Omnibus):                  0.000   Jarque-Bera (JB):              383.289\n",
       "Skew:                           2.074   Prob(JB):                     5.89e-84\n",
       "Kurtosis:                      12.039   Cond. No.                     1.61e+05\n",
       "==============================================================================\n",
       "\n",
       "Warnings:\n",
       "[1] Standard Errors assume that the covariance matrix of the errors is correctly specified.\n",
       "[2] The condition number is large, 1.61e+05. This might indicate that there are\n",
       "strong multicollinearity or other numerical problems.\n",
       "\"\"\""
      ]
     },
     "execution_count": 18,
     "metadata": {},
     "output_type": "execute_result"
    }
   ],
   "source": [
    "import numpy as np\n",
    "import statsmodels.api as sm\n",
    "import statsmodels.formula.api as smf\n",
    "# ols 모델의 formula을 정의할 때, 일부 특수문자는 쓸 수 없기에, 컬럼 특수문자 제거 \n",
    "Cars.columns = Cars.columns.str.replace(\".\",\"\")\n",
    "model = smf.ols(formula =\"Price ~ EngineSize + RPM + Weight+ Length + MPGcity + MPGhighway\", data = Cars)\n",
    "result = model.fit()\n",
    "result.summary()\n"
   ]
  },
  {
   "cell_type": "code",
   "execution_count": 19,
   "id": "4ff85dc9-1469-49ee-99e3-0e746dec7dd6",
   "metadata": {},
   "outputs": [
    {
     "data": {
      "text/html": [
       "<div>\n",
       "<style scoped>\n",
       "    .dataframe tbody tr th:only-of-type {\n",
       "        vertical-align: middle;\n",
       "    }\n",
       "\n",
       "    .dataframe tbody tr th {\n",
       "        vertical-align: top;\n",
       "    }\n",
       "\n",
       "    .dataframe thead th {\n",
       "        text-align: right;\n",
       "    }\n",
       "</style>\n",
       "<table border=\"1\" class=\"dataframe\">\n",
       "  <thead>\n",
       "    <tr style=\"text-align: right;\">\n",
       "      <th></th>\n",
       "      <th>EngineSize</th>\n",
       "      <th>RPM</th>\n",
       "      <th>Weight</th>\n",
       "      <th>Length</th>\n",
       "      <th>MPGcity</th>\n",
       "      <th>MPGhighway</th>\n",
       "    </tr>\n",
       "  </thead>\n",
       "  <tbody>\n",
       "    <tr>\n",
       "      <th>EngineSize</th>\n",
       "      <td>1.000000</td>\n",
       "      <td>-0.547898</td>\n",
       "      <td>0.845075</td>\n",
       "      <td>0.780283</td>\n",
       "      <td>-0.710003</td>\n",
       "      <td>-0.626795</td>\n",
       "    </tr>\n",
       "    <tr>\n",
       "      <th>RPM</th>\n",
       "      <td>-0.547898</td>\n",
       "      <td>1.000000</td>\n",
       "      <td>-0.427931</td>\n",
       "      <td>-0.441249</td>\n",
       "      <td>0.363045</td>\n",
       "      <td>0.313469</td>\n",
       "    </tr>\n",
       "    <tr>\n",
       "      <th>Weight</th>\n",
       "      <td>0.845075</td>\n",
       "      <td>-0.427931</td>\n",
       "      <td>1.000000</td>\n",
       "      <td>0.806274</td>\n",
       "      <td>-0.843139</td>\n",
       "      <td>-0.810658</td>\n",
       "    </tr>\n",
       "    <tr>\n",
       "      <th>Length</th>\n",
       "      <td>0.780283</td>\n",
       "      <td>-0.441249</td>\n",
       "      <td>0.806274</td>\n",
       "      <td>1.000000</td>\n",
       "      <td>-0.666239</td>\n",
       "      <td>-0.542897</td>\n",
       "    </tr>\n",
       "    <tr>\n",
       "      <th>MPGcity</th>\n",
       "      <td>-0.710003</td>\n",
       "      <td>0.363045</td>\n",
       "      <td>-0.843139</td>\n",
       "      <td>-0.666239</td>\n",
       "      <td>1.000000</td>\n",
       "      <td>0.943936</td>\n",
       "    </tr>\n",
       "    <tr>\n",
       "      <th>MPGhighway</th>\n",
       "      <td>-0.626795</td>\n",
       "      <td>0.313469</td>\n",
       "      <td>-0.810658</td>\n",
       "      <td>-0.542897</td>\n",
       "      <td>0.943936</td>\n",
       "      <td>1.000000</td>\n",
       "    </tr>\n",
       "  </tbody>\n",
       "</table>\n",
       "</div>"
      ],
      "text/plain": [
       "            EngineSize       RPM    Weight    Length   MPGcity  MPGhighway\n",
       "EngineSize    1.000000 -0.547898  0.845075  0.780283 -0.710003   -0.626795\n",
       "RPM          -0.547898  1.000000 -0.427931 -0.441249  0.363045    0.313469\n",
       "Weight        0.845075 -0.427931  1.000000  0.806274 -0.843139   -0.810658\n",
       "Length        0.780283 -0.441249  0.806274  1.000000 -0.666239   -0.542897\n",
       "MPGcity      -0.710003  0.363045 -0.843139 -0.666239  1.000000    0.943936\n",
       "MPGhighway   -0.626795  0.313469 -0.810658 -0.542897  0.943936    1.000000"
      ]
     },
     "execution_count": 19,
     "metadata": {},
     "output_type": "execute_result"
    }
   ],
   "source": [
    "Cars[['EngineSize','RPM' , 'Weight','Length','MPGcity','MPGhighway']].corr()"
   ]
  },
  {
   "cell_type": "code",
   "execution_count": 20,
   "id": "5fdc81fa-8a72-4727-8974-9672b4a48d3f",
   "metadata": {},
   "outputs": [
    {
     "data": {
      "text/html": [
       "<div>\n",
       "<style scoped>\n",
       "    .dataframe tbody tr th:only-of-type {\n",
       "        vertical-align: middle;\n",
       "    }\n",
       "\n",
       "    .dataframe tbody tr th {\n",
       "        vertical-align: top;\n",
       "    }\n",
       "\n",
       "    .dataframe thead th {\n",
       "        text-align: right;\n",
       "    }\n",
       "</style>\n",
       "<table border=\"1\" class=\"dataframe\">\n",
       "  <thead>\n",
       "    <tr style=\"text-align: right;\">\n",
       "      <th></th>\n",
       "      <th>vif</th>\n",
       "      <th>variable</th>\n",
       "    </tr>\n",
       "  </thead>\n",
       "  <tbody>\n",
       "    <tr>\n",
       "      <th>0</th>\n",
       "      <td>4.605118</td>\n",
       "      <td>EngineSize</td>\n",
       "    </tr>\n",
       "    <tr>\n",
       "      <th>1</th>\n",
       "      <td>1.446859</td>\n",
       "      <td>RPM</td>\n",
       "    </tr>\n",
       "    <tr>\n",
       "      <th>2</th>\n",
       "      <td>8.685973</td>\n",
       "      <td>Weight</td>\n",
       "    </tr>\n",
       "    <tr>\n",
       "      <th>3</th>\n",
       "      <td>4.013002</td>\n",
       "      <td>Length</td>\n",
       "    </tr>\n",
       "    <tr>\n",
       "      <th>4</th>\n",
       "      <td>13.668288</td>\n",
       "      <td>MPGcity</td>\n",
       "    </tr>\n",
       "    <tr>\n",
       "      <th>5</th>\n",
       "      <td>12.943133</td>\n",
       "      <td>MPGhighway</td>\n",
       "    </tr>\n",
       "  </tbody>\n",
       "</table>\n",
       "</div>"
      ],
      "text/plain": [
       "         vif    variable\n",
       "0   4.605118  EngineSize\n",
       "1   1.446859         RPM\n",
       "2   8.685973      Weight\n",
       "3   4.013002      Length\n",
       "4  13.668288     MPGcity\n",
       "5  12.943133  MPGhighway"
      ]
     },
     "execution_count": 20,
     "metadata": {},
     "output_type": "execute_result"
    }
   ],
   "source": [
    "from patsy import dmatrices\n",
    "from statsmodels.stats.outliers_influence import variance_inflation_factor\n",
    "# 독립변수와 종속변수를 데이터프레임으로 나누어 저장하는 함수 \n",
    "y,X = dmatrices(\"Price ~ EngineSize + RPM + Weight+ Length + MPGcity + MPGhighway\",\n",
    "                data = Cars,return_type =\"dataframe\")\n",
    "# 독립변수끼리의 VIF값을 계산하여 데이터프레임으로 만드는 과정 \n",
    "vif_list = []\n",
    "for i in range(1,len(X.columns)): \n",
    "    vif_list.append([variance_inflation_factor(X.values,i), X.columns[i]])\n",
    "pd.DataFrame(vif_list,columns=['vif','variable'])\n"
   ]
  },
  {
   "cell_type": "code",
   "execution_count": 21,
   "id": "0ff6cef7-17c1-4c08-badf-3899b1aba25a",
   "metadata": {},
   "outputs": [
    {
     "data": {
      "text/html": [
       "<table class=\"simpletable\">\n",
       "<caption>OLS Regression Results</caption>\n",
       "<tr>\n",
       "  <th>Dep. Variable:</th>          <td>Price</td>      <th>  R-squared:         </th> <td>   0.568</td>\n",
       "</tr>\n",
       "<tr>\n",
       "  <th>Model:</th>                   <td>OLS</td>       <th>  Adj. R-squared:    </th> <td>   0.549</td>\n",
       "</tr>\n",
       "<tr>\n",
       "  <th>Method:</th>             <td>Least Squares</td>  <th>  F-statistic:       </th> <td>   28.98</td>\n",
       "</tr>\n",
       "<tr>\n",
       "  <th>Date:</th>             <td>Mon, 18 Apr 2022</td> <th>  Prob (F-statistic):</th> <td>2.26e-15</td>\n",
       "</tr>\n",
       "<tr>\n",
       "  <th>Time:</th>                 <td>23:55:35</td>     <th>  Log-Likelihood:    </th> <td> -303.29</td>\n",
       "</tr>\n",
       "<tr>\n",
       "  <th>No. Observations:</th>      <td>    93</td>      <th>  AIC:               </th> <td>   616.6</td>\n",
       "</tr>\n",
       "<tr>\n",
       "  <th>Df Residuals:</th>          <td>    88</td>      <th>  BIC:               </th> <td>   629.3</td>\n",
       "</tr>\n",
       "<tr>\n",
       "  <th>Df Model:</th>              <td>     4</td>      <th>                     </th>     <td> </td>   \n",
       "</tr>\n",
       "<tr>\n",
       "  <th>Covariance Type:</th>      <td>nonrobust</td>    <th>                     </th>     <td> </td>   \n",
       "</tr>\n",
       "</table>\n",
       "<table class=\"simpletable\">\n",
       "<tr>\n",
       "       <td></td>         <th>coef</th>     <th>std err</th>      <th>t</th>      <th>P>|t|</th>  <th>[0.025</th>    <th>0.975]</th>  \n",
       "</tr>\n",
       "<tr>\n",
       "  <th>Intercept</th>  <td>  -37.7063</td> <td>   14.846</td> <td>   -2.540</td> <td> 0.013</td> <td>  -67.210</td> <td>   -8.203</td>\n",
       "</tr>\n",
       "<tr>\n",
       "  <th>EngineSize</th> <td>    4.5884</td> <td>    1.343</td> <td>    3.418</td> <td> 0.001</td> <td>    1.920</td> <td>    7.256</td>\n",
       "</tr>\n",
       "<tr>\n",
       "  <th>RPM</th>        <td>    0.0071</td> <td>    0.001</td> <td>    5.232</td> <td> 0.000</td> <td>    0.004</td> <td>    0.010</td>\n",
       "</tr>\n",
       "<tr>\n",
       "  <th>Weight</th>     <td>    0.0049</td> <td>    0.003</td> <td>    1.690</td> <td> 0.095</td> <td>   -0.001</td> <td>    0.011</td>\n",
       "</tr>\n",
       "<tr>\n",
       "  <th>MPGhighway</th> <td>   -0.2646</td> <td>    0.221</td> <td>   -1.200</td> <td> 0.234</td> <td>   -0.703</td> <td>    0.174</td>\n",
       "</tr>\n",
       "</table>\n",
       "<table class=\"simpletable\">\n",
       "<tr>\n",
       "  <th>Omnibus:</th>       <td>62.072</td> <th>  Durbin-Watson:     </th> <td>   1.398</td>\n",
       "</tr>\n",
       "<tr>\n",
       "  <th>Prob(Omnibus):</th> <td> 0.000</td> <th>  Jarque-Bera (JB):  </th> <td> 368.013</td>\n",
       "</tr>\n",
       "<tr>\n",
       "  <th>Skew:</th>          <td> 2.047</td> <th>  Prob(JB):          </th> <td>1.22e-80</td>\n",
       "</tr>\n",
       "<tr>\n",
       "  <th>Kurtosis:</th>      <td>11.843</td> <th>  Cond. No.          </th> <td>1.35e+05</td>\n",
       "</tr>\n",
       "</table><br/><br/>Warnings:<br/>[1] Standard Errors assume that the covariance matrix of the errors is correctly specified.<br/>[2] The condition number is large, 1.35e+05. This might indicate that there are<br/>strong multicollinearity or other numerical problems."
      ],
      "text/plain": [
       "<class 'statsmodels.iolib.summary.Summary'>\n",
       "\"\"\"\n",
       "                            OLS Regression Results                            \n",
       "==============================================================================\n",
       "Dep. Variable:                  Price   R-squared:                       0.568\n",
       "Model:                            OLS   Adj. R-squared:                  0.549\n",
       "Method:                 Least Squares   F-statistic:                     28.98\n",
       "Date:                Mon, 18 Apr 2022   Prob (F-statistic):           2.26e-15\n",
       "Time:                        23:55:35   Log-Likelihood:                -303.29\n",
       "No. Observations:                  93   AIC:                             616.6\n",
       "Df Residuals:                      88   BIC:                             629.3\n",
       "Df Model:                           4                                         \n",
       "Covariance Type:            nonrobust                                         \n",
       "==============================================================================\n",
       "                 coef    std err          t      P>|t|      [0.025      0.975]\n",
       "------------------------------------------------------------------------------\n",
       "Intercept    -37.7063     14.846     -2.540      0.013     -67.210      -8.203\n",
       "EngineSize     4.5884      1.343      3.418      0.001       1.920       7.256\n",
       "RPM            0.0071      0.001      5.232      0.000       0.004       0.010\n",
       "Weight         0.0049      0.003      1.690      0.095      -0.001       0.011\n",
       "MPGhighway    -0.2646      0.221     -1.200      0.234      -0.703       0.174\n",
       "==============================================================================\n",
       "Omnibus:                       62.072   Durbin-Watson:                   1.398\n",
       "Prob(Omnibus):                  0.000   Jarque-Bera (JB):              368.013\n",
       "Skew:                           2.047   Prob(JB):                     1.22e-80\n",
       "Kurtosis:                      11.843   Cond. No.                     1.35e+05\n",
       "==============================================================================\n",
       "\n",
       "Warnings:\n",
       "[1] Standard Errors assume that the covariance matrix of the errors is correctly specified.\n",
       "[2] The condition number is large, 1.35e+05. This might indicate that there are\n",
       "strong multicollinearity or other numerical problems.\n",
       "\"\"\""
      ]
     },
     "execution_count": 21,
     "metadata": {},
     "output_type": "execute_result"
    }
   ],
   "source": [
    "model = smf.ols(formula =\"Price ~ EngineSize + RPM + Weight  + MPGhighway\", data = Cars)\n",
    "result = model.fit()\n",
    "result.summary()\n"
   ]
  },
  {
   "cell_type": "code",
   "execution_count": 22,
   "id": "226c6563-225a-4b26-9793-ca58d6fd38b9",
   "metadata": {},
   "outputs": [],
   "source": [
    "import time\n",
    "import itertools\n",
    "def processSubset(X,y, feature_set):\n",
    "            model = sm.OLS(y,X[list(feature_set)]) # Modeling\n",
    "            regr = model.fit() # 모델 학습\n",
    "            AIC = regr.aic # 모델의 AIC\n",
    "            return {\"model\":regr, \"AIC\":AIC}\n",
    "# 전진선택법\n",
    "def forward(X, y, predictors):\n",
    "    # 데이터 변수들이 미리정의된 predictors에 있는지 없는지 확인 및 분류\n",
    "    remaining_predictors = [p for p in X.columns.difference(['Intercept']) if p not in predictors]\n",
    "    results = []\n",
    "    for p in remaining_predictors:\n",
    "        results.append(processSubset(X=X, y= y,            feature_set=predictors+[p]+['Intercept']))\n",
    "        \n",
    "    # 데이터프레임으로 변환\n",
    "    models = pd.DataFrame(results)\n",
    "    # AIC가 가장 낮은 것을 선택\n",
    "    best_model = models.loc[models['AIC'].argmin()] # index\n",
    "    print(\"Processed \", models.shape[0], \"models on\", len(predictors)+1, \"predictors in\")\n",
    "    print('Selected predictors:',best_model['model'].model.exog_names,' AIC:',best_model[0] )\n",
    "    return best_model\n"
   ]
  },
  {
   "cell_type": "code",
   "execution_count": 23,
   "id": "7c076648-742b-42ca-b9ad-ad7fe8c9c6a0",
   "metadata": {},
   "outputs": [],
   "source": [
    "# 후진소거법\n",
    "def backward(X,y,predictors):\n",
    "    tic = time.time()\n",
    "    results = []\n",
    "    \n",
    "    # 데이터 변수들이 미리정의된 predictors 조합 확인\n",
    "    for combo in itertools.combinations(predictors, len(predictors) -1):\n",
    "        results.append(processSubset(X=X, y= y,        feature_set = list(combo)+['Intercept']))\n",
    "    models = pd.DataFrame(results)\n",
    "    \n",
    "    # 가장 낮은 AIC를 가진 모델을 선택\n",
    "    best_model = models.loc[models['AIC'].argmin()]\n",
    "    toc = time.time()\n",
    "    print(\"Processed \", models.shape[0], \"models on\",          len(predictors) -1, \"predictors in\", (toc - tic))\n",
    "    print('Selected predictors:',best_model['model'].model.exog_names,         'AIC:',best_model[0] )\n",
    "\n",
    "    return best_model\n"
   ]
  },
  {
   "cell_type": "code",
   "execution_count": 24,
   "id": "59c75db2-a7f2-43bc-8f09-05b4acdc8fac",
   "metadata": {},
   "outputs": [],
   "source": [
    "# 단계적 선택법\n",
    "def Stepwise_model(X,y):\n",
    "    Stepmodels = pd.DataFrame(columns=[\"AIC\", \"model\"])\n",
    "    tic = time.time()\n",
    "    predictors = []\n",
    "    Smodel_before = processSubset(X,y,predictors+['Intercept'])['AIC']\n",
    "\n",
    "    for i in range(1, len(X.columns.difference(['Intercept'])) +1):\n",
    "        Forward_result = forward(X=X, y=y, predictors=predictors) \n",
    "        print('forward')\n",
    "        Stepmodels.loc[i] = Forward_result\n",
    "        predictors = Stepmodels.loc[i][\"model\"].model.exog_names\n",
    "        predictors = [ k for k in predictors if k !='Intercept']\n",
    "        Backward_result = backward(X=X, y=y, predictors=predictors)\n",
    "\n",
    "        if Backward_result['AIC']< Forward_result['AIC']:\n",
    "            Stepmodels.loc[i] = Backward_result\n",
    "            predictors = Stepmodels.loc[i][\"model\"].model.exog_names\n",
    "            Smodel_before = Stepmodels.loc[i][\"AIC\"]\n",
    "            predictors = [ k for k in predictors if k !='Intercept']\n",
    "            print('backward')\n",
    "\n",
    "        if Stepmodels.loc[i]['AIC']> Smodel_before:\n",
    "            break\n",
    "        else:\n",
    "            Smodel_before = Stepmodels.loc[i][\"AIC\"]\n",
    "    toc = time.time()\n",
    "    print(\"Total elapsed time:\", (toc - tic), \"seconds.\")\n",
    "\n",
    "    return (Stepmodels['model'][len(Stepmodels['model'])])\n"
   ]
  },
  {
   "cell_type": "code",
   "execution_count": 25,
   "id": "20eab300-d3bb-400b-856d-d38b5cd3ac61",
   "metadata": {},
   "outputs": [
    {
     "name": "stdout",
     "output_type": "stream",
     "text": [
      "Processed  6 models on 1 predictors in\n",
      "Selected predictors: ['Weight', 'Intercept']  AIC: <statsmodels.regression.linear_model.RegressionResultsWrapper object at 0x000001892F9944C8>\n",
      "forward\n",
      "Processed  1 models on 0 predictors in 0.003320455551147461\n",
      "Selected predictors: ['Intercept'] AIC: <statsmodels.regression.linear_model.RegressionResultsWrapper object at 0x000001892F98D188>\n",
      "Processed  5 models on 2 predictors in\n",
      "Selected predictors: ['Weight', 'RPM', 'Intercept']  AIC: <statsmodels.regression.linear_model.RegressionResultsWrapper object at 0x000001892F972E88>\n",
      "forward\n",
      "Processed  2 models on 1 predictors in 0.0038042068481445312\n",
      "Selected predictors: ['Weight', 'Intercept'] AIC: <statsmodels.regression.linear_model.RegressionResultsWrapper object at 0x000001892F95AB88>\n",
      "Processed  4 models on 3 predictors in\n",
      "Selected predictors: ['Weight', 'RPM', 'EngineSize', 'Intercept']  AIC: <statsmodels.regression.linear_model.RegressionResultsWrapper object at 0x000001892F994B48>\n",
      "forward\n",
      "Processed  3 models on 2 predictors in 0.005552768707275391\n",
      "Selected predictors: ['Weight', 'RPM', 'Intercept'] AIC: <statsmodels.regression.linear_model.RegressionResultsWrapper object at 0x000001892F984FC8>\n",
      "Processed  3 models on 4 predictors in\n",
      "Selected predictors: ['Weight', 'RPM', 'EngineSize', 'MPGcity', 'Intercept']  AIC: <statsmodels.regression.linear_model.RegressionResultsWrapper object at 0x000001892F9AAD88>\n",
      "forward\n",
      "Processed  4 models on 3 predictors in 0.005600690841674805\n",
      "Selected predictors: ['Weight', 'RPM', 'EngineSize', 'Intercept'] AIC: <statsmodels.regression.linear_model.RegressionResultsWrapper object at 0x000001892F9AA788>\n",
      "backward\n",
      "Processed  3 models on 4 predictors in\n",
      "Selected predictors: ['Weight', 'RPM', 'EngineSize', 'MPGcity', 'Intercept']  AIC: <statsmodels.regression.linear_model.RegressionResultsWrapper object at 0x000001892F9AE0C8>\n",
      "forward\n",
      "Processed  4 models on 3 predictors in 0.011239290237426758\n",
      "Selected predictors: ['Weight', 'RPM', 'EngineSize', 'Intercept'] AIC: <statsmodels.regression.linear_model.RegressionResultsWrapper object at 0x000001892F9AEE08>\n",
      "backward\n",
      "Processed  3 models on 4 predictors in\n",
      "Selected predictors: ['Weight', 'RPM', 'EngineSize', 'MPGcity', 'Intercept']  AIC: <statsmodels.regression.linear_model.RegressionResultsWrapper object at 0x000001892F9B0988>\n",
      "forward\n",
      "Processed  4 models on 3 predictors in 0.007666587829589844\n",
      "Selected predictors: ['Weight', 'RPM', 'EngineSize', 'Intercept'] AIC: <statsmodels.regression.linear_model.RegressionResultsWrapper object at 0x000001892F9B0B48>\n",
      "backward\n",
      "Total elapsed time: 0.12412333488464355 seconds.\n"
     ]
    }
   ],
   "source": [
    "Stepwise_best_model = Stepwise_model(X=X, y=y)"
   ]
  },
  {
   "cell_type": "code",
   "execution_count": 27,
   "id": "80756327-af97-43b0-bc02-289fc2893c71",
   "metadata": {},
   "outputs": [
    {
     "data": {
      "text/html": [
       "<table class=\"simpletable\">\n",
       "<caption>OLS Regression Results</caption>\n",
       "<tr>\n",
       "  <th>Dep. Variable:</th>          <td>Price</td>      <th>  R-squared:         </th> <td>   0.561</td>\n",
       "</tr>\n",
       "<tr>\n",
       "  <th>Model:</th>                   <td>OLS</td>       <th>  Adj. R-squared:    </th> <td>   0.547</td>\n",
       "</tr>\n",
       "<tr>\n",
       "  <th>Method:</th>             <td>Least Squares</td>  <th>  F-statistic:       </th> <td>   37.98</td>\n",
       "</tr>\n",
       "<tr>\n",
       "  <th>Date:</th>             <td>Tue, 19 Apr 2022</td> <th>  Prob (F-statistic):</th> <td>6.75e-16</td>\n",
       "</tr>\n",
       "<tr>\n",
       "  <th>Time:</th>                 <td>00:22:19</td>     <th>  Log-Likelihood:    </th> <td> -304.05</td>\n",
       "</tr>\n",
       "<tr>\n",
       "  <th>No. Observations:</th>      <td>    93</td>      <th>  AIC:               </th> <td>   616.1</td>\n",
       "</tr>\n",
       "<tr>\n",
       "  <th>Df Residuals:</th>          <td>    89</td>      <th>  BIC:               </th> <td>   626.2</td>\n",
       "</tr>\n",
       "<tr>\n",
       "  <th>Df Model:</th>              <td>     3</td>      <th>                     </th>     <td> </td>   \n",
       "</tr>\n",
       "<tr>\n",
       "  <th>Covariance Type:</th>      <td>nonrobust</td>    <th>                     </th>     <td> </td>   \n",
       "</tr>\n",
       "</table>\n",
       "<table class=\"simpletable\">\n",
       "<tr>\n",
       "       <td></td>         <th>coef</th>     <th>std err</th>      <th>t</th>      <th>P>|t|</th>  <th>[0.025</th>    <th>0.975]</th>  \n",
       "</tr>\n",
       "<tr>\n",
       "  <th>Weight</th>     <td>    0.0073</td> <td>    0.002</td> <td>    3.372</td> <td> 0.001</td> <td>    0.003</td> <td>    0.012</td>\n",
       "</tr>\n",
       "<tr>\n",
       "  <th>RPM</th>        <td>    0.0071</td> <td>    0.001</td> <td>    5.208</td> <td> 0.000</td> <td>    0.004</td> <td>    0.010</td>\n",
       "</tr>\n",
       "<tr>\n",
       "  <th>EngineSize</th> <td>    4.3054</td> <td>    1.325</td> <td>    3.249</td> <td> 0.002</td> <td>    1.673</td> <td>    6.938</td>\n",
       "</tr>\n",
       "<tr>\n",
       "  <th>Intercept</th>  <td>  -51.7933</td> <td>    9.106</td> <td>   -5.688</td> <td> 0.000</td> <td>  -69.887</td> <td>  -33.699</td>\n",
       "</tr>\n",
       "</table>\n",
       "<table class=\"simpletable\">\n",
       "<tr>\n",
       "  <th>Omnibus:</th>       <td>62.441</td> <th>  Durbin-Watson:     </th> <td>   1.406</td>\n",
       "</tr>\n",
       "<tr>\n",
       "  <th>Prob(Omnibus):</th> <td> 0.000</td> <th>  Jarque-Bera (JB):  </th> <td> 361.880</td>\n",
       "</tr>\n",
       "<tr>\n",
       "  <th>Skew:</th>          <td> 2.076</td> <th>  Prob(JB):          </th> <td>2.62e-79</td>\n",
       "</tr>\n",
       "<tr>\n",
       "  <th>Kurtosis:</th>      <td>11.726</td> <th>  Cond. No.          </th> <td>8.27e+04</td>\n",
       "</tr>\n",
       "</table><br/><br/>Warnings:<br/>[1] Standard Errors assume that the covariance matrix of the errors is correctly specified.<br/>[2] The condition number is large, 8.27e+04. This might indicate that there are<br/>strong multicollinearity or other numerical problems."
      ],
      "text/plain": [
       "<class 'statsmodels.iolib.summary.Summary'>\n",
       "\"\"\"\n",
       "                            OLS Regression Results                            \n",
       "==============================================================================\n",
       "Dep. Variable:                  Price   R-squared:                       0.561\n",
       "Model:                            OLS   Adj. R-squared:                  0.547\n",
       "Method:                 Least Squares   F-statistic:                     37.98\n",
       "Date:                Tue, 19 Apr 2022   Prob (F-statistic):           6.75e-16\n",
       "Time:                        00:22:19   Log-Likelihood:                -304.05\n",
       "No. Observations:                  93   AIC:                             616.1\n",
       "Df Residuals:                      89   BIC:                             626.2\n",
       "Df Model:                           3                                         \n",
       "Covariance Type:            nonrobust                                         \n",
       "==============================================================================\n",
       "                 coef    std err          t      P>|t|      [0.025      0.975]\n",
       "------------------------------------------------------------------------------\n",
       "Weight         0.0073      0.002      3.372      0.001       0.003       0.012\n",
       "RPM            0.0071      0.001      5.208      0.000       0.004       0.010\n",
       "EngineSize     4.3054      1.325      3.249      0.002       1.673       6.938\n",
       "Intercept    -51.7933      9.106     -5.688      0.000     -69.887     -33.699\n",
       "==============================================================================\n",
       "Omnibus:                       62.441   Durbin-Watson:                   1.406\n",
       "Prob(Omnibus):                  0.000   Jarque-Bera (JB):              361.880\n",
       "Skew:                           2.076   Prob(JB):                     2.62e-79\n",
       "Kurtosis:                      11.726   Cond. No.                     8.27e+04\n",
       "==============================================================================\n",
       "\n",
       "Warnings:\n",
       "[1] Standard Errors assume that the covariance matrix of the errors is correctly specified.\n",
       "[2] The condition number is large, 8.27e+04. This might indicate that there are\n",
       "strong multicollinearity or other numerical problems.\n",
       "\"\"\""
      ]
     },
     "execution_count": 27,
     "metadata": {},
     "output_type": "execute_result"
    }
   ],
   "source": [
    "Stepwise_best_model.summary()"
   ]
  },
  {
   "cell_type": "code",
   "execution_count": null,
   "id": "0b2f076f-137f-4b3a-9b63-22b76c79de01",
   "metadata": {},
   "outputs": [],
   "source": []
  },
  {
   "cell_type": "markdown",
   "id": "e0d80187-6d1f-4987-b583-85973864753b",
   "metadata": {
    "toc": true
   },
   "source": [
    "<h1>Table of Contents<span class=\"tocSkip\"></span></h1>\n",
    "<div class=\"toc\"><ul class=\"toc-item\"></ul></div>"
   ]
  },
  {
   "cell_type": "code",
   "execution_count": 2,
   "id": "d87ab0a7-6c06-4185-aec5-95185fe13e1b",
   "metadata": {},
   "outputs": [
    {
     "data": {
      "text/html": [
       "<div>\n",
       "<style scoped>\n",
       "    .dataframe tbody tr th:only-of-type {\n",
       "        vertical-align: middle;\n",
       "    }\n",
       "\n",
       "    .dataframe tbody tr th {\n",
       "        vertical-align: top;\n",
       "    }\n",
       "\n",
       "    .dataframe thead th {\n",
       "        text-align: right;\n",
       "    }\n",
       "</style>\n",
       "<table border=\"1\" class=\"dataframe\">\n",
       "  <thead>\n",
       "    <tr style=\"text-align: right;\">\n",
       "      <th></th>\n",
       "      <th>State</th>\n",
       "      <th>Murder</th>\n",
       "      <th>Assault</th>\n",
       "      <th>UrbanPop</th>\n",
       "      <th>Rape</th>\n",
       "    </tr>\n",
       "  </thead>\n",
       "  <tbody>\n",
       "    <tr>\n",
       "      <th>0</th>\n",
       "      <td>Alabama</td>\n",
       "      <td>13.2</td>\n",
       "      <td>236</td>\n",
       "      <td>58</td>\n",
       "      <td>21.2</td>\n",
       "    </tr>\n",
       "    <tr>\n",
       "      <th>1</th>\n",
       "      <td>Alaska</td>\n",
       "      <td>10.0</td>\n",
       "      <td>263</td>\n",
       "      <td>48</td>\n",
       "      <td>44.5</td>\n",
       "    </tr>\n",
       "    <tr>\n",
       "      <th>2</th>\n",
       "      <td>Arizona</td>\n",
       "      <td>8.1</td>\n",
       "      <td>294</td>\n",
       "      <td>80</td>\n",
       "      <td>31.0</td>\n",
       "    </tr>\n",
       "    <tr>\n",
       "      <th>3</th>\n",
       "      <td>Arkansas</td>\n",
       "      <td>8.8</td>\n",
       "      <td>190</td>\n",
       "      <td>50</td>\n",
       "      <td>19.5</td>\n",
       "    </tr>\n",
       "    <tr>\n",
       "      <th>4</th>\n",
       "      <td>California</td>\n",
       "      <td>9.0</td>\n",
       "      <td>276</td>\n",
       "      <td>91</td>\n",
       "      <td>40.6</td>\n",
       "    </tr>\n",
       "  </tbody>\n",
       "</table>\n",
       "</div>"
      ],
      "text/plain": [
       "        State  Murder  Assault  UrbanPop  Rape\n",
       "0     Alabama    13.2      236        58  21.2\n",
       "1      Alaska    10.0      263        48  44.5\n",
       "2     Arizona     8.1      294        80  31.0\n",
       "3    Arkansas     8.8      190        50  19.5\n",
       "4  California     9.0      276        91  40.6"
      ]
     },
     "execution_count": 2,
     "metadata": {},
     "output_type": "execute_result"
    }
   ],
   "source": [
    "import pandas as pd\n",
    "import numpy as np\n",
    "from scipy.cluster.hierarchy import dendrogram, linkage, fcluster\n",
    "from matplotlib import pyplot as plt\n",
    "\n",
    "US = pd.read_csv('../data/USArrests.csv')\n",
    "\n",
    "US.columns = ['State', 'Murder', 'Assault', 'UrbanPop', 'Rape']\n",
    "labelList=US.State.tolist()\n",
    "US.head()\n"
   ]
  },
  {
   "cell_type": "code",
   "execution_count": 3,
   "id": "87e4b05a-fd25-4474-83ef-01523da18fc7",
   "metadata": {},
   "outputs": [
    {
     "data": {
      "image/png": "[encoded data removed]",
      "text/plain": [
       "<Figure size 720x504 with 1 Axes>"
      ]
     },
     "metadata": {
      "needs_background": "light"
     },
     "output_type": "display_data"
    }
   ],
   "source": [
    "# 최단연결법\n",
    "single = linkage(US.iloc[:, 1::], metric ='euclidean', method='single')\n",
    "\n",
    "# 덴드로그램 그리기\n",
    "plt.figure(figsize=(10, 7))\n",
    "dendrogram(single,\n",
    "            orientation='top',\n",
    "            labels=labelList,\n",
    "            distance_sort='descending',\n",
    "            color_threshold=25,   #군집의 수를 설정하는 Height 값 설정\n",
    "            show_leaf_counts=True)\n",
    "\n",
    "plt.axhline(y=25, color='r', linewidth=1)  #Height 값에 따라 선을 그어 적절한 군집 수 설정\n",
    "plt.show()\n"
   ]
  },
  {
   "cell_type": "code",
   "execution_count": 6,
   "id": "29ff425a-17b2-470f-a713-773cd11739fe",
   "metadata": {},
   "outputs": [
    {
     "data": {
      "image/png": "[encoded data removed]",
      "text/plain": [
       "<Figure size 720x504 with 1 Axes>"
      ]
     },
     "metadata": {
      "needs_background": "light"
     },
     "output_type": "display_data"
    }
   ],
   "source": [
    "# 와드연결법\n",
    "ward = linkage(US.iloc[:, 1::], metric ='euclidean', method='ward')\n",
    "# 덴드로그램 그리기\n",
    "plt.figure(figsize=(10, 7))\n",
    "dendrogram(ward,\n",
    "            orientation='top',\n",
    "            labels=labelList,\n",
    "            distance_sort='descending',\n",
    "            color_threshold=250,\n",
    "            show_leaf_counts=True)\n",
    "plt.axhline(y=250, color='r', linewidth=1)  #Height 값에 따라 선을 그어 적절한 군집 수 설정\n",
    "plt.show()\n"
   ]
  },
  {
   "cell_type": "code",
   "execution_count": 7,
   "id": "b9e0f849-dd20-4ddf-982d-10347c54a743",
   "metadata": {},
   "outputs": [
    {
     "data": {
      "text/plain": [
       "array([1, 1, 1, 2, 1, 2, 3, 1, 1, 2, 3, 3, 1, 3, 3, 3, 3, 1, 3, 1, 2, 1,\n",
       "       3, 1, 2, 3, 3, 1, 3, 2, 1, 1, 1, 3, 3, 2, 2, 3, 2, 1, 3, 2, 2, 3,\n",
       "       3, 2, 2, 3, 3, 2], dtype=int32)"
      ]
     },
     "execution_count": 7,
     "metadata": {},
     "output_type": "execute_result"
    }
   ],
   "source": [
    "# state마다 어떤 군집에 설정되었는지 확인\n",
    "assignments = fcluster(ward, 250, 'distance')\n",
    "assignments\n"
   ]
  },
  {
   "cell_type": "code",
   "execution_count": 8,
   "id": "1193d941-d90c-430d-8a6c-3a504f8e5544",
   "metadata": {
    "scrolled": true
   },
   "outputs": [
    {
     "data": {
      "text/html": [
       "<div>\n",
       "<style scoped>\n",
       "    .dataframe tbody tr th:only-of-type {\n",
       "        vertical-align: middle;\n",
       "    }\n",
       "\n",
       "    .dataframe tbody tr th {\n",
       "        vertical-align: top;\n",
       "    }\n",
       "\n",
       "    .dataframe thead th {\n",
       "        text-align: right;\n",
       "    }\n",
       "</style>\n",
       "<table border=\"1\" class=\"dataframe\">\n",
       "  <thead>\n",
       "    <tr style=\"text-align: right;\">\n",
       "      <th></th>\n",
       "      <th>Murder</th>\n",
       "      <th>Assault</th>\n",
       "      <th>UrbanPop</th>\n",
       "      <th>Rape</th>\n",
       "    </tr>\n",
       "    <tr>\n",
       "      <th>cluster</th>\n",
       "      <th></th>\n",
       "      <th></th>\n",
       "      <th></th>\n",
       "      <th></th>\n",
       "    </tr>\n",
       "  </thead>\n",
       "  <tbody>\n",
       "    <tr>\n",
       "      <th>1</th>\n",
       "      <td>11.812500</td>\n",
       "      <td>272.562500</td>\n",
       "      <td>68.312500</td>\n",
       "      <td>28.375000</td>\n",
       "    </tr>\n",
       "    <tr>\n",
       "      <th>2</th>\n",
       "      <td>8.214286</td>\n",
       "      <td>173.285714</td>\n",
       "      <td>70.642857</td>\n",
       "      <td>22.842857</td>\n",
       "    </tr>\n",
       "    <tr>\n",
       "      <th>3</th>\n",
       "      <td>4.270000</td>\n",
       "      <td>87.550000</td>\n",
       "      <td>59.750000</td>\n",
       "      <td>14.390000</td>\n",
       "    </tr>\n",
       "  </tbody>\n",
       "</table>\n",
       "</div>"
      ],
      "text/plain": [
       "            Murder     Assault   UrbanPop       Rape\n",
       "cluster                                             \n",
       "1        11.812500  272.562500  68.312500  28.375000\n",
       "2         8.214286  173.285714  70.642857  22.842857\n",
       "3         4.270000   87.550000  59.750000  14.390000"
      ]
     },
     "execution_count": 8,
     "metadata": {},
     "output_type": "execute_result"
    }
   ],
   "source": [
    "US['cluster'] = assignments\n",
    "US.groupby('cluster').mean()\n"
   ]
  },
  {
   "cell_type": "code",
   "execution_count": null,
   "id": "bde67c87-4312-4f84-9fcf-aae8b3d39dfb",
   "metadata": {},
   "outputs": [],
   "source": []
  },
  {
   "cell_type": "code",
   "execution_count": null,
   "id": "9cec8b0a-5f61-4d79-b174-5c7d36603bb6",
   "metadata": {},
   "outputs": [],
   "source": []
  },
  {
   "cell_type": "code",
   "execution_count": 9,
   "id": "d56ec7f4-6031-4e55-ae5b-b23746fb77f2",
   "metadata": {},
   "outputs": [
    {
     "data": {
      "text/html": [
       "<div>\n",
       "<style scoped>\n",
       "    .dataframe tbody tr th:only-of-type {\n",
       "        vertical-align: middle;\n",
       "    }\n",
       "\n",
       "    .dataframe tbody tr th {\n",
       "        vertical-align: top;\n",
       "    }\n",
       "\n",
       "    .dataframe thead th {\n",
       "        text-align: right;\n",
       "    }\n",
       "</style>\n",
       "<table border=\"1\" class=\"dataframe\">\n",
       "  <thead>\n",
       "    <tr style=\"text-align: right;\">\n",
       "      <th></th>\n",
       "      <th>sepal length</th>\n",
       "      <th>sepal width</th>\n",
       "      <th>petal length</th>\n",
       "      <th>petal width</th>\n",
       "    </tr>\n",
       "  </thead>\n",
       "  <tbody>\n",
       "    <tr>\n",
       "      <th>0</th>\n",
       "      <td>5.1</td>\n",
       "      <td>3.5</td>\n",
       "      <td>1.4</td>\n",
       "      <td>0.2</td>\n",
       "    </tr>\n",
       "    <tr>\n",
       "      <th>1</th>\n",
       "      <td>4.9</td>\n",
       "      <td>3.0</td>\n",
       "      <td>1.4</td>\n",
       "      <td>0.2</td>\n",
       "    </tr>\n",
       "    <tr>\n",
       "      <th>2</th>\n",
       "      <td>4.7</td>\n",
       "      <td>3.2</td>\n",
       "      <td>1.3</td>\n",
       "      <td>0.2</td>\n",
       "    </tr>\n",
       "    <tr>\n",
       "      <th>3</th>\n",
       "      <td>4.6</td>\n",
       "      <td>3.1</td>\n",
       "      <td>1.5</td>\n",
       "      <td>0.2</td>\n",
       "    </tr>\n",
       "    <tr>\n",
       "      <th>4</th>\n",
       "      <td>5.0</td>\n",
       "      <td>3.6</td>\n",
       "      <td>1.4</td>\n",
       "      <td>0.2</td>\n",
       "    </tr>\n",
       "    <tr>\n",
       "      <th>...</th>\n",
       "      <td>...</td>\n",
       "      <td>...</td>\n",
       "      <td>...</td>\n",
       "      <td>...</td>\n",
       "    </tr>\n",
       "    <tr>\n",
       "      <th>145</th>\n",
       "      <td>6.7</td>\n",
       "      <td>3.0</td>\n",
       "      <td>5.2</td>\n",
       "      <td>2.3</td>\n",
       "    </tr>\n",
       "    <tr>\n",
       "      <th>146</th>\n",
       "      <td>6.3</td>\n",
       "      <td>2.5</td>\n",
       "      <td>5.0</td>\n",
       "      <td>1.9</td>\n",
       "    </tr>\n",
       "    <tr>\n",
       "      <th>147</th>\n",
       "      <td>6.5</td>\n",
       "      <td>3.0</td>\n",
       "      <td>5.2</td>\n",
       "      <td>2.0</td>\n",
       "    </tr>\n",
       "    <tr>\n",
       "      <th>148</th>\n",
       "      <td>6.2</td>\n",
       "      <td>3.4</td>\n",
       "      <td>5.4</td>\n",
       "      <td>2.3</td>\n",
       "    </tr>\n",
       "    <tr>\n",
       "      <th>149</th>\n",
       "      <td>5.9</td>\n",
       "      <td>3.0</td>\n",
       "      <td>5.1</td>\n",
       "      <td>1.8</td>\n",
       "    </tr>\n",
       "  </tbody>\n",
       "</table>\n",
       "<p>150 rows × 4 columns</p>\n",
       "</div>"
      ],
      "text/plain": [
       "     sepal length  sepal width  petal length  petal width\n",
       "0             5.1          3.5           1.4          0.2\n",
       "1             4.9          3.0           1.4          0.2\n",
       "2             4.7          3.2           1.3          0.2\n",
       "3             4.6          3.1           1.5          0.2\n",
       "4             5.0          3.6           1.4          0.2\n",
       "..            ...          ...           ...          ...\n",
       "145           6.7          3.0           5.2          2.3\n",
       "146           6.3          2.5           5.0          1.9\n",
       "147           6.5          3.0           5.2          2.0\n",
       "148           6.2          3.4           5.4          2.3\n",
       "149           5.9          3.0           5.1          1.8\n",
       "\n",
       "[150 rows x 4 columns]"
      ]
     },
     "execution_count": 9,
     "metadata": {},
     "output_type": "execute_result"
    }
   ],
   "source": [
    "# 필요한 모듈\n",
    "import pandas as pd \n",
    "from sklearn.cluster import KMeans\n",
    "# 데이터 로드\n",
    "iris = pd.read_csv('../data/iris.csv')\n",
    "X = iris.drop('target',axis=1)\n",
    "X\n"
   ]
  },
  {
   "cell_type": "code",
   "execution_count": 12,
   "id": "6d91f0fc-d902-4628-90bd-a3da52f15492",
   "metadata": {},
   "outputs": [
    {
     "name": "stdout",
     "output_type": "stream",
     "text": [
      "513.3038433517568\n",
      "560.3999242466402\n",
      "529.1207190840455\n",
      "494.0943819140986\n",
      "474.51742958716295\n",
      "448.8714494416451\n",
      "436.61302488142496\n",
      "414.5303174051382\n"
     ]
    }
   ],
   "source": [
    "# 클러스터별 콜린스키 하라바츠 결과 비교\n",
    "from sklearn.metrics import calinski_harabasz_score\n",
    "\n",
    "for k in range(2, 10):\n",
    "    kmeans_model = KMeans(n_clusters=k, random_state=1).fit(X)\n",
    "    labels = kmeans_model.labels_\n",
    "    print(calinski_harabasz_score(X, labels))\n"
   ]
  },
  {
   "cell_type": "code",
   "execution_count": 13,
   "id": "556e41b9-40d2-4547-8055-e04218356075",
   "metadata": {},
   "outputs": [
    {
     "data": {
      "image/png": "[encoded data removed]",
      "text/plain": [
       "<Figure size 432x288 with 1 Axes>"
      ]
     },
     "metadata": {
      "needs_background": "light"
     },
     "output_type": "display_data"
    },
    {
     "name": "stdout",
     "output_type": "stream",
     "text": [
      "[680.8243999999996, 152.36870647733915, 78.94084142614601, 57.34540931571815, 46.535582051282034, 38.95701115711987, 34.32652991452991, 30.227724598930493, 27.766706937799047, 26.07225182334007]\n"
     ]
    }
   ],
   "source": [
    "import matplotlib.pyplot as plt\n",
    "def elbow(X):\n",
    "    sse=[]\n",
    "    for i in range(1, 11):\n",
    "        km=KMeans(n_clusters=i, random_state=1)\n",
    "        km.fit(X)\n",
    "        sse.append(km.inertia_)\n",
    "    \n",
    "    plt.plot(range(1,11), sse, marker='o')\n",
    "    plt.xlabel('The Number of Clusters')\n",
    "    plt.ylabel('SSE')\n",
    "    plt.show()\n",
    "    print(sse)\n",
    "elbow(X)"
   ]
  },
  {
   "cell_type": "code",
   "execution_count": 14,
   "id": "6f426a8a-2f90-4917-bab6-bb4a8df8f911",
   "metadata": {},
   "outputs": [
    {
     "data": {
      "text/html": [
       "<div>\n",
       "<style scoped>\n",
       "    .dataframe tbody tr th:only-of-type {\n",
       "        vertical-align: middle;\n",
       "    }\n",
       "\n",
       "    .dataframe tbody tr th {\n",
       "        vertical-align: top;\n",
       "    }\n",
       "\n",
       "    .dataframe thead th {\n",
       "        text-align: right;\n",
       "    }\n",
       "</style>\n",
       "<table border=\"1\" class=\"dataframe\">\n",
       "  <thead>\n",
       "    <tr style=\"text-align: right;\">\n",
       "      <th></th>\n",
       "      <th>sepal length</th>\n",
       "      <th>sepal width</th>\n",
       "      <th>petal length</th>\n",
       "      <th>petal width</th>\n",
       "    </tr>\n",
       "    <tr>\n",
       "      <th>cluster</th>\n",
       "      <th></th>\n",
       "      <th></th>\n",
       "      <th></th>\n",
       "      <th></th>\n",
       "    </tr>\n",
       "  </thead>\n",
       "  <tbody>\n",
       "    <tr>\n",
       "      <th>0</th>\n",
       "      <td>5.901613</td>\n",
       "      <td>2.748387</td>\n",
       "      <td>4.393548</td>\n",
       "      <td>1.433871</td>\n",
       "    </tr>\n",
       "    <tr>\n",
       "      <th>1</th>\n",
       "      <td>5.006000</td>\n",
       "      <td>3.418000</td>\n",
       "      <td>1.464000</td>\n",
       "      <td>0.244000</td>\n",
       "    </tr>\n",
       "    <tr>\n",
       "      <th>2</th>\n",
       "      <td>6.850000</td>\n",
       "      <td>3.073684</td>\n",
       "      <td>5.742105</td>\n",
       "      <td>2.071053</td>\n",
       "    </tr>\n",
       "  </tbody>\n",
       "</table>\n",
       "</div>"
      ],
      "text/plain": [
       "         sepal length  sepal width  petal length  petal width\n",
       "cluster                                                      \n",
       "0            5.901613     2.748387      4.393548     1.433871\n",
       "1            5.006000     3.418000      1.464000     0.244000\n",
       "2            6.850000     3.073684      5.742105     2.071053"
      ]
     },
     "execution_count": 14,
     "metadata": {},
     "output_type": "execute_result"
    }
   ],
   "source": [
    "#최적의 k로  K-Means 군집화 실행\n",
    "km = KMeans(n_clusters =3, random_state=1)\n",
    "km.fit(X)\n",
    "# 할당된 군집을 iris 데이터에 추가\n",
    "new_labels = km.labels_\n",
    "iris['cluster'] = new_labels\n",
    "\n",
    "iris.groupby(['cluster']).mean()\n",
    "\n"
   ]
  },
  {
   "cell_type": "code",
   "execution_count": 17,
   "id": "e14edc66-592c-402a-8ec6-ce65f2fbf3e7",
   "metadata": {},
   "outputs": [
    {
     "data": {
      "image/png": "[encoded data removed]",
      "text/plain": [
       "<Figure size 762.375x720 with 14 Axes>"
      ]
     },
     "metadata": {
      "needs_background": "light"
     },
     "output_type": "display_data"
    }
   ],
   "source": [
    "# k-means 시각화 \n",
    "# 군집결과 시각화\n",
    "import seaborn as sns\n",
    "import matplotlib.pyplot as plt\n",
    "sns.pairplot(iris,\n",
    "             diag_kind='kde',\n",
    "             hue=\"cluster\", \n",
    "             corner =True,  \n",
    "             palette='bright')\n",
    "plt.show()\n"
   ]
  },
  {
   "cell_type": "code",
   "execution_count": null,
   "id": "164764e2-cb0d-44d8-82e8-3a14a9d27f6f",
   "metadata": {},
   "outputs": [],
   "source": []
  },
  {
   "cell_type": "markdown",
   "id": "c092ccac-71f6-4212-af0e-cebebfaeb460",
   "metadata": {
    "toc": true
   },
   "source": [
    "<h1>Table of Contents<span class=\"tocSkip\"></span></h1>\n",
    "<div class=\"toc\"><ul class=\"toc-item\"></ul></div>"
   ]
  },
  {
   "cell_type": "code",
   "execution_count": 1,
   "id": "886b1879-d916-4d5e-b677-7ac812c53e9b",
   "metadata": {},
   "outputs": [
    {
     "data": {
      "text/html": [
       "<div>\n",
       "<style scoped>\n",
       "    .dataframe tbody tr th:only-of-type {\n",
       "        vertical-align: middle;\n",
       "    }\n",
       "\n",
       "    .dataframe tbody tr th {\n",
       "        vertical-align: top;\n",
       "    }\n",
       "\n",
       "    .dataframe thead th {\n",
       "        text-align: right;\n",
       "    }\n",
       "</style>\n",
       "<table border=\"1\" class=\"dataframe\">\n",
       "  <thead>\n",
       "    <tr style=\"text-align: right;\">\n",
       "      <th></th>\n",
       "      <th>product</th>\n",
       "    </tr>\n",
       "  </thead>\n",
       "  <tbody>\n",
       "    <tr>\n",
       "      <th>0</th>\n",
       "      <td>a</td>\n",
       "    </tr>\n",
       "    <tr>\n",
       "      <th>1</th>\n",
       "      <td>a</td>\n",
       "    </tr>\n",
       "    <tr>\n",
       "      <th>2</th>\n",
       "      <td>b</td>\n",
       "    </tr>\n",
       "    <tr>\n",
       "      <th>3</th>\n",
       "      <td>b</td>\n",
       "    </tr>\n",
       "    <tr>\n",
       "      <th>4</th>\n",
       "      <td>a</td>\n",
       "    </tr>\n",
       "  </tbody>\n",
       "</table>\n",
       "</div>"
      ],
      "text/plain": [
       "  product\n",
       "0       a\n",
       "1       a\n",
       "2       b\n",
       "3       b\n",
       "4       a"
      ]
     },
     "execution_count": 1,
     "metadata": {},
     "output_type": "execute_result"
    }
   ],
   "source": [
    "import pandas as pd \n",
    "data = ['a','a','b','b','a','a','a','a','b','b','b','b','b','a','a','b','b','a','b','b']\n",
    "test_df = pd.DataFrame(data,columns=[\"product\"])\n",
    "test_df.head()\n"
   ]
  },
  {
   "cell_type": "code",
   "execution_count": 2,
   "id": "65f70316-a5d3-4d15-8900-c0778ec5b265",
   "metadata": {},
   "outputs": [
    {
     "data": {
      "text/plain": [
       "(-1.1144881152070183, 0.26506984027306035)"
      ]
     },
     "execution_count": 2,
     "metadata": {},
     "output_type": "execute_result"
    }
   ],
   "source": [
    "\n",
    "from statsmodels.sandbox.stats.runs import runstest_1samp\n",
    "\n",
    "#Run-test를 위한 데이터 변환 \n",
    "test_df.loc[test_df['product']=='a','product'] =1\n",
    "test_df.loc[test_df['product']=='b','product'] =0\n",
    "\n",
    "#Perform Runs test\n",
    "# - run-test의 귀무가설 : 연속적인 관측값이 임의적이다. \n",
    "# - run-test의 대립가설 : 연속적인 관측값이 임의적이 아니다\n",
    "runstest_1samp(test_df['product'],cutoff =0.5 , correction=True)\n"
   ]
  },
  {
   "cell_type": "code",
   "execution_count": 3,
   "id": "7c5e877a-76f7-4603-91a0-62fb7ab4277f",
   "metadata": {},
   "outputs": [
    {
     "name": "stdout",
     "output_type": "stream",
     "text": [
      "['Apple', 'Bananas', 'Beer', 'Chicken', 'Milk', 'Rice']\n"
     ]
    },
    {
     "data": {
      "text/plain": [
       "array([[ True, False,  True,  True, False,  True],\n",
       "       [ True, False,  True, False, False,  True],\n",
       "       [ True, False,  True, False, False, False],\n",
       "       [ True,  True, False, False, False, False],\n",
       "       [False, False,  True,  True,  True,  True],\n",
       "       [False, False,  True, False,  True,  True],\n",
       "       [False, False,  True, False,  True, False],\n",
       "       [ True,  True, False, False, False, False]])"
      ]
     },
     "execution_count": 3,
     "metadata": {},
     "output_type": "execute_result"
    }
   ],
   "source": [
    "import pandas as pd\n",
    "from mlxtend.preprocessing import TransactionEncoder\n",
    "dataset = [['Apple', 'Beer', 'Rice', 'Chicken'],\n",
    "           ['Apple', 'Beer', 'Rice'],\n",
    "           ['Apple', 'Beer'],\n",
    "           ['Apple', 'Bananas'],\n",
    "           ['Milk', 'Beer', 'Rice', 'Chicken'],\n",
    "           ['Milk', 'Beer', 'Rice'],\n",
    "           ['Milk', 'Beer'],\n",
    "           ['Apple', 'Bananas']]\n",
    "te = TransactionEncoder()\n",
    "te_ary = te.fit_transform(dataset)\n",
    "print(te.columns_)\n",
    "te_ary\n"
   ]
  },
  {
   "cell_type": "code",
   "execution_count": 4,
   "id": "c5dc7960-da45-4573-82ba-374ad1237c4c",
   "metadata": {},
   "outputs": [
    {
     "data": {
      "text/html": [
       "<div>\n",
       "<style scoped>\n",
       "    .dataframe tbody tr th:only-of-type {\n",
       "        vertical-align: middle;\n",
       "    }\n",
       "\n",
       "    .dataframe tbody tr th {\n",
       "        vertical-align: top;\n",
       "    }\n",
       "\n",
       "    .dataframe thead th {\n",
       "        text-align: right;\n",
       "    }\n",
       "</style>\n",
       "<table border=\"1\" class=\"dataframe\">\n",
       "  <thead>\n",
       "    <tr style=\"text-align: right;\">\n",
       "      <th></th>\n",
       "      <th>Apple</th>\n",
       "      <th>Bananas</th>\n",
       "      <th>Beer</th>\n",
       "      <th>Chicken</th>\n",
       "      <th>Milk</th>\n",
       "      <th>Rice</th>\n",
       "    </tr>\n",
       "  </thead>\n",
       "  <tbody>\n",
       "    <tr>\n",
       "      <th>0</th>\n",
       "      <td>True</td>\n",
       "      <td>False</td>\n",
       "      <td>True</td>\n",
       "      <td>True</td>\n",
       "      <td>False</td>\n",
       "      <td>True</td>\n",
       "    </tr>\n",
       "    <tr>\n",
       "      <th>1</th>\n",
       "      <td>True</td>\n",
       "      <td>False</td>\n",
       "      <td>True</td>\n",
       "      <td>False</td>\n",
       "      <td>False</td>\n",
       "      <td>True</td>\n",
       "    </tr>\n",
       "    <tr>\n",
       "      <th>2</th>\n",
       "      <td>True</td>\n",
       "      <td>False</td>\n",
       "      <td>True</td>\n",
       "      <td>False</td>\n",
       "      <td>False</td>\n",
       "      <td>False</td>\n",
       "    </tr>\n",
       "    <tr>\n",
       "      <th>3</th>\n",
       "      <td>True</td>\n",
       "      <td>True</td>\n",
       "      <td>False</td>\n",
       "      <td>False</td>\n",
       "      <td>False</td>\n",
       "      <td>False</td>\n",
       "    </tr>\n",
       "    <tr>\n",
       "      <th>4</th>\n",
       "      <td>False</td>\n",
       "      <td>False</td>\n",
       "      <td>True</td>\n",
       "      <td>True</td>\n",
       "      <td>True</td>\n",
       "      <td>True</td>\n",
       "    </tr>\n",
       "    <tr>\n",
       "      <th>5</th>\n",
       "      <td>False</td>\n",
       "      <td>False</td>\n",
       "      <td>True</td>\n",
       "      <td>False</td>\n",
       "      <td>True</td>\n",
       "      <td>True</td>\n",
       "    </tr>\n",
       "    <tr>\n",
       "      <th>6</th>\n",
       "      <td>False</td>\n",
       "      <td>False</td>\n",
       "      <td>True</td>\n",
       "      <td>False</td>\n",
       "      <td>True</td>\n",
       "      <td>False</td>\n",
       "    </tr>\n",
       "    <tr>\n",
       "      <th>7</th>\n",
       "      <td>True</td>\n",
       "      <td>True</td>\n",
       "      <td>False</td>\n",
       "      <td>False</td>\n",
       "      <td>False</td>\n",
       "      <td>False</td>\n",
       "    </tr>\n",
       "  </tbody>\n",
       "</table>\n",
       "</div>"
      ],
      "text/plain": [
       "   Apple  Bananas   Beer  Chicken   Milk   Rice\n",
       "0   True    False   True     True  False   True\n",
       "1   True    False   True    False  False   True\n",
       "2   True    False   True    False  False  False\n",
       "3   True     True  False    False  False  False\n",
       "4  False    False   True     True   True   True\n",
       "5  False    False   True    False   True   True\n",
       "6  False    False   True    False   True  False\n",
       "7   True     True  False    False  False  False"
      ]
     },
     "execution_count": 4,
     "metadata": {},
     "output_type": "execute_result"
    }
   ],
   "source": [
    "df = pd.DataFrame(te_ary,columns = te.columns_)\n",
    "df\n"
   ]
  },
  {
   "cell_type": "code",
   "execution_count": 5,
   "id": "c019b6db-ea55-4c20-8f2d-102394d1a99c",
   "metadata": {},
   "outputs": [
    {
     "data": {
      "text/html": [
       "<div>\n",
       "<style scoped>\n",
       "    .dataframe tbody tr th:only-of-type {\n",
       "        vertical-align: middle;\n",
       "    }\n",
       "\n",
       "    .dataframe tbody tr th {\n",
       "        vertical-align: top;\n",
       "    }\n",
       "\n",
       "    .dataframe thead th {\n",
       "        text-align: right;\n",
       "    }\n",
       "</style>\n",
       "<table border=\"1\" class=\"dataframe\">\n",
       "  <thead>\n",
       "    <tr style=\"text-align: right;\">\n",
       "      <th></th>\n",
       "      <th>support</th>\n",
       "      <th>itemsets</th>\n",
       "    </tr>\n",
       "  </thead>\n",
       "  <tbody>\n",
       "    <tr>\n",
       "      <th>0</th>\n",
       "      <td>0.625</td>\n",
       "      <td>(Apple)</td>\n",
       "    </tr>\n",
       "    <tr>\n",
       "      <th>1</th>\n",
       "      <td>0.750</td>\n",
       "      <td>(Beer)</td>\n",
       "    </tr>\n",
       "  </tbody>\n",
       "</table>\n",
       "</div>"
      ],
      "text/plain": [
       "   support itemsets\n",
       "0    0.625  (Apple)\n",
       "1    0.750   (Beer)"
      ]
     },
     "execution_count": 5,
     "metadata": {},
     "output_type": "execute_result"
    }
   ],
   "source": [
    "## 지지도 60 % 이상인 품목만 추출 \n",
    "from mlxtend.frequent_patterns import apriori\n",
    "apriori(df, min_support=0.6, use_colnames=True)\n"
   ]
  },
  {
   "cell_type": "code",
   "execution_count": 6,
   "id": "3f1d89e3-9d5b-4d99-8d1b-6c2f5b3e4dc7",
   "metadata": {},
   "outputs": [
    {
     "data": {
      "text/html": [
       "<div>\n",
       "<style scoped>\n",
       "    .dataframe tbody tr th:only-of-type {\n",
       "        vertical-align: middle;\n",
       "    }\n",
       "\n",
       "    .dataframe tbody tr th {\n",
       "        vertical-align: top;\n",
       "    }\n",
       "\n",
       "    .dataframe thead th {\n",
       "        text-align: right;\n",
       "    }\n",
       "</style>\n",
       "<table border=\"1\" class=\"dataframe\">\n",
       "  <thead>\n",
       "    <tr style=\"text-align: right;\">\n",
       "      <th></th>\n",
       "      <th>support</th>\n",
       "      <th>itemsets</th>\n",
       "      <th>length</th>\n",
       "    </tr>\n",
       "  </thead>\n",
       "  <tbody>\n",
       "    <tr>\n",
       "      <th>0</th>\n",
       "      <td>0.625</td>\n",
       "      <td>(Apple)</td>\n",
       "      <td>1</td>\n",
       "    </tr>\n",
       "    <tr>\n",
       "      <th>1</th>\n",
       "      <td>0.750</td>\n",
       "      <td>(Beer)</td>\n",
       "      <td>1</td>\n",
       "    </tr>\n",
       "    <tr>\n",
       "      <th>2</th>\n",
       "      <td>0.375</td>\n",
       "      <td>(Milk)</td>\n",
       "      <td>1</td>\n",
       "    </tr>\n",
       "    <tr>\n",
       "      <th>3</th>\n",
       "      <td>0.500</td>\n",
       "      <td>(Rice)</td>\n",
       "      <td>1</td>\n",
       "    </tr>\n",
       "    <tr>\n",
       "      <th>4</th>\n",
       "      <td>0.375</td>\n",
       "      <td>(Apple, Beer)</td>\n",
       "      <td>2</td>\n",
       "    </tr>\n",
       "    <tr>\n",
       "      <th>5</th>\n",
       "      <td>0.375</td>\n",
       "      <td>(Milk, Beer)</td>\n",
       "      <td>2</td>\n",
       "    </tr>\n",
       "    <tr>\n",
       "      <th>6</th>\n",
       "      <td>0.500</td>\n",
       "      <td>(Beer, Rice)</td>\n",
       "      <td>2</td>\n",
       "    </tr>\n",
       "  </tbody>\n",
       "</table>\n",
       "</div>"
      ],
      "text/plain": [
       "   support       itemsets  length\n",
       "0    0.625        (Apple)       1\n",
       "1    0.750         (Beer)       1\n",
       "2    0.375         (Milk)       1\n",
       "3    0.500         (Rice)       1\n",
       "4    0.375  (Apple, Beer)       2\n",
       "5    0.375   (Milk, Beer)       2\n",
       "6    0.500   (Beer, Rice)       2"
      ]
     },
     "execution_count": 6,
     "metadata": {},
     "output_type": "execute_result"
    }
   ],
   "source": [
    "## 규칙의 길이를 추출하는 방법 \n",
    "frequent_itemsets = apriori(df, min_support=0.3, use_colnames=True)\n",
    "frequent_itemsets['length'] = frequent_itemsets['itemsets'].apply(lambda x: len(x))\n",
    "frequent_itemsets\n"
   ]
  },
  {
   "cell_type": "code",
   "execution_count": null,
   "id": "a8f411c5-4736-4540-853a-ad115d11a540",
   "metadata": {},
   "outputs": [],
   "source": []
  },
  {
   "cell_type": "code",
   "execution_count": null,
   "id": "c002eec3-f753-443a-aa4b-3f2cd660b1b8",
   "metadata": {},
   "outputs": [],
   "source": []
  },
  {
   "cell_type": "code",
   "execution_count": null,
   "id": "d46c424c-bce3-4afb-8ac4-66c35919d232",
   "metadata": {},
   "outputs": [],
   "source": []
  },
  {
   "cell_type": "code",
   "execution_count": 8,
   "id": "8124dceb-c166-460c-84b5-25ea91e609a5",
   "metadata": {},
   "outputs": [
    {
     "data": {
      "text/html": [
       "<div>\n",
       "<style scoped>\n",
       "    .dataframe tbody tr th:only-of-type {\n",
       "        vertical-align: middle;\n",
       "    }\n",
       "\n",
       "    .dataframe tbody tr th {\n",
       "        vertical-align: top;\n",
       "    }\n",
       "\n",
       "    .dataframe thead th {\n",
       "        text-align: right;\n",
       "    }\n",
       "</style>\n",
       "<table border=\"1\" class=\"dataframe\">\n",
       "  <thead>\n",
       "    <tr style=\"text-align: right;\">\n",
       "      <th></th>\n",
       "      <th>citrus fruit,semi-finished bread,margarine,ready soups</th>\n",
       "    </tr>\n",
       "  </thead>\n",
       "  <tbody>\n",
       "    <tr>\n",
       "      <th>0</th>\n",
       "      <td>tropical fruit,yogurt,coffee</td>\n",
       "    </tr>\n",
       "    <tr>\n",
       "      <th>1</th>\n",
       "      <td>whole milk</td>\n",
       "    </tr>\n",
       "    <tr>\n",
       "      <th>2</th>\n",
       "      <td>pip fruit,yogurt,cream cheese,meat spreads</td>\n",
       "    </tr>\n",
       "    <tr>\n",
       "      <th>3</th>\n",
       "      <td>other vegetables,whole milk,condensed milk,lon...</td>\n",
       "    </tr>\n",
       "    <tr>\n",
       "      <th>4</th>\n",
       "      <td>whole milk,butter,yogurt,rice,abrasive cleaner</td>\n",
       "    </tr>\n",
       "    <tr>\n",
       "      <th>...</th>\n",
       "      <td>...</td>\n",
       "    </tr>\n",
       "    <tr>\n",
       "      <th>9829</th>\n",
       "      <td>sausage,chicken,beef,hamburger meat,citrus fru...</td>\n",
       "    </tr>\n",
       "    <tr>\n",
       "      <th>9830</th>\n",
       "      <td>cooking chocolate</td>\n",
       "    </tr>\n",
       "    <tr>\n",
       "      <th>9831</th>\n",
       "      <td>chicken,citrus fruit,other vegetables,butter,y...</td>\n",
       "    </tr>\n",
       "    <tr>\n",
       "      <th>9832</th>\n",
       "      <td>semi-finished bread,bottled water,soda,bottled...</td>\n",
       "    </tr>\n",
       "    <tr>\n",
       "      <th>9833</th>\n",
       "      <td>chicken,tropical fruit,other vegetables,vinega...</td>\n",
       "    </tr>\n",
       "  </tbody>\n",
       "</table>\n",
       "<p>9834 rows × 1 columns</p>\n",
       "</div>"
      ],
      "text/plain": [
       "     citrus fruit,semi-finished bread,margarine,ready soups\n",
       "0                          tropical fruit,yogurt,coffee    \n",
       "1                                            whole milk    \n",
       "2            pip fruit,yogurt,cream cheese,meat spreads    \n",
       "3     other vegetables,whole milk,condensed milk,lon...    \n",
       "4        whole milk,butter,yogurt,rice,abrasive cleaner    \n",
       "...                                                 ...    \n",
       "9829  sausage,chicken,beef,hamburger meat,citrus fru...    \n",
       "9830                                  cooking chocolate    \n",
       "9831  chicken,citrus fruit,other vegetables,butter,y...    \n",
       "9832  semi-finished bread,bottled water,soda,bottled...    \n",
       "9833  chicken,tropical fruit,other vegetables,vinega...    \n",
       "\n",
       "[9834 rows x 1 columns]"
      ]
     },
     "execution_count": 8,
     "metadata": {},
     "output_type": "execute_result"
    }
   ],
   "source": [
    "df= pd.read_csv('../data/groceries.csv',)\n",
    "df\n"
   ]
  },
  {
   "cell_type": "code",
   "execution_count": 9,
   "id": "ebc6267b-e24a-45cc-bff8-d496d70b7fe3",
   "metadata": {},
   "outputs": [
    {
     "data": {
      "text/plain": [
       "array([['tropical fruit', 'yogurt', 'coffee', ..., None, None, None],\n",
       "       ['whole milk', None, None, ..., None, None, None],\n",
       "       ['pip fruit', 'yogurt', 'cream cheese', ..., None, None, None],\n",
       "       ...,\n",
       "       ['chicken', 'citrus fruit', 'other vegetables', ..., None, None,\n",
       "        None],\n",
       "       ['semi-finished bread', 'bottled water', 'soda', ..., None, None,\n",
       "        None],\n",
       "       ['chicken', 'tropical fruit', 'other vegetables', ..., None, None,\n",
       "        None]], dtype=object)"
      ]
     },
     "execution_count": 9,
     "metadata": {},
     "output_type": "execute_result"
    }
   ],
   "source": [
    "df_split = df.iloc[:,0].str.split(',',expand=True)\n",
    "df_split.values\n"
   ]
  },
  {
   "cell_type": "code",
   "execution_count": null,
   "id": "1092e3b7-ee40-44fa-a058-a38622073188",
   "metadata": {},
   "outputs": [],
   "source": [
    "df_split_ary = df_split.values\n",
    "groceries = []\n",
    "for i in range(len(df_split_ary)) : \n",
    "    temp = list(filter(None,df_split_ary[i]))\n",
    "    groceries.append(temp)\n",
    "    \n",
    "groceries\n"
   ]
  },
  {
   "cell_type": "code",
   "execution_count": 11,
   "id": "3d56216b-a4b0-4e06-b295-222e3336cc0a",
   "metadata": {},
   "outputs": [
    {
     "data": {
      "text/html": [
       "<div>\n",
       "<style scoped>\n",
       "    .dataframe tbody tr th:only-of-type {\n",
       "        vertical-align: middle;\n",
       "    }\n",
       "\n",
       "    .dataframe tbody tr th {\n",
       "        vertical-align: top;\n",
       "    }\n",
       "\n",
       "    .dataframe thead th {\n",
       "        text-align: right;\n",
       "    }\n",
       "</style>\n",
       "<table border=\"1\" class=\"dataframe\">\n",
       "  <thead>\n",
       "    <tr style=\"text-align: right;\">\n",
       "      <th></th>\n",
       "      <th>Instant food products</th>\n",
       "      <th>UHT-milk</th>\n",
       "      <th>abrasive cleaner</th>\n",
       "      <th>artif. sweetener</th>\n",
       "      <th>baby cosmetics</th>\n",
       "      <th>baby food</th>\n",
       "      <th>bags</th>\n",
       "      <th>baking powder</th>\n",
       "      <th>bathroom cleaner</th>\n",
       "      <th>beef</th>\n",
       "      <th>...</th>\n",
       "      <th>turkey</th>\n",
       "      <th>vinegar</th>\n",
       "      <th>waffles</th>\n",
       "      <th>whipped/sour cream</th>\n",
       "      <th>whisky</th>\n",
       "      <th>white bread</th>\n",
       "      <th>white wine</th>\n",
       "      <th>whole milk</th>\n",
       "      <th>yogurt</th>\n",
       "      <th>zwieback</th>\n",
       "    </tr>\n",
       "  </thead>\n",
       "  <tbody>\n",
       "    <tr>\n",
       "      <th>0</th>\n",
       "      <td>False</td>\n",
       "      <td>False</td>\n",
       "      <td>False</td>\n",
       "      <td>False</td>\n",
       "      <td>False</td>\n",
       "      <td>False</td>\n",
       "      <td>False</td>\n",
       "      <td>False</td>\n",
       "      <td>False</td>\n",
       "      <td>False</td>\n",
       "      <td>...</td>\n",
       "      <td>False</td>\n",
       "      <td>False</td>\n",
       "      <td>False</td>\n",
       "      <td>False</td>\n",
       "      <td>False</td>\n",
       "      <td>False</td>\n",
       "      <td>False</td>\n",
       "      <td>False</td>\n",
       "      <td>True</td>\n",
       "      <td>False</td>\n",
       "    </tr>\n",
       "    <tr>\n",
       "      <th>1</th>\n",
       "      <td>False</td>\n",
       "      <td>False</td>\n",
       "      <td>False</td>\n",
       "      <td>False</td>\n",
       "      <td>False</td>\n",
       "      <td>False</td>\n",
       "      <td>False</td>\n",
       "      <td>False</td>\n",
       "      <td>False</td>\n",
       "      <td>False</td>\n",
       "      <td>...</td>\n",
       "      <td>False</td>\n",
       "      <td>False</td>\n",
       "      <td>False</td>\n",
       "      <td>False</td>\n",
       "      <td>False</td>\n",
       "      <td>False</td>\n",
       "      <td>False</td>\n",
       "      <td>True</td>\n",
       "      <td>False</td>\n",
       "      <td>False</td>\n",
       "    </tr>\n",
       "    <tr>\n",
       "      <th>2</th>\n",
       "      <td>False</td>\n",
       "      <td>False</td>\n",
       "      <td>False</td>\n",
       "      <td>False</td>\n",
       "      <td>False</td>\n",
       "      <td>False</td>\n",
       "      <td>False</td>\n",
       "      <td>False</td>\n",
       "      <td>False</td>\n",
       "      <td>False</td>\n",
       "      <td>...</td>\n",
       "      <td>False</td>\n",
       "      <td>False</td>\n",
       "      <td>False</td>\n",
       "      <td>False</td>\n",
       "      <td>False</td>\n",
       "      <td>False</td>\n",
       "      <td>False</td>\n",
       "      <td>False</td>\n",
       "      <td>True</td>\n",
       "      <td>False</td>\n",
       "    </tr>\n",
       "    <tr>\n",
       "      <th>3</th>\n",
       "      <td>False</td>\n",
       "      <td>False</td>\n",
       "      <td>False</td>\n",
       "      <td>False</td>\n",
       "      <td>False</td>\n",
       "      <td>False</td>\n",
       "      <td>False</td>\n",
       "      <td>False</td>\n",
       "      <td>False</td>\n",
       "      <td>False</td>\n",
       "      <td>...</td>\n",
       "      <td>False</td>\n",
       "      <td>False</td>\n",
       "      <td>False</td>\n",
       "      <td>False</td>\n",
       "      <td>False</td>\n",
       "      <td>False</td>\n",
       "      <td>False</td>\n",
       "      <td>True</td>\n",
       "      <td>False</td>\n",
       "      <td>False</td>\n",
       "    </tr>\n",
       "    <tr>\n",
       "      <th>4</th>\n",
       "      <td>False</td>\n",
       "      <td>False</td>\n",
       "      <td>True</td>\n",
       "      <td>False</td>\n",
       "      <td>False</td>\n",
       "      <td>False</td>\n",
       "      <td>False</td>\n",
       "      <td>False</td>\n",
       "      <td>False</td>\n",
       "      <td>False</td>\n",
       "      <td>...</td>\n",
       "      <td>False</td>\n",
       "      <td>False</td>\n",
       "      <td>False</td>\n",
       "      <td>False</td>\n",
       "      <td>False</td>\n",
       "      <td>False</td>\n",
       "      <td>False</td>\n",
       "      <td>True</td>\n",
       "      <td>True</td>\n",
       "      <td>False</td>\n",
       "    </tr>\n",
       "    <tr>\n",
       "      <th>...</th>\n",
       "      <td>...</td>\n",
       "      <td>...</td>\n",
       "      <td>...</td>\n",
       "      <td>...</td>\n",
       "      <td>...</td>\n",
       "      <td>...</td>\n",
       "      <td>...</td>\n",
       "      <td>...</td>\n",
       "      <td>...</td>\n",
       "      <td>...</td>\n",
       "      <td>...</td>\n",
       "      <td>...</td>\n",
       "      <td>...</td>\n",
       "      <td>...</td>\n",
       "      <td>...</td>\n",
       "      <td>...</td>\n",
       "      <td>...</td>\n",
       "      <td>...</td>\n",
       "      <td>...</td>\n",
       "      <td>...</td>\n",
       "      <td>...</td>\n",
       "    </tr>\n",
       "    <tr>\n",
       "      <th>9829</th>\n",
       "      <td>False</td>\n",
       "      <td>False</td>\n",
       "      <td>False</td>\n",
       "      <td>False</td>\n",
       "      <td>False</td>\n",
       "      <td>False</td>\n",
       "      <td>False</td>\n",
       "      <td>False</td>\n",
       "      <td>False</td>\n",
       "      <td>True</td>\n",
       "      <td>...</td>\n",
       "      <td>False</td>\n",
       "      <td>False</td>\n",
       "      <td>False</td>\n",
       "      <td>True</td>\n",
       "      <td>False</td>\n",
       "      <td>False</td>\n",
       "      <td>False</td>\n",
       "      <td>True</td>\n",
       "      <td>False</td>\n",
       "      <td>False</td>\n",
       "    </tr>\n",
       "    <tr>\n",
       "      <th>9830</th>\n",
       "      <td>False</td>\n",
       "      <td>False</td>\n",
       "      <td>False</td>\n",
       "      <td>False</td>\n",
       "      <td>False</td>\n",
       "      <td>False</td>\n",
       "      <td>False</td>\n",
       "      <td>False</td>\n",
       "      <td>False</td>\n",
       "      <td>False</td>\n",
       "      <td>...</td>\n",
       "      <td>False</td>\n",
       "      <td>False</td>\n",
       "      <td>False</td>\n",
       "      <td>False</td>\n",
       "      <td>False</td>\n",
       "      <td>False</td>\n",
       "      <td>False</td>\n",
       "      <td>False</td>\n",
       "      <td>False</td>\n",
       "      <td>False</td>\n",
       "    </tr>\n",
       "    <tr>\n",
       "      <th>9831</th>\n",
       "      <td>False</td>\n",
       "      <td>False</td>\n",
       "      <td>False</td>\n",
       "      <td>False</td>\n",
       "      <td>False</td>\n",
       "      <td>False</td>\n",
       "      <td>False</td>\n",
       "      <td>False</td>\n",
       "      <td>False</td>\n",
       "      <td>False</td>\n",
       "      <td>...</td>\n",
       "      <td>False</td>\n",
       "      <td>False</td>\n",
       "      <td>False</td>\n",
       "      <td>False</td>\n",
       "      <td>False</td>\n",
       "      <td>False</td>\n",
       "      <td>False</td>\n",
       "      <td>False</td>\n",
       "      <td>True</td>\n",
       "      <td>False</td>\n",
       "    </tr>\n",
       "    <tr>\n",
       "      <th>9832</th>\n",
       "      <td>False</td>\n",
       "      <td>False</td>\n",
       "      <td>False</td>\n",
       "      <td>False</td>\n",
       "      <td>False</td>\n",
       "      <td>False</td>\n",
       "      <td>False</td>\n",
       "      <td>False</td>\n",
       "      <td>False</td>\n",
       "      <td>False</td>\n",
       "      <td>...</td>\n",
       "      <td>False</td>\n",
       "      <td>False</td>\n",
       "      <td>False</td>\n",
       "      <td>False</td>\n",
       "      <td>False</td>\n",
       "      <td>False</td>\n",
       "      <td>False</td>\n",
       "      <td>False</td>\n",
       "      <td>False</td>\n",
       "      <td>False</td>\n",
       "    </tr>\n",
       "    <tr>\n",
       "      <th>9833</th>\n",
       "      <td>False</td>\n",
       "      <td>False</td>\n",
       "      <td>False</td>\n",
       "      <td>False</td>\n",
       "      <td>False</td>\n",
       "      <td>False</td>\n",
       "      <td>False</td>\n",
       "      <td>False</td>\n",
       "      <td>False</td>\n",
       "      <td>False</td>\n",
       "      <td>...</td>\n",
       "      <td>False</td>\n",
       "      <td>True</td>\n",
       "      <td>False</td>\n",
       "      <td>False</td>\n",
       "      <td>False</td>\n",
       "      <td>False</td>\n",
       "      <td>False</td>\n",
       "      <td>False</td>\n",
       "      <td>False</td>\n",
       "      <td>False</td>\n",
       "    </tr>\n",
       "  </tbody>\n",
       "</table>\n",
       "<p>9834 rows × 169 columns</p>\n",
       "</div>"
      ],
      "text/plain": [
       "      Instant food products  UHT-milk  abrasive cleaner  artif. sweetener  \\\n",
       "0                     False     False             False             False   \n",
       "1                     False     False             False             False   \n",
       "2                     False     False             False             False   \n",
       "3                     False     False             False             False   \n",
       "4                     False     False              True             False   \n",
       "...                     ...       ...               ...               ...   \n",
       "9829                  False     False             False             False   \n",
       "9830                  False     False             False             False   \n",
       "9831                  False     False             False             False   \n",
       "9832                  False     False             False             False   \n",
       "9833                  False     False             False             False   \n",
       "\n",
       "      baby cosmetics  baby food   bags  baking powder  bathroom cleaner  \\\n",
       "0              False      False  False          False             False   \n",
       "1              False      False  False          False             False   \n",
       "2              False      False  False          False             False   \n",
       "3              False      False  False          False             False   \n",
       "4              False      False  False          False             False   \n",
       "...              ...        ...    ...            ...               ...   \n",
       "9829           False      False  False          False             False   \n",
       "9830           False      False  False          False             False   \n",
       "9831           False      False  False          False             False   \n",
       "9832           False      False  False          False             False   \n",
       "9833           False      False  False          False             False   \n",
       "\n",
       "       beef  ...  turkey  vinegar  waffles  whipped/sour cream  whisky  \\\n",
       "0     False  ...   False    False    False               False   False   \n",
       "1     False  ...   False    False    False               False   False   \n",
       "2     False  ...   False    False    False               False   False   \n",
       "3     False  ...   False    False    False               False   False   \n",
       "4     False  ...   False    False    False               False   False   \n",
       "...     ...  ...     ...      ...      ...                 ...     ...   \n",
       "9829   True  ...   False    False    False                True   False   \n",
       "9830  False  ...   False    False    False               False   False   \n",
       "9831  False  ...   False    False    False               False   False   \n",
       "9832  False  ...   False    False    False               False   False   \n",
       "9833  False  ...   False     True    False               False   False   \n",
       "\n",
       "      white bread  white wine  whole milk  yogurt  zwieback  \n",
       "0           False       False       False    True     False  \n",
       "1           False       False        True   False     False  \n",
       "2           False       False       False    True     False  \n",
       "3           False       False        True   False     False  \n",
       "4           False       False        True    True     False  \n",
       "...           ...         ...         ...     ...       ...  \n",
       "9829        False       False        True   False     False  \n",
       "9830        False       False       False   False     False  \n",
       "9831        False       False       False    True     False  \n",
       "9832        False       False       False   False     False  \n",
       "9833        False       False       False   False     False  \n",
       "\n",
       "[9834 rows x 169 columns]"
      ]
     },
     "execution_count": 11,
     "metadata": {},
     "output_type": "execute_result"
    }
   ],
   "source": [
    "from mlxtend.preprocessing import TransactionEncoder\n",
    "import pandas as pd\n",
    "te = TransactionEncoder()\n",
    "groceries_tr = te.fit(groceries).transform(groceries)\n",
    "groceries_tr = pd.DataFrame(groceries_tr, columns=te.columns_)\n",
    "groceries_tr\n"
   ]
  },
  {
   "cell_type": "code",
   "execution_count": 12,
   "id": "869ce970-7364-4f5e-9fe5-9d394b8095c6",
   "metadata": {},
   "outputs": [
    {
     "data": {
      "text/html": [
       "<div>\n",
       "<style scoped>\n",
       "    .dataframe tbody tr th:only-of-type {\n",
       "        vertical-align: middle;\n",
       "    }\n",
       "\n",
       "    .dataframe tbody tr th {\n",
       "        vertical-align: top;\n",
       "    }\n",
       "\n",
       "    .dataframe thead th {\n",
       "        text-align: right;\n",
       "    }\n",
       "</style>\n",
       "<table border=\"1\" class=\"dataframe\">\n",
       "  <thead>\n",
       "    <tr style=\"text-align: right;\">\n",
       "      <th></th>\n",
       "      <th>support</th>\n",
       "      <th>itemsets</th>\n",
       "    </tr>\n",
       "  </thead>\n",
       "  <tbody>\n",
       "    <tr>\n",
       "      <th>0</th>\n",
       "      <td>0.033455</td>\n",
       "      <td>(UHT-milk)</td>\n",
       "    </tr>\n",
       "    <tr>\n",
       "      <th>1</th>\n",
       "      <td>0.017694</td>\n",
       "      <td>(baking powder)</td>\n",
       "    </tr>\n",
       "    <tr>\n",
       "      <th>2</th>\n",
       "      <td>0.052471</td>\n",
       "      <td>(beef)</td>\n",
       "    </tr>\n",
       "    <tr>\n",
       "      <th>3</th>\n",
       "      <td>0.033252</td>\n",
       "      <td>(berries)</td>\n",
       "    </tr>\n",
       "    <tr>\n",
       "      <th>4</th>\n",
       "      <td>0.026032</td>\n",
       "      <td>(beverages)</td>\n",
       "    </tr>\n",
       "    <tr>\n",
       "      <th>...</th>\n",
       "      <td>...</td>\n",
       "      <td>...</td>\n",
       "    </tr>\n",
       "    <tr>\n",
       "      <th>328</th>\n",
       "      <td>0.011999</td>\n",
       "      <td>(root vegetables, whole milk, tropical fruit)</td>\n",
       "    </tr>\n",
       "    <tr>\n",
       "      <th>329</th>\n",
       "      <td>0.014541</td>\n",
       "      <td>(root vegetables, whole milk, yogurt)</td>\n",
       "    </tr>\n",
       "    <tr>\n",
       "      <th>330</th>\n",
       "      <td>0.010474</td>\n",
       "      <td>(soda, whole milk, yogurt)</td>\n",
       "    </tr>\n",
       "    <tr>\n",
       "      <th>331</th>\n",
       "      <td>0.015152</td>\n",
       "      <td>(whole milk, yogurt, tropical fruit)</td>\n",
       "    </tr>\n",
       "    <tr>\n",
       "      <th>332</th>\n",
       "      <td>0.010881</td>\n",
       "      <td>(whipped/sour cream, whole milk, yogurt)</td>\n",
       "    </tr>\n",
       "  </tbody>\n",
       "</table>\n",
       "<p>333 rows × 2 columns</p>\n",
       "</div>"
      ],
      "text/plain": [
       "      support                                       itemsets\n",
       "0    0.033455                                     (UHT-milk)\n",
       "1    0.017694                                (baking powder)\n",
       "2    0.052471                                         (beef)\n",
       "3    0.033252                                      (berries)\n",
       "4    0.026032                                    (beverages)\n",
       "..        ...                                            ...\n",
       "328  0.011999  (root vegetables, whole milk, tropical fruit)\n",
       "329  0.014541          (root vegetables, whole milk, yogurt)\n",
       "330  0.010474                     (soda, whole milk, yogurt)\n",
       "331  0.015152           (whole milk, yogurt, tropical fruit)\n",
       "332  0.010881       (whipped/sour cream, whole milk, yogurt)\n",
       "\n",
       "[333 rows x 2 columns]"
      ]
     },
     "execution_count": 12,
     "metadata": {},
     "output_type": "execute_result"
    }
   ],
   "source": [
    "from mlxtend.frequent_patterns import apriori\n",
    "# 지지도가 5% 이상인 빈번 항목 집합 탐색\n",
    "\n",
    "groceries_ap = apriori(groceries_tr, min_support=0.01, use_colnames=True)\n",
    "groceries_ap\n"
   ]
  },
  {
   "cell_type": "code",
   "execution_count": 13,
   "id": "6bbcfa0e-6572-4197-946d-88613e2a97ab",
   "metadata": {},
   "outputs": [
    {
     "data": {
      "text/html": [
       "<div>\n",
       "<style scoped>\n",
       "    .dataframe tbody tr th:only-of-type {\n",
       "        vertical-align: middle;\n",
       "    }\n",
       "\n",
       "    .dataframe tbody tr th {\n",
       "        vertical-align: top;\n",
       "    }\n",
       "\n",
       "    .dataframe thead th {\n",
       "        text-align: right;\n",
       "    }\n",
       "</style>\n",
       "<table border=\"1\" class=\"dataframe\">\n",
       "  <thead>\n",
       "    <tr style=\"text-align: right;\">\n",
       "      <th></th>\n",
       "      <th>antecedents</th>\n",
       "      <th>consequents</th>\n",
       "      <th>antecedent support</th>\n",
       "      <th>consequent support</th>\n",
       "      <th>support</th>\n",
       "      <th>confidence</th>\n",
       "      <th>lift</th>\n",
       "      <th>leverage</th>\n",
       "      <th>conviction</th>\n",
       "    </tr>\n",
       "  </thead>\n",
       "  <tbody>\n",
       "    <tr>\n",
       "      <th>0</th>\n",
       "      <td>(beef)</td>\n",
       "      <td>(other vegetables)</td>\n",
       "      <td>0.052471</td>\n",
       "      <td>0.193512</td>\n",
       "      <td>0.019727</td>\n",
       "      <td>0.375969</td>\n",
       "      <td>1.942869</td>\n",
       "      <td>0.009574</td>\n",
       "      <td>1.292384</td>\n",
       "    </tr>\n",
       "    <tr>\n",
       "      <th>1</th>\n",
       "      <td>(beef)</td>\n",
       "      <td>(root vegetables)</td>\n",
       "      <td>0.052471</td>\n",
       "      <td>0.109010</td>\n",
       "      <td>0.017389</td>\n",
       "      <td>0.331395</td>\n",
       "      <td>3.040058</td>\n",
       "      <td>0.011669</td>\n",
       "      <td>1.332612</td>\n",
       "    </tr>\n",
       "    <tr>\n",
       "      <th>2</th>\n",
       "      <td>(beef)</td>\n",
       "      <td>(whole milk)</td>\n",
       "      <td>0.052471</td>\n",
       "      <td>0.255542</td>\n",
       "      <td>0.021253</td>\n",
       "      <td>0.405039</td>\n",
       "      <td>1.585018</td>\n",
       "      <td>0.007844</td>\n",
       "      <td>1.251271</td>\n",
       "    </tr>\n",
       "    <tr>\n",
       "      <th>3</th>\n",
       "      <td>(berries)</td>\n",
       "      <td>(other vegetables)</td>\n",
       "      <td>0.033252</td>\n",
       "      <td>0.193512</td>\n",
       "      <td>0.010270</td>\n",
       "      <td>0.308869</td>\n",
       "      <td>1.596118</td>\n",
       "      <td>0.003836</td>\n",
       "      <td>1.166909</td>\n",
       "    </tr>\n",
       "    <tr>\n",
       "      <th>4</th>\n",
       "      <td>(berries)</td>\n",
       "      <td>(whole milk)</td>\n",
       "      <td>0.033252</td>\n",
       "      <td>0.255542</td>\n",
       "      <td>0.011796</td>\n",
       "      <td>0.354740</td>\n",
       "      <td>1.388187</td>\n",
       "      <td>0.003299</td>\n",
       "      <td>1.153733</td>\n",
       "    </tr>\n",
       "    <tr>\n",
       "      <th>...</th>\n",
       "      <td>...</td>\n",
       "      <td>...</td>\n",
       "      <td>...</td>\n",
       "      <td>...</td>\n",
       "      <td>...</td>\n",
       "      <td>...</td>\n",
       "      <td>...</td>\n",
       "      <td>...</td>\n",
       "      <td>...</td>\n",
       "    </tr>\n",
       "    <tr>\n",
       "      <th>120</th>\n",
       "      <td>(soda, yogurt)</td>\n",
       "      <td>(whole milk)</td>\n",
       "      <td>0.027354</td>\n",
       "      <td>0.255542</td>\n",
       "      <td>0.010474</td>\n",
       "      <td>0.382900</td>\n",
       "      <td>1.498382</td>\n",
       "      <td>0.003484</td>\n",
       "      <td>1.206381</td>\n",
       "    </tr>\n",
       "    <tr>\n",
       "      <th>121</th>\n",
       "      <td>(whole milk, tropical fruit)</td>\n",
       "      <td>(yogurt)</td>\n",
       "      <td>0.042302</td>\n",
       "      <td>0.139516</td>\n",
       "      <td>0.015152</td>\n",
       "      <td>0.358173</td>\n",
       "      <td>2.567255</td>\n",
       "      <td>0.009250</td>\n",
       "      <td>1.340679</td>\n",
       "    </tr>\n",
       "    <tr>\n",
       "      <th>122</th>\n",
       "      <td>(tropical fruit, yogurt)</td>\n",
       "      <td>(whole milk)</td>\n",
       "      <td>0.029286</td>\n",
       "      <td>0.255542</td>\n",
       "      <td>0.015152</td>\n",
       "      <td>0.517361</td>\n",
       "      <td>2.024564</td>\n",
       "      <td>0.007668</td>\n",
       "      <td>1.542474</td>\n",
       "    </tr>\n",
       "    <tr>\n",
       "      <th>123</th>\n",
       "      <td>(whipped/sour cream, whole milk)</td>\n",
       "      <td>(yogurt)</td>\n",
       "      <td>0.032235</td>\n",
       "      <td>0.139516</td>\n",
       "      <td>0.010881</td>\n",
       "      <td>0.337539</td>\n",
       "      <td>2.419361</td>\n",
       "      <td>0.006383</td>\n",
       "      <td>1.298921</td>\n",
       "    </tr>\n",
       "    <tr>\n",
       "      <th>124</th>\n",
       "      <td>(whipped/sour cream, yogurt)</td>\n",
       "      <td>(whole milk)</td>\n",
       "      <td>0.020744</td>\n",
       "      <td>0.255542</td>\n",
       "      <td>0.010881</td>\n",
       "      <td>0.524510</td>\n",
       "      <td>2.052539</td>\n",
       "      <td>0.005580</td>\n",
       "      <td>1.565664</td>\n",
       "    </tr>\n",
       "  </tbody>\n",
       "</table>\n",
       "<p>125 rows × 9 columns</p>\n",
       "</div>"
      ],
      "text/plain": [
       "                          antecedents         consequents  antecedent support  \\\n",
       "0                              (beef)  (other vegetables)            0.052471   \n",
       "1                              (beef)   (root vegetables)            0.052471   \n",
       "2                              (beef)        (whole milk)            0.052471   \n",
       "3                           (berries)  (other vegetables)            0.033252   \n",
       "4                           (berries)        (whole milk)            0.033252   \n",
       "..                                ...                 ...                 ...   \n",
       "120                    (soda, yogurt)        (whole milk)            0.027354   \n",
       "121      (whole milk, tropical fruit)            (yogurt)            0.042302   \n",
       "122          (tropical fruit, yogurt)        (whole milk)            0.029286   \n",
       "123  (whipped/sour cream, whole milk)            (yogurt)            0.032235   \n",
       "124      (whipped/sour cream, yogurt)        (whole milk)            0.020744   \n",
       "\n",
       "     consequent support   support  confidence      lift  leverage  conviction  \n",
       "0              0.193512  0.019727    0.375969  1.942869  0.009574    1.292384  \n",
       "1              0.109010  0.017389    0.331395  3.040058  0.011669    1.332612  \n",
       "2              0.255542  0.021253    0.405039  1.585018  0.007844    1.251271  \n",
       "3              0.193512  0.010270    0.308869  1.596118  0.003836    1.166909  \n",
       "4              0.255542  0.011796    0.354740  1.388187  0.003299    1.153733  \n",
       "..                  ...       ...         ...       ...       ...         ...  \n",
       "120            0.255542  0.010474    0.382900  1.498382  0.003484    1.206381  \n",
       "121            0.139516  0.015152    0.358173  2.567255  0.009250    1.340679  \n",
       "122            0.255542  0.015152    0.517361  2.024564  0.007668    1.542474  \n",
       "123            0.139516  0.010881    0.337539  2.419361  0.006383    1.298921  \n",
       "124            0.255542  0.010881    0.524510  2.052539  0.005580    1.565664  \n",
       "\n",
       "[125 rows x 9 columns]"
      ]
     },
     "execution_count": 13,
     "metadata": {},
     "output_type": "execute_result"
    }
   ],
   "source": [
    "from mlxtend.frequent_patterns import association_rules\n",
    "# 신뢰도가 0.3 이상인 빈번 항목 집합 탐색\n",
    "association_rules(groceries_ap, metric=\"confidence\", min_threshold=0.3)\n"
   ]
  },
  {
   "cell_type": "code",
   "execution_count": 14,
   "id": "a34e684c-46a7-4c42-9cd5-0c9819bf2a41",
   "metadata": {},
   "outputs": [
    {
     "data": {
      "text/html": [
       "<div>\n",
       "<style scoped>\n",
       "    .dataframe tbody tr th:only-of-type {\n",
       "        vertical-align: middle;\n",
       "    }\n",
       "\n",
       "    .dataframe tbody tr th {\n",
       "        vertical-align: top;\n",
       "    }\n",
       "\n",
       "    .dataframe thead th {\n",
       "        text-align: right;\n",
       "    }\n",
       "</style>\n",
       "<table border=\"1\" class=\"dataframe\">\n",
       "  <thead>\n",
       "    <tr style=\"text-align: right;\">\n",
       "      <th></th>\n",
       "      <th>antecedents</th>\n",
       "      <th>consequents</th>\n",
       "      <th>antecedent support</th>\n",
       "      <th>consequent support</th>\n",
       "      <th>support</th>\n",
       "      <th>confidence</th>\n",
       "      <th>lift</th>\n",
       "      <th>leverage</th>\n",
       "      <th>conviction</th>\n",
       "      <th>antecedent_len</th>\n",
       "    </tr>\n",
       "  </thead>\n",
       "  <tbody>\n",
       "    <tr>\n",
       "      <th>418</th>\n",
       "      <td>(root vegetables, citrus fruit)</td>\n",
       "      <td>(other vegetables)</td>\n",
       "      <td>0.017694</td>\n",
       "      <td>0.193512</td>\n",
       "      <td>0.010372</td>\n",
       "      <td>0.586207</td>\n",
       "      <td>3.029300</td>\n",
       "      <td>0.006948</td>\n",
       "      <td>1.949012</td>\n",
       "      <td>2</td>\n",
       "    </tr>\n",
       "    <tr>\n",
       "      <th>491</th>\n",
       "      <td>(root vegetables, tropical fruit)</td>\n",
       "      <td>(other vegetables)</td>\n",
       "      <td>0.021049</td>\n",
       "      <td>0.193512</td>\n",
       "      <td>0.012304</td>\n",
       "      <td>0.584541</td>\n",
       "      <td>3.020692</td>\n",
       "      <td>0.008231</td>\n",
       "      <td>1.941197</td>\n",
       "      <td>2</td>\n",
       "    </tr>\n",
       "  </tbody>\n",
       "</table>\n",
       "</div>"
      ],
      "text/plain": [
       "                           antecedents         consequents  \\\n",
       "418    (root vegetables, citrus fruit)  (other vegetables)   \n",
       "491  (root vegetables, tropical fruit)  (other vegetables)   \n",
       "\n",
       "     antecedent support  consequent support   support  confidence      lift  \\\n",
       "418            0.017694            0.193512  0.010372    0.586207  3.029300   \n",
       "491            0.021049            0.193512  0.012304    0.584541  3.020692   \n",
       "\n",
       "     leverage  conviction  antecedent_len  \n",
       "418  0.006948    1.949012               2  \n",
       "491  0.008231    1.941197               2  "
      ]
     },
     "execution_count": 14,
     "metadata": {},
     "output_type": "execute_result"
    }
   ],
   "source": [
    "rules = association_rules(groceries_ap, metric=\"lift\", min_threshold=1)\n",
    "# 규칙의 길이 컬럼 생성 \n",
    "rules[\"antecedent_len\"] = rules[\"antecedents\"].apply(lambda x: len(x))\n",
    "rules[ (rules['antecedent_len'] >=2) &\n",
    "       (rules['confidence'] >=0.4) &\n",
    "       (rules['lift'] >=3) ]\n"
   ]
  },
  {
   "cell_type": "code",
   "execution_count": null,
   "id": "88b522e1-399b-443a-8302-4daa1c3bee7e",
   "metadata": {},
   "outputs": [],
   "source": []
  },
  {
   "cell_type": "markdown",
   "id": "bbe44a3b-749a-437f-90ce-680bdfa0a0f5",
   "metadata": {
    "toc": true
   },
   "source": [
    "<h1>Table of Contents<span class=\"tocSkip\"></span></h1>\n",
    "<div class=\"toc\"><ul class=\"toc-item\"></ul></div>"
   ]
  },
  {
   "cell_type": "code",
   "execution_count": 1,
   "id": "5d294342-5dd0-4577-923e-7b570a0f7983",
   "metadata": {},
   "outputs": [
    {
     "data": {
      "text/html": [
       "<div>\n",
       "<style scoped>\n",
       "    .dataframe tbody tr th:only-of-type {\n",
       "        vertical-align: middle;\n",
       "    }\n",
       "\n",
       "    .dataframe tbody tr th {\n",
       "        vertical-align: top;\n",
       "    }\n",
       "\n",
       "    .dataframe thead th {\n",
       "        text-align: right;\n",
       "    }\n",
       "</style>\n",
       "<table border=\"1\" class=\"dataframe\">\n",
       "  <thead>\n",
       "    <tr style=\"text-align: right;\">\n",
       "      <th></th>\n",
       "      <th>day</th>\n",
       "      <th>price</th>\n",
       "    </tr>\n",
       "  </thead>\n",
       "  <tbody>\n",
       "    <tr>\n",
       "      <th>0</th>\n",
       "      <td>2013-01-01</td>\n",
       "      <td>3794</td>\n",
       "    </tr>\n",
       "    <tr>\n",
       "      <th>1</th>\n",
       "      <td>2013-02-01</td>\n",
       "      <td>3863</td>\n",
       "    </tr>\n",
       "    <tr>\n",
       "      <th>2</th>\n",
       "      <td>2013-03-01</td>\n",
       "      <td>5190</td>\n",
       "    </tr>\n",
       "    <tr>\n",
       "      <th>3</th>\n",
       "      <td>2013-04-01</td>\n",
       "      <td>5783</td>\n",
       "    </tr>\n",
       "    <tr>\n",
       "      <th>4</th>\n",
       "      <td>2013-05-01</td>\n",
       "      <td>6298</td>\n",
       "    </tr>\n",
       "  </tbody>\n",
       "</table>\n",
       "</div>"
      ],
      "text/plain": [
       "          day  price\n",
       "0  2013-01-01   3794\n",
       "1  2013-02-01   3863\n",
       "2  2013-03-01   5190\n",
       "3  2013-04-01   5783\n",
       "4  2013-05-01   6298"
      ]
     },
     "execution_count": 1,
     "metadata": {},
     "output_type": "execute_result"
    }
   ],
   "source": [
    "import pandas as pd\n",
    "import warnings\n",
    "\n",
    "data = pd.read_csv('../data/arima_data.csv', names = ['day', 'price'])\n",
    "data.head()\n"
   ]
  },
  {
   "cell_type": "code",
   "execution_count": 2,
   "id": "07e25886-fc3d-4649-a973-824b72389ad7",
   "metadata": {},
   "outputs": [
    {
     "name": "stdout",
     "output_type": "stream",
     "text": [
      "<class 'pandas.core.frame.DataFrame'>\n",
      "RangeIndex: 60 entries, 0 to 59\n",
      "Data columns (total 2 columns):\n",
      " #   Column  Non-Null Count  Dtype \n",
      "---  ------  --------------  ----- \n",
      " 0   day     60 non-null     object\n",
      " 1   price   60 non-null     int64 \n",
      "dtypes: int64(1), object(1)\n",
      "memory usage: 1.1+ KB\n"
     ]
    }
   ],
   "source": [
    "data.info()"
   ]
  },
  {
   "cell_type": "code",
   "execution_count": 3,
   "id": "95030b1f-3f66-4b01-bd0d-e1ccb27ed64d",
   "metadata": {},
   "outputs": [
    {
     "data": {
      "text/html": [
       "<div>\n",
       "<style scoped>\n",
       "    .dataframe tbody tr th:only-of-type {\n",
       "        vertical-align: middle;\n",
       "    }\n",
       "\n",
       "    .dataframe tbody tr th {\n",
       "        vertical-align: top;\n",
       "    }\n",
       "\n",
       "    .dataframe thead th {\n",
       "        text-align: right;\n",
       "    }\n",
       "</style>\n",
       "<table border=\"1\" class=\"dataframe\">\n",
       "  <thead>\n",
       "    <tr style=\"text-align: right;\">\n",
       "      <th></th>\n",
       "      <th>price</th>\n",
       "    </tr>\n",
       "    <tr>\n",
       "      <th>day</th>\n",
       "      <th></th>\n",
       "    </tr>\n",
       "  </thead>\n",
       "  <tbody>\n",
       "    <tr>\n",
       "      <th>2013-01-01</th>\n",
       "      <td>3794</td>\n",
       "    </tr>\n",
       "    <tr>\n",
       "      <th>2013-02-01</th>\n",
       "      <td>3863</td>\n",
       "    </tr>\n",
       "    <tr>\n",
       "      <th>2013-03-01</th>\n",
       "      <td>5190</td>\n",
       "    </tr>\n",
       "  </tbody>\n",
       "</table>\n",
       "</div>"
      ],
      "text/plain": [
       "            price\n",
       "day              \n",
       "2013-01-01   3794\n",
       "2013-02-01   3863\n",
       "2013-03-01   5190"
      ]
     },
     "execution_count": 3,
     "metadata": {},
     "output_type": "execute_result"
    }
   ],
   "source": [
    "data['day'] = pd.to_datetime(data['day'],format=\"%Y-%m-%d\")\n",
    "data.set_index('day', inplace=True)\n",
    "data.head(3)\n"
   ]
  },
  {
   "cell_type": "code",
   "execution_count": 4,
   "id": "4939b0f2-4821-4310-b460-cb4272619a16",
   "metadata": {},
   "outputs": [
    {
     "data": {
      "text/plain": [
       "[<matplotlib.lines.Line2D at 0x2481ccc1988>]"
      ]
     },
     "execution_count": 4,
     "metadata": {},
     "output_type": "execute_result"
    },
    {
     "data": {
      "image/png": "[encoded data removed]",
      "text/plain": [
       "<Figure size 432x288 with 1 Axes>"
      ]
     },
     "metadata": {
      "needs_background": "light"
     },
     "output_type": "display_data"
    }
   ],
   "source": [
    "import matplotlib.pyplot as plt\n",
    "plt.plot(data.index,data['price'])\n"
   ]
  },
  {
   "cell_type": "code",
   "execution_count": 5,
   "id": "844db2ef-d362-4efc-8ac5-db6b2cb5e0c1",
   "metadata": {},
   "outputs": [
    {
     "data": {
      "image/png": "[encoded data removed]",
      "text/plain": [
       "<Figure size 864x576 with 4 Axes>"
      ]
     },
     "metadata": {
      "needs_background": "light"
     },
     "output_type": "display_data"
    }
   ],
   "source": [
    "from statsmodels.tsa.seasonal import seasonal_decompose\n",
    "\n",
    "ts = data\n",
    "result = seasonal_decompose(ts, model='multiplicative')\n",
    "plt.rcParams['figure.figsize'] = [12, 8]\n",
    "result.plot()\n",
    "plt.show()\n"
   ]
  },
  {
   "cell_type": "code",
   "execution_count": 6,
   "id": "16cfa469-264f-452f-97ec-cf3b9e615f5b",
   "metadata": {},
   "outputs": [
    {
     "name": "stdout",
     "output_type": "stream",
     "text": [
      "ADF Statistic: -1.9997199341327796\n",
      "p-value : 0.6015863303794179\n"
     ]
    }
   ],
   "source": [
    "from statsmodels.tsa.stattools import adfuller\n",
    "\n",
    "#Train, Test 데이터 구분\n",
    "training = data[:\"2016-12-01\"]\n",
    "test = data.drop(training.index)\n",
    "\n",
    "\n",
    "adf = adfuller(training, regression='ct')\n",
    "print('ADF Statistic: {}'.format(adf[0]))\n",
    "print('p-value : {}'.format(adf[1]))\n"
   ]
  },
  {
   "cell_type": "code",
   "execution_count": 7,
   "id": "6f3a608d-65ef-4cd4-81e1-0f9bf441747e",
   "metadata": {},
   "outputs": [
    {
     "data": {
      "text/plain": [
       "<AxesSubplot:xlabel='day'>"
      ]
     },
     "execution_count": 7,
     "metadata": {},
     "output_type": "execute_result"
    },
    {
     "data": {
      "image/png": "[encoded data removed]",
      "text/plain": [
       "<Figure size 864x576 with 1 Axes>"
      ]
     },
     "metadata": {
      "needs_background": "light"
     },
     "output_type": "display_data"
    }
   ],
   "source": [
    "from statsmodels.graphics.tsaplots import plot_acf, plot_pacf\n",
    "\n",
    "diff_data = training.diff(1)\n",
    "diff_data = diff_data.dropna()\n",
    "diff_data.plot()\n"
   ]
  },
  {
   "cell_type": "code",
   "execution_count": 8,
   "id": "0cabebf9-74b6-4200-873d-6ffade9510c7",
   "metadata": {},
   "outputs": [
    {
     "name": "stdout",
     "output_type": "stream",
     "text": [
      "ADF Statistic: -12.094547576926441\n",
      "p-value : 2.085160639960858e-22\n"
     ]
    }
   ],
   "source": [
    "adf = adfuller(diff_data)\n",
    "print('ADF Statistic: {}'.format(adf[0]))\n",
    "print('p-value : {}'.format(adf[1]))\n"
   ]
  },
  {
   "cell_type": "code",
   "execution_count": 9,
   "id": "14a30670-a07f-43b5-adc9-fe5a23da933e",
   "metadata": {},
   "outputs": [
    {
     "data": {
      "image/png": "[encoded data removed]",
      "text/plain": [
       "<Figure size 864x576 with 1 Axes>"
      ]
     },
     "execution_count": 9,
     "metadata": {},
     "output_type": "execute_result"
    },
    {
     "data": {
      "image/png": "[encoded data removed]",
      "text/plain": [
       "<Figure size 864x576 with 1 Axes>"
      ]
     },
     "metadata": {
      "needs_background": "light"
     },
     "output_type": "display_data"
    }
   ],
   "source": [
    "from statsmodels.graphics.tsaplots import plot_acf, plot_pacf\n",
    "import matplotlib.pyplot as plt\n",
    "\n",
    "plot_acf(diff_data) #AR(p)의 값 확인 가능\n"
   ]
  },
  {
   "cell_type": "code",
   "execution_count": 10,
   "id": "4302064a-d3c7-4bcf-bdf0-a11542df16c5",
   "metadata": {},
   "outputs": [
    {
     "name": "stderr",
     "output_type": "stream",
     "text": [
      "C:\\Users\\jjang\\anaconda3\\envs\\ADP_Class\\lib\\site-packages\\statsmodels\\regression\\linear_model.py:1406: RuntimeWarning: invalid value encountered in sqrt\n",
      "  return rho, np.sqrt(sigmasq)\n"
     ]
    },
    {
     "data": {
      "image/png": "[encoded data removed]",
      "text/plain": [
       "<Figure size 864x576 with 1 Axes>"
      ]
     },
     "metadata": {
      "needs_background": "light"
     },
     "output_type": "display_data"
    }
   ],
   "source": [
    "plot_pacf(diff_data) #MA(q)의 값 확인 가능\n",
    "\n",
    "plt.show()\n"
   ]
  },
  {
   "cell_type": "code",
   "execution_count": 11,
   "id": "0245b1c7-b20b-4560-814f-c6b8a206398a",
   "metadata": {},
   "outputs": [
    {
     "name": "stderr",
     "output_type": "stream",
     "text": [
      "C:\\Users\\jjang\\anaconda3\\envs\\ADP_Class\\lib\\site-packages\\statsmodels\\tsa\\base\\tsa_model.py:162: ValueWarning: No frequency information was provided, so inferred frequency MS will be used.\n",
      "  % freq, ValueWarning)\n",
      "C:\\Users\\jjang\\anaconda3\\envs\\ADP_Class\\lib\\site-packages\\statsmodels\\tsa\\base\\tsa_model.py:162: ValueWarning: No frequency information was provided, so inferred frequency MS will be used.\n",
      "  % freq, ValueWarning)\n",
      "C:\\Users\\jjang\\anaconda3\\envs\\ADP_Class\\lib\\site-packages\\statsmodels\\tsa\\base\\tsa_model.py:162: ValueWarning: No frequency information was provided, so inferred frequency MS will be used.\n",
      "  % freq, ValueWarning)\n",
      "C:\\Users\\jjang\\anaconda3\\envs\\ADP_Class\\lib\\site-packages\\statsmodels\\tsa\\statespace\\sarimax.py:963: UserWarning: Non-stationary starting autoregressive parameters found. Using zeros as starting parameters.\n",
      "  warn('Non-stationary starting autoregressive parameters'\n",
      "C:\\Users\\jjang\\anaconda3\\envs\\ADP_Class\\lib\\site-packages\\statsmodels\\tsa\\statespace\\sarimax.py:975: UserWarning: Non-invertible starting MA parameters found. Using zeros as starting parameters.\n",
      "  warn('Non-invertible starting MA parameters found.'\n",
      "C:\\Users\\jjang\\anaconda3\\envs\\ADP_Class\\lib\\site-packages\\statsmodels\\base\\model.py:568: ConvergenceWarning: Maximum Likelihood optimization failed to converge. Check mle_retvals\n",
      "  \"Check mle_retvals\", ConvergenceWarning)\n"
     ]
    },
    {
     "data": {
      "text/html": [
       "<table class=\"simpletable\">\n",
       "<caption>SARIMAX Results</caption>\n",
       "<tr>\n",
       "  <th>Dep. Variable:</th>         <td>price</td>      <th>  No. Observations:  </th>    <td>48</td>   \n",
       "</tr>\n",
       "<tr>\n",
       "  <th>Model:</th>            <td>ARIMA(2, 1, 2)</td>  <th>  Log Likelihood     </th> <td>-375.863</td>\n",
       "</tr>\n",
       "<tr>\n",
       "  <th>Date:</th>            <td>Tue, 19 Apr 2022</td> <th>  AIC                </th>  <td>765.725</td>\n",
       "</tr>\n",
       "<tr>\n",
       "  <th>Time:</th>                <td>00:44:27</td>     <th>  BIC                </th>  <td>778.676</td>\n",
       "</tr>\n",
       "<tr>\n",
       "  <th>Sample:</th>             <td>01-01-2013</td>    <th>  HQIC               </th>  <td>770.599</td>\n",
       "</tr>\n",
       "<tr>\n",
       "  <th></th>                   <td>- 12-01-2016</td>   <th>                     </th>     <td> </td>   \n",
       "</tr>\n",
       "<tr>\n",
       "  <th>Covariance Type:</th>        <td>opg</td>       <th>                     </th>     <td> </td>   \n",
       "</tr>\n",
       "</table>\n",
       "<table class=\"simpletable\">\n",
       "<tr>\n",
       "     <td></td>       <th>coef</th>     <th>std err</th>      <th>z</th>      <th>P>|z|</th>  <th>[0.025</th>    <th>0.975]</th>  \n",
       "</tr>\n",
       "<tr>\n",
       "  <th>const</th>  <td>    1.0181</td> <td> 4212.891</td> <td>    0.000</td> <td> 1.000</td> <td>-8256.096</td> <td> 8258.132</td>\n",
       "</tr>\n",
       "<tr>\n",
       "  <th>x1</th>     <td>   36.9581</td> <td>  173.295</td> <td>    0.213</td> <td> 0.831</td> <td> -302.694</td> <td>  376.610</td>\n",
       "</tr>\n",
       "<tr>\n",
       "  <th>ar.L1</th>  <td>   -1.3081</td> <td>    0.232</td> <td>   -5.640</td> <td> 0.000</td> <td>   -1.763</td> <td>   -0.854</td>\n",
       "</tr>\n",
       "<tr>\n",
       "  <th>ar.L2</th>  <td>   -0.3106</td> <td>    0.232</td> <td>   -1.336</td> <td> 0.181</td> <td>   -0.766</td> <td>    0.145</td>\n",
       "</tr>\n",
       "<tr>\n",
       "  <th>ma.L1</th>  <td>    1.9535</td> <td>    0.265</td> <td>    7.370</td> <td> 0.000</td> <td>    1.434</td> <td>    2.473</td>\n",
       "</tr>\n",
       "<tr>\n",
       "  <th>ma.L2</th>  <td>    0.9787</td> <td>    0.264</td> <td>    3.714</td> <td> 0.000</td> <td>    0.462</td> <td>    1.495</td>\n",
       "</tr>\n",
       "<tr>\n",
       "  <th>sigma2</th> <td> 4.472e+05</td> <td>    2.373</td> <td> 1.88e+05</td> <td> 0.000</td> <td> 4.47e+05</td> <td> 4.47e+05</td>\n",
       "</tr>\n",
       "</table>\n",
       "<table class=\"simpletable\">\n",
       "<tr>\n",
       "  <th>Ljung-Box (Q):</th>          <td>102.12</td> <th>  Jarque-Bera (JB):  </th> <td>0.35</td> \n",
       "</tr>\n",
       "<tr>\n",
       "  <th>Prob(Q):</th>                 <td>0.00</td>  <th>  Prob(JB):          </th> <td>0.84</td> \n",
       "</tr>\n",
       "<tr>\n",
       "  <th>Heteroskedasticity (H):</th>  <td>1.52</td>  <th>  Skew:              </th> <td>-0.20</td>\n",
       "</tr>\n",
       "<tr>\n",
       "  <th>Prob(H) (two-sided):</th>     <td>0.41</td>  <th>  Kurtosis:          </th> <td>2.88</td> \n",
       "</tr>\n",
       "</table><br/><br/>Warnings:<br/>[1] Covariance matrix calculated using the outer product of gradients (complex-step).<br/>[2] Covariance matrix is singular or near-singular, with condition number 4.08e+22. Standard errors may be unstable."
      ],
      "text/plain": [
       "<class 'statsmodels.iolib.summary.Summary'>\n",
       "\"\"\"\n",
       "                               SARIMAX Results                                \n",
       "==============================================================================\n",
       "Dep. Variable:                  price   No. Observations:                   48\n",
       "Model:                 ARIMA(2, 1, 2)   Log Likelihood                -375.863\n",
       "Date:                Tue, 19 Apr 2022   AIC                            765.725\n",
       "Time:                        00:44:27   BIC                            778.676\n",
       "Sample:                    01-01-2013   HQIC                           770.599\n",
       "                         - 12-01-2016                                         \n",
       "Covariance Type:                  opg                                         \n",
       "==============================================================================\n",
       "                 coef    std err          z      P>|z|      [0.025      0.975]\n",
       "------------------------------------------------------------------------------\n",
       "const          1.0181   4212.891      0.000      1.000   -8256.096    8258.132\n",
       "x1            36.9581    173.295      0.213      0.831    -302.694     376.610\n",
       "ar.L1         -1.3081      0.232     -5.640      0.000      -1.763      -0.854\n",
       "ar.L2         -0.3106      0.232     -1.336      0.181      -0.766       0.145\n",
       "ma.L1          1.9535      0.265      7.370      0.000       1.434       2.473\n",
       "ma.L2          0.9787      0.264      3.714      0.000       0.462       1.495\n",
       "sigma2      4.472e+05      2.373   1.88e+05      0.000    4.47e+05    4.47e+05\n",
       "===================================================================================\n",
       "Ljung-Box (Q):                      102.12   Jarque-Bera (JB):                 0.35\n",
       "Prob(Q):                              0.00   Prob(JB):                         0.84\n",
       "Heteroskedasticity (H):               1.52   Skew:                            -0.20\n",
       "Prob(H) (two-sided):                  0.41   Kurtosis:                         2.88\n",
       "===================================================================================\n",
       "\n",
       "Warnings:\n",
       "[1] Covariance matrix calculated using the outer product of gradients (complex-step).\n",
       "[2] Covariance matrix is singular or near-singular, with condition number 4.08e+22. Standard errors may be unstable.\n",
       "\"\"\""
      ]
     },
     "execution_count": 11,
     "metadata": {},
     "output_type": "execute_result"
    }
   ],
   "source": [
    "from statsmodels.tsa.arima.model import ARIMA\n",
    "\n",
    "model = ARIMA(training, order=(2,1,2),trend='ct')\n",
    "res = model.fit()\n",
    "res.summary()\n"
   ]
  },
  {
   "cell_type": "code",
   "execution_count": 12,
   "id": "3158bafe-4866-4eae-904b-60b356452b92",
   "metadata": {},
   "outputs": [
    {
     "data": {
      "text/plain": [
       "[<matplotlib.lines.Line2D at 0x24820a60fc8>]"
      ]
     },
     "execution_count": 12,
     "metadata": {},
     "output_type": "execute_result"
    },
    {
     "data": {
      "image/png": "[encoded data removed]",
      "text/plain": [
       "<Figure size 864x576 with 1 Axes>"
      ]
     },
     "metadata": {
      "needs_background": "light"
     },
     "output_type": "display_data"
    }
   ],
   "source": [
    "plt.plot(res.predict())\n",
    "plt.plot(training)\n"
   ]
  },
  {
   "cell_type": "code",
   "execution_count": 13,
   "id": "eaa20ff0-93e8-489e-9d67-aeada228c7d0",
   "metadata": {},
   "outputs": [
    {
     "data": {
      "text/plain": [
       "2017-01-01    4073.726974\n",
       "2017-02-01    3793.736188\n",
       "2017-03-01    4204.071305\n",
       "2017-04-01    3851.044855\n",
       "2017-05-01    4282.186321\n",
       "2017-06-01    3924.626494\n",
       "2017-07-01    4355.235997\n",
       "2017-08-01    3999.780058\n",
       "2017-09-01    4427.802627\n",
       "2017-10-01    4075.077287\n",
       "2017-11-01    4500.331353\n",
       "2017-12-01    4150.379479\n",
       "Freq: MS, dtype: float64"
      ]
     },
     "execution_count": 13,
     "metadata": {},
     "output_type": "execute_result"
    }
   ],
   "source": [
    "forecast_data = res.forecast(steps=len(test), alpha=0.05) \n",
    "# 학습 데이터셋으로부터 test 데이터 길이만큼 예측합니다.\n",
    "\n",
    "pred_y= forecast_data\n",
    "pred_y\n"
   ]
  },
  {
   "cell_type": "code",
   "execution_count": 14,
   "id": "18d5a888-6c5a-46cc-859e-f924970902e9",
   "metadata": {},
   "outputs": [
    {
     "data": {
      "text/html": [
       "<div>\n",
       "<style scoped>\n",
       "    .dataframe tbody tr th:only-of-type {\n",
       "        vertical-align: middle;\n",
       "    }\n",
       "\n",
       "    .dataframe tbody tr th {\n",
       "        vertical-align: top;\n",
       "    }\n",
       "\n",
       "    .dataframe thead th {\n",
       "        text-align: right;\n",
       "    }\n",
       "</style>\n",
       "<table border=\"1\" class=\"dataframe\">\n",
       "  <thead>\n",
       "    <tr style=\"text-align: right;\">\n",
       "      <th></th>\n",
       "      <th>price</th>\n",
       "    </tr>\n",
       "    <tr>\n",
       "      <th>day</th>\n",
       "      <th></th>\n",
       "    </tr>\n",
       "  </thead>\n",
       "  <tbody>\n",
       "    <tr>\n",
       "      <th>2017-01-01</th>\n",
       "      <td>5236</td>\n",
       "    </tr>\n",
       "    <tr>\n",
       "      <th>2017-02-01</th>\n",
       "      <td>5299</td>\n",
       "    </tr>\n",
       "    <tr>\n",
       "      <th>2017-03-01</th>\n",
       "      <td>6744</td>\n",
       "    </tr>\n",
       "    <tr>\n",
       "      <th>2017-04-01</th>\n",
       "      <td>7927</td>\n",
       "    </tr>\n",
       "    <tr>\n",
       "      <th>2017-05-01</th>\n",
       "      <td>8561</td>\n",
       "    </tr>\n",
       "    <tr>\n",
       "      <th>2017-06-01</th>\n",
       "      <td>8930</td>\n",
       "    </tr>\n",
       "    <tr>\n",
       "      <th>2017-07-01</th>\n",
       "      <td>9960</td>\n",
       "    </tr>\n",
       "    <tr>\n",
       "      <th>2017-08-01</th>\n",
       "      <td>8548</td>\n",
       "    </tr>\n",
       "    <tr>\n",
       "      <th>2017-09-01</th>\n",
       "      <td>7843</td>\n",
       "    </tr>\n",
       "    <tr>\n",
       "      <th>2017-10-01</th>\n",
       "      <td>7620</td>\n",
       "    </tr>\n",
       "    <tr>\n",
       "      <th>2017-11-01</th>\n",
       "      <td>7676</td>\n",
       "    </tr>\n",
       "    <tr>\n",
       "      <th>2017-12-01</th>\n",
       "      <td>5809</td>\n",
       "    </tr>\n",
       "  </tbody>\n",
       "</table>\n",
       "</div>"
      ],
      "text/plain": [
       "            price\n",
       "day              \n",
       "2017-01-01   5236\n",
       "2017-02-01   5299\n",
       "2017-03-01   6744\n",
       "2017-04-01   7927\n",
       "2017-05-01   8561\n",
       "2017-06-01   8930\n",
       "2017-07-01   9960\n",
       "2017-08-01   8548\n",
       "2017-09-01   7843\n",
       "2017-10-01   7620\n",
       "2017-11-01   7676\n",
       "2017-12-01   5809"
      ]
     },
     "execution_count": 14,
     "metadata": {},
     "output_type": "execute_result"
    }
   ],
   "source": [
    "test_y = test # 실제 데이터\n",
    "test_y\n"
   ]
  },
  {
   "cell_type": "code",
   "execution_count": 15,
   "id": "6ce57e53-a6f4-4d51-a380-e65b957e6c7b",
   "metadata": {},
   "outputs": [
    {
     "data": {
      "image/png": "[encoded data removed]",
      "text/plain": [
       "<Figure size 864x576 with 1 Axes>"
      ]
     },
     "metadata": {
      "needs_background": "light"
     },
     "output_type": "display_data"
    }
   ],
   "source": [
    "plt.plot(pred_y, color=\"gold\", label='Predict') # 모델이 예상한 가격 그래프\n",
    "plt.plot(test_y, color=\"green\" , label='test') # 실제 가격 그래프\n",
    "plt.legend()\n",
    "plt.show()\n"
   ]
  },
  {
   "cell_type": "code",
   "execution_count": 16,
   "id": "9b195c50-bdca-4d88-845a-52189122ce5c",
   "metadata": {},
   "outputs": [
    {
     "name": "stdout",
     "output_type": "stream",
     "text": [
      "r2_score :  -5.615778286393547\n",
      "RMSE :  3642.446338871415\n"
     ]
    }
   ],
   "source": [
    "from sklearn.metrics import mean_squared_error\n",
    "from sklearn.metrics import r2_score\n",
    "\n",
    "print(\"r2_score : \", r2_score(test_y, pred_y))\n",
    "RMSE = mean_squared_error(test_y, pred_y)**0.5\n",
    "print(\"RMSE : \" , RMSE)\n"
   ]
  },
  {
   "cell_type": "code",
   "execution_count": 17,
   "id": "aac70a76-c233-44f6-b534-fa87f4ac95d0",
   "metadata": {},
   "outputs": [
    {
     "name": "stdout",
     "output_type": "stream",
     "text": [
      "Performing stepwise search to minimize aic\n",
      " ARIMA(0,1,0)(0,1,0)[12]             : AIC=481.846, Time=0.01 sec\n",
      " ARIMA(1,1,0)(1,1,0)[12]             : AIC=482.652, Time=0.09 sec\n",
      " ARIMA(0,1,1)(0,1,1)[12]             : AIC=482.466, Time=0.08 sec\n",
      " ARIMA(0,1,0)(1,1,0)[12]             : AIC=483.637, Time=0.06 sec\n",
      " ARIMA(0,1,0)(0,1,1)[12]             : AIC=483.669, Time=0.03 sec\n",
      " ARIMA(0,1,0)(1,1,1)[12]             : AIC=inf, Time=0.26 sec\n",
      " ARIMA(1,1,0)(0,1,0)[12]             : AIC=481.031, Time=0.03 sec\n",
      " ARIMA(1,1,0)(0,1,1)[12]             : AIC=482.740, Time=0.10 sec\n",
      " ARIMA(1,1,0)(1,1,1)[12]             : AIC=inf, Time=0.31 sec\n",
      " ARIMA(2,1,0)(0,1,0)[12]             : AIC=482.616, Time=0.04 sec\n",
      " ARIMA(1,1,1)(0,1,0)[12]             : AIC=482.682, Time=0.08 sec\n",
      " ARIMA(0,1,1)(0,1,0)[12]             : AIC=480.687, Time=0.03 sec\n",
      " ARIMA(0,1,1)(1,1,0)[12]             : AIC=482.403, Time=0.08 sec\n",
      " ARIMA(0,1,1)(1,1,1)[12]             : AIC=inf, Time=0.41 sec\n",
      " ARIMA(0,1,2)(0,1,0)[12]             : AIC=482.683, Time=0.05 sec\n",
      " ARIMA(1,1,2)(0,1,0)[12]             : AIC=inf, Time=0.10 sec\n",
      " ARIMA(0,1,1)(0,1,0)[12] intercept   : AIC=482.687, Time=0.04 sec\n",
      "\n",
      "Best model:  ARIMA(0,1,1)(0,1,0)[12]          \n",
      "Total fit time: 1.828 seconds\n"
     ]
    }
   ],
   "source": [
    "from pmdarima import auto_arima\n",
    "\n",
    "auto_model = auto_arima(training, start_p=0, d=1, start_q=0,\n",
    "                        max_p=3, max_q=3, \n",
    "                        start_P=0, start_Q=0,\n",
    "                        max_P=3, max_Q=3, m=12,\n",
    "                        seasonal=True, information_criterion='aic',\n",
    "                        trace=True)\n"
   ]
  },
  {
   "cell_type": "code",
   "execution_count": 18,
   "id": "6cc9665a-4b82-429d-8107-987dcc4ae5e5",
   "metadata": {},
   "outputs": [
    {
     "data": {
      "text/html": [
       "<table class=\"simpletable\">\n",
       "<caption>SARIMAX Results</caption>\n",
       "<tr>\n",
       "  <th>Dep. Variable:</th>                  <td>y</td>                <th>  No. Observations:  </th>    <td>48</td>   \n",
       "</tr>\n",
       "<tr>\n",
       "  <th>Model:</th>           <td>SARIMAX(0, 1, 1)x(0, 1, [], 12)</td> <th>  Log Likelihood     </th> <td>-238.344</td>\n",
       "</tr>\n",
       "<tr>\n",
       "  <th>Date:</th>                   <td>Tue, 19 Apr 2022</td>         <th>  AIC                </th>  <td>480.687</td>\n",
       "</tr>\n",
       "<tr>\n",
       "  <th>Time:</th>                       <td>00:44:30</td>             <th>  BIC                </th>  <td>483.798</td>\n",
       "</tr>\n",
       "<tr>\n",
       "  <th>Sample:</th>                         <td>0</td>                <th>  HQIC               </th>  <td>481.761</td>\n",
       "</tr>\n",
       "<tr>\n",
       "  <th></th>                              <td> - 48</td>              <th>                     </th>     <td> </td>   \n",
       "</tr>\n",
       "<tr>\n",
       "  <th>Covariance Type:</th>               <td>opg</td>               <th>                     </th>     <td> </td>   \n",
       "</tr>\n",
       "</table>\n",
       "<table class=\"simpletable\">\n",
       "<tr>\n",
       "     <td></td>       <th>coef</th>     <th>std err</th>      <th>z</th>      <th>P>|z|</th>  <th>[0.025</th>    <th>0.975]</th>  \n",
       "</tr>\n",
       "<tr>\n",
       "  <th>ma.L1</th>  <td>   -0.3185</td> <td>    0.177</td> <td>   -1.801</td> <td> 0.072</td> <td>   -0.665</td> <td>    0.028</td>\n",
       "</tr>\n",
       "<tr>\n",
       "  <th>sigma2</th> <td> 4.803e+04</td> <td> 1.64e+04</td> <td>    2.924</td> <td> 0.003</td> <td> 1.58e+04</td> <td> 8.02e+04</td>\n",
       "</tr>\n",
       "</table>\n",
       "<table class=\"simpletable\">\n",
       "<tr>\n",
       "  <th>Ljung-Box (Q):</th>          <td>23.53</td> <th>  Jarque-Bera (JB):  </th> <td>1.15</td> \n",
       "</tr>\n",
       "<tr>\n",
       "  <th>Prob(Q):</th>                <td>0.91</td>  <th>  Prob(JB):          </th> <td>0.56</td> \n",
       "</tr>\n",
       "<tr>\n",
       "  <th>Heteroskedasticity (H):</th> <td>1.56</td>  <th>  Skew:              </th> <td>-0.14</td>\n",
       "</tr>\n",
       "<tr>\n",
       "  <th>Prob(H) (two-sided):</th>    <td>0.45</td>  <th>  Kurtosis:          </th> <td>2.16</td> \n",
       "</tr>\n",
       "</table><br/><br/>Warnings:<br/>[1] Covariance matrix calculated using the outer product of gradients (complex-step)."
      ],
      "text/plain": [
       "<class 'statsmodels.iolib.summary.Summary'>\n",
       "\"\"\"\n",
       "                                      SARIMAX Results                                      \n",
       "===========================================================================================\n",
       "Dep. Variable:                                   y   No. Observations:                   48\n",
       "Model:             SARIMAX(0, 1, 1)x(0, 1, [], 12)   Log Likelihood                -238.344\n",
       "Date:                             Tue, 19 Apr 2022   AIC                            480.687\n",
       "Time:                                     00:44:30   BIC                            483.798\n",
       "Sample:                                          0   HQIC                           481.761\n",
       "                                              - 48                                         \n",
       "Covariance Type:                               opg                                         \n",
       "==============================================================================\n",
       "                 coef    std err          z      P>|z|      [0.025      0.975]\n",
       "------------------------------------------------------------------------------\n",
       "ma.L1         -0.3185      0.177     -1.801      0.072      -0.665       0.028\n",
       "sigma2      4.803e+04   1.64e+04      2.924      0.003    1.58e+04    8.02e+04\n",
       "===================================================================================\n",
       "Ljung-Box (Q):                       23.53   Jarque-Bera (JB):                 1.15\n",
       "Prob(Q):                              0.91   Prob(JB):                         0.56\n",
       "Heteroskedasticity (H):               1.56   Skew:                            -0.14\n",
       "Prob(H) (two-sided):                  0.45   Kurtosis:                         2.16\n",
       "===================================================================================\n",
       "\n",
       "Warnings:\n",
       "[1] Covariance matrix calculated using the outer product of gradients (complex-step).\n",
       "\"\"\""
      ]
     },
     "execution_count": 18,
     "metadata": {},
     "output_type": "execute_result"
    }
   ],
   "source": [
    "auto_model.summary()"
   ]
  },
  {
   "cell_type": "code",
   "execution_count": 19,
   "id": "13de5476-543c-40e7-af90-78ff0a57539c",
   "metadata": {},
   "outputs": [
    {
     "data": {
      "text/html": [
       "<div>\n",
       "<style scoped>\n",
       "    .dataframe tbody tr th:only-of-type {\n",
       "        vertical-align: middle;\n",
       "    }\n",
       "\n",
       "    .dataframe tbody tr th {\n",
       "        vertical-align: top;\n",
       "    }\n",
       "\n",
       "    .dataframe thead th {\n",
       "        text-align: right;\n",
       "    }\n",
       "</style>\n",
       "<table border=\"1\" class=\"dataframe\">\n",
       "  <thead>\n",
       "    <tr style=\"text-align: right;\">\n",
       "      <th></th>\n",
       "      <th>predicted_price</th>\n",
       "    </tr>\n",
       "    <tr>\n",
       "      <th>day</th>\n",
       "      <th></th>\n",
       "    </tr>\n",
       "  </thead>\n",
       "  <tbody>\n",
       "    <tr>\n",
       "      <th>2017-01-01</th>\n",
       "      <td>5609.43698</td>\n",
       "    </tr>\n",
       "    <tr>\n",
       "      <th>2017-02-01</th>\n",
       "      <td>5761.43698</td>\n",
       "    </tr>\n",
       "    <tr>\n",
       "      <th>2017-03-01</th>\n",
       "      <td>7225.43698</td>\n",
       "    </tr>\n",
       "    <tr>\n",
       "      <th>2017-04-01</th>\n",
       "      <td>8298.43698</td>\n",
       "    </tr>\n",
       "    <tr>\n",
       "      <th>2017-05-01</th>\n",
       "      <td>8841.43698</td>\n",
       "    </tr>\n",
       "    <tr>\n",
       "      <th>2017-06-01</th>\n",
       "      <td>9452.43698</td>\n",
       "    </tr>\n",
       "    <tr>\n",
       "      <th>2017-07-01</th>\n",
       "      <td>10359.43698</td>\n",
       "    </tr>\n",
       "    <tr>\n",
       "      <th>2017-08-01</th>\n",
       "      <td>8777.43698</td>\n",
       "    </tr>\n",
       "    <tr>\n",
       "      <th>2017-09-01</th>\n",
       "      <td>8068.43698</td>\n",
       "    </tr>\n",
       "    <tr>\n",
       "      <th>2017-10-01</th>\n",
       "      <td>7832.43698</td>\n",
       "    </tr>\n",
       "    <tr>\n",
       "      <th>2017-11-01</th>\n",
       "      <td>7935.43698</td>\n",
       "    </tr>\n",
       "    <tr>\n",
       "      <th>2017-12-01</th>\n",
       "      <td>6279.43698</td>\n",
       "    </tr>\n",
       "  </tbody>\n",
       "</table>\n",
       "</div>"
      ],
      "text/plain": [
       "            predicted_price\n",
       "day                        \n",
       "2017-01-01       5609.43698\n",
       "2017-02-01       5761.43698\n",
       "2017-03-01       7225.43698\n",
       "2017-04-01       8298.43698\n",
       "2017-05-01       8841.43698\n",
       "2017-06-01       9452.43698\n",
       "2017-07-01      10359.43698\n",
       "2017-08-01       8777.43698\n",
       "2017-09-01       8068.43698\n",
       "2017-10-01       7832.43698\n",
       "2017-11-01       7935.43698\n",
       "2017-12-01       6279.43698"
      ]
     },
     "execution_count": 19,
     "metadata": {},
     "output_type": "execute_result"
    }
   ],
   "source": [
    "# 학습 데이터셋으로부터 test 데이터 길이만큼 예측\n",
    "auto_pred_y= pd.DataFrame(auto_model.predict(n_periods=len(test)), \n",
    "                          index=test.index) \n",
    "auto_pred_y.columns = ['predicted_price']\n",
    "auto_pred_y\n"
   ]
  },
  {
   "cell_type": "code",
   "execution_count": 20,
   "id": "709cdd6e-9324-42e0-8e31-447e81126524",
   "metadata": {},
   "outputs": [
    {
     "data": {
      "image/png": "[encoded data removed]",
      "text/plain": [
       "<Figure size 720x432 with 1 Axes>"
      ]
     },
     "metadata": {
      "needs_background": "light"
     },
     "output_type": "display_data"
    }
   ],
   "source": [
    "plt.figure(figsize=(10,6))\n",
    "plt.plot(training, label=\"Train\") # Train 데이터 \n",
    "plt.plot(auto_pred_y, label=\"Prediction\") # 모델이 예상한 그래프 \n",
    "plt.plot(test, label=\"Test\") # 실제 가격 그래프 \n",
    "plt.legend(loc='upper left')\n",
    "plt.show()\n"
   ]
  },
  {
   "cell_type": "code",
   "execution_count": 21,
   "id": "6efd51cc-e044-4456-af02-6da2b544b492",
   "metadata": {},
   "outputs": [
    {
     "name": "stdout",
     "output_type": "stream",
     "text": [
      "r2_score :  0.9305467058376857\n",
      "RMSE :  373.20642840321074\n"
     ]
    }
   ],
   "source": [
    "from sklearn.metrics import mean_squared_error\n",
    "from sklearn.metrics import r2_score\n",
    "\n",
    "print(\"r2_score : \", r2_score(test_y, auto_pred_y))\n",
    "RMSE = mean_squared_error(test_y, auto_pred_y)**0.5\n",
    "print(\"RMSE : \" , RMSE)\n"
   ]
  },
  {
   "cell_type": "code",
   "execution_count": null,
   "id": "d640ed85-b3d6-40b2-a6cc-cfd683203d4c",
   "metadata": {},
   "outputs": [],
   "source": []
  }
 ],
 "metadata": {
  "kernelspec": {
   "display_name": "Python 3 (ipykernel)",
   "language": "python",
   "name": "python3"
  },
  "language_info": {
   "codemirror_mode": {
    "name": "ipython",
    "version": 3
   },
   "file_extension": ".py",
   "mimetype": "text/x-python",
   "name": "python",
   "nbconvert_exporter": "python",
   "pygments_lexer": "ipython3",
   "version": "3.9.1"
  },
  "toc": {
   "base_numbering": 1,
   "nav_menu": {},
   "number_sections": true,
   "sideBar": true,
   "skip_h1_title": false,
   "title_cell": "Table of Contents",
   "title_sidebar": "Contents",
   "toc_cell": true,
   "toc_position": {},
   "toc_section_display": true,
   "toc_window_display": true
  }
 },
 "nbformat": 4,
 "nbformat_minor": 5
}
