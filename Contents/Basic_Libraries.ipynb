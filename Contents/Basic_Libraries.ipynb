{
 "cells": [
  {
   "cell_type": "code",
   "execution_count": 1,
   "outputs": [],
   "source": [
    "# datasets #\n",
    "# ======== #\n",
    "import pandas as pd\n",
    "import numpy as np\n",
    "\n",
    "from sklearn import datasets\n",
    "titanic_path = \"../datasets/titanic/train.csv\"\n",
    "bike_path = \"../datasets/bike-sharing-demand/train.csv\"\n",
    "X_iris, y_iris = datasets.load_iris(return_X_y=True, as_frame=True)\n",
    "df_iris = pd.concat([X_iris, y_iris], axis=1)\n",
    "X_diab, y_diab = datasets.load_diabetes(return_X_y=True, as_frame=True)\n",
    "df_diab = pd.concat([X_diab, y_diab], axis=1)\n",
    "\n",
    "import warnings\n",
    "warnings.filterwarnings('ignore')"
   ],
   "metadata": {
    "collapsed": false
   }
  },
  {
   "cell_type": "markdown",
   "source": [
    "# Markdown"
   ],
   "metadata": {
    "collapsed": false
   }
  },
  {
   "cell_type": "markdown",
   "source": [
    "## Basic MD Usage\n",
    "- math $\n",
    "- block quote >\n",
    "- nested block quote >>\n",
    "- strong ** / __\n",
    "- italic * / _\n",
    "- line break <br>\n",
    "- horizontal line *** / ---\n",
    "- internal link \\[heading title](#heading-title)\n",
    "- external link \\[link text](https://url)\n",
    "- monospace  `\n",
    "- code  ```\n",
    "- font color \\<font color='red'>bar\\</font>"
   ],
   "metadata": {
    "collapsed": false
   }
  },
  {
   "cell_type": "markdown",
   "source": [
    "## MD Image\n",
    "### insert image with IPython\n",
    "```python\n",
    "from IPython.display import Image\n",
    "Image(url='https://www...', width=300)\n",
    "```\n",
    "\n",
    "### insert image with custom size\n",
    "- \\<div>\n",
    "- \\<img src=\"attachment:Screenshot.png\" width=\"500\"/>\n",
    "- \\</div>\n",
    "\n",
    "### link image with custom size\n",
    "- \\<img src=\"image.JPG\" alt=\"Drawing\" style=\"width: 200px;\"/>\n",
    "\n",
    "### link image local file with custome size\n",
    "- \\<div>\n",
    "- \\<img src=\"Images/Screenshot1.png\" width=\"500\"/>\n",
    "- \\</div>"
   ],
   "metadata": {
    "collapsed": false
   }
  },
  {
   "cell_type": "code",
   "execution_count": 1,
   "outputs": [],
   "source": [],
   "metadata": {
    "collapsed": false
   }
  },
  {
   "cell_type": "code",
   "execution_count": 1,
   "outputs": [],
   "source": [],
   "metadata": {
    "collapsed": false
   }
  },
  {
   "cell_type": "markdown",
   "source": [
    "# Python"
   ],
   "metadata": {
    "collapsed": false
   }
  },
  {
   "cell_type": "markdown",
   "source": [
    "### 모듈화 - import custom func from .py\n",
    "- 파일 이름: `math_function.py`\n",
    "    - 파일 내 정의된 함수 이름: `plus_multi`\n",
    "- 같은 폴더인 경우\n",
    "```python\n",
    "from math_function import plus_multi\n",
    "```\n",
    "- function_01이라는 하위 폴더에 있는 경우\n",
    "```python\n",
    "from function_01.math_function import plus_multi\n",
    "```"
   ],
   "metadata": {
    "collapsed": false
   }
  },
  {
   "cell_type": "markdown",
   "source": [
    "## List, Dict, Tuple\n",
    "- append() 리스트 제일 뒤에 항목을 추가한다.\n",
    "- pop() 리스트 제일 뒤의 항목을 빼내고, 빼낸 항목은 삭제한다.\n",
    "- sort() 리스트의 항목을 정렬한다.\n",
    "- reverse() 리스트 항목의 순서를 역순으로 만든다.\n",
    "- index() 지정한 값을 찾아서 그 위치를 반환한다.\n",
    "- insert() 지정된 위치에 값을 삽입한다.\n",
    "- remove() 리스트에서 지정한 값을 제거한다.\n",
    "    - 단, 지정한 값이 여러 개일 경우 첫 번째 값만 지운다.\n",
    "- extend() 리스트 뒤에 리스트를 추가한다. 리스트의 더하기(+)\n",
    "    - 연산과 동일한 기능이다.\n",
    "- count() 리스트에서 찾을 값의 개수를 센다.\n",
    "- del() 리스트에서 해당 위치의 항목을 삭제한다.\n",
    "- len() 리스트에 포함된 전체 항목의 개수를 센다."
   ],
   "metadata": {
    "collapsed": false
   }
  },
  {
   "cell_type": "markdown",
   "source": [
    "### Dict 생성, 주요 method"
   ],
   "metadata": {
    "collapsed": false
   }
  },
  {
   "cell_type": "code",
   "execution_count": 2,
   "outputs": [
    {
     "name": "stdout",
     "output_type": "stream",
     "text": [
      "dict_values(['seoul', 'tokyo', 'ottawa'])\n",
      "dict_keys(['korea', 'japan', 'canada'])\n",
      "\n",
      "dict_items([('korea', 'seoul'), ('japan', 'tokyo'), ('canada', 'ottawa')])\n"
     ]
    }
   ],
   "source": [
    "a = {'korea': 'seoul', 'japan': 'tokyo', 'canada': 'ottawa'}\n",
    "print(a.values())\n",
    "print(a.keys())\n",
    "print()\n",
    "# items : return a 'list of tuples'\n",
    "print(a.items())"
   ],
   "metadata": {
    "collapsed": false
   }
  },
  {
   "cell_type": "code",
   "execution_count": 3,
   "outputs": [
    {
     "data": {
      "text/plain": "[(0, 'korea'), (1, 'japan'), (2, 'canada')]"
     },
     "execution_count": 3,
     "metadata": {},
     "output_type": "execute_result"
    }
   ],
   "source": [
    "# enumerate : return a 'list of tuples'\n",
    "list(enumerate(a))"
   ],
   "metadata": {
    "collapsed": false
   }
  },
  {
   "cell_type": "markdown",
   "source": [
    "## For, If\n",
    "```python\n",
    "x = 2\n",
    "while x <= 9:\n",
    "    y = 1\n",
    "    while y <= 9:\n",
    "        print(x, 'x', y, '=', x*y)\n",
    "        y += 1\n",
    "    x += 1\n",
    "```"
   ],
   "metadata": {
    "collapsed": false
   }
  },
  {
   "cell_type": "markdown",
   "source": [
    "## Variable Length Argument\n",
    "\n",
    "> *args: 파라미터를 튜플의 형태로 전달\n",
    "> *kwargs: 파라미터를 딕셔너리 형태로 전달 (aka. named parameter)\n",
    "\n",
    "```python\n",
    "def test(*x):\n",
    "    for item in x:\n",
    "        print(item)\n",
    "\n",
    "test(10, 20, 'hello')\n",
    "# 10, 20, 'hello'가 차례로 print됌.\n",
    "\n",
    "\n",
    "\n",
    "def test2(**x):\n",
    "    for key, value in x.items():\n",
    "        print('key:', key, ', value:', value)\n",
    "\n",
    "test2(a=1, b=2, c=9, d='hello')\n",
    "```"
   ],
   "metadata": {
    "collapsed": false
   }
  },
  {
   "cell_type": "markdown",
   "source": [
    "## Lambda"
   ],
   "metadata": {
    "collapsed": false
   }
  },
  {
   "cell_type": "code",
   "execution_count": 4,
   "outputs": [
    {
     "name": "stdout",
     "output_type": "stream",
     "text": [
      "25\n"
     ]
    }
   ],
   "source": [
    "square = lambda x:x**2\n",
    "print(square(5))"
   ],
   "metadata": {
    "collapsed": false
   }
  },
  {
   "cell_type": "code",
   "execution_count": 5,
   "outputs": [
    {
     "name": "stdout",
     "output_type": "stream",
     "text": [
      "['bob', 'teddy', 'charles', 'alexander']\n"
     ]
    }
   ],
   "source": [
    "strings = ['bob', 'charles', 'alexander', 'teddy']\n",
    "strings.sort(key=lambda s:len(s))\n",
    "# key parameter엔 function이 필요\n",
    "\n",
    "print(strings)"
   ],
   "metadata": {
    "collapsed": false
   }
  },
  {
   "cell_type": "code",
   "execution_count": 6,
   "outputs": [
    {
     "name": "stdout",
     "output_type": "stream",
     "text": [
      "[2, 4, 6, 8]\n"
     ]
    }
   ],
   "source": [
    "# filter\n",
    "nums = [1, 2, 3, 4, 6, 8, 9]\n",
    "\n",
    "filter_result = list(filter(lambda x:x%2==0, nums))\n",
    "print(filter_result)"
   ],
   "metadata": {
    "collapsed": false
   }
  },
  {
   "cell_type": "code",
   "execution_count": 7,
   "outputs": [
    {
     "name": "stdout",
     "output_type": "stream",
     "text": [
      "[1, 4, 9, 16, 25, 36, 49, 100, 121, 169]\n",
      "[False, True, False, True, False, True, False, True, False, False]\n"
     ]
    }
   ],
   "source": [
    "# map은 주어진 리스트를 토대로 새로운 리스트를 반환하는 것\n",
    "nums = [1, 2, 3, 4, 5, 6, 7, 10, 11, 13]\n",
    "print(list(map(lambda n:n**2, nums)))\n",
    "\n",
    "print(list(map(lambda n:n%2==0, nums)))"
   ],
   "metadata": {
    "collapsed": false
   }
  },
  {
   "cell_type": "markdown",
   "source": [
    "## Class, Object\n",
    "- class는 똑같은 무엇인가를 계속해서 만들어낼 수 있는 '틀' 같은 것\n",
    "- object(객체)는 클래스에 의해서 만들어진 물건이나 실체 같은 것\n",
    "- instance는 객체와 같은 말인데, class와의 관계를 강조할 때 인스턴스라고 말한다.\n",
    "    - '트럭은 인스턴스'보다 '트럭은 객체'가 더 어울리고,\n",
    "    - '트럭은 자동차의 객체'보다 '트럭은 자동차의 인스턴스'가 더 어울린다.\n",
    "\n",
    "```python\n",
    "class Singer:  # 가수라는 클래스를 정의한다\n",
    "    def sing(self):    # 가수는 노래하기 method를 가졌다.\n",
    "        return \"lalala~\"\n",
    "\n",
    "# Jihun이라는 인스턴스를 만들어서 Singer 클래스를 부여.\n",
    "jihun = Singer()\n",
    "jihun.sing()       # jihun은 Singer의 method를 사용한다.\n",
    "```"
   ],
   "metadata": {
    "collapsed": false
   }
  },
  {
   "cell_type": "code",
   "execution_count": 8,
   "outputs": [
    {
     "name": "stdout",
     "output_type": "stream",
     "text": [
      "<__main__.Person object at 0x17d49bbe0> is generated\n",
      "Aaron 은 잠을 잡니다.\n"
     ]
    }
   ],
   "source": [
    "class Person:\n",
    "    def __init__(self, name, age):\n",
    "        print(self, 'is generated')\n",
    "        self.name = name\n",
    "        self.age = age\n",
    "\n",
    "    def sleep(self):\n",
    "        print(self.name, '은 잠을 잡니다.')\n",
    "\n",
    "a = Person('Aaron', 20)\n",
    "\n",
    "a.sleep()   # self는 'a'이다. => 여기서 a.sleep(a)인 거랑 같은 말이다.\n",
    "            # 'a'라는 변수 자체는 \"어떤 메모리 주소에 저장된 값\", 혹은 \"어떤 주소\" 그 자체다.\n",
    "\n",
    "## SELF 는 관례적으로 모든 METHOD 파라미터의 첫 번째 자리에 온다."
   ],
   "metadata": {
    "collapsed": false
   }
  },
  {
   "cell_type": "markdown",
   "source": [
    "### Instance Method, Class Method, Static Method\n",
    "> **method**: 클래스에 포함되어 있는 함수\n",
    "- **instance**:\n",
    "    - 첫 번째 매개변수로 self (인스턴스)를 받는다.\n",
    "    - self를 통해 인스턴스의 속성에 접근 가능 &\n",
    "    - 다른 인스턴스 메서드를 호출 가능\n",
    "- **class**:\n",
    "    - @classmethod 데코레이터를 사용해 선언\n",
    "    - 첫 번째 매개변수로 cls (클래스)를 받는다.\n",
    "    - cls를 통해 클래스의 속성에 접근 가능 &\n",
    "    - 클래스 메서드를 호출 가능\n",
    "    - BUT, 인스턴스 속성에 접근하거나 다른 인스턴스 메서드 호출 불가\n",
    "- **static**:\n",
    "    - @staticmethod 데코레이터를 사용해 선언\n",
    "    - 첫 번째 매개변수가 할당되지 않음\n",
    "    - 인스턴스/클래스 속성에 접근하거나, 인스턴스/클래스 메서드 호출 불가\n"
   ],
   "metadata": {
    "collapsed": false
   }
  },
  {
   "cell_type": "code",
   "execution_count": 9,
   "outputs": [
    {
     "name": "stdout",
     "output_type": "stream",
     "text": [
      "3\n"
     ]
    }
   ],
   "source": [
    "# instance method\n",
    "class Counter:\n",
    "    def __init__(self, value = 0):\n",
    "        self.value = value\n",
    "\n",
    "    def increment(self, delta = 1):\n",
    "        self.value += delta\n",
    "\n",
    "    def decrement(self, delta = 1):\n",
    "        self.value -= delta\n",
    "\n",
    "# 반드시 먼저 인스턴스를 생성한 후에 해당 인스턴스 대상으로 method 호출해야 함.\n",
    "counter = Counter()\n",
    "\n",
    "counter.increment(3)\n",
    "print(counter.value)"
   ],
   "metadata": {
    "collapsed": false
   }
  },
  {
   "cell_type": "code",
   "execution_count": 10,
   "outputs": [],
   "source": [
    "# class method\n",
    "class User:\n",
    "    def __init__(self, email, password):\n",
    "        self.email = email\n",
    "        self.password = password\n",
    "\n",
    "    @classmethod\n",
    "    def fromTuple(cls, tup):\n",
    "        return cls(tup[0], tup[1])\n",
    "\n",
    "    @classmethod\n",
    "    def fromDictionary(cls, dic):\n",
    "        return cls(dic[\"email\"], dic[\"password\"])"
   ],
   "metadata": {
    "collapsed": false
   }
  },
  {
   "cell_type": "markdown",
   "source": [
    "```python\n",
    ">>> user = User(\"user@test.com\", \"1234\")\n",
    ">>> user.email, user.password\n",
    "('user@test.com', '1234')\n",
    "\n",
    "# class method로 객체 생성(인스턴스 대상으로 method 호출한 게 아님!!)\n",
    ">>> user = User.fromTuple((\"user@test.com\", \"1234\"))\n",
    ">>> user.email, user.password\n",
    "('user@test.com', '1234')\n",
    "```"
   ],
   "metadata": {
    "collapsed": false
   }
  },
  {
   "cell_type": "code",
   "execution_count": 11,
   "outputs": [],
   "source": [
    "# static method\n",
    "class StringUtils:\n",
    "    @staticmethod\n",
    "    def toCamelcase(text):\n",
    "        words = iter(text.split(\"_\"))\n",
    "        return next(words) + \"\".join(i.title() for i in words)\n",
    "\n",
    "    @staticmethod\n",
    "    def toSnakecase(text):\n",
    "        letters = [\"_\" + i.lower() if i.isupper() else i for i in text]\n",
    "        return \"\".join(letters).lstrip(\"_\")\n",
    "\n",
    "# 보통 이런 류의 여러 유틸리티 methods를 하나의 클래스로 묶어두고 싶을 때 사용"
   ],
   "metadata": {
    "collapsed": false
   }
  },
  {
   "cell_type": "markdown",
   "source": [
    "```python\n",
    ">>> StringUtils.toCamelcase(\"last_modified_date\")\n",
    "'lastModifiedDate'\n",
    ">>> StringUtils.toSnakecase(\"lastModifiedDate\")\n",
    "'last_modified_date'\n",
    "```"
   ],
   "metadata": {
    "collapsed": false
   }
  },
  {
   "cell_type": "markdown",
   "source": [
    "### Ex) 복소수 클래스 만들기"
   ],
   "metadata": {
    "collapsed": false
   }
  },
  {
   "cell_type": "code",
   "execution_count": 12,
   "outputs": [
    {
     "name": "stdout",
     "output_type": "stream",
     "text": [
      "1 + 2j\n",
      "4 + 7j\n",
      "-2 - 3j\n",
      "True\n",
      "2.23606797749979\n"
     ]
    }
   ],
   "source": [
    "import math\n",
    "\n",
    "class ComplexNumber:\n",
    "    def __init__(self, real, img):\n",
    "        self.real = real\n",
    "        self.img = img\n",
    "\n",
    "    def __str__(self):\n",
    "        if self.img > 0:\n",
    "            return '{} + {}j'.format(self.real, self.img)\n",
    "        else:\n",
    "            return '{} - {}j'.format(self.real, abs(self.img))\n",
    "\n",
    "    def __add__(self, cn):\n",
    "        return ComplexNumber(self.real + cn.real, self.img + cn.img)\n",
    "\n",
    "    def __sub__(self, cn):\n",
    "        return ComplexNumber(self.real - cn.real, self.img - cn.img)\n",
    "\n",
    "    def __eq__(self, cn):\n",
    "        return self.real == cn.real and self.img == cn.img\n",
    "\n",
    "    def __abs__(self):\n",
    "        return math.sqrt(self.real **2 + self.img ** 2)\n",
    "\n",
    "\n",
    "a = ComplexNumber(1, 2)\n",
    "b = ComplexNumber(3, 5)\n",
    "\n",
    "print(a)\n",
    "print(a + b)\n",
    "print(a - b)\n",
    "\n",
    "print(a != b)\n",
    "\n",
    "print(abs(a))"
   ],
   "metadata": {
    "collapsed": false
   }
  },
  {
   "cell_type": "markdown",
   "source": [
    "## 정규표현식 Regex"
   ],
   "metadata": {
    "collapsed": false
   }
  },
  {
   "cell_type": "markdown",
   "source": [
    "### 기본 표현\n",
    "- . (마침표) - 어떤 한 개의 character와 일치\n",
    "- \\w - 문자 character와 일치\n",
    "- \\s - 공백문자와 일치\n",
    "- \\t, \\n, \\r - tab, newline, return\n",
    "- \\d - 숫자 character와 일치\n",
    "- ^ = 시작, $ = 끝.  (각각 문자열의 시작과 끝을 의미)\n",
    "- \\가 앞에 붙으면 스페셜한 의미가 없어짐. (예를 들어 \\\\는 \\를 의미)"
   ],
   "metadata": {
    "collapsed": false
   }
  },
  {
   "cell_type": "code",
   "execution_count": 13,
   "outputs": [
    {
     "name": "stdout",
     "output_type": "stream",
     "text": [
      "3\n",
      "6\n"
     ]
    }
   ],
   "source": [
    "import re\n",
    "\n",
    "m = re.search(r'abc', '123abcdef')\n",
    "print(m.start())\n",
    "print(m.end())"
   ],
   "metadata": {
    "collapsed": false
   }
  },
  {
   "cell_type": "markdown",
   "source": [
    "### 메타 캐릭터\n",
    "> **[ ]** - 문자들의 범위를 나타내기 위해 사용\n",
    "\n",
    "- [abc.^]: a or b or c or . or ^\n",
    "- [a-d]: a~d 사이 문자 중 하나\n",
    "- [0-9]: 모든 숫자\n",
    "- [a-z]  : 모든 소문자\n",
    "- [A-Z]  : 모든 대문자\n",
    "- [a-zA-Z0-9] : 모든 알파벳 문자 및 숫자\n",
    "- [^0-9] : ^가 맨 앞에 사용 되는 경우 해당 문자 패턴이 아닌 것과 매칭"
   ],
   "metadata": {
    "collapsed": false
   }
  },
  {
   "cell_type": "code",
   "execution_count": 14,
   "outputs": [
    {
     "data": {
      "text/plain": "<re.Match object; span=(0, 5), match='caron'>"
     },
     "execution_count": 14,
     "metadata": {},
     "output_type": "execute_result"
    }
   ],
   "source": [
    "re.search(r'[abc.^]aron', 'caron')"
   ],
   "metadata": {
    "collapsed": false
   }
  },
  {
   "cell_type": "code",
   "execution_count": 15,
   "outputs": [
    {
     "data": {
      "text/plain": "<re.Match object; span=(0, 5), match='#aron'>"
     },
     "execution_count": 15,
     "metadata": {},
     "output_type": "execute_result"
    }
   ],
   "source": [
    "# ^가 맨 앞에 쓰이는 경우: not의 의미를 지닌다.\n",
    "re.search(r'[^abc]aron', '#aron')"
   ],
   "metadata": {
    "collapsed": false
   }
  },
  {
   "cell_type": "markdown",
   "source": [
    "### 반복패턴\n",
    "\n",
    "- '+'  => 1번 이상의 패턴이 발생\n",
    "- '*'  => 0번 이상의 패턴이 발생\n",
    "- '?'  => 0 혹은 1번의 패턴이 발생"
   ],
   "metadata": {
    "collapsed": false
   }
  },
  {
   "cell_type": "code",
   "execution_count": 16,
   "outputs": [
    {
     "data": {
      "text/plain": "<re.Match object; span=(0, 8), match='abcbdccb'>"
     },
     "execution_count": 16,
     "metadata": {},
     "output_type": "execute_result"
    }
   ],
   "source": [
    "re.search(r'a[bcd]*b', 'abcbdccb')\n",
    "# 반복패턴 검색은 '최소'가 아니라 '최대 매칭'이다.\n",
    "# [bcd]*는 0번 반복도 포함이기 때문에, r'ab'도 매칭이 된다."
   ],
   "metadata": {
    "collapsed": false
   }
  },
  {
   "cell_type": "markdown",
   "source": [
    "### Grouping\n",
    "  - ()을 사용하여 그루핑\n",
    "  - 매칭 결과를 각 그룹별로 분리 가능\n",
    "  - 패턴 명시 할 때, 각 그룹을 괄호() 안에 넣어 분리하여 사용"
   ],
   "metadata": {
    "collapsed": false
   }
  },
  {
   "cell_type": "code",
   "execution_count": 17,
   "outputs": [
    {
     "name": "stdout",
     "output_type": "stream",
     "text": [
      "test\n",
      "gmail.com\n",
      "test@gmail.com\n"
     ]
    }
   ],
   "source": [
    "m = re.search(r'(\\w+)@(.+)', 'test@gmail.com')\n",
    "print(m.group(1))\n",
    "print(m.group(2))\n",
    "print(m.group(0))"
   ],
   "metadata": {
    "collapsed": false
   }
  },
  {
   "cell_type": "markdown",
   "source": [
    "### Findall\n",
    " - search가 최초로 매칭되는 패턴만 반환한다면, findall은 매칭되는 전체의 패턴을 반환\n",
    " - 매칭되는 모든 결과를 리스트 형태로 반환"
   ],
   "metadata": {
    "collapsed": false
   }
  },
  {
   "cell_type": "code",
   "execution_count": 18,
   "outputs": [
    {
     "data": {
      "text/plain": "['test@gmail.com', 'test2@gmail.com']"
     },
     "execution_count": 18,
     "metadata": {},
     "output_type": "execute_result"
    }
   ],
   "source": [
    "re.findall(r'[\\w-]+@[\\w.]+', 'test@gmail.com haha test2@gmail.com nice weather today test')"
   ],
   "metadata": {
    "collapsed": false
   }
  },
  {
   "cell_type": "markdown",
   "source": [
    "## Mutable vs Immutable"
   ],
   "metadata": {
    "collapsed": false
   }
  },
  {
   "cell_type": "markdown",
   "source": [
    "## Shallow copy vs Deep copy"
   ],
   "metadata": {
    "collapsed": false
   }
  },
  {
   "cell_type": "markdown",
   "source": [
    "## Strings"
   ],
   "metadata": {
    "collapsed": false
   }
  },
  {
   "cell_type": "markdown",
   "source": [
    "## Lexical Closures"
   ],
   "metadata": {
    "collapsed": false
   }
  },
  {
   "cell_type": "markdown",
   "source": [
    "## Decorator"
   ],
   "metadata": {
    "collapsed": false
   }
  },
  {
   "cell_type": "markdown",
   "source": [
    "## Iterator and Generator"
   ],
   "metadata": {
    "collapsed": false
   }
  },
  {
   "cell_type": "markdown",
   "source": [
    "## Ex) 가위바위보 게임, 숫자맞추기 게임, 커피자판기 등"
   ],
   "metadata": {
    "collapsed": false
   }
  },
  {
   "cell_type": "code",
   "execution_count": 19,
   "outputs": [
    {
     "name": "stdout",
     "output_type": "stream",
     "text": [
      "사용자:   ||  컴퓨터:  바위\n"
     ]
    }
   ],
   "source": [
    "import random;\n",
    "\n",
    "player = input(\"(가위, 바위, 보) 중에서 하나를 선택하세요: \")\n",
    "\n",
    "number = random.randint(0,2)\n",
    "if (number == 0):\n",
    "    computer = \"가위\"\n",
    "elif (number ==1):\n",
    "    computer = \"바위\"\n",
    "elif (number ==2):\n",
    "    computer = \"보\"\n",
    "\n",
    "print(\"사용자: \", player, \"||  컴퓨터: \", computer)\n",
    "\n",
    "if (player == computer):\n",
    "    print(\"비겼음!\")\n",
    "elif (player ==\"바위\"):\n",
    "    if (computer == \"보\"):\n",
    "        print(\"컴퓨터가 이겼음!\")\n",
    "    else:\n",
    "        print(\"사용자가 이겼음!\")\n",
    "elif (player ==\"보\"):\n",
    "    if (computer == \"바위\"):\n",
    "        print(\"사용자가 이겼음!\")\n",
    "    else:\n",
    "        print(\"컴퓨터가 이겼음!\")\n",
    "elif (player ==\"가위\"):\n",
    "    if (computer == \"바위\"):\n",
    "        print(\"컴퓨터가 이겼음!\")\n",
    "    else:\n",
    "        print(\"사용자가 이겼음!\")"
   ],
   "metadata": {
    "collapsed": false
   }
  },
  {
   "cell_type": "code",
   "execution_count": 20,
   "outputs": [
    {
     "name": "stdout",
     "output_type": "stream",
     "text": [
      "1부터 100 사이의 숫자를 맞추시오\n"
     ]
    },
    {
     "ename": "ValueError",
     "evalue": "invalid literal for int() with base 10: ''",
     "output_type": "error",
     "traceback": [
      "\u001B[0;31m---------------------------------------------------------------------------\u001B[0m",
      "\u001B[0;31mValueError\u001B[0m                                Traceback (most recent call last)",
      "\u001B[0;32m/var/folders/z3/0n9cxghs7fz_xy1kjbg201gr0000gn/T/ipykernel_32152/1967298305.py\u001B[0m in \u001B[0;36m<module>\u001B[0;34m\u001B[0m\n\u001B[1;32m      8\u001B[0m \u001B[0;34m\u001B[0m\u001B[0m\n\u001B[1;32m      9\u001B[0m \u001B[0;32mwhile\u001B[0m \u001B[0mtries\u001B[0m \u001B[0;34m<\u001B[0m \u001B[0;36m10\u001B[0m\u001B[0;34m:\u001B[0m\u001B[0;34m\u001B[0m\u001B[0;34m\u001B[0m\u001B[0m\n\u001B[0;32m---> 10\u001B[0;31m     \u001B[0mguess\u001B[0m \u001B[0;34m=\u001B[0m \u001B[0mint\u001B[0m\u001B[0;34m(\u001B[0m\u001B[0minput\u001B[0m\u001B[0;34m(\u001B[0m\u001B[0;34m\"숫자를 입력하시오: \"\u001B[0m\u001B[0;34m)\u001B[0m\u001B[0;34m)\u001B[0m\u001B[0;34m\u001B[0m\u001B[0;34m\u001B[0m\u001B[0m\n\u001B[0m\u001B[1;32m     11\u001B[0m     \u001B[0mtries\u001B[0m \u001B[0;34m=\u001B[0m \u001B[0mtries\u001B[0m \u001B[0;34m+\u001B[0m \u001B[0;36m1\u001B[0m\u001B[0;34m\u001B[0m\u001B[0;34m\u001B[0m\u001B[0m\n\u001B[1;32m     12\u001B[0m     \u001B[0;32mif\u001B[0m \u001B[0mguess\u001B[0m \u001B[0;34m<\u001B[0m \u001B[0mnumber\u001B[0m\u001B[0;34m:\u001B[0m\u001B[0;34m\u001B[0m\u001B[0;34m\u001B[0m\u001B[0m\n",
      "\u001B[0;31mValueError\u001B[0m: invalid literal for int() with base 10: ''"
     ]
    }
   ],
   "source": [
    "import random\n",
    "\n",
    "tries = 0\n",
    "\n",
    "number = random.randint(1, 100)\n",
    "\n",
    "print(\"1부터 100 사이의 숫자를 맞추시오\")\n",
    "\n",
    "while tries < 10:\n",
    "    guess = int(input(\"숫자를 입력하시오: \"))\n",
    "    tries = tries + 1\n",
    "    if guess < number:\n",
    "        print(\"낮음!\")\n",
    "    elif guess > number:\n",
    "        print(\"높음!\")\n",
    "    else:\n",
    "        break\n",
    "\n",
    "if guess == number:\n",
    "    print(\"축하합니다. 시도횟수= \", tries)\n",
    "else:\n",
    "    print(\"정답은 \", number)"
   ],
   "metadata": {
    "collapsed": false
   }
  },
  {
   "cell_type": "code",
   "execution_count": 21,
   "outputs": [
    {
     "name": "stdout",
     "output_type": "stream",
     "text": [
      "돈을 받았으니 커피를 줍니다.\n",
      "남은 커피의 양은 9개입니다.\n",
      "돈을 받았으니 커피를 줍니다.\n",
      "남은 커피의 양은 8개입니다.\n",
      "돈을 받았으니 커피를 줍니다.\n",
      "남은 커피의 양은 7개입니다.\n",
      "돈을 받았으니 커피를 줍니다.\n",
      "남은 커피의 양은 6개입니다.\n",
      "돈을 받았으니 커피를 줍니다.\n",
      "남은 커피의 양은 5개입니다.\n",
      "돈을 받았으니 커피를 줍니다.\n",
      "남은 커피의 양은 4개입니다.\n",
      "돈을 받았으니 커피를 줍니다.\n",
      "남은 커피의 양은 3개입니다.\n",
      "돈을 받았으니 커피를 줍니다.\n",
      "남은 커피의 양은 2개입니다.\n",
      "돈을 받았으니 커피를 줍니다.\n",
      "남은 커피의 양은 1개입니다.\n",
      "돈을 받았으니 커피를 줍니다.\n",
      "남은 커피의 양은 0개입니다.\n",
      "커피가 다 떨어졌습니다. 판매를 중지합니다.\n"
     ]
    }
   ],
   "source": [
    "coffee = 10\n",
    "money = 300\n",
    "while money:\n",
    "    print(\"돈을 받았으니 커피를 줍니다.\")\n",
    "    coffee = coffee - 1\n",
    "    print(\"남은 커피의 양은 %d개입니다.\" %coffee)\n",
    "    if not coffee:\n",
    "        print(\"커피가 다 떨어졌습니다. 판매를 중지합니다.\")\n",
    "        break"
   ],
   "metadata": {
    "collapsed": false
   }
  },
  {
   "cell_type": "code",
   "execution_count": 22,
   "outputs": [
    {
     "ename": "ValueError",
     "evalue": "invalid literal for int() with base 10: ''",
     "output_type": "error",
     "traceback": [
      "\u001B[0;31m---------------------------------------------------------------------------\u001B[0m",
      "\u001B[0;31mValueError\u001B[0m                                Traceback (most recent call last)",
      "\u001B[0;32m/var/folders/z3/0n9cxghs7fz_xy1kjbg201gr0000gn/T/ipykernel_32152/502174406.py\u001B[0m in \u001B[0;36m<module>\u001B[0;34m\u001B[0m\n\u001B[1;32m      5\u001B[0m \u001B[0;34m\u001B[0m\u001B[0m\n\u001B[1;32m      6\u001B[0m \u001B[0;32mfor\u001B[0m \u001B[0mi\u001B[0m \u001B[0;32min\u001B[0m \u001B[0mrange\u001B[0m\u001B[0;34m(\u001B[0m\u001B[0mSTUDENTS\u001B[0m\u001B[0;34m)\u001B[0m\u001B[0;34m:\u001B[0m\u001B[0;34m\u001B[0m\u001B[0;34m\u001B[0m\u001B[0m\n\u001B[0;32m----> 7\u001B[0;31m     \u001B[0mvalue\u001B[0m \u001B[0;34m=\u001B[0m \u001B[0mint\u001B[0m\u001B[0;34m(\u001B[0m\u001B[0minput\u001B[0m\u001B[0;34m(\u001B[0m\u001B[0;34m\"성적을 입력하세요: \"\u001B[0m\u001B[0;34m)\u001B[0m\u001B[0;34m)\u001B[0m\u001B[0;34m\u001B[0m\u001B[0;34m\u001B[0m\u001B[0m\n\u001B[0m\u001B[1;32m      8\u001B[0m     \u001B[0mscores\u001B[0m\u001B[0;34m.\u001B[0m\u001B[0mappend\u001B[0m\u001B[0;34m(\u001B[0m\u001B[0mvalue\u001B[0m\u001B[0;34m)\u001B[0m\u001B[0;34m\u001B[0m\u001B[0;34m\u001B[0m\u001B[0m\n\u001B[1;32m      9\u001B[0m     \u001B[0mscoreSum\u001B[0m \u001B[0;34m+=\u001B[0m \u001B[0mvalue\u001B[0m\u001B[0;34m\u001B[0m\u001B[0;34m\u001B[0m\u001B[0m\n",
      "\u001B[0;31mValueError\u001B[0m: invalid literal for int() with base 10: ''"
     ]
    }
   ],
   "source": [
    "STUDENTS = 5\n",
    "\n",
    "scores = []\n",
    "scoreSum = 0\n",
    "\n",
    "for i in range(STUDENTS):\n",
    "    value = int(input(\"성적을 입력하세요: \"))\n",
    "    scores.append(value)\n",
    "    scoreSum += value\n",
    "\n",
    "scoreAvg = scoreSum / len(scores)\n",
    "highScoreStudents = 0\n",
    "for i in range(len(scores)):\n",
    "    if scores[i] >= 80:\n",
    "        highScoreStudents += 1\n",
    "\n",
    "print(\"성적 평균은\", scoreAvg, \"입니다.\")\n",
    "print(\"80점 이상 성적을 받은 학생은\", highScoreStudents, \"명입니다.\")"
   ],
   "metadata": {
    "collapsed": false
   }
  },
  {
   "cell_type": "code",
   "execution_count": 23,
   "outputs": [
    {
     "name": "stdout",
     "output_type": "stream",
     "text": [
      "학생 이름:\n"
     ]
    }
   ],
   "source": [
    "Names = []\n",
    "while True:\n",
    "    name = input(\"학생 이름을 입력하세요: \")\n",
    "    if name == \"\" :\n",
    "        break\n",
    "    Names.append(name)\n",
    "\n",
    "print(\"학생 이름:\")\n",
    "for name in Names:\n",
    "    print(name, end=\" \")"
   ],
   "metadata": {
    "collapsed": false
   }
  },
  {
   "cell_type": "code",
   "execution_count": 24,
   "outputs": [
    {
     "name": "stdout",
     "output_type": "stream",
     "text": [
      "---------------\n",
      "1. 친구 리스트 출력\n",
      "2. 친구추가\n",
      "3. 친구삭제\n",
      "4. 이름변경\n",
      "9. 종료\n"
     ]
    },
    {
     "ename": "ValueError",
     "evalue": "invalid literal for int() with base 10: ''",
     "output_type": "error",
     "traceback": [
      "\u001B[0;31m---------------------------------------------------------------------------\u001B[0m",
      "\u001B[0;31mValueError\u001B[0m                                Traceback (most recent call last)",
      "\u001B[0;32m/var/folders/z3/0n9cxghs7fz_xy1kjbg201gr0000gn/T/ipykernel_32152/1584538160.py\u001B[0m in \u001B[0;36m<module>\u001B[0;34m\u001B[0m\n\u001B[1;32m     10\u001B[0m     \u001B[0mprint\u001B[0m\u001B[0;34m(\u001B[0m\u001B[0;34m\"4. 이름변경\"\u001B[0m\u001B[0;34m)\u001B[0m\u001B[0;34m\u001B[0m\u001B[0;34m\u001B[0m\u001B[0m\n\u001B[1;32m     11\u001B[0m     \u001B[0mprint\u001B[0m\u001B[0;34m(\u001B[0m\u001B[0;34m\"9. 종료\"\u001B[0m\u001B[0;34m)\u001B[0m\u001B[0;34m\u001B[0m\u001B[0;34m\u001B[0m\u001B[0m\n\u001B[0;32m---> 12\u001B[0;31m     \u001B[0mmenu\u001B[0m \u001B[0;34m=\u001B[0m \u001B[0mint\u001B[0m\u001B[0;34m(\u001B[0m\u001B[0minput\u001B[0m\u001B[0;34m(\u001B[0m\u001B[0;34m\"메뉴를 선택하시오: \"\u001B[0m\u001B[0;34m)\u001B[0m\u001B[0;34m)\u001B[0m\u001B[0;34m\u001B[0m\u001B[0;34m\u001B[0m\u001B[0m\n\u001B[0m\u001B[1;32m     13\u001B[0m \u001B[0;34m\u001B[0m\u001B[0m\n\u001B[1;32m     14\u001B[0m     \u001B[0;32mif\u001B[0m \u001B[0mmenu\u001B[0m \u001B[0;34m==\u001B[0m \u001B[0;36m1\u001B[0m\u001B[0;34m:\u001B[0m\u001B[0;34m\u001B[0m\u001B[0;34m\u001B[0m\u001B[0m\n",
      "\u001B[0;31mValueError\u001B[0m: invalid literal for int() with base 10: ''"
     ]
    }
   ],
   "source": [
    "# 연락처 관리 프로그램 - 예시\n",
    "menu = 0\n",
    "friends = []\n",
    "\n",
    "while menu != 9:\n",
    "    print(\"---------------\")\n",
    "    print(\"1. 친구 리스트 출력\")\n",
    "    print(\"2. 친구추가\")\n",
    "    print(\"3. 친구삭제\")\n",
    "    print(\"4. 이름변경\")\n",
    "    print(\"9. 종료\")\n",
    "    menu = int(input(\"메뉴를 선택하시오: \"))\n",
    "\n",
    "    if menu == 1:\n",
    "        print(friends)\n",
    "\n",
    "    elif menu == 2:\n",
    "        name = input(\"이름을 입력하시오: \")\n",
    "        friends.append(name)\n",
    "\n",
    "    elif menu == 3:\n",
    "        del_name = input(\"삭제하고 싶은 이름을 입력하시오: \")\n",
    "        if del_name in friends:\n",
    "            friends.remove(del_name)\n",
    "        else:\n",
    "            print(\"이름이 발견되지 않았음\")\n",
    "\n",
    "    elif menu == 4:\n",
    "        old_name = input(\"변경하고 싶은 이름을 입력하시오: \")\n",
    "        if old_name in friends:\n",
    "            index = friends.index(old_name)\n",
    "            new_name = input(\"새로운 이름을 입력하시오: \")\n",
    "            friends[index] = new_name\n",
    "        else:\n",
    "            print(\"이름이 발견되지 않았음\")"
   ],
   "metadata": {
    "collapsed": false
   }
  },
  {
   "cell_type": "markdown",
   "source": [
    "# Numpy"
   ],
   "metadata": {
    "collapsed": false
   }
  },
  {
   "cell_type": "markdown",
   "source": [
    "## np.arrays\n",
    "- np.array / np.arange / np ones / np.zeros / np.empty\n",
    "- np.full((3,4),7)  =>  7로만 이뤄진 3x4행렬\n",
    "- np.eye(5)  => 5차원 단위행렬"
   ],
   "metadata": {
    "collapsed": false
   }
  },
  {
   "cell_type": "code",
   "execution_count": 25,
   "outputs": [
    {
     "data": {
      "text/plain": "array([ 1. ,  5.5, 10. ])"
     },
     "execution_count": 25,
     "metadata": {},
     "output_type": "execute_result"
    }
   ],
   "source": [
    "import numpy as np\n",
    "np.linspace(1, 10, 3)  #1이 시작, 10이 끝; 총 3개 숫자가 균일하게 분포되도록"
   ],
   "metadata": {
    "collapsed": false
   }
  },
  {
   "cell_type": "code",
   "execution_count": 26,
   "outputs": [
    {
     "data": {
      "text/plain": "array([[ 1,  2,  3],\n       [ 4,  5,  6],\n       [ 7,  8,  9],\n       [10, 11, 12],\n       [13, 14, 15]])"
     },
     "execution_count": 26,
     "metadata": {},
     "output_type": "execute_result"
    }
   ],
   "source": [
    "x = np.arange(1, 16)\n",
    "x.reshape(3, 5)\n",
    "x.reshape(5, -1)  # -1 하면 자동으로 맞춰줌"
   ],
   "metadata": {
    "collapsed": false
   }
  },
  {
   "cell_type": "code",
   "execution_count": 27,
   "outputs": [
    {
     "data": {
      "text/plain": "array([ 1,  2,  3,  4,  5,  6,  7,  8,  9, 10, 11, 12, 13, 14, 15])"
     },
     "execution_count": 27,
     "metadata": {},
     "output_type": "execute_result"
    }
   ],
   "source": [
    "np.ravel(x)  # 다차원 벡터를 1차원으로 늘려준다"
   ],
   "metadata": {
    "collapsed": false
   }
  },
  {
   "cell_type": "code",
   "execution_count": 28,
   "outputs": [
    {
     "name": "stdout",
     "output_type": "stream",
     "text": [
      "[[ 0  1  2  3  4]\n",
      " [ 5  6  7  8  9]\n",
      " [10 11 12 13 14]]\n",
      "\n",
      "flatten:  [ 0  1  2  3  4  5  6  7  8  9 10 11 12 13 14]\n",
      "\n",
      "order:  [ 0  5 10  1  6 11  2  7 12  3  8 13  4  9 14]\n"
     ]
    }
   ],
   "source": [
    "y = np.arange(15).reshape(3, 5)\n",
    "print(y)\n",
    "\n",
    "print('\\nflatten: ', y.flatten())\n",
    "# ravel과 차이점은 \"copy\"를 생성하여 변경한다는 점\n",
    "\n",
    "print('\\norder: ', y.flatten(order='F'))\n",
    "# F는 column 우선 변경, C는 row 우선 변경"
   ],
   "metadata": {
    "collapsed": false
   }
  },
  {
   "cell_type": "markdown",
   "source": [
    "## ndarray의 인덱싱(Indexing)"
   ],
   "metadata": {
    "collapsed": false
   }
  },
  {
   "cell_type": "markdown",
   "source": [
    "### 인덱싱 유형\n",
    "- 특정 위치의 단일값 추출\n",
    "    - e.g. array1[2] 3번째 인덱스 값\n",
    "    - array1[0,1]  행인덱스0 열인덱스1\n",
    "- slicing\n",
    "    - e.g. \":\" 을 이용해 연속된 값을 선택\n",
    "- fancy indexing\n",
    "- boolean indexing"
   ],
   "metadata": {
    "collapsed": false
   }
  },
  {
   "cell_type": "markdown",
   "source": [
    "### Fancy Indexing"
   ],
   "metadata": {
    "collapsed": false
   }
  },
  {
   "cell_type": "code",
   "execution_count": 29,
   "outputs": [
    {
     "name": "stdout",
     "output_type": "stream",
     "text": [
      "[[1 2 3]\n",
      " [4 5 6]\n",
      " [7 8 9]]\n",
      "array2d[[0,1], 2] =>  [3, 6]\n",
      "array2d[[0,2], 0:2] =>  [[1, 2], [7, 8]]\n",
      "array2d[[0,1]] =>  [[1, 2, 3], [4, 5, 6]]\n"
     ]
    }
   ],
   "source": [
    "array1d = np.arange(start=1, stop=10)\n",
    "array2d = array1d.reshape(3,3)\n",
    "print(array2d)\n",
    "\n",
    "array3 = array2d[[0,1], 2]  # 행축의 0행과 1행, 그리고 열축의 2열 => [3, 6]\n",
    "print('array2d[[0,1], 2] => ',array3.tolist())\n",
    "\n",
    "array4 = array2d[[0,2], 0:2] #행축의 0행과 1행, 그리고 열축의 0~1열\n",
    "print('array2d[[0,2], 0:2] => ',array4.tolist())\n",
    "\n",
    "array5 = array2d[[0,1]] # arry2d[0,1] = 2;  [[0,1]]은 행축의 0행과 1행\n",
    "print('array2d[[0,1]] => ',array5.tolist())\n"
   ],
   "metadata": {
    "collapsed": false
   }
  },
  {
   "cell_type": "markdown",
   "source": [
    "## 배열의 정렬\n",
    "\n",
    "**특이사항**\n",
    "- np.sort() 는 원본행렬 유지한채 정렬된 행렬 반환\n",
    "- ndarray.sort() 는 원본행렬을 sorting"
   ],
   "metadata": {
    "collapsed": false
   }
  },
  {
   "cell_type": "markdown",
   "source": [
    "### np.sort, np.argsort"
   ],
   "metadata": {
    "collapsed": false
   }
  },
  {
   "cell_type": "code",
   "execution_count": 30,
   "outputs": [
    {
     "name": "stdout",
     "output_type": "stream",
     "text": [
      "[[10  5  5  1]\n",
      " [ 0  3 12  5]\n",
      " [ 7 11 10  3]] \n",
      "\n",
      "[[ 0  3  5  1]\n",
      " [ 7  5 10  3]\n",
      " [10 11 12  5]] \n",
      "\n",
      "[[1 1 0 0]\n",
      " [2 0 2 2]\n",
      " [0 2 1 1]]\n"
     ]
    }
   ],
   "source": [
    "a = np.random.randint(13, size=(3,4))\n",
    "print(a, '\\n')\n",
    "\n",
    "print(np.sort(a, axis=0), '\\n') # axis0은 행방향.\n",
    "\n",
    "print(np.argsort(a, axis=0))  # sort된 상태의 index를 반환."
   ],
   "metadata": {
    "collapsed": false
   }
  },
  {
   "cell_type": "code",
   "execution_count": 31,
   "outputs": [
    {
     "name": "stdout",
     "output_type": "stream",
     "text": [
      "sort indices: [0 2 4 1 3]\n",
      "['John' 'Sarah' 'Samuel' 'Mike' 'Kate']\n",
      "[75 82 88 95 98]\n"
     ]
    }
   ],
   "source": [
    "name_array=np.array(['John', 'Mike', 'Sarah', 'Kate', 'Samuel'])\n",
    "score_array=np.array([75, 95, 82, 98, 88])\n",
    "\n",
    "# score_array의 정렬된 값에 해당하는 원본 행렬 위치 인덱스 반환하고 이를 이용하여 name_array에서 name값 추출.\n",
    "sort_indices = np.argsort(score_array)\n",
    "print(\"sort indices:\", sort_indices)\n",
    "\n",
    "name_array_sort = name_array[sort_indices]\n",
    "\n",
    "score_array_sort = score_array[sort_indices]\n",
    "print(name_array_sort)\n",
    "print(score_array_sort)"
   ],
   "metadata": {
    "collapsed": false
   }
  },
  {
   "cell_type": "markdown",
   "source": [
    "## Random\n",
    "- np.random.rand(2,3)   => 0,1 사이의 랜덤분포; 2x3행렬\n",
    "- np.random.randn(3,4)   => 정규분포의 랜덤 ndarray; 3x4행렬\n",
    "- np.random.randint(1, 100, size=(3,5))  => 특정 정수 사이 랜덤 샘플링. *이건 특이하게 [1,100] range\n",
    "- np.random.seed(100)   => seed 실행하고 rand하면 동일한 값 반환"
   ],
   "metadata": {
    "collapsed": false
   }
  },
  {
   "cell_type": "markdown",
   "source": [
    "- np.random.choice(100, (3,4))    => 0~99까지 정수 중에 랜덤 초이스\n",
    "- np.random.choice(np.arange(20), size=(4,5), replace=False)  => 0~19까지 정수 중에 랜덤 초이스 & 복원추출 안함\n",
    "- np.random.uniform(1.0, 3.0, size=(4,5))   => 1.0~3.0 사이 균등분포"
   ],
   "metadata": {
    "collapsed": false
   }
  },
  {
   "cell_type": "code",
   "execution_count": 32,
   "outputs": [
    {
     "data": {
      "text/plain": "array([[28.13119404, 14.51473906, 15.32737871, 26.33498083],\n       [25.70065838, 20.49313808, 27.48413454, 20.97406369],\n       [ 6.88022758, 32.17693017, 33.45293254, 17.70044452],\n       [16.916531  , 14.64249975, 18.44831475, 25.10382608],\n       [23.20159544, 18.0750249 , 17.40351222, 14.7171148 ]])"
     },
     "execution_count": 32,
     "metadata": {},
     "output_type": "execute_result"
    }
   ],
   "source": [
    "#randn이랑 다르게 평균과 표준분산 지정 가능\n",
    "np.random.normal(loc=20.0, scale=5.0, size=(5,4))"
   ],
   "metadata": {
    "collapsed": false
   }
  },
  {
   "cell_type": "markdown",
   "source": [
    "## Numpy Operator\n",
    "\n",
    "- np.add(x, y), np.substract(x, y), np.multiply(x, y), np.divide(x, y)\n",
    "- np.mean(x) & np. var/median/std\n",
    "- np.sum(y)\n",
    "- np.sum(y, axis=0)\n",
    "- np.sum(y, axis=1)\n",
    "- np.cumsum(y)   => 누적합\n",
    "- np.any(z > 0)  # 하나라도 z > 0 이면 true 반환\n",
    "- np.all(z > 0)  # 모두 z > 0 이어야 true 반환\n"
   ],
   "metadata": {
    "collapsed": false
   }
  },
  {
   "cell_type": "markdown",
   "source": [
    "## np.where"
   ],
   "metadata": {
    "collapsed": false
   }
  },
  {
   "cell_type": "code",
   "execution_count": 33,
   "outputs": [
    {
     "name": "stdout",
     "output_type": "stream",
     "text": [
      "[-1.52792568  0.70947929 -0.19026538  0.37858366  1.63491909 -1.06205463\n",
      " -1.49439443 -0.12066062  0.67859809  1.24421679]\n"
     ]
    }
   ],
   "source": [
    "z = np.random.randn(10)\n",
    "print(z)"
   ],
   "metadata": {
    "collapsed": false
   }
  },
  {
   "cell_type": "code",
   "execution_count": 34,
   "outputs": [
    {
     "data": {
      "text/plain": "array([0.        , 0.70947929, 0.        , 0.37858366, 1.63491909,\n       0.        , 0.        , 0.        , 0.67859809, 1.24421679])"
     },
     "execution_count": 34,
     "metadata": {},
     "output_type": "execute_result"
    }
   ],
   "source": [
    "np.where(z > 0, z, 0)  # z가 0보다 크면 z를 쓰고, 아니면 0을 써라"
   ],
   "metadata": {
    "collapsed": false
   }
  },
  {
   "cell_type": "markdown",
   "source": [
    "## 선형대수 연산"
   ],
   "metadata": {
    "collapsed": false
   }
  },
  {
   "cell_type": "code",
   "execution_count": 35,
   "outputs": [
    {
     "name": "stdout",
     "output_type": "stream",
     "text": [
      "[[0.58454426 0.22810011 0.54960642]\n",
      " [0.57877013 0.25971159 0.74346611]\n",
      " [0.9214546  0.68788878 0.50252647]]\n"
     ]
    },
    {
     "data": {
      "text/plain": "array([[ 1.00000000e+00,  8.36504416e-17, -1.19134888e-16],\n       [-1.20977974e-16,  1.00000000e+00,  6.04053774e-17],\n       [-7.37048400e-16,  1.16064344e-15,  1.00000000e+00]])"
     },
     "execution_count": 35,
     "metadata": {},
     "output_type": "execute_result"
    }
   ],
   "source": [
    "# 역행렬 구하기\n",
    "x = np.random.rand(3, 3)\n",
    "print(x)\n",
    "\n",
    "x @ np.linalg.inv(x)  # 행렬의 곱은 @  , 또는 np.matmul(x, y)\n",
    "                      # 행렬 * 역행렬 = 단위행렬"
   ],
   "metadata": {
    "collapsed": false
   }
  },
  {
   "cell_type": "markdown",
   "source": [
    "### 행렬 solution 구하기"
   ],
   "metadata": {
    "collapsed": false
   }
  },
  {
   "cell_type": "markdown",
   "source": [
    "$$\\begin{pmatrix} 1 & 1 \\\\ 2 & 4 \\end{pmatrix}\\begin{pmatrix} x \\\\ y \\end{pmatrix}= \\begin{pmatrix} 25 \\\\ 64 \\end{pmatrix}$$\n"
   ],
   "metadata": {
    "collapsed": false
   }
  },
  {
   "cell_type": "code",
   "execution_count": 36,
   "outputs": [
    {
     "name": "stdout",
     "output_type": "stream",
     "text": [
      "[18.  7.]\n"
     ]
    },
    {
     "data": {
      "text/plain": "True"
     },
     "execution_count": 36,
     "metadata": {},
     "output_type": "execute_result"
    }
   ],
   "source": [
    "a = np.array([[1, 1], [2, 4]])\n",
    "b = np.array([25, 64])\n",
    "\n",
    "x = np.linalg.solve(a, b)\n",
    "print(x)\n",
    "\n",
    "# 답이 맞는지 확인\n",
    "np.allclose(a@x, b)"
   ],
   "metadata": {
    "collapsed": false
   }
  },
  {
   "cell_type": "markdown",
   "source": [
    "# Matplotlib & Seaborn"
   ],
   "metadata": {
    "collapsed": false
   }
  },
  {
   "cell_type": "code",
   "execution_count": 37,
   "outputs": [],
   "source": [
    "import numpy as np\n",
    "import matplotlib.pyplot as plt\n",
    "%matplotlib inline"
   ],
   "metadata": {
    "collapsed": false
   }
  },
  {
   "cell_type": "markdown",
   "source": [
    "## 기본 그래프\n",
    "- plt.plot(x, y)  - 선 그래프\n",
    "- plt.scatter(x, y)  - 점 그래프\n",
    "- plt.hist(x, y)  - 히스토그램"
   ],
   "metadata": {
    "collapsed": false
   }
  },
  {
   "cell_type": "code",
   "execution_count": 38,
   "outputs": [
    {
     "name": "stdout",
     "output_type": "stream",
     "text": [
      "[ 0.  1.  2.  3.  4.  5.  6.  7.  8.  9. 10.]\n",
      "[  2.0096209    3.64660371   8.01502346  14.52461223  22.07908204\n",
      "  31.97655356  42.80371322  57.03216288  75.22119311  92.91781874\n",
      " 111.18248351]\n"
     ]
    }
   ],
   "source": [
    "x = np.linspace(0, 10, 11)\n",
    "y = x ** 2 + x + 2 + np.random.randn(11)\n",
    "\n",
    "print(x)\n",
    "print(y)"
   ],
   "metadata": {
    "collapsed": false
   }
  },
  {
   "cell_type": "markdown",
   "source": [
    "## 그래프 주석 추가"
   ],
   "metadata": {
    "collapsed": false
   }
  },
  {
   "cell_type": "code",
   "execution_count": 39,
   "outputs": [
    {
     "data": {
      "text/plain": "[<matplotlib.lines.Line2D at 0x17e2124f0>]"
     },
     "execution_count": 39,
     "metadata": {},
     "output_type": "execute_result"
    },
    {
     "data": {
      "text/plain": "<Figure size 640x480 with 1 Axes>",
      "image/png": "[encoded data removed]"
     },
     "metadata": {},
     "output_type": "display_data"
    }
   ],
   "source": [
    "plt.xlabel('X values')\n",
    "plt.ylabel('Y values')\n",
    "plt.title('X-Y relation')\n",
    "plt.grid(True)\n",
    "\n",
    "plt.xlim(0, 20)\n",
    "plt.ylim(0, 200)\n",
    "\n",
    "plt.plot(x, y)"
   ],
   "metadata": {
    "collapsed": false
   }
  },
  {
   "cell_type": "markdown",
   "source": [
    "## subplot으로 여러 그래프 출력"
   ],
   "metadata": {
    "collapsed": false
   }
  },
  {
   "cell_type": "code",
   "execution_count": 40,
   "outputs": [
    {
     "data": {
      "text/plain": "[<matplotlib.lines.Line2D at 0x17e3c7d90>]"
     },
     "execution_count": 40,
     "metadata": {},
     "output_type": "execute_result"
    },
    {
     "data": {
      "text/plain": "<Figure size 640x480 with 4 Axes>",
      "image/png": "[encoded data removed]"
     },
     "metadata": {},
     "output_type": "display_data"
    }
   ],
   "source": [
    "plt.subplot(2, 2, 1)\n",
    "plt.plot(x, y, 'r')\n",
    "\n",
    "plt.subplot(2, 2, 2)\n",
    "plt.plot(x, y, 'g')\n",
    "\n",
    "plt.subplot(2, 2, 3)\n",
    "plt.plot(y, x, 'k')\n",
    "\n",
    "plt.subplot(2, 2, 4)\n",
    "plt.plot(x, np.exp(x), 'b')"
   ],
   "metadata": {
    "collapsed": false
   }
  },
  {
   "cell_type": "markdown",
   "source": [
    "## Histogram"
   ],
   "metadata": {
    "collapsed": false
   }
  },
  {
   "cell_type": "code",
   "execution_count": 41,
   "outputs": [
    {
     "data": {
      "text/plain": "<Figure size 640x480 with 1 Axes>",
      "image/png": "[encoded data removed]"
     },
     "metadata": {},
     "output_type": "display_data"
    }
   ],
   "source": [
    "data = np.random.randint(1, 100, size=200)\n",
    "plt.hist(data, bins=20, alpha=0.3)\n",
    "plt.xlabel('value')\n",
    "plt.ylabel('number')\n",
    "plt.grid(True)"
   ],
   "metadata": {
    "collapsed": false
   }
  },
  {
   "cell_type": "code",
   "execution_count": 41,
   "outputs": [],
   "source": [],
   "metadata": {
    "collapsed": false
   }
  },
  {
   "cell_type": "markdown",
   "source": [
    "## 다양한 그래프 그리기\n",
    "\n",
    "[참고 document](https://pandas.pydata.org/pandas-docs/stable/visualization.html)"
   ],
   "metadata": {
    "collapsed": false
   }
  },
  {
   "cell_type": "code",
   "execution_count": 12,
   "outputs": [
    {
     "data": {
      "text/plain": [
       "<AxesSubplot:xlabel='A'>"
      ]
     },
     "execution_count": 12,
     "metadata": {},
     "output_type": "execute_result"
    },
    {
     "data": {
      "image/png": "[encoded data removed]",
      "text/plain": [
       "<Figure size 432x288 with 1 Axes>"
      ]
     },
     "metadata": {
      "needs_background": "light"
     },
     "output_type": "display_data"
    },
    {
     "data": {
      "text/plain": [
       "<Figure size 432x288 with 0 Axes>"
      ]
     },
     "metadata": {},
     "output_type": "display_data"
    },
    {
     "data": {
      "image/png": "[encoded data removed]",
      "text/plain": [
       "<Figure size 432x288 with 1 Axes>"
      ]
     },
     "metadata": {
      "needs_background": "light"
     },
     "output_type": "display_data"
    },
    {
     "data": {
      "image/png": "[encoded data removed]",
      "text/plain": [
       "<Figure size 432x288 with 1 Axes>"
      ]
     },
     "metadata": {
      "needs_background": "light"
     },
     "output_type": "display_data"
    }
   ],
   "source": [
    "import matplotlib.pyplot as plt\n",
    "import pandas as pd\n",
    "import numpy as np\n",
    "\n",
    "# The plot method on Series and DataFrame is just a simple wrapper around plt.plot():\n",
    "ts = pd.Series(np.random.randn(1000), index=pd.date_range('1/1/2000', periods=1000))\n",
    "ts = ts.cumsum()\n",
    "ts.plot()\n",
    "\n",
    "# plot() is a convenience to plot all of the columns with labels:\n",
    "df = pd.DataFrame(np.random.randn(1000,4), index=ts.index, columns=list('ABCD'))\n",
    "df = df.cumsum()\n",
    "plt.figure(); df.plot();\n",
    "\n",
    "# plot one column versus another using x and y keywords in plot():\n",
    "df3 = pd.DataFrame(np.random.randn(1000,2), columns=['B','C']).cumsum()\n",
    "df3['A'] = pd.Series(list(range(len(df))))\n",
    "df3.plot(x='A', y='B')"
   ],
   "metadata": {
    "collapsed": false
   }
  },
  {
   "cell_type": "code",
   "execution_count": null,
   "outputs": [],
   "source": [],
   "metadata": {
    "collapsed": false
   }
  },
  {
   "cell_type": "markdown",
   "source": [
    "## Matplotlib 정리"
   ],
   "metadata": {
    "collapsed": false
   }
  },
  {
   "cell_type": "markdown",
   "source": [
    "matplotlib 사용법은 크게 두 가지가 있다.\n",
    "1. stateless API (object-based)\n",
    "    - 내가 지정한 figure, 내가 지정한 ax에 그림을 그리는 방법\n",
    "    - figure와 ax를 직접 만들어야하고, 그렇기에 객체지향적 특성을 가짐\n",
    "2. stateful API (state-based)\n",
    "    - 현재의 figure, 현재의 ax에 그림을 그리는 방법\n",
    "    - 직접 figure와 ax를 지정하지 않고, 자동으로 현재의 figure와 ax를 찾아 그곳에 plotting하는 방식이다.\n",
    "    - 기존에는 원래 stateless 방식만 있었는데, 좀 더 쉬운 사용을 위해 stateful이 생겨났다. 그리고 이 stateful 방식을 이용할 수 있는 모듈이 matplotlib.pyplot이다. 그냥 matplotlib은 stateless만 가능하다.\n",
    "<br><br>\\** figure: 그래프를 그릴 공간(종이) / ax(axes): 그 공간 중 지금 내가 사용할 부분\n",
    "\n"
   ],
   "metadata": {
    "collapsed": false
   }
  },
  {
   "cell_type": "markdown",
   "source": [
    "### stateless API\n",
    "\n",
    "- [posting 출처1](https://hwi-doc.tistory.com/entry/matplotlib-완벽-정리)\n",
    "- [posting 출처2](github.com/Apress/numerical-python-second-ed)\n",
    "\n",
    "```python\n",
    "# figure와 ax 객체를 생성하는 법\n",
    "\n",
    "fig=plt.figure()  # ax없는 빈 figure 생성 (후에 ax를 추가해줘야 함)\n",
    "fig,ax = plt.subplots()  # 하나의 ax만을 가지는 하나의 figure 생성\n",
    "fig,axes = plt.subplots(2,2)  # 4개(2*2)의 axes를 가지는 하나의 figure을 생성한다.\n",
    "```"
   ],
   "metadata": {
    "collapsed": false
   }
  },
  {
   "cell_type": "code",
   "execution_count": 13,
   "outputs": [
    {
     "name": "stderr",
     "output_type": "stream",
     "text": [
      "/var/folders/hh/14z5pty92_s51gdc2n406w6w0000gn/T/ipykernel_4138/1361151173.py:13: MatplotlibDeprecationWarning: Calling add_axes() without argument is deprecated since 3.3 and will be removed two minor releases later. You may want to use add_subplot() instead.\n",
      "  ax = fig.add_axes(left=0.1, bottom=0.1, width=0.8, height=0.8, facecolor=\"#e1e1e1\")\n"
     ]
    },
    {
     "data": {
      "text/plain": [
       "Text(0, 0.5, 'y')"
      ]
     },
     "execution_count": 13,
     "metadata": {},
     "output_type": "execute_result"
    },
    {
     "data": {
      "text/plain": [
       "<Figure size 576x180 with 0 Axes>"
      ]
     },
     "metadata": {},
     "output_type": "display_data"
    },
    {
     "data": {
      "image/png": "[encoded data removed]",
      "text/plain": [
       "<Figure size 576x180 with 1 Axes>"
      ]
     },
     "metadata": {},
     "output_type": "display_data"
    }
   ],
   "source": [
    "import numpy as np\n",
    "import pandas as pd\n",
    "import matplotlib.pyplot as plt\n",
    "%matplotlib inline\n",
    "\n",
    "# 데이터 준비\n",
    "x = np.linspace(-2, 2, 1000)\n",
    "y1 = np.cos(40 * x)\n",
    "y2 = np.exp(-x**2)\n",
    "\n",
    "# 방법 1: 빈 figure를 생성하고 그 안에 ax를 추가하기\n",
    "fig = plt.figure(figsize=(8, 2.5), facecolor=\"#c1f1f1\")   # ax가 없는 빈 figure 생성\n",
    "ax = fig.add_axes(left=0.1, bottom=0.1, width=0.8, height=0.8, facecolor=\"#e1e1e1\")\n",
    "\n",
    "# 방법 2: 하나의 ax를 가지는 하나의 figure 생성 (ax의 색깔 지정 못함)\n",
    "fig, ax = plt.subplots(figsize=(8, 2.5), facecolor=\"#c1f1f1\")\n",
    "\n",
    "# 그래프 그리기\n",
    "ax.plot(x, y1 * y2)  # ax에 plotting\n",
    "ax.plot(x, y2, 'g')\n",
    "ax.plot(x, -y2, 'g')\n",
    "ax.set_xlabel(\"x\")\n",
    "ax.set_ylabel(\"y\")"
   ],
   "metadata": {
    "collapsed": false
   }
  },
  {
   "cell_type": "code",
   "execution_count": 14,
   "outputs": [
    {
     "data": {
      "text/plain": [
       "[<matplotlib.lines.Line2D at 0x14b0b2580>]"
      ]
     },
     "execution_count": 14,
     "metadata": {},
     "output_type": "execute_result"
    },
    {
     "data": {
      "image/png": "[encoded data removed]",
      "text/plain": [
       "<Figure size 432x288 with 1 Axes>"
      ]
     },
     "metadata": {
      "needs_background": "light"
     },
     "output_type": "display_data"
    }
   ],
   "source": [
    "import matplotlib.pyplot as plt\n",
    "import numpy as np\n",
    "%matplotlib inline\n",
    "\n",
    "# the simplest way of creating a figure with an axes is using pyplot.subplots => we can then use Axes.plot to draw some data on the axes:\n",
    "fig, ax = plt.subplots()  # create a figure containing a single axes.\n",
    "ax.plot([1,2,3,4,], [1,4,2,3])"
   ],
   "metadata": {
    "collapsed": false
   }
  },
  {
   "cell_type": "code",
   "execution_count": 15,
   "outputs": [
    {
     "data": {
      "text/plain": [
       "[<matplotlib.lines.Line2D at 0x14b1121c0>]"
      ]
     },
     "execution_count": 15,
     "metadata": {},
     "output_type": "execute_result"
    },
    {
     "data": {
      "image/png": "[encoded data removed]",
      "text/plain": [
       "<Figure size 432x288 with 1 Axes>"
      ]
     },
     "metadata": {
      "needs_background": "light"
     },
     "output_type": "display_data"
    }
   ],
   "source": [
    "# 근데 위에처럼 axes를 따로 지정하지 않고도 \"현재 axes\"에 그리는 법이 있다.\n",
    "plt.plot([1,2,3,4],[1,4,2,3])"
   ],
   "metadata": {
    "collapsed": false
   }
  },
  {
   "cell_type": "markdown",
   "source": [
    "### Parts of a Figure\n",
    "<img src=\"https://matplotlib.org/stable/_images/anatomy.png\">"
   ],
   "metadata": {
    "collapsed": false
   }
  },
  {
   "cell_type": "code",
   "execution_count": 16,
   "outputs": [
    {
     "data": {
      "text/plain": [
       "<Figure size 432x288 with 0 Axes>"
      ]
     },
     "metadata": {},
     "output_type": "display_data"
    },
    {
     "data": {
      "image/png": "[encoded data removed]",
      "text/plain": [
       "<Figure size 432x288 with 1 Axes>"
      ]
     },
     "metadata": {
      "needs_background": "light"
     },
     "output_type": "display_data"
    },
    {
     "data": {
      "image/png": "[encoded data removed]",
      "text/plain": [
       "<Figure size 432x288 with 4 Axes>"
      ]
     },
     "metadata": {
      "needs_background": "light"
     },
     "output_type": "display_data"
    }
   ],
   "source": [
    "# creating a figure\n",
    "fig = plt.figure() # an empty figure with no Axes\n",
    "fig, ax = plt.subplots() # a figure with a single Axes\n",
    "fig, axs = plt.subplots(2,2) # a figure with a 2x2 grid of Axes\n",
    "\n",
    "# 나중에 axes를 추가하는 것도 가능\n"
   ],
   "metadata": {
    "collapsed": false
   }
  },
  {
   "cell_type": "code",
   "execution_count": 17,
   "outputs": [
    {
     "data": {
      "image/png": "[encoded data removed]",
      "text/plain": [
       "<Figure size 432x288 with 1 Axes>"
      ]
     },
     "metadata": {
      "needs_background": "light"
     },
     "output_type": "display_data"
    }
   ],
   "source": [
    "plt.plot([1,2,3], [1,4,9])\n",
    "plt.plot([2,3,4], [5,6,7])\n",
    "plt.xlabel('Sequence')\n",
    "plt.ylabel('Time(secs)')\n",
    "plt.title('Experiment Result')\n",
    "plt.legend(['Mouse', 'Cat'])\n",
    "plt.show()"
   ],
   "metadata": {
    "collapsed": false
   }
  },
  {
   "cell_type": "code",
   "execution_count": 18,
   "outputs": [
    {
     "data": {
      "image/png": "[encoded data removed]",
      "text/plain": [
       "<Figure size 432x288 with 1 Axes>"
      ]
     },
     "metadata": {
      "needs_background": "light"
     },
     "output_type": "display_data"
    }
   ],
   "source": [
    "y = [5, 3, 7, 10, 9, 5, 3.5, 8]\n",
    "x = range(len(y))\n",
    "plt.bar(x, y, width=0.7, color=\"blue\")\n",
    "plt.show()"
   ],
   "metadata": {
    "collapsed": false
   }
  }
 ],
 "metadata": {
  "kernelspec": {
   "display_name": "Python 3",
   "language": "python",
   "name": "python3"
  },
  "language_info": {
   "codemirror_mode": {
    "name": "ipython",
    "version": 2
   },
   "file_extension": ".py",
   "mimetype": "text/x-python",
   "name": "python",
   "nbconvert_exporter": "python",
   "pygments_lexer": "ipython2",
   "version": "2.7.6"
  }
 },
 "nbformat": 4,
 "nbformat_minor": 0
}
