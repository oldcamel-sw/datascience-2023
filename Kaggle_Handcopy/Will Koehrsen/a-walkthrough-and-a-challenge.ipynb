{
 "cells": [
  {
   "cell_type": "markdown",
   "metadata": {
    "_uuid": "ccbd72c6946c752bd035c8dbf981be4b965c0a43"
   },
   "source": [
    "# Introduction: Taxi Fare Prediction\n",
    "\n",
    "Welcome to another Kaggle challenge. In this contest, the aim is to predict the fare of a taxi ride given the starting time, the starting and ending latitude / longitude, and the number of passengers. This is a __supervised regression__ machine learning task.\n",
    "\n",
    "In this notebook, I'll provide you with a solid foundation and leave you with the challenge to better the score. Although the dataset is large, this is an approachable problem and as usual with Kaggle competitions, provides realistic practice for building a machine learning solution. The best way to learn is by doing, so let's work through a complete machine learning problem!\n",
    "\n",
    "Great resources for Kaggle competitions are the [discussion forums](https://www.kaggle.com/c/new-york-city-taxi-fare-prediction/discussion) and the [kernels](https://www.kaggle.com/c/new-york-city-taxi-fare-prediction/kernels) completed by other data scientists. I recommend using, adapting, and building on others' code, especially when you are getting started."
   ]
  },
  {
   "cell_type": "code",
   "execution_count": null,
   "metadata": {
    "_uuid": "d651880d2ad524a1c8d6e56d25beb1a7ef7e8154"
   },
   "outputs": [],
   "source": [
    "# Pandas and numpy for data manipulation\n",
    "import pandas as pd\n",
    "import numpy as np\n",
    "\n",
    "# Pandas display options\n",
    "pd.set_option('display.float_format', lambda x: '%.3f' % x)\n",
    "\n",
    "# Set random seed \n",
    "RSEED = 100\n",
    "\n",
    "# Visualizations\n",
    "import matplotlib.pyplot as plt\n",
    "%matplotlib inline\n",
    "\n",
    "plt.style.use('fivethirtyeight')\n",
    "plt.rcParams['font.size'] = 18\n",
    "\n",
    "import seaborn as sns\n",
    "palette = sns.color_palette('Paired', 10)"
   ]
  },
  {
   "cell_type": "markdown",
   "metadata": {
    "_uuid": "6a47e4a48e4296928de5c4c8ec4eb2295c1e58fe"
   },
   "source": [
    "## Read in 5 million rows and examine data\n",
    "\n",
    "Throughout this notebook, we will work with only 5 million rows (out of 55 million). The first point for improvement might therefore be to use more data!\n",
    "\n",
    "* __Potential improvement 1: use more data__\n",
    "\n",
    "Generally, performance of a machine learning model increases as the amount of training data increases. However, there might be diminishing returns, and I sample the data here in order to train faster. The data file is randomly sorted by date, so taking the first 5 million rows is a random sample in terms of time. \n",
    "\n",
    "When we read in the data, we tell pandas to treat the `pickup_datetime` as a date. We will also drop the `key` since it is a unique identifier and does not tell us anything about the taxi trip. After reading in the data we'll remove any rows with `nan`  (observations with missing entries). "
   ]
  },
  {
   "cell_type": "code",
   "execution_count": null,
   "metadata": {
    "_uuid": "f92e3f9baaa324476de1aa4b136da221b59f7e3a"
   },
   "outputs": [],
   "source": [
    "data = pd.read_csv('../input/train.csv', nrows = 5_000_000, \n",
    "                   parse_dates = ['pickup_datetime']).drop(columns = 'key')\n",
    "\n",
    "# Remove na\n",
    "data = data.dropna()\n",
    "data.head()"
   ]
  },
  {
   "cell_type": "markdown",
   "metadata": {
    "_uuid": "8a77191c8d5baf1fff89e42f48fb3d70a671e344"
   },
   "source": [
    "### Describe Data\n",
    "\n",
    "An effective method for catching outliers and anomalies is to find the summary statistics for the data using the `.describe()` method. I like to concentrate on the maxes and the minimums for finding outliers."
   ]
  },
  {
   "cell_type": "code",
   "execution_count": null,
   "metadata": {
    "_uuid": "358fd6c81b5bc2bd36df9fd5385e5e63c1abde91"
   },
   "outputs": [],
   "source": [
    "data.describe()"
   ]
  },
  {
   "cell_type": "markdown",
   "metadata": {
    "_uuid": "79b7351583795ec1eb293482ba343060f079f13f"
   },
   "source": [
    "Right away we can see there are a number of outliers in the `latitude` and `longitude` columns as well as at least one suspicious entry in the `passenger_count`. The target variable, `fare_amount` seems to have both negative values (unexpected) and extreme values (not so unexpected)."
   ]
  },
  {
   "cell_type": "markdown",
   "metadata": {
    "_uuid": "85efb7b4b936e41ef14213c46822b37ece08cf83"
   },
   "source": [
    "# Data Exploration and Data Cleaning\n",
    "\n",
    "I often do data exploration and cleaning simulataneously. As I explore the data and find outlying values or errors, I correct them or make a note to follow up later. Data cleaning usually involves domain knowledge (if applicable), statistical descriptions, as well as intuition from working on similar problems. A good place for learning about a problem is the Kaggle discussions boards and other kernels for a competition. \n",
    "\n",
    "\n",
    "### Examine the Target Variable\n",
    "\n",
    "For a first graphical exploration, we can look at the distribution of the `fare_amount`, the target variable we want to train a model to predict. We'll use seaborn's `distplot` which shows both a kernel density estimate plot and a histogram."
   ]
  },
  {
   "cell_type": "code",
   "execution_count": null,
   "metadata": {
    "_uuid": "0ccffe15dc01577ea100932f010cdf189f9af75b"
   },
   "outputs": [],
   "source": [
    "plt.figure(figsize = (10, 6))\n",
    "sns.distplot(data['fare_amount']);\n",
    "plt.title('Distribution of Fare');"
   ]
  },
  {
   "cell_type": "code",
   "execution_count": null,
   "metadata": {
    "_uuid": "f717068c826c84cc6c91d905027089ed272b849c"
   },
   "outputs": [],
   "source": [
    "print(f\"There are {len(data[data['fare_amount'] < 0])} negative fares.\")\n",
    "print(f\"There are {len(data[data['fare_amount'] == 0])} $0 fares.\")\n",
    "print(f\"There are {len(data[data['fare_amount'] > 100])} fares greater than $100.\")"
   ]
  },
  {
   "cell_type": "markdown",
   "metadata": {
    "_uuid": "6623b530d451017c8313e0182088e5a6b58e8171"
   },
   "source": [
    "### Remove Outliers\n",
    "\n",
    "Based on [this discussion](https://www.kaggle.com/c/new-york-city-taxi-fare-prediction/discussion/63319) on [real-world taxi fares in New York City](http://nymag.com/nymetro/urban/features/taxi/n_20286/), I'm going to remove any fares less than $2.50. This appears to be the minimum fare, so any values in the training set less than this amount must be errors in data collection or entry.\n",
    "\n",
    "Ill also remove any fares greater than $100. I'll justify this based on the limited number of fares outside this bounds, but it might be possible that including these values helps the model! I'd encourage you to try different values and see which works best."
   ]
  },
  {
   "cell_type": "code",
   "execution_count": null,
   "metadata": {
    "_uuid": "b3ac1e7667585bd569755034c5c668d65c00f174"
   },
   "outputs": [],
   "source": [
    "data = data[data['fare_amount'].between(left = 2.5, right = 100)]"
   ]
  },
  {
   "cell_type": "markdown",
   "metadata": {
    "_uuid": "17a274ee3b57b6a0e8d739f2101c5bf66681471e"
   },
   "source": [
    "For visualization purposes, I'll create a binned version of the fare. This divides the variable into a number of bins, turning a continuous variable into a discrete, categorical variable."
   ]
  },
  {
   "cell_type": "code",
   "execution_count": null,
   "metadata": {
    "_uuid": "f770209d416241a439543f465d062100f4d9d628"
   },
   "outputs": [],
   "source": [
    "# Bin the fare and convert to string\n",
    "data['fare-bin'] = pd.cut(data['fare_amount'], bins = list(range(0, 50, 5))).astype(str)\n",
    "\n",
    "# Uppermost bin\n",
    "data.loc[data['fare-bin'] == 'nan', 'fare-bin'] = '[45+]'\n",
    "\n",
    "# Adjust bin so the sorting is correct\n",
    "data.loc[data['fare-bin'] == '(5, 10]', 'fare-bin'] = '(05, 10]'\n",
    "\n",
    "# Bar plot of value counts\n",
    "data['fare-bin'].value_counts().sort_index().plot.bar(color = 'b', edgecolor = 'k');\n",
    "plt.title('Fare Binned');"
   ]
  },
  {
   "cell_type": "markdown",
   "metadata": {
    "_uuid": "aab5f551ba8cf488ead19a250b6a953dca250f0d"
   },
   "source": [
    "### Empirical Cumulative Distribution Function Plot\n",
    "\n",
    "Another plot for showing the distribution of a single variable is the [empirical cumulative distribution function](https://en.wikipedia.org/wiki/Empirical_distribution_function). This shows the percentile on the y-axis and the variable on the x-axis and gets around some of the issues associated with binning data for histograms or the kernel width of the KDE.\n"
   ]
  },
  {
   "cell_type": "code",
   "execution_count": null,
   "metadata": {
    "_uuid": "8a6048283e4609bfa8340d5917b85b970d00eb35"
   },
   "outputs": [],
   "source": [
    "def ecdf(x):\n",
    "    \"\"\"Empirical cumulative distribution function of a variable\"\"\"\n",
    "    # Sort in ascending order\n",
    "    x = np.sort(x)\n",
    "    n = len(x)\n",
    "    \n",
    "    # Go from 1/n to 1\n",
    "    y = np.arange(1, n + 1, 1) / n\n",
    "    \n",
    "    return x, y"
   ]
  },
  {
   "cell_type": "markdown",
   "metadata": {
    "_uuid": "63e02a323767ae1c6c0a2aea04410ea836058470"
   },
   "source": [
    "Below is an example of the ecdf. This plot is good for viewing outliers and also the percentiles of a distribution."
   ]
  },
  {
   "cell_type": "code",
   "execution_count": null,
   "metadata": {
    "_uuid": "33fbf04988982232315c3da43ad36171d58000ef"
   },
   "outputs": [],
   "source": [
    "xs, ys = ecdf(np.logspace(0, 2))\n",
    "plt.plot(xs, ys, '.');\n",
    "plt.ylabel('Percentile'); plt.title('ECDF');"
   ]
  },
  {
   "cell_type": "code",
   "execution_count": null,
   "metadata": {
    "_uuid": "3a9c973ab998cbf2de1fcaa80284aa6973e3cd99"
   },
   "outputs": [],
   "source": [
    "xs, ys = ecdf(data['fare_amount'])\n",
    "plt.figure(figsize = (8, 6))\n",
    "plt.plot(xs, ys, '.')\n",
    "plt.ylabel('Percentile'); plt.title('ECDF of Fare Amount'); plt.xlabel('Fare Amount ($)');"
   ]
  },
  {
   "cell_type": "markdown",
   "metadata": {
    "_uuid": "7e1fd9e0929d5eb03b8533c671a33b8f36c72abc"
   },
   "source": [
    "This shows the distribution is heavily right skewed. Most of the fares are below \\$20, with a heavy right tail of larger fares.\n",
    "\n",
    "#### Other Outliers\n",
    "\n",
    "We can also remove observations based on outliers in other columns. First we'll make a graph of the passenger counts which seemed to have some suspicious values."
   ]
  },
  {
   "cell_type": "code",
   "execution_count": null,
   "metadata": {
    "_uuid": "50cde734eec0c0ba499696489c9d049011574fc7"
   },
   "outputs": [],
   "source": [
    "data['passenger_count'].value_counts().plot.bar(color = 'b', edgecolor = 'k');\n",
    "plt.title('Passenger Counts'); plt.xlabel('Number of Passengers'); plt.ylabel('Count');"
   ]
  },
  {
   "cell_type": "markdown",
   "metadata": {
    "_uuid": "82c374cbe5e1ac4e9ecd572051ba45a5707b162d"
   },
   "source": [
    "Based on this graph, we'll remove any passenger counts greater than 6."
   ]
  },
  {
   "cell_type": "code",
   "execution_count": null,
   "metadata": {
    "_uuid": "1a98055d87db4cbbafce0625fdbb056ef083686c"
   },
   "outputs": [],
   "source": [
    "data = data.loc[data['passenger_count'] < 6]"
   ]
  },
  {
   "cell_type": "markdown",
   "metadata": {
    "_uuid": "d53f3fb54587b26a7e88ed5a14918b59a5f177e1"
   },
   "source": [
    "For the `latitude` and `longitude` columns, we can use statistics as well as our intuition for removing outliers. Here I'll find the 2.5% and 97.5% percentile values in each column and keep only measurements close to that range. "
   ]
  },
  {
   "cell_type": "code",
   "execution_count": null,
   "metadata": {
    "_uuid": "23243505dcbcb2961473e9f090f73d779707d68f"
   },
   "outputs": [],
   "source": [
    "print(f'Initial Observations: {data.shape[0]}')"
   ]
  },
  {
   "cell_type": "code",
   "execution_count": null,
   "metadata": {
    "_uuid": "650234209724d29e6bd21e1f89978cafe8dd1b6b"
   },
   "outputs": [],
   "source": [
    "for col in ['pickup_latitude', 'pickup_longitude', 'dropoff_latitude', 'dropoff_longitude']:\n",
    "    print(f'{col.capitalize():17}: 2.5% = {round(np.percentile(data[col], 2.5), 2):5} \\t 97.5% = {round(np.percentile(data[col], 97.5), 2)}')"
   ]
  },
  {
   "cell_type": "markdown",
   "metadata": {
    "_uuid": "dc1159cefab925c70e756d7e25c437276d3bdaa3"
   },
   "source": [
    "Based on these values, we can remove outliers. This is somewhat based on intuition and there might be a more accurate process for carrying out this operation! Here is another potential point for improvement:\n",
    "\n",
    "* __Potential improvement 2: experiment with different methods to remove outliers.__ This could be through domain knowledge (such as using a map) or it could be using more rigorous statistical methods (such as z-scores)."
   ]
  },
  {
   "cell_type": "code",
   "execution_count": null,
   "metadata": {
    "_uuid": "8686c860c17adb55d538884dd19644379cc8a5cd"
   },
   "outputs": [],
   "source": [
    "# Remove latitude and longtiude outliers\n",
    "data = data.loc[data['pickup_latitude'].between(40, 42)]\n",
    "data = data.loc[data['pickup_longitude'].between(-75, -72)]\n",
    "data = data.loc[data['dropoff_latitude'].between(40, 42)]\n",
    "data = data.loc[data['dropoff_longitude'].between(-75, -72)]\n",
    "\n",
    "print(f'New number of observations: {data.shape[0]}')"
   ]
  },
  {
   "cell_type": "markdown",
   "metadata": {
    "_uuid": "b79d9c78e307b81c27bd5fd32318318617b1d80d"
   },
   "source": [
    "Now we can graph the `latitude` and `longitude` columns to see the distribution. We'll just sample 10000 values so the plot doesn't take too long to generate."
   ]
  },
  {
   "cell_type": "code",
   "execution_count": null,
   "metadata": {
    "_uuid": "2eb64ea23f788153e92639a913d9d70274d9bd32"
   },
   "outputs": [],
   "source": [
    "fig, axes = plt.subplots(1, 2, figsize = (20, 8), sharex=True, sharey=True)\n",
    "axes = axes.flatten()\n",
    "\n",
    "# Plot Longitude (x) and Latitude (y)\n",
    "sns.regplot('pickup_longitude', 'pickup_latitude', fit_reg = False, \n",
    "            data = data.sample(10000, random_state = RSEED), ax = axes[0]);\n",
    "sns.regplot('dropoff_longitude', 'dropoff_latitude', fit_reg = False, \n",
    "            data = data.sample(10000, random_state = RSEED), ax = axes[1]);\n",
    "axes[0].set_title('Pickup Locations')\n",
    "axes[1].set_title('Dropoff Locations');"
   ]
  },
  {
   "cell_type": "markdown",
   "metadata": {
    "_uuid": "49009d278471b7739549c325a5b42cbd4dfe1ea7"
   },
   "source": [
    "### Rides on Map of NYC\n",
    "\n",
    "For a more contextualized representation, we can plot the pickup and dropoff on top of a map of New York. The following code is taken directly from https://www.kaggle.com/breemen/nyc-taxi-fare-data-exploration by Kaggle user [breeman](https://www.kaggle.com/breemen). All credit goes to him and please check out the rest of his kernel for more excellent work! \n",
    "\n",
    "The map was extracted from OpenStreetMaps (https://www.openstreetmap.org/export#map=12/40.7250/-73.8999)"
   ]
  },
  {
   "cell_type": "code",
   "execution_count": null,
   "metadata": {
    "_uuid": "f8282ae124349079ec8b9ab4c77ce0a27530df9b"
   },
   "outputs": [],
   "source": [
    "# load image of NYC map\n",
    "# BB = (-74.5, -72.8, 40.5, 41.8)\n",
    "# nyc_map = plt.imread('https://aiblog.nl/download/nyc_-74.5_-72.8_40.5_41.8.png')\n",
    "\n",
    "# load extra image to zoom in on NYC\n",
    "BB_zoom = (-74.1, -73.7, 40.6, 40.85)\n",
    "nyc_map_zoom = plt.imread('https://github.com/WillKoehrsen/Machine-Learning-Projects/blob/master/images/nyc_-74.1_-73.7_40.6_40.85.PNG?raw=true')"
   ]
  },
  {
   "cell_type": "code",
   "execution_count": null,
   "metadata": {
    "_uuid": "e530da338b28a52664c30cce03bf6b0d6333b4ef"
   },
   "outputs": [],
   "source": [
    "# this function will be used more often to plot data on the NYC map\n",
    "def plot_on_map(df, BB, nyc_map, s=10, alpha=0.2, color = False):\n",
    "    fig, axs = plt.subplots(1, 2, figsize=(18, 22))\n",
    "    axs[0].scatter(df.pickup_longitude, df.pickup_latitude, zorder=1, alpha=alpha, c='r', s=s)\n",
    "    axs[0].set_xlim((BB[0], BB[1]))\n",
    "    axs[0].set_ylim((BB[2], BB[3]))\n",
    "    axs[0].set_title('Pickup locations')\n",
    "    axs[0].axis('off')\n",
    "    axs[0].imshow(nyc_map, zorder=0, extent=BB)\n",
    "\n",
    "    axs[1].scatter(df.dropoff_longitude, df.dropoff_latitude, zorder=1, alpha=alpha, c='b', s=s)\n",
    "    axs[1].set_xlim((BB[0], BB[1]))\n",
    "    axs[1].set_ylim((BB[2], BB[3]))\n",
    "    axs[1].set_title('Dropoff locations')\n",
    "    axs[1].axis('off')\n",
    "    axs[1].imshow(nyc_map, zorder=0, extent=BB)\n",
    "    \n",
    "# plot training data on map zoomed in\n",
    "plot_on_map(data.sample(1_000_000, random_state = RSEED), \n",
    "            BB_zoom, nyc_map_zoom, s=0.05, alpha=0.05)"
   ]
  },
  {
   "cell_type": "markdown",
   "metadata": {
    "_uuid": "19f9b82337abd4ba3e6c38326be9f2e23df8033c"
   },
   "source": [
    "Most of the rides are concentrated in Manhattan and it looks like there are more rides ending outside Manhattan than inside. I'm not sure we'll be able to use this for modeling though.\n",
    "\n",
    "To see if there is a difference in locations based on the fare, we map each fare bin to a different color and then plot."
   ]
  },
  {
   "cell_type": "code",
   "execution_count": null,
   "metadata": {
    "_uuid": "706e95a0b5e3d0f7bfc95506b9e1629a51ad76f8"
   },
   "outputs": [],
   "source": [
    "# Create a color mapping based on fare bins\n",
    "color_mapping = {fare_bin: palette[i] for i, fare_bin in enumerate(data['fare-bin'].unique())}\n",
    "color_mapping"
   ]
  },
  {
   "cell_type": "markdown",
   "metadata": {
    "_uuid": "e6ff30dabdaa5adef9180971104c7d7313f20f59"
   },
   "source": [
    "The `map` function will replace the values in a column with the corresponding values in the dictionary. It matches the column values to the keys in the dictionary and then replaces the values with the dictionary values."
   ]
  },
  {
   "cell_type": "code",
   "execution_count": null,
   "metadata": {
    "_uuid": "d8af948d88cd6cd0dc553366d240dfd617b88c48"
   },
   "outputs": [],
   "source": [
    "data['color'] = data['fare-bin'].map(color_mapping)\n",
    "plot_data = data.sample(1_000_000, random_state = RSEED)"
   ]
  },
  {
   "cell_type": "markdown",
   "metadata": {
    "_uuid": "48d15860f323c205e164361af7072054821e5e35"
   },
   "source": [
    "We'll plot the pickup and dropoff separately to see the difference."
   ]
  },
  {
   "cell_type": "code",
   "execution_count": null,
   "metadata": {
    "_uuid": "a5f8774b30b00ddd3189fe38473d91691152e1f5"
   },
   "outputs": [],
   "source": [
    "BB = BB_zoom\n",
    "\n",
    "fig, axs = plt.subplots(1, 1, figsize=(20, 18))\n",
    "\n",
    "# Plot the pickups\n",
    "for b, df in plot_data.groupby('fare-bin'):\n",
    "    # Set the zorder to 1 to plot on top of map\n",
    "    axs.scatter(df.pickup_longitude, df.pickup_latitude, zorder=1, alpha=0.2, c=df.color, s=30, label = f'{b}')\n",
    "    axs.set_xlim((BB[0], BB[1]))\n",
    "    axs.set_ylim((BB[2], BB[3]))\n",
    "    axs.set_title('Pickup locations', size = 32)\n",
    "    axs.axis('off')\n",
    "    \n",
    "# Legend\n",
    "leg = axs.legend(fontsize = 28, markerscale = 3)\n",
    "\n",
    "# Adjust alpha of legend markers\n",
    "for lh in leg.legendHandles: \n",
    "    lh.set_alpha(1)\n",
    "\n",
    "leg.set_title('Fare Bin', prop = {'size': 28})\n",
    "\n",
    "# Show map in background (zorder = 0)\n",
    "axs.imshow(nyc_map_zoom, zorder=0, extent=BB_zoom);"
   ]
  },
  {
   "cell_type": "code",
   "execution_count": null,
   "metadata": {
    "_uuid": "49f7f68164361eb65a8c1f299b0e180757e46fc9"
   },
   "outputs": [],
   "source": [
    "fig, axs = plt.subplots(1, 1, figsize=(20, 18))\n",
    "\n",
    "# Plot the pickups\n",
    "for b, df in plot_data.groupby('fare-bin'):\n",
    "    axs.scatter(df.dropoff_longitude, df.dropoff_latitude, zorder=1, \n",
    "                alpha=0.2, c=df.color, s=30, label = f'{b}')\n",
    "    axs.set_xlim((BB[0], BB[1]))\n",
    "    axs.set_ylim((BB[2], BB[3]))\n",
    "    axs.set_title('Dropoff locations', size = 32)\n",
    "    axs.axis('off')\n",
    "    \n",
    "# Legend\n",
    "leg = axs.legend(fontsize = 28, markerscale = 3)\n",
    "\n",
    "# Adjust alpha of legend markers\n",
    "for lh in leg.legendHandles: \n",
    "    lh.set_alpha(1)\n",
    "\n",
    "leg.set_title('Fare Bin', prop = {'size': 28})\n",
    "\n",
    "# Show map in background (zorder = 0)\n",
    "axs.imshow(nyc_map_zoom, zorder=0, extent=BB_zoom);"
   ]
  },
  {
   "cell_type": "markdown",
   "metadata": {
    "_uuid": "4912c1e469d3b5ffa93c5c521714698f055e71c2"
   },
   "source": [
    "The most expensive rides tend to cluster around the airpot (seen at lower right). If we look at the [relevant literate](http://nymag.com/nymetro/urban/features/taxi/n_20286/) we read that the standard fare for trips to John F Kennedy Airpot is \\$45. If we knew _for sure_ that a flight was bound for the airport, then we would know the fare! Perhaps this is another area for improvement, if we can somehow match the pickups / destinations to the airport using the coordinates. "
   ]
  },
  {
   "cell_type": "markdown",
   "metadata": {
    "_uuid": "99eef41258a455e1e04665c74b22ce4092f1e6f2"
   },
   "source": [
    "# Feature Engineering\n",
    "\n",
    "Feature engineering is the process of creating features - predictor variables - out of a dataset. __Feature engineering is the most important step of the machine learning pipeline ([A Few Useful Things to Know about Machine Learning](https://homes.cs.washington.edu/~pedrod/papers/cacm12.pdf)).__ A model can only learn from the features it is given, and properly constructing features will determine how well your model performs.\n",
    "\n",
    "Feature engineering involves domain expertise and experience on prior machine learning projects. A good place to start for Kaggle competitions is other kernels. Feel free to use, adapt, and build on other's work! \n",
    "\n",
    "### Relative Distances in Latitude and Longitude\n",
    "\n",
    "As a simple first step of feature engineering, we can find the absolute value of the difference in latitude and longitude between the `pickup` and `dropoff`. While this does not represent an actual distance (we would have to convert coordinate systems), it can be used as a relative comparison of the distances of taxi rides. As the cost of a taxi ride is proportional to duration or distance, we would expect the relative distances to be a useful measure for estimating the fare. "
   ]
  },
  {
   "cell_type": "code",
   "execution_count": null,
   "metadata": {
    "_uuid": "892e18030d462407dad9752cbfd319ebafba9f75"
   },
   "outputs": [],
   "source": [
    "# Absolute difference in latitude and longitude\n",
    "data['abs_lat_diff'] = (data['dropoff_latitude'] - data['pickup_latitude']).abs()\n",
    "data['abs_lon_diff'] = (data['dropoff_longitude'] - data['pickup_longitude']).abs()"
   ]
  },
  {
   "cell_type": "code",
   "execution_count": null,
   "metadata": {
    "_uuid": "8e6855f4ef6fc012bf696fa1b607f1a5e5c493c2"
   },
   "outputs": [],
   "source": [
    "sns.lmplot('abs_lat_diff', 'abs_lon_diff', fit_reg = False,\n",
    "           data = data.sample(10000, random_state=RSEED));\n",
    "plt.title('Absolute latitude difference vs Absolute longitude difference');"
   ]
  },
  {
   "cell_type": "markdown",
   "metadata": {
    "_uuid": "f695084e0f1419476c457ab49edaf68fb83485ff"
   },
   "source": [
    "There do seem to be a few outliers, but I'll leave those in for now. We might also want to take a look if there are any observations where both the absolute differences are 0."
   ]
  },
  {
   "cell_type": "code",
   "execution_count": null,
   "metadata": {
    "_uuid": "13fff9ce078470f62eb6d7972a5af58b4085a1be"
   },
   "outputs": [],
   "source": [
    "no_diff = data[(data['abs_lat_diff'] == 0) & (data['abs_lon_diff'] == 0)]\n",
    "no_diff.shape"
   ]
  },
  {
   "cell_type": "markdown",
   "metadata": {
    "_uuid": "ef8596a3ccfefb2d1ac67d3b17b85a50fc771d49"
   },
   "source": [
    "It looks like there are 51,000 rides where the absolute latitude and longitude does not change! That seems a little strange. This might be a point worth following up! \n",
    "\n",
    "Let's remake the plot above colored by the fare bin."
   ]
  },
  {
   "cell_type": "code",
   "execution_count": null,
   "metadata": {
    "_uuid": "5cce5d3901fa8a2700b8737f59f1c584883e5290"
   },
   "outputs": [],
   "source": [
    "sns.lmplot('abs_lat_diff', 'abs_lon_diff', hue = 'fare-bin', size = 8, palette=palette,\n",
    "           fit_reg = False, data = data.sample(10000, random_state=RSEED));\n",
    "plt.title('Absolute latitude difference vs Absolute longitude difference');"
   ]
  },
  {
   "cell_type": "code",
   "execution_count": null,
   "metadata": {
    "_uuid": "e4f645d10f0e3f3509c36170856b6d0b37d38ad5"
   },
   "outputs": [],
   "source": [
    "sns.lmplot('abs_lat_diff', 'abs_lon_diff', hue = 'fare-bin', size = 8, palette = palette,\n",
    "           fit_reg = False, data = data.sample(10000, random_state=RSEED));\n",
    "\n",
    "plt.xlim((-0.01, .25)); plt.ylim((-0.01, .25))\n",
    "plt.title('Absolute latitude difference vs Absolute longitude difference');"
   ]
  },
  {
   "cell_type": "markdown",
   "metadata": {
    "_uuid": "4ce1fca35e504421a02a12d5d54b91873e912e0f"
   },
   "source": [
    "It does seem that the rides with a larger absolute difference in both longitude and latitude tend to cost more. To capture both differences in a single variable, we can add up the two differences in latitude and longitude and also find the square root of the sum of differences squared. The former feature would be called the Manhattan distance - or l1 norm - and the latter is called the Euclidean distance - or l2 norm. Both of these distances are specific examples of the general Minkowski distance.\n",
    "\n",
    "## Manhattan and Euclidean Distance\n",
    "\n",
    "The [Minkowski Distance](https://en.wikipedia.org/wiki/Minkowski_distance) between two points is expressed as:\n",
    "\n",
    "$${\\displaystyle D\\left(X,Y\\right)=\\left(\\sum _{i=1}^{n}|x_{i}-y_{i}|^{p}\\right)^{1/p}}$$\n",
    "\n",
    "if p = 1, then this is the Manhattan distance and if p = 2 this is the Euclidean distance. You may also see these referred to as the l1 or l2 norm where the number indicates p in the equation. \n",
    "\n",
    "I should point out that these equations are only valid for actual distances in a [cartesian coordinate system](https://en.wikipedia.org/wiki/Cartesian_coordinate_system) and here we only use them to find relative distances. To find the actual distances in terms of kilometers, we have to work with the latitude and longitude [geographical coordinate system](https://en.wikipedia.org/wiki/Geographic_coordinate_system). This will be done later using the Haversine formula."
   ]
  },
  {
   "cell_type": "code",
   "execution_count": null,
   "metadata": {
    "_uuid": "bc3507b48af451faa97c7f63aaab33a5eef5d6b3"
   },
   "outputs": [],
   "source": [
    "def minkowski_distance(x1, x2, y1, y2, p):\n",
    "    return ((abs(x2 - x1) ** p) + (abs(y2 - y1)) ** p) ** (1 / p)"
   ]
  },
  {
   "cell_type": "markdown",
   "metadata": {
    "_uuid": "6aa2cf165ddb06cb293d3caff83d24a3e1df21cb"
   },
   "source": [
    "Here's an example of the Manhattan Distance which is simply the sum of differences in each dimension."
   ]
  },
  {
   "cell_type": "code",
   "execution_count": null,
   "metadata": {
    "_uuid": "61e1648c66f63c82f84fff4c3cfb1111f6df7bba"
   },
   "outputs": [],
   "source": [
    "minkowski_distance(0, 3, 0, 4, 1)"
   ]
  },
  {
   "cell_type": "markdown",
   "metadata": {
    "_uuid": "892735327b76faabfe217df24386b192de8fed59"
   },
   "source": [
    "Here's the same as a Euclidean distance which is the length of a straight line connecting the points."
   ]
  },
  {
   "cell_type": "code",
   "execution_count": null,
   "metadata": {
    "_uuid": "39196a91ac6169a6c4149a9f48a565b29a0e68c2"
   },
   "outputs": [],
   "source": [
    "minkowski_distance(0, 3, 0, 4, 2)"
   ]
  },
  {
   "cell_type": "markdown",
   "metadata": {
    "_uuid": "35d625de7df877bc845c3592e77fe94d61eb2c24"
   },
   "source": [
    "Let's apply this function to the latitude and longitudes. Again, this does not represent an absolute distance because we would need to convert coordinate systems. However, these features are useful as _relative_ comparisons between rides."
   ]
  },
  {
   "cell_type": "code",
   "execution_count": null,
   "metadata": {
    "_uuid": "fb15321c928c10d2a37a07640a45437e9ecbcbb5"
   },
   "outputs": [],
   "source": [
    "data['manhattan'] = minkowski_distance(data['pickup_longitude'], data['dropoff_longitude'],\n",
    "                                       data['pickup_latitude'], data['dropoff_latitude'], 1)\n",
    "\n",
    "# Calculate distribution by each fare bin\n",
    "plt.figure(figsize = (12, 6))\n",
    "for f, grouped in data.groupby('fare-bin'):\n",
    "    sns.kdeplot(grouped['manhattan'], label = f'{f}', color = list(grouped['color'])[0]);\n",
    "\n",
    "plt.xlabel('degrees'); plt.ylabel('density')\n",
    "plt.title('Manhattan Distance by Fare Amount');"
   ]
  },
  {
   "cell_type": "code",
   "execution_count": null,
   "metadata": {
    "_uuid": "5de41d3c9d3af799bffa497e0e0738e7551b73d2"
   },
   "outputs": [],
   "source": [
    "data['euclidean'] = minkowski_distance(data['pickup_longitude'], data['dropoff_longitude'],\n",
    "                                       data['pickup_latitude'], data['dropoff_latitude'], 2)\n",
    "\n",
    "# Calculate distribution by each fare bin\n",
    "plt.figure(figsize = (12, 6))\n",
    "for f, grouped in data.groupby('fare-bin'):\n",
    "    sns.kdeplot(grouped['euclidean'], label = f'{f}', color = list(grouped['color'])[0]);\n",
    "\n",
    "plt.xlabel('degrees'); plt.ylabel('density')\n",
    "plt.title('Euclidean Distance by Fare Amount');"
   ]
  },
  {
   "cell_type": "markdown",
   "metadata": {
    "_uuid": "80760dd7851f5b41e7412400bcb6734e21c453e4"
   },
   "source": [
    "These features do seem to have some differences between the different fare amounts, so they might be helpful in predicting the fare. "
   ]
  },
  {
   "cell_type": "code",
   "execution_count": null,
   "metadata": {
    "_uuid": "a91fd8ab8126c5c0f5b1a42ae80ddbd75c38dd1c"
   },
   "outputs": [],
   "source": [
    "data.groupby('fare-bin')['euclidean'].agg(['mean', 'count'])"
   ]
  },
  {
   "cell_type": "code",
   "execution_count": null,
   "metadata": {
    "_uuid": "4ac8dc177f6c5ee4453fdcfac732e87f270f1c67"
   },
   "outputs": [],
   "source": [
    "data.groupby('fare-bin')['euclidean'].mean().plot.bar(color = 'b');\n",
    "plt.title('Average Euclidean Distance by Fare Bin');"
   ]
  },
  {
   "cell_type": "markdown",
   "metadata": {
    "_uuid": "f8b375a36106e0015a3e1d246c423bd9d27dae2e"
   },
   "source": [
    "There is a very clearly relationship between the fare bin and the average distance of the trip! This should give us confidence that this feature will be useful to a model."
   ]
  },
  {
   "cell_type": "markdown",
   "metadata": {
    "_uuid": "894c24295567d010ff32e8adf5ae6062a3f7d718"
   },
   "source": [
    "Another plot we can make is the passenger count distribution colored by the fare bin."
   ]
  },
  {
   "cell_type": "code",
   "execution_count": null,
   "metadata": {
    "_uuid": "7c0ce12ae0b435d88a67d3a5901c340dd4bc1343"
   },
   "outputs": [],
   "source": [
    "plt.figure(figsize = (10, 6))\n",
    "\n",
    "for p, grouped in data.groupby('passenger_count'):\n",
    "    sns.kdeplot(grouped['fare_amount'], label = f'{p} passengers', color = list(grouped['color'])[0]);\n",
    "    \n",
    "plt.xlabel('Fare Amount'); plt.ylabel('Density')\n",
    "plt.title('Distribution of Fare Amount by Number of Passengers');"
   ]
  },
  {
   "cell_type": "markdown",
   "metadata": {
    "_uuid": "011ed546e3c01ae93eb0261c3396d7b854ab5e14"
   },
   "source": [
    "There does not appear to be much difference between the number of passengers. To get a more accurate picture, we can calculate the actual stats."
   ]
  },
  {
   "cell_type": "code",
   "execution_count": null,
   "metadata": {
    "_uuid": "19c7fc5a7a169966c99b034590507154e692305a"
   },
   "outputs": [],
   "source": [
    "data.groupby('passenger_count')['fare_amount'].agg(['mean', 'count'])"
   ]
  },
  {
   "cell_type": "code",
   "execution_count": null,
   "metadata": {
    "_uuid": "0324a4a5f740f0c13ddf92d8570b9b39da75b124"
   },
   "outputs": [],
   "source": [
    "data.groupby('passenger_count')['fare_amount'].mean().plot.bar(color = 'b');\n",
    "plt.title('Average Fare by Passenger Count');"
   ]
  },
  {
   "cell_type": "markdown",
   "metadata": {
    "_uuid": "e00ec5e990666d1167f58f374c6f92fa49b9c511"
   },
   "source": [
    "There is a small but noticeable difference in the average fare by the number of passengers."
   ]
  },
  {
   "cell_type": "markdown",
   "metadata": {
    "_uuid": "6330d87245b94bada09f0bb061e4945733db428f"
   },
   "source": [
    "## Read in test data and create same features"
   ]
  },
  {
   "cell_type": "markdown",
   "metadata": {
    "_uuid": "89c6a9f74032ad83f3fe6d7a5722885da9751010"
   },
   "source": [
    "Before we forget, we need to read in the test data and create the same features. The test data must have the same exact features as the training data used in the model. \n",
    "\n",
    "We can't exclude any of the test data based on outliers, and we also shouldn't use the test data for filtering outliers in the training data. The test data should ideally only be used a single time, to test the performance of a trained model."
   ]
  },
  {
   "cell_type": "markdown",
   "metadata": {
    "_uuid": "de8f5beeb4e7fb9b4ff8ba4743d28c3693c59e54"
   },
   "source": [
    "For the test data, we need to save the `key` column for making submissions. "
   ]
  },
  {
   "cell_type": "code",
   "execution_count": null,
   "metadata": {
    "_uuid": "2a1b96daa2fb2015770c563911596f225df7e39a"
   },
   "outputs": [],
   "source": [
    "test = pd.read_csv('../input/test.csv', parse_dates = ['pickup_datetime'])\n",
    "\n",
    "# Create absolute differences\n",
    "test['abs_lat_diff'] = (test['dropoff_latitude'] - test['pickup_latitude']).abs()\n",
    "test['abs_lon_diff'] = (test['dropoff_longitude'] - test['pickup_longitude']).abs()\n",
    "\n",
    "# Save the id for submission\n",
    "test_id = list(test.pop('key'))\n",
    "\n",
    "test.describe()"
   ]
  },
  {
   "cell_type": "markdown",
   "metadata": {
    "_uuid": "306b3f57ae280cf36855e2cbe1d9561350cbc529"
   },
   "source": [
    "No fare information here! It's our job to predict the fare for each test ride."
   ]
  },
  {
   "cell_type": "code",
   "execution_count": null,
   "metadata": {
    "_uuid": "e6203ef8c8cd2c64f6973fd763be6bd9cae21c4c"
   },
   "outputs": [],
   "source": [
    "test['manhattan'] = minkowski_distance(test['pickup_longitude'], test['dropoff_longitude'],\n",
    "                                       test['pickup_latitude'], test['dropoff_latitude'], 1)\n",
    "\n",
    "test['euclidean'] = minkowski_distance(test['pickup_longitude'], test['dropoff_longitude'],\n",
    "                                       test['pickup_latitude'], test['dropoff_latitude'], 2)"
   ]
  },
  {
   "cell_type": "markdown",
   "metadata": {
    "_uuid": "b8565844eb42c4635f2585a60084bfdd1ab1a84a"
   },
   "source": [
    "# Calculate Distance between points using Haversine distance\n",
    "\n",
    "To calculate a more realistic distance between the pickup and dropoff, we can use the [Haversine distance](https://en.wikipedia.org/wiki/Haversine_formula). This is the Great Circle distance, representing the shortest distance along the surface of the Earth connecting two points taking into account the fact that the Earth is a sphere (or so I'm told). It's not the best measure because the taxis do not travel along lines, but it's more accurate in terms of an absolute distance than the Manhattan and Euclidean distances made from the absolute latitude and longitude difference. The Manhattan and Euclidean distances are relative and do not take into account the spherical shape of the Earth. \n",
    "\n",
    "(We could convert the latitude and longitude into cartesian coordinates after establishing an origin. One option would be to use the center of the Earth and another would be to use the average of all coordinates in the data as an origin. Then, once we converted the points in this coordinate system, we could use the Manhattan and Euclidean formulas to find distances between points in kilometers. These are all approximations because we can't find the actual street distance.)\n",
    "\n",
    "The formula for Haversine distance is:\n",
    "\n",
    "$${\\displaystyle =2r\\arcsin \\left({\\sqrt {\\sin ^{2}\\left({\\frac {\\varphi _{2}-\\varphi _{1}}{2}}\\right)+\\cos(\\varphi _{1})\\cos(\\varphi _{2})\\sin ^{2}\\left({\\frac {\\lambda _{2}-\\lambda _{1}}{2}}\\right)}}\\right)}$$\n",
    "\n",
    "where r is the radius of the Earth. The end units will be in km. My thanks go to this Stack Overflow answer: https://stackoverflow.com/a/29546836"
   ]
  },
  {
   "cell_type": "code",
   "execution_count": null,
   "metadata": {
    "_uuid": "42bb52e0820442934529b0b9348ed1aa1c2ab031"
   },
   "outputs": [],
   "source": [
    "# Radius of the earth in kilometers\n",
    "R = 6378\n",
    "\n",
    "def haversine_np(lon1, lat1, lon2, lat2):\n",
    "    \"\"\"\n",
    "    Calculate the great circle distance between two points\n",
    "    on the earth (specified in decimal degrees)\n",
    "\n",
    "    All args must be of equal length.    \n",
    "    \n",
    "    source: https://stackoverflow.com/a/29546836\n",
    "\n",
    "    \"\"\"\n",
    "    # Convert latitude and longitude to radians\n",
    "    lon1, lat1, lon2, lat2 = map(np.radians, [lon1, lat1, lon2, lat2])\n",
    "\n",
    "    # Find the differences\n",
    "    dlon = lon2 - lon1\n",
    "    dlat = lat2 - lat1\n",
    "\n",
    "    # Apply the formula \n",
    "    a = np.sin(dlat/2.0)**2 + np.cos(lat1) * np.cos(lat2) * np.sin(dlon/2.0)**2\n",
    "    # Calculate the angle (in radians)\n",
    "    c = 2 * np.arcsin(np.sqrt(a))\n",
    "    # Convert to kilometers\n",
    "    km = R * c\n",
    "    \n",
    "    return km"
   ]
  },
  {
   "cell_type": "code",
   "execution_count": null,
   "metadata": {
    "_uuid": "f43123f0f65e453c3cebaabae7b66a426dbb7660"
   },
   "outputs": [],
   "source": [
    "data['haversine'] =  haversine_np(data['pickup_longitude'], data['pickup_latitude'],\n",
    "                         data['dropoff_longitude'], data['dropoff_latitude']) \n",
    "\n",
    "test['haversine'] = haversine_np(test['pickup_longitude'], test['pickup_latitude'],\n",
    "                         test['dropoff_longitude'], test['dropoff_latitude'])"
   ]
  },
  {
   "cell_type": "code",
   "execution_count": null,
   "metadata": {
    "_uuid": "77925d33e22ff7ea961e13bc1a2e68f286db74a9"
   },
   "outputs": [],
   "source": [
    "subset = data.sample(100000, random_state=RSEED)\n",
    "\n",
    "plt.figure(figsize = (10, 6))\n",
    "\n",
    "for f, grouped in subset.groupby('fare-bin'):\n",
    "    sns.kdeplot(grouped['haversine'], label = f'{f}', color = list(grouped['color'])[0]);\n",
    "    \n",
    "plt.title('Distribution of Haversine Distance by Fare Bin');"
   ]
  },
  {
   "cell_type": "markdown",
   "metadata": {
    "_uuid": "e9dff27c7252d320a96b6e6c6f2c86d92b7b0306"
   },
   "source": [
    "It does seem there is a significant difference here! The larger haversine distances tend to have larger fares as expected. The differences seem to be close to those returned from the Euclidean and Manhattan calculations."
   ]
  },
  {
   "cell_type": "code",
   "execution_count": null,
   "metadata": {
    "_uuid": "b3b830e840fe6c31cf43142b416c9095cc8f5cdc"
   },
   "outputs": [],
   "source": [
    "data.groupby('fare-bin')['haversine'].agg(['mean', 'count'])"
   ]
  },
  {
   "cell_type": "code",
   "execution_count": null,
   "metadata": {
    "_uuid": "a677349c233a37229edd1689e909e8cec5c65b5e"
   },
   "outputs": [],
   "source": [
    "data.groupby('fare-bin')['haversine'].mean().sort_index().plot.bar(color = 'g');\n",
    "plt.title('Average Haversine Distance by Fare Amount');\n",
    "plt.ylabel('Mean Haversine Distance');"
   ]
  },
  {
   "cell_type": "code",
   "execution_count": null,
   "metadata": {
    "_uuid": "593cf405c65eaadf8a6a96f7700892e63ee0e8a9"
   },
   "outputs": [],
   "source": [
    "sns.kdeplot(test['haversine']);"
   ]
  },
  {
   "cell_type": "markdown",
   "metadata": {
    "_uuid": "e406b3aadf6ebd6529ad3c423cbe85944c4c4326"
   },
   "source": [
    "The test distribution seems to be similar to the training distribution.\n",
    "\n",
    "As a final step, we can find the correlations between distances and fares."
   ]
  },
  {
   "cell_type": "code",
   "execution_count": null,
   "metadata": {
    "_uuid": "4db11e02d7c0a3f88e3f5881efb3cc8b8b9af073"
   },
   "outputs": [],
   "source": [
    "corrs = data.corr()\n",
    "corrs['fare_amount'].plot.bar(color = 'b');\n",
    "plt.title('Correlation with Fare Amount');"
   ]
  },
  {
   "cell_type": "markdown",
   "metadata": {
    "_uuid": "bbdb08093443d13abadad528ba2d6234c155b3d2"
   },
   "source": [
    "All the measures of distance have a _positive_ linear correlation with the fare, indicating that as they increase, the fare tends to increase as well. \n",
    "\n",
    "The correlation coefficient measures the strength and direction of a linear relationship. Because the linear relationship with the target variable is so strong, we may be able to just use a linear model (regression) to accurately predict the fares. "
   ]
  },
  {
   "cell_type": "markdown",
   "metadata": {
    "_uuid": "9d4ba981c0604661879ffcd106bb5cab40efda83"
   },
   "source": [
    "# Machine Learning\n",
    "\n",
    "Now that we have built a few potentially useful features, we can use them for machine learning: training an algorithm to predict the target from the features. We'll start off with a basic model - Linear Regression - only using a few features and then move on to a more complex models and more features. There is reason to believe that for this problem, even a simple linear model will perform well because of the strong linear correlation of the distances with the fare. We generally want to use the simplest - and hence most interpretable - model that is above an accuracy threshold (dependent on the application) so if a linear model does the job, there's no need to use a highly complex ensemble model. It's a best practice to start out with a simple model for just this reason! \n",
    "\n",
    "\n",
    "## First Model: Linear Regression\n",
    "\n",
    "The first model we'll make is a simple linear regression using 3 features: the `abs_lat_diff`, `abs_lon_diff`, and `passenger_count`. This is meant to serve as a baseline for us to beat.\n",
    "\n",
    "It's good to start with a simple model because it will give you a baseline. Also, if a simple model works well enough, then there may be no need for more complex models. If a linear regression will get the job done, then you don't need a neural network!"
   ]
  },
  {
   "cell_type": "code",
   "execution_count": null,
   "metadata": {
    "_uuid": "035f098942345d65713b1a50f4a30ae0bcacdbf7"
   },
   "outputs": [],
   "source": [
    "from sklearn.linear_model import LinearRegression\n",
    "from sklearn.model_selection import train_test_split\n",
    "\n",
    "lr = LinearRegression()"
   ]
  },
  {
   "cell_type": "markdown",
   "metadata": {
    "_uuid": "ce1c2fc557ef5a7aa108c294d2afc8cc718a2bc3"
   },
   "source": [
    "## Create Training and Validation Set\n",
    "\n",
    "We'll want to create a training and separate validation set to assess our model. Ideally, we only use the test set once, to evaluate the final model. We can make a validation set with 1 million observations to estimate our performance.\n",
    "\n",
    "We __stratify__ the split using the `fare-bin`. This ensures that the training and validation set have the same distribution of fare bins. This is important for imbalanced classification problems, but it can also be useful for regression problems so we don't end up with a lot of outliers in terms of the target in either the validation or training set. (We have to stratify based on a discrete variable which is why we use the fare bin.)"
   ]
  },
  {
   "cell_type": "code",
   "execution_count": null,
   "metadata": {
    "_uuid": "2de6ff439b75f33dce838275577e59fe1ea7c4ca"
   },
   "outputs": [],
   "source": [
    "# Split data\n",
    "X_train, X_valid, y_train, y_valid = train_test_split(data, np.array(data['fare_amount']), \n",
    "                                                      stratify = data['fare-bin'],\n",
    "                                                      random_state = RSEED, test_size = 1_000_000)"
   ]
  },
  {
   "cell_type": "markdown",
   "metadata": {
    "_uuid": "b3716a115a47554c03b82a81986b1a7517473b6b"
   },
   "source": [
    "### Train with Simple Features\n",
    "\n",
    "We'll train the linear regression using three features. The benefit of the linear regression is that it's interpretable: we can inspect the coefficients and intercept."
   ]
  },
  {
   "cell_type": "code",
   "execution_count": null,
   "metadata": {
    "_uuid": "c044ce474534c11a6b60b23333191f9b17b17d54"
   },
   "outputs": [],
   "source": [
    "lr.fit(X_train[['abs_lat_diff', 'abs_lon_diff', 'passenger_count']], y_train)\n",
    "\n",
    "print('Intercept', round(lr.intercept_, 4))\n",
    "print('abs_lat_diff coef: ', round(lr.coef_[0], 4), \n",
    "      '\\tabs_lon_diff coef:', round(lr.coef_[1], 4),\n",
    "      '\\tpassenger_count coef:', round(lr.coef_[2], 4))"
   ]
  },
  {
   "cell_type": "markdown",
   "metadata": {
    "_uuid": "b643141a102fce35615f8eaa12bb1cb5aba6ef3c"
   },
   "source": [
    "In all cases, the coefficient is positive, indicating a larger value of the variable corresponds to a larger fare according to the model. We can say that according to a linear model, for every 1 more passenger, the fare increases by \\$0.02. The `intercept` indicates the fare that would be predicted if there is no latitude or longitude difference and the passenger count is 0."
   ]
  },
  {
   "cell_type": "markdown",
   "metadata": {
    "_uuid": "7566729c1eb0d5308700f3922bb872bd7e9ec8a6"
   },
   "source": [
    "#### Score Model\n",
    "\n",
    "Here we use the validation set for assessing the model. We'll use two metrics:\n",
    "\n",
    "* __Root mean squared error__: the metric used by the competition\n",
    "* __Mean absolute percentage error__: the average percentage error of the predictions\n",
    "\n",
    "I like using the mean absolute percentage error (MAPE) because it's often more interpretable. "
   ]
  },
  {
   "cell_type": "code",
   "execution_count": null,
   "metadata": {
    "_uuid": "2085bd9df43e0d76e7aac6fac17dbf0fe8427cba"
   },
   "outputs": [],
   "source": [
    "from sklearn.metrics import mean_squared_error\n",
    "import warnings\n",
    "warnings.filterwarnings('ignore', category = RuntimeWarning)\n",
    "\n",
    "def metrics(train_pred, valid_pred, y_train, y_valid):\n",
    "    \"\"\"Calculate metrics:\n",
    "       Root mean squared error and mean absolute percentage error\"\"\"\n",
    "    \n",
    "    # Root mean squared error\n",
    "    train_rmse = np.sqrt(mean_squared_error(y_train, train_pred))\n",
    "    valid_rmse = np.sqrt(mean_squared_error(y_valid, valid_pred))\n",
    "    \n",
    "    # Calculate absolute percentage error\n",
    "    train_ape = abs((y_train - train_pred) / y_train)\n",
    "    valid_ape = abs((y_valid - valid_pred) / y_valid)\n",
    "    \n",
    "    # Account for y values of 0\n",
    "    train_ape[train_ape == np.inf] = 0\n",
    "    train_ape[train_ape == -np.inf] = 0\n",
    "    valid_ape[valid_ape == np.inf] = 0\n",
    "    valid_ape[valid_ape == -np.inf] = 0\n",
    "    \n",
    "    train_mape = 100 * np.mean(train_ape)\n",
    "    valid_mape = 100 * np.mean(valid_ape)\n",
    "    \n",
    "    return train_rmse, valid_rmse, train_mape, valid_mape\n",
    "\n",
    "def evaluate(model, features, X_train, X_valid, y_train, y_valid):\n",
    "    \"\"\"Mean absolute percentage error\"\"\"\n",
    "    \n",
    "    # Make predictions\n",
    "    train_pred = model.predict(X_train[features])\n",
    "    valid_pred = model.predict(X_valid[features])\n",
    "    \n",
    "    # Get metrics\n",
    "    train_rmse, valid_rmse, train_mape, valid_mape = metrics(train_pred, valid_pred,\n",
    "                                                             y_train, y_valid)\n",
    "    \n",
    "    print(f'Training:   rmse = {round(train_rmse, 2)} \\t mape = {round(train_mape, 2)}')\n",
    "    print(f'Validation: rmse = {round(valid_rmse, 2)} \\t mape = {round(valid_mape, 2)}')"
   ]
  },
  {
   "cell_type": "code",
   "execution_count": null,
   "metadata": {
    "_uuid": "4314bc311cfd175cd1c586909d82148e721c3251"
   },
   "outputs": [],
   "source": [
    "evaluate(lr, ['abs_lat_diff', 'abs_lon_diff', 'passenger_count'], \n",
    "        X_train, X_valid, y_train, y_valid)"
   ]
  },
  {
   "cell_type": "markdown",
   "metadata": {
    "_uuid": "47caefd95df8234ad8847b48a91c9fec777bd6f7"
   },
   "source": [
    "Without anything to compare these results to, we can't say if they are good. This is the reason for establishing a basic baseline with no machine learning!"
   ]
  },
  {
   "cell_type": "markdown",
   "metadata": {
    "_uuid": "0abc1231ba030d082d2788995986693eb2d58fe3"
   },
   "source": [
    "### Naive Baseline\n",
    "\n",
    "To make sure that machine learning is even applicable to the task, we should compare these predictions to a naive guess. For a regression task, this can be as simple as the average value of the target in the training data."
   ]
  },
  {
   "cell_type": "code",
   "execution_count": null,
   "metadata": {
    "_uuid": "1ca2a681c0d6cdf0be12d4912a654baf1d480536"
   },
   "outputs": [],
   "source": [
    "train_mean = y_train.mean()\n",
    "\n",
    "# Create list of the same prediction for every observation\n",
    "train_preds = [train_mean for _ in range(len(y_train))]\n",
    "valid_preds = [train_mean for _ in range(len(y_valid))]\n",
    "\n",
    "tr, vr, tm, vm = metrics(train_preds, valid_preds, y_train, y_valid)\n",
    "\n",
    "print(f'Baseline Training:   rmse = {round(tr, 2)} \\t mape = {round(tm, 2)}')\n",
    "print(f'Baseline Validation: rmse = {round(vr, 2)} \\t mape = {round(vm, 2)}')"
   ]
  },
  {
   "cell_type": "markdown",
   "metadata": {
    "_uuid": "e9955517885795523df124dd24424039af145a83"
   },
   "source": [
    "According to the naive baseline, our machine learning solution is effective! We are able to reduce the percentage error by about half and generate much better predictions than using no machine learning. This should give us confidence we are on the right track.\n",
    "\n",
    "### Make a submission\n",
    "\n",
    "In order to make a submission to Kaggle, we have to make predictions on the test data. Below we make the predictions and save them to a csv file in the format specified by the competition"
   ]
  },
  {
   "cell_type": "code",
   "execution_count": null,
   "metadata": {
    "_uuid": "6be5c8e95058d1026d6d948654acdb1d47a48ba4"
   },
   "outputs": [],
   "source": [
    "preds = lr.predict(test[['abs_lat_diff', 'abs_lon_diff', 'passenger_count']])\n",
    "\n",
    "sub = pd.DataFrame({'key': test_id, 'fare_amount': preds})\n",
    "sub.to_csv('sub_lr_simple.csv', index = False)"
   ]
  },
  {
   "cell_type": "markdown",
   "metadata": {
    "_uuid": "658cb2e89e1f0eb3c3ea52a3a70eaa627b4334da"
   },
   "source": [
    "As a sanity check, we can plot the predictions."
   ]
  },
  {
   "cell_type": "code",
   "execution_count": null,
   "metadata": {
    "_uuid": "6f56460bfc357f63d424534d5723c72e0e14987e"
   },
   "outputs": [],
   "source": [
    "sns.distplot(sub['fare_amount'])\n",
    "plt.title('Distribution of Linear Regression Predictions');"
   ]
  },
  {
   "cell_type": "markdown",
   "metadata": {
    "_uuid": "32f40ab04d62f6772f3dafae84515387edad4696"
   },
   "source": [
    "The predicted distribution appears reasonable. Because the competition uses root mean squared error as the metric, any predictions that are far off will have an outsized effect on the error. Let's look at predictions that were greater than \\$100."
   ]
  },
  {
   "cell_type": "code",
   "execution_count": null,
   "metadata": {
    "_uuid": "971e3966e5ab534a8a4758a13ddcd031b3e4e31b"
   },
   "outputs": [],
   "source": [
    "test.loc[sub[sub['fare_amount'] > 100].index]"
   ]
  },
  {
   "cell_type": "code",
   "execution_count": null,
   "metadata": {
    "_uuid": "5ccf5ccb898cbdae8611c3d418e244cd62927732"
   },
   "outputs": [],
   "source": [
    "sub[sub['fare_amount'] > 100]"
   ]
  },
  {
   "cell_type": "markdown",
   "metadata": {
    "_uuid": "bdfe6081464583079bd9055f9db6dafd230c82da"
   },
   "source": [
    "These three predictions that are all over \\$100 don't appear to be completely unexpected given the large `abs_lat_diff` and `abs_lon_diff`. We'll have to take a look at these predictions for other models and see if they agree. "
   ]
  },
  {
   "cell_type": "code",
   "execution_count": null,
   "metadata": {
    "_uuid": "7b2238de23c669a48e4912cbb4728f13bec8785f"
   },
   "outputs": [],
   "source": [
    "simple_over_100 = list(sub[sub['fare_amount'] > 100].index)\n",
    "sub['fare_amount'].describe()"
   ]
  },
  {
   "cell_type": "markdown",
   "metadata": {
    "_uuid": "68b824e8aaeeef848515d02dbfe9b97ffbc1774b"
   },
   "source": [
    "As a linear model, the linear regression is not flexible at all. In other words, it has a high bias because it assumes a linear relationship between the predictor variables (features) and the response (target). The final formula produced by the model is interpretable, but that doesn't mean it's right! In machine learning, we often have to make a tradeoff between model interpretability and model accuracy. In this case the linear regression does well, but as we'll see, a more complex model does even better."
   ]
  },
  {
   "cell_type": "markdown",
   "metadata": {
    "_uuid": "57bd66bdaeabb430a6543197c30a9f32afd62b9a"
   },
   "source": [
    "## Use More Features\n",
    "\n",
    "While the first model scored well relative to the baseline, there is much room for improvement. As a first step, let's use one of the other features we created, the `haversine` distance."
   ]
  },
  {
   "cell_type": "code",
   "execution_count": null,
   "metadata": {
    "_uuid": "15a7267b3e2010debc84c42965cdffea9151d500"
   },
   "outputs": [],
   "source": [
    "lr.fit(X_train[['haversine', 'abs_lat_diff', 'abs_lon_diff', 'passenger_count']], y_train)\n",
    "\n",
    "evaluate(lr, ['haversine', 'abs_lat_diff', 'abs_lon_diff', 'passenger_count'], \n",
    "         X_train, X_valid, y_train, y_valid)"
   ]
  },
  {
   "cell_type": "code",
   "execution_count": null,
   "metadata": {
    "_uuid": "67bc62ce9b4293b4adbf582c9809eb789d2a5049"
   },
   "outputs": [],
   "source": [
    "print(lr.intercept_)\n",
    "print(lr.coef_)"
   ]
  },
  {
   "cell_type": "markdown",
   "metadata": {
    "_uuid": "bf2617af578cbca5c0c1db139235685adbc41f0f"
   },
   "source": [
    "Using this one more feature improved our score slightly. Here's another chance for improvement using the same model:\n",
    "\n",
    "* __Potential Improvement 3: find an optimal set of features or construct more features__. This can involve [feature selection](http://scikit-learn.org/stable/modules/feature_selection.html) or trying different combinations of features and evaluating them on the validation data. You can build additional features by looking at others' work or researching the problem.\n",
    "\n",
    "#### Collinear Features\n",
    "\n",
    "One thing we do want to be careful about is highly correlated, known as [collinear](https://en.wikipedia.org/wiki/Multicollinearity), features. These can decrease the generalization performance of the model and lead to less interpretable models. Many of our features are already highly correlated as shown in the heatmap below. This plots the Pearson Correlation Coefficient for each pair of variables."
   ]
  },
  {
   "cell_type": "code",
   "execution_count": null,
   "metadata": {
    "_uuid": "3c61e334eb9c252855237697c35ec9367302d385"
   },
   "outputs": [],
   "source": [
    "corrs = data.corr()\n",
    "\n",
    "plt.figure(figsize = (12, 12))\n",
    "sns.heatmap(corrs, annot = True, vmin = -1, vmax = 1, fmt = '.3f', cmap=plt.cm.PiYG_r);"
   ]
  },
  {
   "cell_type": "markdown",
   "metadata": {
    "_uuid": "e426f2646a592323811e9e966dbad23a61ca065b"
   },
   "source": [
    "You might not want to use two variables that are very highly correlated with each other (such as `euclidean` and `haversine`) because of issues with interpretability and performance."
   ]
  },
  {
   "cell_type": "markdown",
   "metadata": {
    "_uuid": "b0e6ec28f9803d68eb86de4c1f1114a891b8b607"
   },
   "source": [
    "# Upgraded Model\n",
    "\n",
    "When we want to improve performance, we generally have a few options:\n",
    "\n",
    "1. Get more data - either more observations or more variables\n",
    "2. Engineer more / better features\n",
    "3. Perform feature selection to remove irrelevant features\n",
    "4. Try a more complex model\n",
    "5. Perform hyperparameter tuning of the selected model\n",
    "\n",
    "We already saw that including another feature could improve perfomance. For now let's move past the features and focus on the model (we'll come back to features later).\n",
    "\n",
    "The simple linear regression has no hyperparameters to optimize (no settings to tune) so we'll try approach 4. If the more complex model does well, we can use it for testing additional features or performing feature selection\n",
    "\n",
    "## Non-Linear Model: Random Forest\n",
    "\n",
    "For a first non-linear model, we'll use the [Random Forest](https://medium.com/p/77bf308a9b76?source=user_profile---------3------------------) regressor. This is a powerful ensemble of regression trees that has good performance and generalization ability because of its low variance. We'll use most of the default hyperparameters but change the `n_estimators` and the `max_depth` of each tree in the forest. For the features, we'll use the four features which delivered good performance in the linear regression."
   ]
  },
  {
   "cell_type": "code",
   "execution_count": null,
   "metadata": {
    "_uuid": "b530fcd15c0195e125d19c914accf4caab3f5abc"
   },
   "outputs": [],
   "source": [
    "from sklearn.ensemble import RandomForestRegressor\n",
    "\n",
    "# Create the random forest\n",
    "random_forest = RandomForestRegressor(n_estimators = 20, max_depth = 20, \n",
    "                                      max_features = None, oob_score = True, \n",
    "                                      bootstrap = True, verbose = 1, n_jobs = -1)\n",
    "\n",
    "# Train on data\n",
    "random_forest.fit(X_train[['haversine', 'abs_lat_diff', 'abs_lon_diff', 'passenger_count']], y_train)"
   ]
  },
  {
   "cell_type": "code",
   "execution_count": null,
   "metadata": {
    "_uuid": "c6f48aa4404b94d206ce8994cb7ea0fcf06b30d6"
   },
   "outputs": [],
   "source": [
    "evaluate(random_forest, ['haversine', 'abs_lat_diff', 'abs_lon_diff', 'passenger_count'],\n",
    "         X_train, X_valid, y_train, y_valid)"
   ]
  },
  {
   "cell_type": "markdown",
   "metadata": {
    "_uuid": "92b3f1f9422e42d2c68ea7295ead89b87f5ab098"
   },
   "source": [
    "The random forest does much better than the simple linear regression. This indicates that the problem is not completely linear, or at least is not linear in terms of the features we have constructed. From here going forward, we'll use the same random forest model because of the increased performance. \n",
    "\n",
    "#### Overfitting\n",
    "\n",
    "Given the gap between the training and the validation score, we can see that our model is __overfitting__ to the training data. This is one of the most common problems in machine learning and is usually addressed either by training with more data, or adjusting the hyperparameters of the model. This leads to another recommendation for improvement:\n",
    "\n",
    "* __Potential Improvement 4: Try searching for better random forest model hyperparameters__. You may find Scikit-Learn's `RandomizedSearchCV` a useful tool.\n",
    "\n",
    "I'll provide some starter code for hyperparameter optimization later in the notebook. \n",
    "\n",
    "Next we can make predictions with the random forest for uploading to the competition."
   ]
  },
  {
   "cell_type": "code",
   "execution_count": null,
   "metadata": {
    "_uuid": "21f4f58b9f6376bfd28973cebe373022456cb861"
   },
   "outputs": [],
   "source": [
    "preds = random_forest.predict(test[['haversine', 'abs_lat_diff', 'abs_lon_diff', 'passenger_count']])\n",
    "\n",
    "sub = pd.DataFrame({'key': test_id, 'fare_amount': preds})\n",
    "sub.to_csv('sub_rf_simple.csv', index = False)\n",
    "\n",
    "sns.distplot(sub['fare_amount'])\n",
    "plt.title('Distribution of Random Forest Predicted Fare Amount');"
   ]
  },
  {
   "cell_type": "markdown",
   "metadata": {
    "_uuid": "001ebcdeb7892c8a792525aae2382195b1410c3a"
   },
   "source": [
    "This time we don't see any extreme predictions as we saw with the first linear regression. The random forest tends to not produce outlying predictions because the voting of the trees means that any single tree that estimates an extreme value will be balanced by the other predictions. \n",
    "\n",
    "Let's look at the 3 predictions the original simple linear regression estimated as over \\$100."
   ]
  },
  {
   "cell_type": "code",
   "execution_count": null,
   "metadata": {
    "_uuid": "3fa2ee0aa1ba07ac641aee20b0e618908c37aa75"
   },
   "outputs": [],
   "source": [
    "sub.loc[simple_over_100]"
   ]
  },
  {
   "cell_type": "markdown",
   "metadata": {
    "_uuid": "c1d04624617153ea56d6fc30b11ef3eb56904ac7"
   },
   "source": [
    "Wow! The random forest and the linear regression significantly disagree. This brings up another point: one option we have for modeling is to combine the predictions of multiple models. Oftentimes, averaging the predictions of multiple models will result in better performance than either model by itself. Just for fun, let's try averaging the validation predictions of both models."
   ]
  },
  {
   "cell_type": "markdown",
   "metadata": {
    "_uuid": "c8cea64669150fa651bcd7206f93cce8f10a4774"
   },
   "source": [
    "## Average Models\n",
    "\n",
    "We'll assess the validation performance of a simple averaging of the linear regression and random forest."
   ]
  },
  {
   "cell_type": "code",
   "execution_count": null,
   "metadata": {
    "_uuid": "383d2425e799119629a7753975dc3db24abd710a"
   },
   "outputs": [],
   "source": [
    "lr_tpred = lr.predict(X_train[['haversine', 'abs_lat_diff', 'abs_lon_diff', 'passenger_count']])\n",
    "rf_tpred = random_forest.predict(X_train[['haversine', 'abs_lat_diff', 'abs_lon_diff', 'passenger_count']])\n",
    "\n",
    "lr_pred = lr.predict(X_valid[['haversine', 'abs_lat_diff', 'abs_lon_diff', 'passenger_count']])\n",
    "rf_pred = random_forest.predict(X_valid[['haversine', 'abs_lat_diff', 'abs_lon_diff', 'passenger_count']])\n",
    "\n",
    "# Average predictions\n",
    "train_pred = (lr_tpred + rf_tpred) / 2\n",
    "valid_pred = (lr_pred + rf_pred) / 2\n",
    "\n",
    "tr, vr, tm, vm = metrics(train_pred, valid_pred, y_train, y_valid)\n",
    "\n",
    "print(f'Combined Training:   rmse = {round(tr, 2)} \\t mape = {round(tm, 2)}')\n",
    "print(f'Combined Validation: rmse = {round(vr, 2)} \\t mape = {round(vm, 2)}')"
   ]
  },
  {
   "cell_type": "markdown",
   "metadata": {
    "_uuid": "de21f97e464e227eb6a48f599b7efd89a9c4e907"
   },
   "source": [
    "For this problem, the random forest by itself is slightly better. However, I'd encourage you to experiment with a range of models given that the best model depends on the dataset."
   ]
  },
  {
   "cell_type": "markdown",
   "metadata": {
    "_uuid": "0acb242827d4851c8edaecfef5987bc941392db2"
   },
   "source": [
    "# More Features\n",
    "\n",
    "Now that we've decided on the Random Forest as our model, we can try using additional features. Let's see what happens when we use 8 of the features for training. The function below trains the random forest and assesses it on the validation data."
   ]
  },
  {
   "cell_type": "code",
   "execution_count": null,
   "metadata": {
    "_uuid": "00a0cb498ca1f67ed0479baee87cdcdbcc4911d1"
   },
   "outputs": [],
   "source": [
    "def model_rf(X_train, X_valid, y_train, y_valid, test, features,\n",
    "             model = RandomForestRegressor(n_estimators = 20, max_depth = 20,\n",
    "                                           n_jobs = -1),\n",
    "             return_model = False):\n",
    "    \"\"\"Train and evaluate the random forest using the given set of features.\"\"\"\n",
    "    \n",
    "    # Train\n",
    "    model.fit(X_train[features], y_train)\n",
    "    \n",
    "    # Validation\n",
    "    evaluate(model, features, X_train, X_valid, y_train, y_valid)\n",
    "    \n",
    "    # Make predictions on test and generate submission dataframe\n",
    "    preds = model.predict(test[features])\n",
    "    sub = pd.DataFrame({'key': test_id, 'fare_amount': preds})\n",
    "    \n",
    "    # Extract feature importances\n",
    "    feature_importances = pd.DataFrame({'feature': features,\n",
    "                                        'importance': model.feature_importances_}).\\\n",
    "                           sort_values('importance', ascending = False).set_index('feature')\n",
    "    \n",
    "    if return_model:\n",
    "        return sub, feature_importances, model\n",
    "    \n",
    "    return sub, feature_importances"
   ]
  },
  {
   "cell_type": "code",
   "execution_count": null,
   "metadata": {
    "_uuid": "4f45014d6106a8af61fc622b4543dfcbbbe19523"
   },
   "outputs": [],
   "source": [
    "data.columns"
   ]
  },
  {
   "cell_type": "code",
   "execution_count": null,
   "metadata": {
    "_uuid": "bf0be4bbb54d181fef70d238c9f01f4d1deda173"
   },
   "outputs": [],
   "source": [
    "# Evaluate using 8 features\n",
    "sub, fi = model_rf(X_train, X_valid, y_train, y_valid, test, \n",
    "                   features = ['abs_lat_diff', 'abs_lon_diff', 'haversine', 'passenger_count',\n",
    "                               'pickup_latitude', 'pickup_longitude', 'dropoff_latitude', 'dropoff_longitude'])"
   ]
  },
  {
   "cell_type": "markdown",
   "metadata": {
    "_uuid": "89b35e817963db19c01963e423141174d0818afc"
   },
   "source": [
    "It appears that using more features helps the model! We can look at the feature importances to see which the model considers \"most relevant\".\n",
    "\n",
    "#### Feature Importances"
   ]
  },
  {
   "cell_type": "code",
   "execution_count": null,
   "metadata": {
    "_uuid": "32fd4678a816851e2b7a3e5ebb8a7f23f3e8936f"
   },
   "outputs": [],
   "source": [
    "fi.plot.bar(color = 'b', edgecolor = 'k', linewidth = 2);\n",
    "plt.title('Feature Importances');"
   ]
  },
  {
   "cell_type": "markdown",
   "metadata": {
    "_uuid": "a4c4cd3f303c53b68ce296b455442c3bcc38c76b"
   },
   "source": [
    "The `haversine` distance is by far the most important with the other features showing considerably less relevance to the model. This suggests that distance is key, and we might want to find a more accurate way of calculating distances."
   ]
  },
  {
   "cell_type": "code",
   "execution_count": null,
   "metadata": {
    "_uuid": "9e5c18925158d4d9c1fd7237e3a1bca9a62bc8fb"
   },
   "outputs": [],
   "source": [
    "sub.to_csv('sub_rf_8_features.csv', index = False)\n",
    "sub['fare_amount'].plot.hist();"
   ]
  },
  {
   "cell_type": "markdown",
   "metadata": {
    "_uuid": "0892dbd6c806577ca5a9e14e7f8953a2b6e2fde9"
   },
   "source": [
    "# Additional Feature Engineering\n",
    "\n",
    "We saw that adding more features improves the performance of the model. A natural progression is therefore to use even more features! We have not made any use of the `pickup_datetime` which provides the precise moment of pickup and that's where we'll turn our attention to next. \n",
    "\n",
    "## Extract Datetime Information\n",
    "\n",
    "We can write a simple function that extracts as much date and time information from a datetime as possible. This is adapted from the excellent fast.ai library, in particular, the structured module (available at https://github.com/fastai/fastai/blob/master/fastai/structured.py). I have made a few changes based on what's worked best for me in the past on time-series problems."
   ]
  },
  {
   "cell_type": "markdown",
   "metadata": {
    "_uuid": "7d2c3ede076bcc032059d152b3c4826dff72948e"
   },
   "source": [
    "This function calculates a number of expected attributes:\n",
    "\n",
    "* Year\n",
    "* Month\n",
    "* Day\n",
    "* Day of Year\n",
    "* Day of Week\n",
    "\n",
    "When we have a time, additional variables can be calculated:\n",
    "\n",
    "* Hour \n",
    "* Minute \n",
    "* Second\n",
    "\n",
    "Pandas also offers options for some more complex attributes like:\n",
    "\n",
    "* Is_month_end  \n",
    "* Is_month_start\n",
    "* Is_quarter_end\n",
    "* Is_quarter_start\n",
    "* Is_year_end\n",
    "* Is_year_start\n",
    "\n",
    "These are more intended for financial analysis, but they may come in handy in other problems. For now, I have decided not to use these attributes. For more information on datetimes in Pandas, refer to [the documentation](https://pandas.pydata.org/pandas-docs/stable/timeseries.html).\n",
    "\n",
    "### Fractional Time Variables\n",
    "\n",
    "Finally, I add a number of other calculations that combine existing measures to create fractional variables:\n",
    "\n",
    "* Fractional time of day\n",
    "* Fractional time of week\n",
    "* Fractional time of month\n",
    "* Fractional time of year\n",
    "\n",
    "These are all measured from 0 - 1 in units of whichever time period we are measuring on. The idea behind these variables is that they can take the place of several other time indicators. For example, instead of using the `Dayof week`, `Hour`, `Minute`, and `Second`, we can use the fractional time of the week to find out precisely when the observation takes place in the week.\n",
    "\n",
    "I have found that the fractional time variables work well in practice especially with non-linear models. When we use linear models, a good approach is [cyclical variable encoding](https://ianlondon.github.io/blog/encoding-cyclical-features-24hour-time/) of time features, but I haven't found this to be necessary with non-linear models. Again, you'll have to experiment with different approaches to find what works best! "
   ]
  },
  {
   "cell_type": "code",
   "execution_count": null,
   "metadata": {
    "_uuid": "4fb34f68180e483f77c3ba9fc25e388d1d99ad32"
   },
   "outputs": [],
   "source": [
    "import re\n",
    "\n",
    "def extract_dateinfo(df, date_col, drop=True, time=False, \n",
    "                     start_ref = pd.datetime(1900, 1, 1),\n",
    "                     extra_attr = False):\n",
    "    \"\"\"\n",
    "    Extract Date (and time) Information from a DataFrame\n",
    "    Adapted from: https://github.com/fastai/fastai/blob/master/fastai/structured.py\n",
    "    \"\"\"\n",
    "    df = df.copy()\n",
    "    \n",
    "    # Extract the field\n",
    "    fld = df[date_col]\n",
    "    \n",
    "    # Check the time\n",
    "    fld_dtype = fld.dtype\n",
    "    if isinstance(fld_dtype, pd.core.dtypes.dtypes.DatetimeTZDtype):\n",
    "        fld_dtype = np.datetime64\n",
    "\n",
    "    # Convert to datetime if not already\n",
    "    if not np.issubdtype(fld_dtype, np.datetime64):\n",
    "        df[date_col] = fld = pd.to_datetime(fld, infer_datetime_format=True)\n",
    "    \n",
    "\n",
    "    # Prefix for new columns\n",
    "    pre = re.sub('[Dd]ate', '', date_col)\n",
    "    pre = re.sub('[Tt]ime', '', pre)\n",
    "    \n",
    "    # Basic attributes\n",
    "    attr = ['Year', 'Month', 'Week', 'Day', 'Dayofweek', 'Dayofyear', 'Days_in_month', 'is_leap_year']\n",
    "    \n",
    "    # Additional attributes\n",
    "    if extra_attr:\n",
    "        attr = attr + ['Is_month_end', 'Is_month_start', 'Is_quarter_end', \n",
    "                       'Is_quarter_start', 'Is_year_end', 'Is_year_start']\n",
    "    \n",
    "    # If time is specified, extract time information\n",
    "    if time: \n",
    "        attr = attr + ['Hour', 'Minute', 'Second']\n",
    "        \n",
    "    # Iterate through each attribute\n",
    "    for n in attr: \n",
    "        df[pre + n] = getattr(fld.dt, n.lower())\n",
    "        \n",
    "    # Calculate days in year\n",
    "    df[pre + 'Days_in_year'] = df[pre + 'is_leap_year'] + 365\n",
    "        \n",
    "    if time:\n",
    "        # Add fractional time of day (0 - 1) units of day\n",
    "        df[pre + 'frac_day'] = ((df[pre + 'Hour']) + (df[pre + 'Minute'] / 60) + (df[pre + 'Second'] / 60 / 60)) / 24\n",
    "        \n",
    "        # Add fractional time of week (0 - 1) units of week\n",
    "        df[pre + 'frac_week'] = (df[pre + 'Dayofweek'] + df[pre + 'frac_day']) / 7\n",
    "    \n",
    "        # Add fractional time of month (0 - 1) units of month\n",
    "        df[pre + 'frac_month'] = (df[pre + 'Day'] + (df[pre + 'frac_day'])) / (df[pre + 'Days_in_month'] +  1)\n",
    "        \n",
    "        # Add fractional time of year (0 - 1) units of year\n",
    "        df[pre + 'frac_year'] = (df[pre + 'Dayofyear'] + df[pre + 'frac_day']) / (df[pre + 'Days_in_year'] + 1)\n",
    "        \n",
    "    # Add seconds since start of reference\n",
    "    df[pre + 'Elapsed'] = (fld - start_ref).dt.total_seconds()\n",
    "    \n",
    "    if drop: \n",
    "        df = df.drop(date_col, axis=1)\n",
    "        \n",
    "    return df"
   ]
  },
  {
   "cell_type": "code",
   "execution_count": null,
   "metadata": {
    "_uuid": "3abe0fb9d97a565fc19238fa5f79950c883deb52"
   },
   "outputs": [],
   "source": [
    "print(data['pickup_datetime'].min())\n",
    "print(test['pickup_datetime'].min())"
   ]
  },
  {
   "cell_type": "markdown",
   "metadata": {
    "_uuid": "eb44c3bcfa9a10a5868347f60779a9b6cf732b37"
   },
   "source": [
    "For a reference time, we can use the start of the training data. This means that the `Elapsed` measure will be the time since the beginning of the observations."
   ]
  },
  {
   "cell_type": "code",
   "execution_count": null,
   "metadata": {
    "_uuid": "da309c092ff52a23f72219347fcb22ba6ad95a15"
   },
   "outputs": [],
   "source": [
    "test = extract_dateinfo(test, 'pickup_datetime', drop = False, \n",
    "                         time = True, start_ref = data['pickup_datetime'].min())\n",
    "test.head()"
   ]
  },
  {
   "cell_type": "code",
   "execution_count": null,
   "metadata": {
    "_uuid": "30eb9e1e8dc7629518c92a12cd92d4d9a45722af"
   },
   "outputs": [],
   "source": [
    "data = extract_dateinfo(data, 'pickup_datetime', drop = False, \n",
    "                         time = True, start_ref = data['pickup_datetime'].min())\n",
    "test.describe()"
   ]
  },
  {
   "cell_type": "markdown",
   "metadata": {
    "_uuid": "0653c098908a21b8c0ad43b219fa1bf52fbd0590"
   },
   "source": [
    "## Explore Time Variables\n",
    "\n",
    "We now have a ton of time-variables to explore! First, let's ask the question if fares have increased over time. To do this, we can plot the `time_elapsed` versus the fare."
   ]
  },
  {
   "cell_type": "code",
   "execution_count": null,
   "metadata": {
    "_uuid": "b82aa9df2cb0e8d5e5449ec1a3289dfb1099356c"
   },
   "outputs": [],
   "source": [
    "sns.lmplot('pickup_Elapsed', 'fare_amount', hue = 'pickup_Year', palette=palette, size = 8,\n",
    "           scatter_kws= {'alpha': 0.05}, markers = '.', fit_reg = False,\n",
    "           data = data.sample(1000000, random_state=RSEED));\n",
    "plt.title('Fare Amount versus Time Since Start of Records');"
   ]
  },
  {
   "cell_type": "markdown",
   "metadata": {
    "_uuid": "9ca6b715370eb1d0a5e940d5999ea5614926cf55"
   },
   "source": [
    "There appears to be a minor increase in prices over time which might be expected taking into account inflation. Let's look at the average fare amount by the hour of day."
   ]
  },
  {
   "cell_type": "code",
   "execution_count": null,
   "metadata": {
    "_uuid": "14fa822e9ed3702e4063b5cbc22da51e03549c78"
   },
   "outputs": [],
   "source": [
    "plt.figure(figsize = (10, 8))\n",
    "for h, grouped in data.groupby('pickup_Hour'):\n",
    "    sns.kdeplot(grouped['fare_amount'], label = f'{h} hour');\n",
    "plt.title('Fare Amount by Hour of Day');"
   ]
  },
  {
   "cell_type": "markdown",
   "metadata": {
    "_uuid": "2822de2761e7934e110369fc5ea4a66e6f19560c"
   },
   "source": [
    "We can make the same plot by day of the week."
   ]
  },
  {
   "cell_type": "code",
   "execution_count": null,
   "metadata": {
    "_uuid": "7c6b2fdbb4987428f12913c11a5a2175727fb06e"
   },
   "outputs": [],
   "source": [
    "plt.figure(figsize = (10, 8))\n",
    "for d, grouped in data.groupby('pickup_Dayofweek'):\n",
    "    sns.kdeplot(grouped['fare_amount'], label = f'{d}')\n",
    "plt.title('Fare Amount by Day of Week');"
   ]
  },
  {
   "cell_type": "markdown",
   "metadata": {
    "_uuid": "c91a928e3f5f67d963eb9c28c5ef2ddbcc51d116"
   },
   "source": [
    "Both of these plots do not seem to show much difference between the different times. \n",
    "\n",
    "### Fractional Time Plots\n",
    "\n",
    "As a final exploration of the time variables, we can plot the fare amount versus the fractional time. "
   ]
  },
  {
   "cell_type": "code",
   "execution_count": null,
   "metadata": {
    "_uuid": "6670773e11084f2f96a7ab3d02af3bb04d1b64c5"
   },
   "outputs": [],
   "source": [
    "fig, axes = plt.subplots(2, 2, figsize = (20, 20))\n",
    "axes = axes.flatten()\n",
    "\n",
    "# Plot each of the fractional times\n",
    "for i, d in enumerate(['day', 'week', 'month', 'year']):\n",
    "    ax = axes[i]\n",
    "    sns.regplot(f'pickup_frac_{d}', 'fare_amount', \n",
    "                data = data.sample(100000, random_state = RSEED), \n",
    "                fit_reg = False, scatter_kws = {'alpha': 0.05}, marker = '.', ax = ax,\n",
    "                color = 'r')\n",
    "    \n",
    "    ax.set_title(f'Fare Amount vs pickup_frac_{d}')"
   ]
  },
  {
   "cell_type": "markdown",
   "metadata": {
    "_uuid": "ee9b6525d6533302b2f3f5d0782edeb8e3f1a1fc"
   },
   "source": [
    "None of these graphs are very decisive. One interesting thing to note is the horizontal bars at different fare amounts. This suggests there may be certain routes that always have the same fare amount. We explored the fare distribution earlier, but it might be a good idea to revisit the abnormalities in the fares."
   ]
  },
  {
   "cell_type": "code",
   "execution_count": null,
   "metadata": {
    "_uuid": "1ad25b5621cf06169c6be6760a314bee09f51c48"
   },
   "outputs": [],
   "source": [
    "fare_counts = data.groupby('fare_amount')['haversine'].agg(['count', pd.Series.nunique]).sort_values('count', ascending = False)\n",
    "fare_counts.head()"
   ]
  },
  {
   "cell_type": "markdown",
   "metadata": {
    "_uuid": "7a51f71a80a0d0e6a855568cf6893db1ba9732ef"
   },
   "source": [
    "There are a number of very common fares. These could indicate certain rides that are a set amount. It might be helpful to determine if there are standard fares, and if this information could be used for modeling. If there are set fares, the next step would be linking these to specific pickups and/or dropoffs."
   ]
  },
  {
   "cell_type": "markdown",
   "metadata": {
    "_uuid": "e0ce6ff13b11eb5c06a9e2b6bbb7c60c8a89f625"
   },
   "source": [
    "#### Correlations with Target\n",
    "\n",
    "Again we can show the correlations of all features with the target. "
   ]
  },
  {
   "cell_type": "code",
   "execution_count": null,
   "metadata": {
    "_uuid": "de3c031e76e2d07afedfce58b752fd261bc5eec8"
   },
   "outputs": [],
   "source": [
    "# corrs = data.corr()\n",
    "corrs['fare_amount'].plot.bar(color = 'b', figsize = (10, 6));\n",
    "plt.title('Correlation with Fare Amount');"
   ]
  },
  {
   "cell_type": "markdown",
   "metadata": {
    "_uuid": "8fb353353292fba8d84a7e2d3b38013ca8a7fee2"
   },
   "source": [
    "It seems the most useful time variables may be the `Year` or `Elapsed` because most of the time features have a small correlation with the target. The `Elapsed` correlation is positive indicating that fares have tended to increase over time."
   ]
  },
  {
   "cell_type": "markdown",
   "metadata": {
    "_uuid": "a60309af5115877e29b9270c54e7fb4447150d92"
   },
   "source": [
    "### Test Time Features\n",
    "\n",
    "Now we can use the time features in our model to see if they yield any improvement. We'll need to resplit the data (using the same random state)."
   ]
  },
  {
   "cell_type": "code",
   "execution_count": null,
   "metadata": {
    "_uuid": "0d83be6a5a1f4eb5da5dd8721279636a6140f445"
   },
   "outputs": [],
   "source": [
    "X_train, X_valid, y_train, y_valid = train_test_split(data, np.array(data['fare_amount']), \n",
    "                                                      stratify = data['fare-bin'],\n",
    "                                                      random_state = RSEED, test_size = 1_000_000)"
   ]
  },
  {
   "cell_type": "markdown",
   "metadata": {
    "_uuid": "a2749d227a2bbfcb2a39495b29e88446bcb7031a"
   },
   "source": [
    "For the time features, we'll use the fractional measurements for the day, week, and year, as well as the time elapsed since the beginning of the records. We'll keep the other same features as the previous training run. (This gives us a total of 12 features)."
   ]
  },
  {
   "cell_type": "code",
   "execution_count": null,
   "metadata": {
    "_uuid": "2d8f9ea3cede1b9c19f6232ae741f97daab0d782"
   },
   "outputs": [],
   "source": [
    "time_features = ['pickup_frac_day', 'pickup_frac_week', 'pickup_frac_year', 'pickup_Elapsed']\n",
    "\n",
    "features = ['abs_lat_diff', 'abs_lon_diff', 'haversine', 'passenger_count',\n",
    "            'pickup_latitude', 'pickup_longitude', \n",
    "            'dropoff_latitude', 'dropoff_longitude'] + time_features"
   ]
  },
  {
   "cell_type": "code",
   "execution_count": null,
   "metadata": {
    "_uuid": "188f80b4911c11d38262424a4f92a2d8b78b9c12"
   },
   "outputs": [],
   "source": [
    "# Test using the features\n",
    "sub, fi = model_rf(X_train, X_valid, y_train, y_valid, test, \n",
    "                   features = features)"
   ]
  },
  {
   "cell_type": "markdown",
   "metadata": {
    "_uuid": "3dfd3b7e464453a1920b4dc352d0dfbaea1bec8d"
   },
   "source": [
    "The random forest does considerably better once we use the time features! As with the distance features, this should give us confidence that the new predictor variables we built are useful.\n",
    "\n",
    "Just for comparison, we can go back to the linear regression and look at the performance."
   ]
  },
  {
   "cell_type": "code",
   "execution_count": null,
   "metadata": {
    "_uuid": "8078e7ec220ae827a106ec1387cbdc670a469e07"
   },
   "outputs": [],
   "source": [
    "lr = LinearRegression()\n",
    "\n",
    "# Fit and evaluate\n",
    "lr.fit(X_train[features], y_train)\n",
    "evaluate(lr, features, X_train, X_valid, y_train, y_valid)"
   ]
  },
  {
   "cell_type": "markdown",
   "metadata": {
    "_uuid": "a0da9ce401bbf7015ec65c5789f68cdae8a0c5b6"
   },
   "source": [
    "It seems that the new features helped both the random forest and the linear regression. Let's take a look at the random forest feature importances."
   ]
  },
  {
   "cell_type": "code",
   "execution_count": null,
   "metadata": {
    "_uuid": "91832073bf6e0ee43bb829e79aeea324bd2fe531"
   },
   "outputs": [],
   "source": [
    "plt.figure(figsize = (10, 8))\n",
    "fi['importance'].plot.bar(color = 'g', edgecolor = 'k');\n",
    "plt.ylabel('Importance'); plt.title('Feature Importances');"
   ]
  },
  {
   "cell_type": "markdown",
   "metadata": {
    "_uuid": "2eec84a8b0605664adab1e2778c5d9c0d90b255d"
   },
   "source": [
    "Once again, the `haversine` distance dominates the importance. The time elapsed since the first record seems to be relatively important although the other time features do not seem to be of much use. "
   ]
  },
  {
   "cell_type": "code",
   "execution_count": null,
   "metadata": {
    "_uuid": "2d8f50075430d29186bf21f9c67c30e854dcd933"
   },
   "outputs": [],
   "source": [
    "# Save submission\n",
    "sub.to_csv('sub_rf_frac_time.csv', index = False)"
   ]
  },
  {
   "cell_type": "markdown",
   "metadata": {
    "_uuid": "46937461373b3345c978f3c6c9eae347b8004874"
   },
   "source": [
    "## Try with All Time Variables\n",
    "\n",
    "For a final submission with the random forest, we'll use every single one of the features. This probably will lead to overfitting, but let's test it out."
   ]
  },
  {
   "cell_type": "code",
   "execution_count": null,
   "metadata": {
    "_uuid": "79cb4bfe0132a10a6259c90a8e5ecea902a2a5c3"
   },
   "outputs": [],
   "source": [
    "features = list(data.columns)\n",
    "\n",
    "for f in ['pickup_datetime', 'fare_amount', 'fare-bin', 'color']:\n",
    "    features.remove(f)\n",
    "    \n",
    "len(features)"
   ]
  },
  {
   "cell_type": "code",
   "execution_count": null,
   "metadata": {
    "_uuid": "c20167b9d39220421efa20cc2cd7941adc0c6e3b"
   },
   "outputs": [],
   "source": [
    "# Test using all the features\n",
    "sub, fi, random_forest = model_rf(X_train, X_valid, y_train, y_valid, test, \n",
    "                                  features = features, return_model = True)"
   ]
  },
  {
   "cell_type": "code",
   "execution_count": null,
   "metadata": {
    "_uuid": "6a11dd21a44e7c8f8e5cb237c5ad3c5debbd28a9"
   },
   "outputs": [],
   "source": [
    "plt.figure(figsize = (12, 7))\n",
    "fi['importance'].plot.bar(color = 'g', edgecolor = 'k');\n",
    "plt.ylabel('Importance'); plt.title('Feature Importances');"
   ]
  },
  {
   "cell_type": "code",
   "execution_count": null,
   "metadata": {
    "_uuid": "f1a7ca26f43ffa6e53df21b0b91a84984f26cfb8"
   },
   "outputs": [],
   "source": [
    "sub.to_csv('sub_rf_all_features.csv', index = False)"
   ]
  },
  {
   "cell_type": "code",
   "execution_count": null,
   "metadata": {
    "_uuid": "a92cf6db788f8499bc8aea3ad31cb2f30428ef14"
   },
   "outputs": [],
   "source": []
  },
  {
   "cell_type": "markdown",
   "metadata": {
    "_uuid": "f057782896ec14e84dd5fafe818858cafec9ff9e"
   },
   "source": [
    "#### Visualize Validation Predicted Target\n",
    "\n",
    "Using the trained random forest, we can make predictions on the validation set and plot the predictions versus the actual. This can allow us to potentially diagnose the model."
   ]
  },
  {
   "cell_type": "code",
   "execution_count": null,
   "metadata": {
    "_uuid": "ba216b391fcaed82b5bdbf163cf957752c15516e"
   },
   "outputs": [],
   "source": [
    "valid_preds = random_forest.predict(X_valid[features])\n",
    "\n",
    "plt.figure(figsize = (10, 6))\n",
    "sns.kdeplot(y_valid, label = 'Actual')\n",
    "sns.kdeplot(valid_preds, label = 'Predicted')\n",
    "plt.legend(prop = {'size': 30})\n",
    "plt.title(\"Distribution of Validation Fares\");"
   ]
  },
  {
   "cell_type": "code",
   "execution_count": null,
   "metadata": {
    "_uuid": "47089ea78fc8c089b35cad6afb26a42f8b24a76f"
   },
   "outputs": [],
   "source": [
    "# Generate ecdf data\n",
    "xv, yv = ecdf(valid_preds)\n",
    "xtrue, ytrue = ecdf(y_valid)\n",
    "\n",
    "# Plot the ecdfs on same plot\n",
    "plt.scatter(xv, yv, s = 0.02,  c = 'r', marker = '.', label = 'Predicted')\n",
    "plt.scatter(xtrue, ytrue, s = 0.02, c = 'b', marker = '.', label = 'True')\n",
    "plt.title('ECDF of Predicted and Actual Validation')\n",
    "\n",
    "plt.legend(markerscale = 100, prop = {'size': 20});"
   ]
  },
  {
   "cell_type": "code",
   "execution_count": null,
   "metadata": {
    "_uuid": "be8be38b007c864d84fbe498fd0e123f918c97a4"
   },
   "outputs": [],
   "source": [
    "analyze = pd.DataFrame({'predicted': valid_preds, 'actual': y_valid})\n",
    "analyze.describe()"
   ]
  },
  {
   "cell_type": "markdown",
   "metadata": {
    "_uuid": "935ba2f1527f97beffb344c2cd6132dd46c6eb1b"
   },
   "source": [
    "At this point, our model is probably overfitting because we are using all the features, some of which are highly correlated with one another. One option for feature selection is to use only the most important features from the model. "
   ]
  },
  {
   "cell_type": "markdown",
   "metadata": {
    "_uuid": "5cf7032cfb3e9f742f6e0a58c98db23a68ef4d2c"
   },
   "source": [
    "# Hyperparameter Tuning\n",
    "\n",
    "With the random forest, there are a ton of model hyperparamters to optimize. The process of hyperparameter optimization means finding the best hyperparameters for an algorithm on a specific dataset. The ideal values changes across data sets so we have to perform this step on every new dataset. I like to think of hyperparameter optimization as finding the best settings for a machine learning model.\n",
    "\n",
    "### Random Search\n",
    "\n",
    "We'll use a basic form of hyperparameter tuning, random search. This means constructing a parameter grid and then randomly selecting combinations of values, evaluating them in cross validation, and determining which combination performs the best. This is quickly done using the `RandomizedSearchCV` in Scikit-Learn.\n",
    "\n",
    "The following code sets up the search. Feel free to play around with the `param_grid`."
   ]
  },
  {
   "cell_type": "code",
   "execution_count": null,
   "metadata": {
    "_uuid": "aa7afd0d28fac4d3700077de2d44977ff9cb3137"
   },
   "outputs": [],
   "source": [
    "from sklearn.model_selection import RandomizedSearchCV\n",
    "\n",
    "# Hyperparameter grid\n",
    "param_grid = {\n",
    "    'n_estimators': np.linspace(10, 100).astype(int),\n",
    "    'max_depth': [None] + list(np.linspace(5, 30).astype(int)),\n",
    "    'max_features': ['auto', 'sqrt', None] + list(np.arange(0.5, 1, 0.1)),\n",
    "    'max_leaf_nodes': [None] + list(np.linspace(10, 50, 500).astype(int)),\n",
    "    'min_samples_split': [2, 5, 10],\n",
    "    'bootstrap': [True, False]\n",
    "}\n",
    "\n",
    "# Estimator for use in random search\n",
    "estimator = RandomForestRegressor(random_state = RSEED)\n",
    "\n",
    "# Create the random search model\n",
    "rs = RandomizedSearchCV(estimator, param_grid, n_jobs = -1, \n",
    "                        scoring = 'neg_mean_absolute_error', cv = 3, \n",
    "                        n_iter = 100, verbose = 1, random_state=RSEED)"
   ]
  },
  {
   "cell_type": "markdown",
   "metadata": {
    "_uuid": "b5dd1945bb19e2c9c5fa3a0b74c75c8ccc078c17"
   },
   "source": [
    "We'll use a very limited sample of the data since random search is computationally expensive. Random search uses K Fold cross validation to assess the model which means that for each combination of hyperparameters, we are training and testing the model K times, in this example 3. This is another option that can be adjusted to determine if performance is affected."
   ]
  },
  {
   "cell_type": "code",
   "execution_count": null,
   "metadata": {
    "_uuid": "eb5eca174067a6561e98919a39dfa45e5c108da2"
   },
   "outputs": [],
   "source": [
    "tune_data = data.sample(100_000, random_state = RSEED)\n",
    "\n",
    "# Select features\n",
    "time_features = ['pickup_frac_day', 'pickup_frac_week', 'pickup_frac_year', 'pickup_Elapsed']\n",
    "\n",
    "features = ['abs_lat_diff', 'abs_lon_diff', 'haversine', 'passenger_count',\n",
    "            'pickup_latitude', 'pickup_longitude', \n",
    "            'dropoff_latitude', 'dropoff_longitude'] + time_features\n",
    "\n",
    "rs.fit(tune_data[features], np.array(tune_data['fare_amount']))"
   ]
  },
  {
   "cell_type": "code",
   "execution_count": null,
   "metadata": {
    "_uuid": "112367988776481459b1c8814db2d7ec24b52a47"
   },
   "outputs": [],
   "source": [
    "model = rs.best_estimator_\n",
    "print(f'The best parameters were {rs.best_params_} with a negative mae of {rs.best_score_}')"
   ]
  },
  {
   "cell_type": "markdown",
   "metadata": {
    "_uuid": "e13a22d3d3427013b32c293e23edd84b7a52804b"
   },
   "source": [
    "#### Evaluate Best Model from Random Search\n",
    "\n",
    "The best model from random search is available through the `best_estimator_` attribute of the fitted random search object. Random search refits the best estimator on all the data we give it, but since this was only a sample of the full data, we have to use the entire dataset for retraining."
   ]
  },
  {
   "cell_type": "code",
   "execution_count": null,
   "metadata": {
    "_uuid": "259d386250a325ced5286e98b6791beaf9a979fe"
   },
   "outputs": [],
   "source": [
    "model.n_jobs = -1\n",
    "model.fit(X_train[features], y_train)\n",
    "\n",
    "evaluate(model, features, X_train, X_valid, y_train, y_valid)"
   ]
  },
  {
   "cell_type": "markdown",
   "metadata": {
    "_uuid": "2fad01ab85ececa3b40b65c93b346a460e2db310"
   },
   "source": [
    "The best model from random search exhibits less overfitting, but also does not do as well on the validation data. There are probably further benefits from more hyperparameter tuning using additional data. "
   ]
  },
  {
   "cell_type": "code",
   "execution_count": null,
   "metadata": {
    "_uuid": "7c5deb2f7c8cab84d7a67482ca367b98ee1391e2"
   },
   "outputs": [],
   "source": [
    "pred = np.array(model.predict(test[features])).reshape((-1))\n",
    "sub = pd.DataFrame({'key': test_id, 'fare_amount': pred})\n",
    "sub.to_csv('sub_rf_tuned.csv', index = False)\n",
    "sub['fare_amount'].plot.hist();\n",
    "plt.title('Predicted Test Fare Distribution');"
   ]
  },
  {
   "cell_type": "markdown",
   "metadata": {
    "_uuid": "08dad1a3273d897d24284d9b46bfe0fd9d01adc6"
   },
   "source": [
    "## Better Model\n",
    "\n",
    "Although the random forest has high performance, it does not always work the best for every problem. There are still more [models to try](http://scikit-learn.org/stable/supervised_learning.html):\n",
    "\n",
    "* __Potential improvement 5: try more models.__ You might find the Gradient Boosting Machine or Deep Neural Networks to be capable learners.\n",
    "\n",
    "# Your Challenge\n",
    "\n",
    "From here, we can still engineer more features, perform feature selection, or we can try upgrading the model. At this point, I'm going to leave it up to you! I've given you a decent start and some recommendations for improvement so I'll hand things over to you. __Try to build a model that outperforms those in this notebook on the validation data.__\n",
    "\n",
    "The best performance of the models is as follows:\n",
    "\n",
    "| Model         | Train RMSE | Validation RMSE |\n",
    "|---------------|------------|-----------------|\n",
    "| Linear        | 4.87       | 4.86            |\n",
    "| Random Forest | 2.62       | 3.38            |\n",
    "\n",
    "It's important to try and beat the __validation score__ as opposed to the training score because you can always get a better training score by training a model with greater capacity (more flexibility to fit the data). However, this won't improve the generalization performance, which is the goal of machine learning: build a model that generalizes to new data! You can also submit the predictions from this notebook and try to better the testing predictions. I look forward to seeing what you can come up with.\n",
    "\n",
    "I'm working on some more notebooks with additional performance gains, but see if you can take these methods and improve! To wrap up, here are my recommendations:\n",
    "\n",
    "1. Train with more data\n",
    "2. Experiment with different methods for filtering outliers\n",
    "3. Find an optimal set of features or build more features\n",
    "4. Hyperparameter tuning of the random forest\n",
    "5. Try more complex models such as the gradient boosting machine\n",
    "\n",
    "I have to add that these are all __potential__ improvements because of course we don't know if they will work until we try! I wish you the best of luck, and I'll be back in another kernel trying some improvements of my own. \n",
    "\n",
    "Best,\n",
    "\n",
    "Will"
   ]
  },
  {
   "cell_type": "code",
   "execution_count": null,
   "metadata": {
    "_uuid": "485197f6b91e2a6e20e4c5ea9a6b3704f53ca1c1"
   },
   "outputs": [],
   "source": []
  }
 ],
 "metadata": {
  "kernelspec": {
   "display_name": "Python 3 (ipykernel)",
   "language": "python",
   "name": "python3"
  },
  "language_info": {
   "codemirror_mode": {
    "name": "ipython",
    "version": 3
   },
   "file_extension": ".py",
   "mimetype": "text/x-python",
   "name": "python",
   "nbconvert_exporter": "python",
   "pygments_lexer": "ipython3",
   "version": "3.9.1"
  }
 },
 "nbformat": 4,
 "nbformat_minor": 4
}
