{
 "cells": [
  {
   "cell_type": "markdown",
   "metadata": {
    "_uuid": "0479e25c001874fda15f875d76f8663885caa138"
   },
   "source": [
    "# LGMB with random split for early stopping\n",
    "\n",
    "**Edits by Eric Antoine Scuccimarra** - This is a fork of  https://www.kaggle.com/mlisovyi/feature-engineering-lighgbm-with-f1-macro, by Misha Losvyi, with a few changes:\n",
    " - The LightGBM models have been replaced with XGBoost and the code has been updated accordingly.\n",
    " - I am also fitting VotingClassifiers of RandomForests and ensembling the results of the XGBs with the RFs.\n",
    " - Some additional features have been added.\n",
    " - Some features which were previously dropped have been retained.\n",
    " - Some of the code has been reorganized.\n",
    " - Rather than splitting the data once and using the validation data for the LGBM early stopping, I split the data during the training so the entire training set can be trained on. I found that this works better than a k-fold split in this case.\n",
    "\n",
    "Some additional features were taken from: https://www.kaggle.com/kuriyaman1002/reduce-features-140-84-keeping-f1-score, by Kuriyaman.\n",
    " \n",
    "**Notes from Original Kernel (edited by EAS):**\n",
    "\n",
    "This kernel closely follows https://www.kaggle.com/mlisovyi/lighgbm-hyperoptimisation-with-f1-macro, but instead of running hyperparameter optimisation it uses optimal values from that kernel and thus runs faster. \n",
    "\n",
    "Several key points:\n",
    "- **This kernel runs training on the heads of housholds only** (after extracting aggregates over households). This follows the announced scoring startegy: *Note that ONLY the heads of household are used in scoring. All household members are included in test + the sample submission, but only heads of households are scored.* (from the data description). However, at the moment it seems that evaluation depends also on non-head household members, see https://www.kaggle.com/c/costa-rican-household-poverty-prediction/discussion/61403#360115. In practise, ful prediction gives ~0.4 PLB score, while replacing all non-head entries with class 1 leads to a drop down to ~0.2 PLB score\n",
    "- **It seems to be very important to balance class frequencies.** Without balancing a trained model gives ~0.39 PLB / ~0.43 local test, while adding balancing leads to ~0.42 PLB / 0.47 local test. One can do it by hand, one can achieve it by undersampling. But the simplest (and more powerful compared to undersampling) is to set `class_weight='balanced'` in the LightGBM model constructor in sklearn API.\n",
    "- **This kernel uses macro F1 score to early stopping in training**. This is done to align with the scoring strategy.\n",
    "- Categoricals are turned into numbers with proper mapping instead of blind label encoding. \n",
    "- **OHE if reversed into label encoding, as it is easier to digest for a tree model.** This trick would be harmful for non-tree models, so be careful.\n",
    "- **idhogar is NOT used in training**. The only way it could have any info would be if there is a data leak. We are fighting with poverty here- exploiting leaks will not reduce poverty in any way :)\n",
    "- **There are aggregations done within households and new features are hand-crafted**. Note, that there are not so many features that can be aggregated, as most are already quoted on household level.\n",
    "- **A voting classifier is used to average over several LightGBM models**"
   ]
  },
  {
   "cell_type": "code",
   "execution_count": 1,
   "metadata": {
    "_cell_guid": "b1076dfc-b9ad-4769-8c92-a6c4dae69d19",
    "_kg_hide-input": true,
    "_uuid": "8f2839f25d086af736a60e9eeb907d3b93b6e0e5",
    "collapsed": true
   },
   "outputs": [],
   "source": [
    "import numpy as np # linear algebra\n",
    "import pandas as pd \n",
    "\n",
    "import matplotlib\n",
    "import matplotlib.pyplot as plt\n",
    "import seaborn as sns\n",
    "%matplotlib inline \n",
    "\n",
    "import lightgbm as lgb\n",
    "import xgboost as xgb\n",
    "from sklearn.metrics import f1_score\n",
    "from sklearn.externals.joblib import Parallel, delayed\n",
    "from sklearn.base import clone\n",
    "from sklearn.ensemble import VotingClassifier, ExtraTreesClassifier, RandomForestClassifier\n",
    "from sklearn.utils import class_weight\n",
    "\n",
    "import warnings\n",
    "warnings.filterwarnings(\"ignore\")"
   ]
  },
  {
   "cell_type": "markdown",
   "metadata": {
    "_uuid": "8e4e08a17549fd247619178c96c3ade2519e9773"
   },
   "source": [
    "The following categorical mapping originates from [this kernel](https://www.kaggle.com/mlisovyi/categorical-variables-encoding-function)."
   ]
  },
  {
   "cell_type": "code",
   "execution_count": 2,
   "metadata": {
    "_cell_guid": "79c7e3d0-c299-4dcb-8224-4455121ee9b0",
    "_kg_hide-input": true,
    "_uuid": "d629ff2d2480ee46fbb7e2d37f6b5fab8052498a",
    "collapsed": true
   },
   "outputs": [],
   "source": [
    "from sklearn.preprocessing import LabelEncoder\n",
    "\n",
    "# this only transforms the idhogar field, the other things this function used to do are done elsewhere\n",
    "def encode_data(df):\n",
    "    df['idhogar'] = LabelEncoder().fit_transform(df['idhogar'])\n",
    "\n",
    "# plot feature importance for sklearn decision trees    \n",
    "def feature_importance(forest, X_train, display_results=True):\n",
    "    ranked_list = []\n",
    "    zero_features = []\n",
    "    \n",
    "    importances = forest.feature_importances_\n",
    "\n",
    "    indices = np.argsort(importances)[::-1]\n",
    "    \n",
    "    if display_results:\n",
    "        # Print the feature ranking\n",
    "        print(\"Feature ranking:\")\n",
    "\n",
    "    for f in range(X_train.shape[1]):\n",
    "        if display_results:\n",
    "            print(\"%d. feature %d (%f)\" % (f + 1, indices[f], importances[indices[f]]) + \" - \" + X_train.columns[indices[f]])\n",
    "        \n",
    "        ranked_list.append(X_train.columns[indices[f]])\n",
    "        \n",
    "        if importances[indices[f]] == 0.0:\n",
    "            zero_features.append(X_train.columns[indices[f]])\n",
    "            \n",
    "    return ranked_list, zero_features"
   ]
  },
  {
   "cell_type": "markdown",
   "metadata": {
    "_uuid": "1785c8ca3467a7e95d007a2c5f36e39919fc0910"
   },
   "source": [
    "**There is also feature engineering magic happening here:**"
   ]
  },
  {
   "cell_type": "code",
   "execution_count": 3,
   "metadata": {
    "_kg_hide-input": true,
    "_uuid": "9c9f13e54fc2af9f938b895959631e1aeb3b08a2",
    "collapsed": true
   },
   "outputs": [],
   "source": [
    "def do_features(df):\n",
    "    feats_div = [('children_fraction', 'r4t1', 'r4t3'), \n",
    "                 ('working_man_fraction', 'r4h2', 'r4t3'),\n",
    "                 ('all_man_fraction', 'r4h3', 'r4t3'),\n",
    "                 ('human_density', 'tamviv', 'rooms'),\n",
    "                 ('human_bed_density', 'tamviv', 'bedrooms'),\n",
    "                 ('rent_per_person', 'v2a1', 'r4t3'),\n",
    "                 ('rent_per_room', 'v2a1', 'rooms'),\n",
    "                 ('mobile_density', 'qmobilephone', 'r4t3'),\n",
    "                 ('tablet_density', 'v18q1', 'r4t3'),\n",
    "                 ('mobile_adult_density', 'qmobilephone', 'r4t2'),\n",
    "                 ('tablet_adult_density', 'v18q1', 'r4t2'),\n",
    "                ]\n",
    "    \n",
    "    feats_sub = [('people_not_living', 'tamhog', 'tamviv'),\n",
    "                 ('people_weird_stat', 'tamhog', 'r4t3')]\n",
    "\n",
    "    for f_new, f1, f2 in feats_div:\n",
    "        df['fe_' + f_new] = (df[f1] / df[f2]).astype(np.float32)       \n",
    "    for f_new, f1, f2 in feats_sub:\n",
    "        df['fe_' + f_new] = (df[f1] - df[f2]).astype(np.float32)\n",
    "    \n",
    "    # aggregation rules over household\n",
    "    aggs_num = {'age': ['min', 'max', 'mean'],\n",
    "                'escolari': ['min', 'max', 'mean']\n",
    "               }\n",
    "    \n",
    "    aggs_cat = {'dis': ['mean']}\n",
    "    for s_ in ['estadocivil', 'parentesco', 'instlevel']:\n",
    "        for f_ in [f_ for f_ in df.columns if f_.startswith(s_)]:\n",
    "            aggs_cat[f_] = ['mean', 'count']\n",
    "\n",
    "    # aggregation over household\n",
    "    for name_, df_ in [('18', df.query('age >= 18'))]:\n",
    "        df_agg = df_.groupby('idhogar').agg({**aggs_num, **aggs_cat}).astype(np.float32)\n",
    "        df_agg.columns = pd.Index(['agg' + name_ + '_' + e[0] + \"_\" + e[1].upper() for e in df_agg.columns.tolist()])\n",
    "        df = df.join(df_agg, how='left', on='idhogar')\n",
    "        del df_agg\n",
    "\n",
    "    # Drop id's\n",
    "    df.drop(['Id'], axis=1, inplace=True)\n",
    "    \n",
    "    return df"
   ]
  },
  {
   "cell_type": "code",
   "execution_count": 4,
   "metadata": {
    "_kg_hide-input": true,
    "_uuid": "a7df32a07c9157ee02ff9688cdc70c69e7571aae",
    "collapsed": true
   },
   "outputs": [],
   "source": [
    "# convert one hot encoded fields to label encoding\n",
    "def convert_OHE2LE(df):\n",
    "    tmp_df = df.copy(deep=True)\n",
    "    for s_ in ['pared', 'piso', 'techo', 'abastagua', 'sanitario', 'energcocinar', 'elimbasu', \n",
    "               'epared', 'etecho', 'eviv', 'estadocivil', 'parentesco', \n",
    "               'instlevel', 'lugar', 'tipovivi',\n",
    "               'manual_elec']:\n",
    "        if 'manual_' not in s_:\n",
    "            cols_s_ = [f_ for f_ in df.columns if f_.startswith(s_)]\n",
    "        elif 'elec' in s_:\n",
    "            cols_s_ = ['public', 'planpri', 'noelec', 'coopele']\n",
    "        sum_ohe = tmp_df[cols_s_].sum(axis=1).unique()\n",
    "        #deal with those OHE, where there is a sum over columns == 0\n",
    "        if 0 in sum_ohe:\n",
    "            print('The OHE in {} is incomplete. A new column will be added before label encoding'\n",
    "                  .format(s_))\n",
    "            # dummy colmn name to be added\n",
    "            col_dummy = s_+'_dummy'\n",
    "            # add the column to the dataframe\n",
    "            tmp_df[col_dummy] = (tmp_df[cols_s_].sum(axis=1) == 0).astype(np.int8)\n",
    "            # add the name to the list of columns to be label-encoded\n",
    "            cols_s_.append(col_dummy)\n",
    "            # proof-check, that now the category is complete\n",
    "            sum_ohe = tmp_df[cols_s_].sum(axis=1).unique()\n",
    "            if 0 in sum_ohe:\n",
    "                 print(\"The category completion did not work\")\n",
    "        tmp_cat = tmp_df[cols_s_].idxmax(axis=1)\n",
    "        tmp_df[s_ + '_LE'] = LabelEncoder().fit_transform(tmp_cat).astype(np.int16)\n",
    "        if 'parentesco1' in cols_s_:\n",
    "            cols_s_.remove('parentesco1')\n",
    "        tmp_df.drop(cols_s_, axis=1, inplace=True)\n",
    "    return tmp_df"
   ]
  },
  {
   "cell_type": "markdown",
   "metadata": {
    "_uuid": "eab84429fc9893c82e33b8319161c190b4104e9f"
   },
   "source": [
    "# Read in the data and clean it up"
   ]
  },
  {
   "cell_type": "code",
   "execution_count": 5,
   "metadata": {
    "_uuid": "e6f696a1677230c565532f141a02852e7c69b2e1",
    "collapsed": true
   },
   "outputs": [],
   "source": [
    "train = pd.read_csv('../input/train.csv')\n",
    "test = pd.read_csv('../input/test.csv')\n",
    "\n",
    "test_ids = test.Id"
   ]
  },
  {
   "cell_type": "code",
   "execution_count": 6,
   "metadata": {
    "_uuid": "bd1f66cbdbfa4741d19a8b1f53793b967d62d281",
    "collapsed": true
   },
   "outputs": [],
   "source": [
    "def process_df(df_):\n",
    "    # encode the idhogar\n",
    "    encode_data(df_)\n",
    "    \n",
    "    # create aggregate features\n",
    "    return do_features(df_)\n",
    "\n",
    "train = process_df(train)\n",
    "test = process_df(test)"
   ]
  },
  {
   "cell_type": "markdown",
   "metadata": {
    "_uuid": "aaf8a52a939c7d5bc548cbe4ecc1458caae60e7d"
   },
   "source": [
    "Clean up some missing data and convert objects to numeric."
   ]
  },
  {
   "cell_type": "code",
   "execution_count": 7,
   "metadata": {
    "_uuid": "65dab0e9a94e8f87a7b73e7ec2c6559e4ccef996",
    "collapsed": true,
    "scrolled": true
   },
   "outputs": [],
   "source": [
    "# some dependencies are Na, fill those with the square root of the square\n",
    "train['dependency'] = np.sqrt(train['SQBdependency'])\n",
    "test['dependency'] = np.sqrt(test['SQBdependency'])\n",
    "\n",
    "# fill \"no\"s for education with 0s\n",
    "train.loc[train['edjefa'] == \"no\", \"edjefa\"] = 0\n",
    "train.loc[train['edjefe'] == \"no\", \"edjefe\"] = 0\n",
    "test.loc[test['edjefa'] == \"no\", \"edjefa\"] = 0\n",
    "test.loc[test['edjefe'] == \"no\", \"edjefe\"] = 0\n",
    "\n",
    "# if education is \"yes\" and person is head of household, fill with escolari\n",
    "train.loc[(train['edjefa'] == \"yes\") & (train['parentesco1'] == 1), \"edjefa\"] = train.loc[(train['edjefa'] == \"yes\") & (train['parentesco1'] == 1), \"escolari\"]\n",
    "train.loc[(train['edjefe'] == \"yes\") & (train['parentesco1'] == 1), \"edjefe\"] = train.loc[(train['edjefe'] == \"yes\") & (train['parentesco1'] == 1), \"escolari\"]\n",
    "\n",
    "test.loc[(test['edjefa'] == \"yes\") & (test['parentesco1'] == 1), \"edjefa\"] = test.loc[(test['edjefa'] == \"yes\") & (test['parentesco1'] == 1), \"escolari\"]\n",
    "test.loc[(test['edjefe'] == \"yes\") & (test['parentesco1'] == 1), \"edjefe\"] = test.loc[(test['edjefe'] == \"yes\") & (test['parentesco1'] == 1), \"escolari\"]\n",
    "\n",
    "# this field is supposed to be interaction between gender and escolari, but it isn't clear what \"yes\" means, let's fill it with 4\n",
    "train.loc[train['edjefa'] == \"yes\", \"edjefa\"] = 4\n",
    "train.loc[train['edjefe'] == \"yes\", \"edjefe\"] = 4\n",
    "\n",
    "test.loc[test['edjefa'] == \"yes\", \"edjefa\"] = 4\n",
    "test.loc[test['edjefe'] == \"yes\", \"edjefe\"] = 4\n",
    "\n",
    "# convert to int for our models\n",
    "train['edjefe'] = train['edjefe'].astype(\"int\")\n",
    "train['edjefa'] = train['edjefa'].astype(\"int\")\n",
    "test['edjefe'] = test['edjefe'].astype(\"int\")\n",
    "test['edjefa'] = test['edjefa'].astype(\"int\")\n",
    "\n",
    "# create feature with max education of either head of household\n",
    "train['edjef'] = np.max(train[['edjefa','edjefe']], axis=1)\n",
    "test['edjef'] = np.max(test[['edjefa','edjefe']], axis=1)\n",
    "\n",
    "# fill some nas\n",
    "train['v2a1']=train['v2a1'].fillna(0)\n",
    "test['v2a1']=test['v2a1'].fillna(0)\n",
    "\n",
    "test['v18q1']=test['v18q1'].fillna(0)\n",
    "train['v18q1']=train['v18q1'].fillna(0)\n",
    "\n",
    "train['rez_esc']=train['rez_esc'].fillna(0)\n",
    "test['rez_esc']=test['rez_esc'].fillna(0)\n",
    "\n",
    "train.loc[train.meaneduc.isnull(), \"meaneduc\"] = 0\n",
    "train.loc[train.SQBmeaned.isnull(), \"SQBmeaned\"] = 0\n",
    "\n",
    "test.loc[test.meaneduc.isnull(), \"meaneduc\"] = 0\n",
    "test.loc[test.SQBmeaned.isnull(), \"SQBmeaned\"] = 0\n",
    "\n",
    "# fix some inconsistencies in the data - some rows indicate both that the household does and does not have a toilet, \n",
    "# if there is no water we'll assume they do not\n",
    "train.loc[(train.v14a ==  1) & (train.sanitario1 ==  1) & (train.abastaguano == 0), \"v14a\"] = 0\n",
    "train.loc[(train.v14a ==  1) & (train.sanitario1 ==  1) & (train.abastaguano == 0), \"sanitario1\"] = 0\n",
    "\n",
    "test.loc[(test.v14a ==  1) & (test.sanitario1 ==  1) & (test.abastaguano == 0), \"v14a\"] = 0\n",
    "test.loc[(test.v14a ==  1) & (test.sanitario1 ==  1) & (test.abastaguano == 0), \"sanitario1\"] = 0"
   ]
  },
  {
   "cell_type": "code",
   "execution_count": 8,
   "metadata": {
    "_uuid": "b564a6552f0521581af1ee38d6040ef7ae5d2fb5",
    "collapsed": true
   },
   "outputs": [],
   "source": [
    "def train_test_apply_func(train_, test_, func_):\n",
    "    test_['Target'] = 0\n",
    "    xx = pd.concat([train_, test_])\n",
    "\n",
    "    xx_func = func_(xx)\n",
    "    train_ = xx_func.iloc[:train_.shape[0], :]\n",
    "    test_  = xx_func.iloc[train_.shape[0]:, :].drop('Target', axis=1)\n",
    "\n",
    "    del xx, xx_func\n",
    "    return train_, test_"
   ]
  },
  {
   "cell_type": "code",
   "execution_count": 9,
   "metadata": {
    "_uuid": "2695108e103c9c61088fc4c100d01bc8c0f4138c",
    "collapsed": true
   },
   "outputs": [
    {
     "name": "stdout",
     "output_type": "stream",
     "text": [
      "The OHE in techo is incomplete. A new column will be added before label encoding\n",
      "The OHE in instlevel is incomplete. A new column will be added before label encoding\n",
      "The OHE in manual_elec is incomplete. A new column will be added before label encoding\n"
     ]
    }
   ],
   "source": [
    "# convert the one hot fields into label encoded\n",
    "train, test = train_test_apply_func(train, test, convert_OHE2LE)"
   ]
  },
  {
   "cell_type": "markdown",
   "metadata": {
    "_uuid": "e90e68abd266c9db808dbf336308cef7175886bd"
   },
   "source": [
    "# Geo aggregates"
   ]
  },
  {
   "cell_type": "code",
   "execution_count": 10,
   "metadata": {
    "_uuid": "0ffc288b3829ffdb1dabf8f2e7fe518f2f520480",
    "collapsed": true
   },
   "outputs": [],
   "source": [
    "cols_2_ohe = ['eviv_LE', 'etecho_LE', 'epared_LE', 'elimbasu_LE', \n",
    "              'energcocinar_LE', 'sanitario_LE', 'manual_elec_LE',\n",
    "              'pared_LE']\n",
    "cols_nums = ['age', 'meaneduc', 'dependency', \n",
    "             'hogar_nin', 'hogar_adul', 'hogar_mayor', 'hogar_total',\n",
    "             'bedrooms', 'overcrowding']\n",
    "\n",
    "def convert_geo2aggs(df_):\n",
    "    tmp_df = pd.concat([df_[(['lugar_LE', 'idhogar']+cols_nums)],\n",
    "                        pd.get_dummies(df_[cols_2_ohe], \n",
    "                                       columns=cols_2_ohe)],axis=1)\n",
    "\n",
    "    geo_agg = tmp_df.groupby(['lugar_LE','idhogar']).mean().groupby('lugar_LE').mean().astype(np.float32)\n",
    "    geo_agg.columns = pd.Index(['geo_' + e for e in geo_agg.columns.tolist()])\n",
    "    \n",
    "    del tmp_df\n",
    "    return df_.join(geo_agg, how='left', on='lugar_LE')\n",
    "\n",
    "# add some aggregates by geography\n",
    "train, test = train_test_apply_func(train, test, convert_geo2aggs)"
   ]
  },
  {
   "cell_type": "code",
   "execution_count": 11,
   "metadata": {
    "_uuid": "bc96d527090d9b0723049c5d763c97be5145b8c7",
    "collapsed": true
   },
   "outputs": [],
   "source": [
    "# add the number of people over 18 in each household\n",
    "train['num_over_18'] = 0\n",
    "train['num_over_18'] = train[train.age >= 18].groupby('idhogar').transform(\"count\")\n",
    "train['num_over_18'] = train.groupby(\"idhogar\")[\"num_over_18\"].transform(\"max\")\n",
    "train['num_over_18'] = train['num_over_18'].fillna(0)\n",
    "\n",
    "test['num_over_18'] = 0\n",
    "test['num_over_18'] = test[test.age >= 18].groupby('idhogar').transform(\"count\")\n",
    "test['num_over_18'] = test.groupby(\"idhogar\")[\"num_over_18\"].transform(\"max\")\n",
    "test['num_over_18'] = test['num_over_18'].fillna(0)\n",
    "\n",
    "# add some extra features, these were taken from another kernel\n",
    "def extract_features(df):\n",
    "    df['bedrooms_to_rooms'] = df['bedrooms']/df['rooms']\n",
    "    df['rent_to_rooms'] = df['v2a1']/df['rooms']\n",
    "    df['tamhog_to_rooms'] = df['tamhog']/df['rooms'] # tamhog - size of the household\n",
    "    df['r4t3_to_tamhog'] = df['r4t3']/df['tamhog'] # r4t3 - Total persons in the household\n",
    "    df['r4t3_to_rooms'] = df['r4t3']/df['rooms'] # r4t3 - Total persons in the household\n",
    "    df['v2a1_to_r4t3'] = df['v2a1']/df['r4t3'] # rent to people in household\n",
    "    df['v2a1_to_r4t3'] = df['v2a1']/(df['r4t3'] - df['r4t1']) # rent to people under age 12\n",
    "    df['hhsize_to_rooms'] = df['hhsize']/df['rooms'] # rooms per person\n",
    "    df['rent_to_hhsize'] = df['v2a1']/df['hhsize'] # rent to household size\n",
    "    df['rent_to_over_18'] = df['v2a1']/df['num_over_18']\n",
    "    # some households have no one over 18, use the total rent for those\n",
    "    df.loc[df.num_over_18 == 0, \"rent_to_over_18\"] = df[df.num_over_18 == 0].v2a1\n",
    "    \n",
    "extract_features(train)    \n",
    "extract_features(test)   "
   ]
  },
  {
   "cell_type": "code",
   "execution_count": 12,
   "metadata": {
    "_uuid": "a6ed97e10f021b42a19c7228dfc1a52ce9de2c60",
    "collapsed": true
   },
   "outputs": [],
   "source": [
    "# drop duplicated columns\n",
    "needless_cols = ['r4t3', 'tamhog', 'tamviv', 'hhsize', 'v18q', 'v14a', 'agesq',\n",
    "                 'mobilephone', 'female', ]\n",
    "\n",
    "instlevel_cols = [s for s in train.columns.tolist() if 'instlevel' in s]\n",
    "\n",
    "needless_cols.extend(instlevel_cols)\n",
    "\n",
    "train = train.drop(needless_cols, axis=1)\n",
    "test = test.drop(needless_cols, axis=1)"
   ]
  },
  {
   "cell_type": "markdown",
   "metadata": {
    "_uuid": "c6e1ccce811e7a1d76282fcb8a13edf92672f834"
   },
   "source": [
    "## Split the data\n",
    "\n",
    "We split the data by household to avoid leakage, since rows belonging to the same household usually have the same target. Since we filter the data to only include heads of household this isn't technically necessary, but it provides an easy way to use the entire training data set if we want to do that.\n",
    "\n",
    "Note that after splitting the data we overwrite the train data with the entire data set so we can train on all of the data. The split_data function does the same thing without overwriting the data, and is used within the training loop to (hopefully) approximate a K-Fold split. "
   ]
  },
  {
   "cell_type": "code",
   "execution_count": 13,
   "metadata": {
    "_uuid": "da37e677a32477006e8468b954e23d595c82eced",
    "collapsed": true
   },
   "outputs": [],
   "source": [
    "def split_data(train, y, sample_weight=None, households=None, test_percentage=0.20, seed=None):\n",
    "    # uncomment for extra randomness\n",
    "#     np.random.seed(seed=seed)\n",
    "    \n",
    "    train2 = train.copy()\n",
    "    \n",
    "    # pick some random households to use for the test data\n",
    "    cv_hhs = np.random.choice(households, size=int(len(households) * test_percentage), replace=False)\n",
    "    \n",
    "    # select households which are in the random selection\n",
    "    cv_idx = np.isin(households, cv_hhs)\n",
    "    X_test = train2[cv_idx]\n",
    "    y_test = y[cv_idx]\n",
    "\n",
    "    X_train = train2[~cv_idx]\n",
    "    y_train = y[~cv_idx]\n",
    "    \n",
    "    if sample_weight is not None:\n",
    "        y_train_weights = sample_weight[~cv_idx]\n",
    "        return X_train, y_train, X_test, y_test, y_train_weights\n",
    "    \n",
    "    return X_train, y_train, X_test, y_test"
   ]
  },
  {
   "cell_type": "code",
   "execution_count": 14,
   "metadata": {
    "_uuid": "e14a9619ca6516b225b55bf65d6a9e423d6b5fc7",
    "collapsed": true
   },
   "outputs": [],
   "source": [
    "X = train.query('parentesco1==1')\n",
    "# X = train.copy()\n",
    "\n",
    "# pull out and drop the target variable\n",
    "y = X['Target'] - 1\n",
    "X = X.drop(['Target'], axis=1)\n",
    "\n",
    "np.random.seed(seed=None)\n",
    "\n",
    "train2 = X.copy()\n",
    "\n",
    "train_hhs = train2.idhogar\n",
    "\n",
    "households = train2.idhogar.unique()\n",
    "cv_hhs = np.random.choice(households, size=int(len(households) * 0.15), replace=False)\n",
    "\n",
    "cv_idx = np.isin(train2.idhogar, cv_hhs)\n",
    "\n",
    "X_test = train2[cv_idx]\n",
    "y_test = y[cv_idx]\n",
    "\n",
    "X_train = train2[~cv_idx]\n",
    "y_train = y[~cv_idx]\n",
    "\n",
    "# train on entire dataset\n",
    "X_train = train2\n",
    "y_train = y\n",
    "\n",
    "train_households = X_train.idhogar"
   ]
  },
  {
   "cell_type": "code",
   "execution_count": 15,
   "metadata": {
    "_uuid": "871cd5b46da553f6062cef605acc761cddc2a8c0",
    "collapsed": true
   },
   "outputs": [],
   "source": [
    "# figure out the class weights for training with unbalanced classes\n",
    "y_train_weights = class_weight.compute_sample_weight('balanced', y_train, indices=None)"
   ]
  },
  {
   "cell_type": "code",
   "execution_count": 16,
   "metadata": {
    "_uuid": "d9bcfbfcfc0b5b7e3aaeb2b0c8495bd92fdf51a3",
    "collapsed": true
   },
   "outputs": [],
   "source": [
    "# drop some features which aren't used by the LGBM or have very low importance\n",
    "extra_drop_features = [\n",
    " 'agg18_estadocivil1_MEAN',\n",
    " 'agg18_estadocivil6_COUNT',\n",
    " 'agg18_estadocivil7_COUNT',\n",
    " 'agg18_parentesco10_COUNT',\n",
    " 'agg18_parentesco11_COUNT',\n",
    " 'agg18_parentesco12_COUNT',\n",
    " 'agg18_parentesco1_COUNT',\n",
    " 'agg18_parentesco2_COUNT',\n",
    " 'agg18_parentesco3_COUNT',\n",
    " 'agg18_parentesco4_COUNT',\n",
    " 'agg18_parentesco5_COUNT',\n",
    " 'agg18_parentesco6_COUNT',\n",
    " 'agg18_parentesco7_COUNT',\n",
    " 'agg18_parentesco8_COUNT',\n",
    " 'agg18_parentesco9_COUNT',\n",
    " 'geo_elimbasu_LE_4',\n",
    " 'geo_energcocinar_LE_1',\n",
    " 'geo_energcocinar_LE_2',\n",
    " 'geo_epared_LE_0',\n",
    " 'geo_hogar_mayor',\n",
    " 'geo_manual_elec_LE_2',\n",
    " 'geo_pared_LE_3',\n",
    " 'geo_pared_LE_4',\n",
    " 'geo_pared_LE_5',\n",
    " 'geo_pared_LE_6',\n",
    " 'num_over_18',\n",
    " 'parentesco_LE',\n",
    " 'rez_esc']"
   ]
  },
  {
   "cell_type": "code",
   "execution_count": 17,
   "metadata": {
    "_uuid": "67a0f3b7d019517ed9a40b41df318284a33a5ce1",
    "collapsed": true
   },
   "outputs": [],
   "source": [
    "xgb_drop_cols = extra_drop_features + [\"idhogar\",  'parentesco1']"
   ]
  },
  {
   "cell_type": "markdown",
   "metadata": {
    "_uuid": "2dc384aeb44db2454978df78fdbb84b2b1ff3ced"
   },
   "source": [
    "# Fit a voting classifier\n",
    "Define a derived VotingClassifier class to be able to pass `fit_params` for early stopping. Vote based on LGBM models with early stopping based on macro F1 and decaying learning rate.\n",
    "\n",
    "The parameters are optimised with a random search in this kernel: https://www.kaggle.com/mlisovyi/lighgbm-hyperoptimisation-with-f1-macro"
   ]
  },
  {
   "cell_type": "code",
   "execution_count": 18,
   "metadata": {
    "_uuid": "629cf88dd0596a98d58487495e5b096636e2586a",
    "collapsed": true
   },
   "outputs": [],
   "source": [
    "# 4\n",
    "opt_parameters = {'max_depth':35, 'eta':0.1, 'silent':0, 'objective':'multi:softmax', 'min_child_weight': 1, 'num_class': 4, 'gamma': 2.0, 'colsample_bylevel': 0.9, 'subsample': 0.84, 'colsample_bytree': 0.88, 'reg_lambda': 0.40 }\n",
    "# 5\n",
    "opt_parameters = {'max_depth':35, 'eta':0.15, 'silent':1, 'objective':'multi:softmax', 'min_child_weight': 2, 'num_class': 4, 'gamma': 2.5, 'colsample_bylevel': 1, 'subsample': 0.95, 'colsample_bytree': 0.85, 'reg_lambda': 0.35 }\n",
    "# 6\n",
    "# opt_parameters = {'max_depth':35, 'eta':0.15, 'silent':0, 'objective':'multi:softmax', 'min_child_weight': 2, 'num_class': 4, 'gamma': 2.75, 'colsample_bylevel': 0.95, 'subsample': 0.95, 'colsample_bytree': 0.85, 'reg_lambda': 0.35 }\n",
    "# # 7\n",
    "# opt_parameters = {'max_depth':35, 'eta':0.12, 'silent':0, 'objective':'multi:softmax', 'min_child_weight': 2, 'num_class': 4, 'gamma': 3.25, 'colsample_bylevel': 0.95, 'subsample': 0.88, 'colsample_bytree': 0.88, 'reg_lambda': 0.35 }\n",
    "\n",
    "def evaluate_macroF1_lgb(predictions, truth):  \n",
    "    # this follows the discussion in https://github.com/Microsoft/LightGBM/issues/1483\n",
    "    pred_labels = predictions.argmax(axis=1)\n",
    "    truth = truth.get_label()\n",
    "    f1 = f1_score(truth, pred_labels, average='macro')\n",
    "    return ('macroF1', 1-f1) \n",
    "\n",
    "fit_params={\"early_stopping_rounds\":500,\n",
    "            \"eval_metric\" : evaluate_macroF1_lgb, \n",
    "            \"eval_set\" : [(X_train,y_train), (X_test,y_test)],\n",
    "            'verbose': False,\n",
    "           }\n",
    "\n",
    "def learning_rate_power_0997(current_iter):\n",
    "    base_learning_rate = 0.1\n",
    "    min_learning_rate = 0.02\n",
    "    lr = base_learning_rate  * np.power(.995, current_iter)\n",
    "    return max(lr, min_learning_rate)\n",
    "\n",
    "fit_params['verbose'] = 50"
   ]
  },
  {
   "cell_type": "code",
   "execution_count": 19,
   "metadata": {
    "_kg_hide-input": true,
    "_uuid": "101a2fd45bbbe6c7fb351513803550d4edeef2b3",
    "collapsed": true
   },
   "outputs": [],
   "source": [
    "np.random.seed(100)\n",
    "\n",
    "def _parallel_fit_estimator(estimator1, X, y, sample_weight=None, threshold=True, **fit_params):\n",
    "    estimator = clone(estimator1)\n",
    "    \n",
    "    # randomly split the data so we have a test set for early stopping\n",
    "    if sample_weight is not None:\n",
    "        X_train, y_train, X_test, y_test, y_train_weight = split_data(X, y, sample_weight, households=train_households)\n",
    "    else:\n",
    "        X_train, y_train, X_test, y_test = split_data(X, y, None, households=train_households)\n",
    "        \n",
    "    # update the fit params with our new split\n",
    "    fit_params[\"eval_set\"] = [(X_test,y_test)]\n",
    "    \n",
    "    # fit the estimator\n",
    "    if sample_weight is not None:\n",
    "        if isinstance(estimator1, ExtraTreesClassifier) or isinstance(estimator1, RandomForestClassifier):\n",
    "            estimator.fit(X_train, y_train)\n",
    "        else:\n",
    "            _ = estimator.fit(X_train, y_train, sample_weight=y_train_weight, **fit_params)\n",
    "    else:\n",
    "        if isinstance(estimator1, ExtraTreesClassifier) or isinstance(estimator1, RandomForestClassifier):\n",
    "            estimator.fit(X_train, y_train)\n",
    "        else:\n",
    "            _ = estimator.fit(X_train, y_train, **fit_params)\n",
    "    \n",
    "    if not isinstance(estimator1, ExtraTreesClassifier) and not isinstance(estimator1, RandomForestClassifier) and not isinstance(estimator1, xgb.XGBClassifier):\n",
    "        best_cv_round = np.argmax(estimator.evals_result_['validation_0']['mlogloss'])\n",
    "        best_cv = np.max(estimator.evals_result_['validation_0']['mlogloss'])\n",
    "        best_train = estimator.evals_result_['train']['macroF1'][best_cv_round]\n",
    "    else:\n",
    "        best_train = f1_score(y_train, estimator.predict(X_train), average=\"macro\")\n",
    "        best_cv = f1_score(y_test, estimator.predict(X_test), average=\"macro\")\n",
    "        print(\"Train F1:\", best_train)\n",
    "        print(\"Test F1:\", best_cv)\n",
    "        \n",
    "    # reject some estimators based on their performance on train and test sets\n",
    "    if threshold:\n",
    "        # if the valid score is very high we'll allow a little more leeway with the train scores\n",
    "        if ((best_cv > 0.37) and (best_train > 0.75)) or ((best_cv > 0.44) and (best_train > 0.65)):\n",
    "            return estimator\n",
    "\n",
    "        # else recurse until we get a better one\n",
    "        else:\n",
    "            print(\"Unacceptable!!! Trying again...\")\n",
    "            return _parallel_fit_estimator(estimator1, X, y, sample_weight=sample_weight, **fit_params)\n",
    "    \n",
    "    else:\n",
    "        return estimator\n",
    "    \n",
    "class VotingClassifierLGBM(VotingClassifier):\n",
    "    '''\n",
    "    This implements the fit method of the VotingClassifier propagating fit_params\n",
    "    '''\n",
    "    def fit(self, X, y, sample_weight=None, threshold=True, **fit_params):\n",
    "        \n",
    "        if isinstance(y, np.ndarray) and len(y.shape) > 1 and y.shape[1] > 1:\n",
    "            raise NotImplementedError('Multilabel and multi-output'\n",
    "                                      ' classification is not supported.')\n",
    "\n",
    "        if self.voting not in ('soft', 'hard'):\n",
    "            raise ValueError(\"Voting must be 'soft' or 'hard'; got (voting=%r)\"\n",
    "                             % self.voting)\n",
    "\n",
    "        if self.estimators is None or len(self.estimators) == 0:\n",
    "            raise AttributeError('Invalid `estimators` attribute, `estimators`'\n",
    "                                 ' should be a list of (string, estimator)'\n",
    "                                 ' tuples')\n",
    "\n",
    "        if (self.weights is not None and\n",
    "                len(self.weights) != len(self.estimators)):\n",
    "            raise ValueError('Number of classifiers and weights must be equal'\n",
    "                             '; got %d weights, %d estimators'\n",
    "                             % (len(self.weights), len(self.estimators)))\n",
    "\n",
    "        names, clfs = zip(*self.estimators)\n",
    "        self._validate_names(names)\n",
    "\n",
    "        n_isnone = np.sum([clf is None for _, clf in self.estimators])\n",
    "        if n_isnone == len(self.estimators):\n",
    "            raise ValueError('All estimators are None. At least one is '\n",
    "                             'required to be a classifier!')\n",
    "\n",
    "        self.le_ = LabelEncoder().fit(y)\n",
    "        self.classes_ = self.le_.classes_\n",
    "        self.estimators_ = []\n",
    "\n",
    "        transformed_y = self.le_.transform(y)\n",
    "\n",
    "        self.estimators_ = Parallel(n_jobs=self.n_jobs)(\n",
    "                delayed(_parallel_fit_estimator)(clone(clf), X, transformed_y,\n",
    "                                                 sample_weight=sample_weight, threshold=threshold, **fit_params)\n",
    "                for clf in clfs if clf is not None)\n",
    "\n",
    "        return self"
   ]
  },
  {
   "cell_type": "code",
   "execution_count": 20,
   "metadata": {
    "_uuid": "37b909c2aa273651b7bb57c69b939760f14f38f7",
    "collapsed": true,
    "scrolled": true
   },
   "outputs": [
    {
     "name": "stdout",
     "output_type": "stream",
     "text": [
      "[0]\tvalidation_0-merror:0.449495\tvalidation_0-macroF1:0.618897\n",
      "Multiple eval metrics have been passed: 'validation_0-macroF1' will be used for early stopping.\n",
      "\n",
      "Will train until validation_0-macroF1 hasn't improved in 500 rounds.\n",
      "[50]\tvalidation_0-merror:0.373737\tvalidation_0-macroF1:0.587158\n",
      "[100]\tvalidation_0-merror:0.375421\tvalidation_0-macroF1:0.591155\n",
      "[150]\tvalidation_0-merror:0.375421\tvalidation_0-macroF1:0.596967\n",
      "[200]\tvalidation_0-merror:0.375421\tvalidation_0-macroF1:0.597206\n",
      "[250]\tvalidation_0-merror:0.373737\tvalidation_0-macroF1:0.591469\n",
      "[299]\tvalidation_0-merror:0.372054\tvalidation_0-macroF1:0.589682\n",
      "Train F1: 0.8692132746242035\n",
      "Test F1: 0.4499683474116404\n",
      "[0]\tvalidation_0-merror:0.478114\tvalidation_0-macroF1:0.65646\n",
      "Multiple eval metrics have been passed: 'validation_0-macroF1' will be used for early stopping.\n",
      "\n",
      "Will train until validation_0-macroF1 hasn't improved in 500 rounds.\n",
      "[50]\tvalidation_0-merror:0.39899\tvalidation_0-macroF1:0.589746\n",
      "[100]\tvalidation_0-merror:0.387205\tvalidation_0-macroF1:0.588515\n",
      "[150]\tvalidation_0-merror:0.387205\tvalidation_0-macroF1:0.592466\n",
      "[200]\tvalidation_0-merror:0.382155\tvalidation_0-macroF1:0.579638\n",
      "[250]\tvalidation_0-merror:0.375421\tvalidation_0-macroF1:0.573822\n",
      "[299]\tvalidation_0-merror:0.383838\tvalidation_0-macroF1:0.57836\n",
      "Train F1: 0.8922837096259637\n",
      "Test F1: 0.42892015455240307\n",
      "[0]\tvalidation_0-merror:0.447811\tvalidation_0-macroF1:0.615609\n",
      "Multiple eval metrics have been passed: 'validation_0-macroF1' will be used for early stopping.\n",
      "\n",
      "Will train until validation_0-macroF1 hasn't improved in 500 rounds.\n",
      "[50]\tvalidation_0-merror:0.405724\tvalidation_0-macroF1:0.617227\n",
      "[100]\tvalidation_0-merror:0.39899\tvalidation_0-macroF1:0.61144\n",
      "[150]\tvalidation_0-merror:0.402357\tvalidation_0-macroF1:0.615881\n",
      "[200]\tvalidation_0-merror:0.397306\tvalidation_0-macroF1:0.612244\n",
      "[250]\tvalidation_0-merror:0.397306\tvalidation_0-macroF1:0.614668\n",
      "[299]\tvalidation_0-merror:0.39899\tvalidation_0-macroF1:0.619922\n",
      "Train F1: 0.8796174772498709\n",
      "Test F1: 0.40170724934708313\n",
      "[0]\tvalidation_0-merror:0.456229\tvalidation_0-macroF1:0.629605\n",
      "Multiple eval metrics have been passed: 'validation_0-macroF1' will be used for early stopping.\n",
      "\n",
      "Will train until validation_0-macroF1 hasn't improved in 500 rounds.\n",
      "[50]\tvalidation_0-merror:0.373737\tvalidation_0-macroF1:0.532827\n",
      "[100]\tvalidation_0-merror:0.375421\tvalidation_0-macroF1:0.532769\n",
      "[150]\tvalidation_0-merror:0.372054\tvalidation_0-macroF1:0.530348\n",
      "[200]\tvalidation_0-merror:0.373737\tvalidation_0-macroF1:0.53355\n",
      "[250]\tvalidation_0-merror:0.380471\tvalidation_0-macroF1:0.545671\n",
      "[299]\tvalidation_0-merror:0.382155\tvalidation_0-macroF1:0.553714\n",
      "Train F1: 0.9166337605951969\n",
      "Test F1: 0.47689839238981435\n",
      "[0]\tvalidation_0-merror:0.478114\tvalidation_0-macroF1:0.666475\n",
      "Multiple eval metrics have been passed: 'validation_0-macroF1' will be used for early stopping.\n",
      "\n",
      "Will train until validation_0-macroF1 hasn't improved in 500 rounds.\n",
      "[50]\tvalidation_0-merror:0.400673\tvalidation_0-macroF1:0.616879\n",
      "[100]\tvalidation_0-merror:0.395623\tvalidation_0-macroF1:0.616793\n",
      "[150]\tvalidation_0-merror:0.39899\tvalidation_0-macroF1:0.618768\n",
      "[200]\tvalidation_0-merror:0.397306\tvalidation_0-macroF1:0.621273\n",
      "[250]\tvalidation_0-merror:0.39899\tvalidation_0-macroF1:0.624754\n",
      "[299]\tvalidation_0-merror:0.39899\tvalidation_0-macroF1:0.628906\n",
      "Train F1: 0.9029256509270267\n",
      "Test F1: 0.3940607678230773\n",
      "[0]\tvalidation_0-merror:0.436027\tvalidation_0-macroF1:0.621714\n",
      "Multiple eval metrics have been passed: 'validation_0-macroF1' will be used for early stopping.\n",
      "\n",
      "Will train until validation_0-macroF1 hasn't improved in 500 rounds.\n",
      "[50]\tvalidation_0-merror:0.385522\tvalidation_0-macroF1:0.611749\n",
      "[100]\tvalidation_0-merror:0.373737\tvalidation_0-macroF1:0.591897\n",
      "[150]\tvalidation_0-merror:0.375421\tvalidation_0-macroF1:0.602882\n",
      "[200]\tvalidation_0-merror:0.368687\tvalidation_0-macroF1:0.594834\n",
      "[250]\tvalidation_0-merror:0.372054\tvalidation_0-macroF1:0.591518\n",
      "[299]\tvalidation_0-merror:0.377104\tvalidation_0-macroF1:0.598986\n",
      "Train F1: 0.8758621053603868\n",
      "Test F1: 0.4170340972522537\n",
      "[0]\tvalidation_0-merror:0.439394\tvalidation_0-macroF1:0.651961\n",
      "Multiple eval metrics have been passed: 'validation_0-macroF1' will be used for early stopping.\n",
      "\n",
      "Will train until validation_0-macroF1 hasn't improved in 500 rounds.\n",
      "[50]\tvalidation_0-merror:0.375421\tvalidation_0-macroF1:0.605352\n",
      "[100]\tvalidation_0-merror:0.373737\tvalidation_0-macroF1:0.601688\n",
      "[150]\tvalidation_0-merror:0.360269\tvalidation_0-macroF1:0.58604\n",
      "[200]\tvalidation_0-merror:0.355219\tvalidation_0-macroF1:0.581584\n",
      "[250]\tvalidation_0-merror:0.363636\tvalidation_0-macroF1:0.59316\n",
      "[299]\tvalidation_0-merror:0.363636\tvalidation_0-macroF1:0.594614\n",
      "Train F1: 0.9199773851512484\n",
      "Test F1: 0.4184157103072079\n",
      "[0]\tvalidation_0-merror:0.464646\tvalidation_0-macroF1:0.649314\n",
      "Multiple eval metrics have been passed: 'validation_0-macroF1' will be used for early stopping.\n",
      "\n",
      "Will train until validation_0-macroF1 hasn't improved in 500 rounds.\n",
      "[50]\tvalidation_0-merror:0.385522\tvalidation_0-macroF1:0.607852\n",
      "[100]\tvalidation_0-merror:0.382155\tvalidation_0-macroF1:0.609728\n",
      "[150]\tvalidation_0-merror:0.387205\tvalidation_0-macroF1:0.611186\n",
      "[200]\tvalidation_0-merror:0.385522\tvalidation_0-macroF1:0.614365\n",
      "[250]\tvalidation_0-merror:0.388889\tvalidation_0-macroF1:0.617067\n",
      "[299]\tvalidation_0-merror:0.385522\tvalidation_0-macroF1:0.616928\n",
      "Train F1: 0.8838443594608419\n",
      "Test F1: 0.41205140183394995\n",
      "[0]\tvalidation_0-merror:0.459596\tvalidation_0-macroF1:0.630197\n",
      "Multiple eval metrics have been passed: 'validation_0-macroF1' will be used for early stopping.\n",
      "\n",
      "Will train until validation_0-macroF1 hasn't improved in 500 rounds.\n",
      "[50]\tvalidation_0-merror:0.36532\tvalidation_0-macroF1:0.558857\n",
      "[100]\tvalidation_0-merror:0.356902\tvalidation_0-macroF1:0.549731\n",
      "[150]\tvalidation_0-merror:0.361953\tvalidation_0-macroF1:0.56172\n",
      "[200]\tvalidation_0-merror:0.36532\tvalidation_0-macroF1:0.567244\n",
      "[250]\tvalidation_0-merror:0.353535\tvalidation_0-macroF1:0.550062\n",
      "[299]\tvalidation_0-merror:0.355219\tvalidation_0-macroF1:0.554856\n",
      "Train F1: 0.9026718235043811\n",
      "Test F1: 0.4564536989990622\n",
      "[0]\tvalidation_0-merror:0.43266\tvalidation_0-macroF1:0.636867\n",
      "Multiple eval metrics have been passed: 'validation_0-macroF1' will be used for early stopping.\n",
      "\n",
      "Will train until validation_0-macroF1 hasn't improved in 500 rounds.\n",
      "[50]\tvalidation_0-merror:0.382155\tvalidation_0-macroF1:0.618297\n",
      "[100]\tvalidation_0-merror:0.377104\tvalidation_0-macroF1:0.620996\n",
      "[150]\tvalidation_0-merror:0.368687\tvalidation_0-macroF1:0.617866\n",
      "[200]\tvalidation_0-merror:0.363636\tvalidation_0-macroF1:0.610448\n",
      "[250]\tvalidation_0-merror:0.36532\tvalidation_0-macroF1:0.61121\n",
      "[299]\tvalidation_0-merror:0.36532\tvalidation_0-macroF1:0.613462\n",
      "Train F1: 0.8537433419398888\n",
      "Test F1: 0.40094294054369034\n",
      "[0]\tvalidation_0-merror:0.451178\tvalidation_0-macroF1:0.668119\n",
      "Multiple eval metrics have been passed: 'validation_0-macroF1' will be used for early stopping.\n",
      "\n",
      "Will train until validation_0-macroF1 hasn't improved in 500 rounds.\n",
      "[50]\tvalidation_0-merror:0.350168\tvalidation_0-macroF1:0.545508\n",
      "[100]\tvalidation_0-merror:0.355219\tvalidation_0-macroF1:0.554136\n",
      "[150]\tvalidation_0-merror:0.353535\tvalidation_0-macroF1:0.553636\n",
      "[200]\tvalidation_0-merror:0.358586\tvalidation_0-macroF1:0.565502\n",
      "[250]\tvalidation_0-merror:0.355219\tvalidation_0-macroF1:0.554406\n",
      "[299]\tvalidation_0-merror:0.356902\tvalidation_0-macroF1:0.557941\n",
      "Train F1: 0.9019197201437804\n",
      "Test F1: 0.45449201177342513\n",
      "[0]\tvalidation_0-merror:0.46633\tvalidation_0-macroF1:0.630999\n",
      "Multiple eval metrics have been passed: 'validation_0-macroF1' will be used for early stopping.\n",
      "\n",
      "Will train until validation_0-macroF1 hasn't improved in 500 rounds.\n",
      "[50]\tvalidation_0-merror:0.385522\tvalidation_0-macroF1:0.590879\n",
      "[100]\tvalidation_0-merror:0.385522\tvalidation_0-macroF1:0.589117\n",
      "[150]\tvalidation_0-merror:0.380471\tvalidation_0-macroF1:0.5902\n",
      "[200]\tvalidation_0-merror:0.380471\tvalidation_0-macroF1:0.590364\n",
      "[250]\tvalidation_0-merror:0.372054\tvalidation_0-macroF1:0.584294\n",
      "[299]\tvalidation_0-merror:0.372054\tvalidation_0-macroF1:0.584294\n",
      "Train F1: 0.9107393121446379\n",
      "Test F1: 0.4202035016178791\n",
      "[0]\tvalidation_0-merror:0.429293\tvalidation_0-macroF1:0.605017\n",
      "Multiple eval metrics have been passed: 'validation_0-macroF1' will be used for early stopping.\n",
      "\n",
      "Will train until validation_0-macroF1 hasn't improved in 500 rounds.\n",
      "[50]\tvalidation_0-merror:0.388889\tvalidation_0-macroF1:0.58442\n",
      "[100]\tvalidation_0-merror:0.385522\tvalidation_0-macroF1:0.581607\n",
      "[150]\tvalidation_0-merror:0.387205\tvalidation_0-macroF1:0.591456\n",
      "[200]\tvalidation_0-merror:0.388889\tvalidation_0-macroF1:0.599708\n",
      "[250]\tvalidation_0-merror:0.383838\tvalidation_0-macroF1:0.594643\n",
      "[299]\tvalidation_0-merror:0.383838\tvalidation_0-macroF1:0.593526\n",
      "Train F1: 0.8997410335624167\n",
      "Test F1: 0.4361542787266829\n",
      "[0]\tvalidation_0-merror:0.461279\tvalidation_0-macroF1:0.631119\n",
      "Multiple eval metrics have been passed: 'validation_0-macroF1' will be used for early stopping.\n",
      "\n",
      "Will train until validation_0-macroF1 hasn't improved in 500 rounds.\n",
      "[50]\tvalidation_0-merror:0.400673\tvalidation_0-macroF1:0.596261\n",
      "[100]\tvalidation_0-merror:0.392256\tvalidation_0-macroF1:0.587535\n",
      "[150]\tvalidation_0-merror:0.380471\tvalidation_0-macroF1:0.565827\n",
      "[200]\tvalidation_0-merror:0.383838\tvalidation_0-macroF1:0.57477\n",
      "[250]\tvalidation_0-merror:0.385522\tvalidation_0-macroF1:0.578869\n",
      "[299]\tvalidation_0-merror:0.390572\tvalidation_0-macroF1:0.587633\n",
      "Train F1: 0.9183016222669338\n",
      "Test F1: 0.43417338246227033\n",
      "[0]\tvalidation_0-merror:0.444444\tvalidation_0-macroF1:0.644583\n",
      "Multiple eval metrics have been passed: 'validation_0-macroF1' will be used for early stopping.\n",
      "\n",
      "Will train until validation_0-macroF1 hasn't improved in 500 rounds.\n",
      "[50]\tvalidation_0-merror:0.356902\tvalidation_0-macroF1:0.573118\n",
      "[100]\tvalidation_0-merror:0.350168\tvalidation_0-macroF1:0.561147\n",
      "[150]\tvalidation_0-merror:0.346801\tvalidation_0-macroF1:0.561942\n",
      "[200]\tvalidation_0-merror:0.346801\tvalidation_0-macroF1:0.562957\n",
      "[250]\tvalidation_0-merror:0.345118\tvalidation_0-macroF1:0.564364\n",
      "[299]\tvalidation_0-merror:0.343434\tvalidation_0-macroF1:0.560476\n",
      "Train F1: 0.87128692645667\n",
      "Test F1: 0.44357206331531707\n"
     ]
    }
   ],
   "source": [
    "clfs = []\n",
    "for i in range(15):\n",
    "    clf = xgb.XGBClassifier(random_state=217+i, n_estimators=300, learning_rate=0.15, n_jobs=4, **opt_parameters)\n",
    "    \n",
    "    clfs.append(('xgb{}'.format(i), clf))\n",
    "    \n",
    "vc = VotingClassifierLGBM(clfs, voting='soft')\n",
    "del(clfs)\n",
    "\n",
    "#Train the final model with learning rate decay\n",
    "_ = vc.fit(X_train.drop(xgb_drop_cols, axis=1), y_train, sample_weight=y_train_weights, threshold=False, **fit_params)\n",
    "\n",
    "clf_final = vc.estimators_[0]"
   ]
  },
  {
   "cell_type": "code",
   "execution_count": 21,
   "metadata": {
    "_uuid": "241d2973497b8eb2e5214f5c8ddb76432576ba35",
    "collapsed": true
   },
   "outputs": [
    {
     "name": "stdout",
     "output_type": "stream",
     "text": [
      "Validation score of a single LGBM Classifier: 0.7718\n",
      "Validation score of a VotingClassifier on 3 LGBMs with soft voting strategy: 0.8940\n",
      "Validation score of a VotingClassifier on 3 LGBMs with hard voting strategy: 0.8960\n"
     ]
    }
   ],
   "source": [
    "# params 4 - 400 early stop - 15 estimators - l1 used features - weighted\n",
    "global_score = f1_score(y_test, clf_final.predict(X_test.drop(xgb_drop_cols, axis=1)), average='macro')\n",
    "vc.voting = 'soft'\n",
    "global_score_soft = f1_score(y_test, vc.predict(X_test.drop(xgb_drop_cols, axis=1)), average='macro')\n",
    "vc.voting = 'hard'\n",
    "global_score_hard = f1_score(y_test, vc.predict(X_test.drop(xgb_drop_cols, axis=1)), average='macro')\n",
    "\n",
    "print('Validation score of a single LGBM Classifier: {:.4f}'.format(global_score))\n",
    "print('Validation score of a VotingClassifier on 3 LGBMs with soft voting strategy: {:.4f}'.format(global_score_soft))\n",
    "print('Validation score of a VotingClassifier on 3 LGBMs with hard voting strategy: {:.4f}'.format(global_score_hard))"
   ]
  },
  {
   "cell_type": "code",
   "execution_count": 22,
   "metadata": {
    "_uuid": "527b58d849cc1282909f15596cd5441ef4cac93d",
    "collapsed": true
   },
   "outputs": [
    {
     "data": {
      "text/plain": [
       "{'agg18_estadocivil4_COUNT',\n",
       " 'agg18_estadocivil5_COUNT',\n",
       " 'geo_energcocinar_LE_0',\n",
       " 'geo_epared_LE_2',\n",
       " 'geo_pared_LE_0'}"
      ]
     },
     "execution_count": 22,
     "metadata": {},
     "output_type": "execute_result"
    }
   ],
   "source": [
    "# see which features are not used by ANY models\n",
    "useless_features = []\n",
    "drop_features = set()\n",
    "counter = 0\n",
    "for est in vc.estimators_:\n",
    "    ranked_features, unused_features = feature_importance(est, X_train.drop(xgb_drop_cols, axis=1), display_results=False)\n",
    "    useless_features.append(unused_features)\n",
    "    if counter == 0:\n",
    "        drop_features = set(unused_features)\n",
    "    else:\n",
    "        drop_features = drop_features.intersection(set(unused_features))\n",
    "    counter += 1\n",
    "    \n",
    "drop_features"
   ]
  },
  {
   "cell_type": "code",
   "execution_count": 23,
   "metadata": {
    "_uuid": "71dae26394955fcf940feea1c9ba1a5bcf134ce9",
    "collapsed": true
   },
   "outputs": [
    {
     "name": "stdout",
     "output_type": "stream",
     "text": [
      "Feature ranking:\n",
      "1. feature 14 (0.019142) - agg18_escolari_MAX\n",
      "2. feature 45 (0.018804) - dependency\n",
      "3. feature 58 (0.017870) - fe_children_fraction\n",
      "4. feature 70 (0.017064) - hacapo\n",
      "5. feature 32 (0.016243) - agg18_parentesco2_MEAN\n",
      "6. feature 112 (0.014295) - geo_etecho_LE_1\n",
      "7. feature 128 (0.014259) - geo_manual_elec_LE_0\n",
      "8. feature 137 (0.014132) - rent_to_rooms\n",
      "9. feature 41 (0.014074) - area2\n",
      "10. feature 1 (0.012342) - SQBdependency\n",
      "11. feature 15 (0.011828) - agg18_escolari_MEAN\n",
      "12. feature 56 (0.011183) - eviv_LE\n",
      "13. feature 75 (0.011150) - hogar_total\n",
      "14. feature 127 (0.011035) - geo_sanitario_LE_4\n",
      "15. feature 82 (0.010563) - piso_LE\n",
      "16. feature 2 (0.010425) - SQBedjefe\n",
      "17. feature 62 (0.010345) - fe_mobile_density\n",
      "18. feature 140 (0.010196) - r4t3_to_rooms\n",
      "19. feature 122 (0.010099) - geo_energcocinar_LE_3\n",
      "20. feature 49 (0.010084) - edjefe\n",
      "21. feature 125 (0.010084) - geo_sanitario_LE_2\n",
      "22. feature 59 (0.009914) - fe_human_bed_density\n",
      "23. feature 90 (0.009580) - r4t1\n",
      "24. feature 109 (0.009570) - geo_eviv_LE_1\n",
      "25. feature 43 (0.009491) - cielorazo\n",
      "26. feature 116 (0.009489) - geo_elimbasu_LE_0\n",
      "27. feature 3 (0.009311) - SQBescolari\n",
      "28. feature 76 (0.009197) - lugar_LE\n",
      "29. feature 55 (0.009180) - etecho_LE\n",
      "30. feature 105 (0.009161) - geo_hogar_total\n",
      "31. feature 98 (0.009124) - v18q1\n",
      "32. feature 79 (0.009055) - meaneduc\n",
      "33. feature 77 (0.008936) - male\n",
      "34. feature 5 (0.008934) - SQBhogar_total\n",
      "35. feature 6 (0.008926) - SQBmeaned\n",
      "36. feature 57 (0.008874) - fe_all_man_fraction\n",
      "37. feature 52 (0.008831) - epared_LE\n",
      "38. feature 104 (0.008726) - geo_hogar_adul\n",
      "39. feature 17 (0.008720) - agg18_estadocivil1_COUNT\n",
      "40. feature 114 (0.008640) - geo_epared_LE_1\n",
      "41. feature 54 (0.008539) - estadocivil_LE\n",
      "42. feature 107 (0.008495) - geo_overcrowding\n",
      "43. feature 120 (0.008494) - geo_elimbasu_LE_5\n",
      "44. feature 0 (0.008494) - SQBage\n",
      "45. feature 27 (0.008477) - agg18_estadocivil7_MEAN\n",
      "46. feature 126 (0.008393) - geo_sanitario_LE_3\n",
      "47. feature 97 (0.008333) - tipovivi_LE\n",
      "48. feature 50 (0.008265) - elimbasu_LE\n",
      "49. feature 16 (0.008133) - agg18_escolari_MIN\n",
      "50. feature 26 (0.008094) - agg18_estadocivil6_MEAN\n",
      "51. feature 61 (0.008090) - fe_mobile_adult_density\n",
      "52. feature 7 (0.008060) - SQBovercrowding\n",
      "53. feature 110 (0.008026) - geo_eviv_LE_2\n",
      "54. feature 12 (0.007995) - agg18_age_MIN\n",
      "55. feature 118 (0.007986) - geo_elimbasu_LE_2\n",
      "56. feature 96 (0.007986) - television\n",
      "57. feature 117 (0.007951) - geo_elimbasu_LE_1\n",
      "58. feature 67 (0.007950) - fe_tablet_adult_density\n",
      "59. feature 111 (0.007803) - geo_etecho_LE_0\n",
      "60. feature 124 (0.007724) - geo_sanitario_LE_1\n",
      "61. feature 69 (0.007709) - fe_working_man_fraction\n",
      "62. feature 21 (0.007675) - agg18_estadocivil3_MEAN\n",
      "63. feature 106 (0.007658) - geo_bedrooms\n",
      "64. feature 51 (0.007628) - energcocinar_LE\n",
      "65. feature 102 (0.007592) - geo_dependency\n",
      "66. feature 86 (0.007528) - r4h3\n",
      "67. feature 88 (0.007500) - r4m2\n",
      "68. feature 19 (0.007492) - agg18_estadocivil2_MEAN\n",
      "69. feature 60 (0.007489) - fe_human_density\n",
      "70. feature 136 (0.007455) - bedrooms_to_rooms\n",
      "71. feature 83 (0.007437) - qmobilephone\n",
      "72. feature 91 (0.007428) - r4t2\n",
      "73. feature 65 (0.007409) - fe_rent_per_person\n",
      "74. feature 66 (0.007407) - fe_rent_per_room\n",
      "75. feature 25 (0.007346) - agg18_estadocivil5_MEAN\n",
      "76. feature 81 (0.007308) - pared_LE\n",
      "77. feature 85 (0.007186) - r4h2\n",
      "78. feature 87 (0.007173) - r4m1\n",
      "79. feature 11 (0.007152) - agg18_age_MEAN\n",
      "80. feature 37 (0.007096) - agg18_parentesco7_MEAN\n",
      "81. feature 72 (0.007034) - hogar_adul\n",
      "82. feature 74 (0.007031) - hogar_nin\n",
      "83. feature 10 (0.006958) - agg18_age_MAX\n",
      "84. feature 84 (0.006910) - r4h1\n",
      "85. feature 93 (0.006838) - rooms\n",
      "86. feature 40 (0.006816) - area1\n",
      "87. feature 46 (0.006804) - dis\n",
      "88. feature 42 (0.006773) - bedrooms\n",
      "89. feature 78 (0.006660) - manual_elec_LE\n",
      "90. feature 138 (0.006655) - tamhog_to_rooms\n",
      "91. feature 33 (0.006617) - agg18_parentesco3_MEAN\n",
      "92. feature 89 (0.006528) - r4m3\n",
      "93. feature 4 (0.006471) - SQBhogar_nin\n",
      "94. feature 73 (0.006432) - hogar_mayor\n",
      "95. feature 123 (0.006415) - geo_sanitario_LE_0\n",
      "96. feature 47 (0.006229) - edjef\n",
      "97. feature 99 (0.006228) - v2a1\n",
      "98. feature 9 (0.006222) - age\n",
      "99. feature 48 (0.006157) - edjefa\n",
      "100. feature 94 (0.006084) - sanitario_LE\n",
      "101. feature 100 (0.006074) - geo_age\n",
      "102. feature 13 (0.005955) - agg18_dis_MEAN\n",
      "103. feature 143 (0.005927) - rent_to_hhsize\n",
      "104. feature 68 (0.005853) - fe_tablet_density\n",
      "105. feature 23 (0.005827) - agg18_estadocivil4_MEAN\n",
      "106. feature 18 (0.005802) - agg18_estadocivil2_COUNT\n",
      "107. feature 95 (0.005459) - techo_LE\n",
      "108. feature 92 (0.005257) - refrig\n",
      "109. feature 144 (0.005186) - rent_to_over_18\n",
      "110. feature 63 (0.004727) - fe_people_not_living\n",
      "111. feature 39 (0.004530) - agg18_parentesco9_MEAN\n",
      "112. feature 29 (0.004488) - agg18_parentesco11_MEAN\n",
      "113. feature 44 (0.004443) - computer\n",
      "114. feature 35 (0.004129) - agg18_parentesco5_MEAN\n",
      "115. feature 101 (0.003830) - geo_meaneduc\n",
      "116. feature 142 (0.003729) - hhsize_to_rooms\n",
      "117. feature 141 (0.003542) - v2a1_to_r4t3\n",
      "118. feature 133 (0.003085) - geo_pared_LE_1\n",
      "119. feature 8 (0.003065) - abastagua_LE\n",
      "120. feature 30 (0.002710) - agg18_parentesco12_MEAN\n",
      "121. feature 34 (0.002484) - agg18_parentesco4_MEAN\n",
      "122. feature 36 (0.002305) - agg18_parentesco6_MEAN\n",
      "123. feature 38 (0.002239) - agg18_parentesco8_MEAN\n",
      "124. feature 64 (0.002061) - fe_people_weird_stat\n",
      "125. feature 28 (0.002043) - agg18_parentesco10_MEAN\n",
      "126. feature 139 (0.001559) - r4t3_to_tamhog\n",
      "127. feature 113 (0.000997) - geo_etecho_LE_2\n",
      "128. feature 119 (0.000000) - geo_elimbasu_LE_3\n",
      "129. feature 53 (0.000000) - escolari\n",
      "130. feature 103 (0.000000) - geo_hogar_nin\n",
      "131. feature 71 (0.000000) - hacdor\n",
      "132. feature 80 (0.000000) - overcrowding\n",
      "133. feature 135 (0.000000) - geo_pared_LE_7\n",
      "134. feature 134 (0.000000) - geo_pared_LE_2\n",
      "135. feature 108 (0.000000) - geo_eviv_LE_0\n",
      "136. feature 20 (0.000000) - agg18_estadocivil3_COUNT\n",
      "137. feature 132 (0.000000) - geo_pared_LE_0\n",
      "138. feature 115 (0.000000) - geo_epared_LE_2\n",
      "139. feature 131 (0.000000) - geo_manual_elec_LE_4\n",
      "140. feature 130 (0.000000) - geo_manual_elec_LE_3\n",
      "141. feature 129 (0.000000) - geo_manual_elec_LE_1\n",
      "142. feature 24 (0.000000) - agg18_estadocivil5_COUNT\n",
      "143. feature 22 (0.000000) - agg18_estadocivil4_COUNT\n",
      "144. feature 121 (0.000000) - geo_energcocinar_LE_0\n",
      "145. feature 31 (0.000000) - agg18_parentesco1_MEAN\n"
     ]
    }
   ],
   "source": [
    "ranked_features = feature_importance(clf_final, X_train.drop(xgb_drop_cols, axis=1))"
   ]
  },
  {
   "cell_type": "markdown",
   "metadata": {
    "_uuid": "6e78eb892f60a52240aee2b15beaa9f9dfd59994"
   },
   "source": [
    "### Random Forest"
   ]
  },
  {
   "cell_type": "code",
   "execution_count": 24,
   "metadata": {
    "_uuid": "8a98ed5c6da8cd601a4ff2842c4440c16dcca8b8",
    "collapsed": true
   },
   "outputs": [],
   "source": [
    "et_drop_cols = ['agg18_age_MAX', 'agg18_age_MEAN', 'agg18_age_MIN', 'agg18_dis_MEAN',\n",
    "       'agg18_escolari_MAX', 'agg18_escolari_MEAN', 'agg18_escolari_MIN',\n",
    "       'agg18_estadocivil1_COUNT', 'agg18_estadocivil1_MEAN',\n",
    "       'agg18_estadocivil2_COUNT', 'agg18_estadocivil2_MEAN',\n",
    "       'agg18_estadocivil3_COUNT', 'agg18_estadocivil3_MEAN',\n",
    "       'agg18_estadocivil4_COUNT', 'agg18_estadocivil4_MEAN',\n",
    "       'agg18_estadocivil5_COUNT', 'agg18_estadocivil5_MEAN',\n",
    "       'agg18_estadocivil6_COUNT', 'agg18_estadocivil6_MEAN',\n",
    "       'agg18_estadocivil7_COUNT', 'agg18_estadocivil7_MEAN',\n",
    "       'agg18_parentesco10_COUNT', 'agg18_parentesco10_MEAN',\n",
    "       'agg18_parentesco11_COUNT', 'agg18_parentesco11_MEAN',\n",
    "       'agg18_parentesco12_COUNT', 'agg18_parentesco12_MEAN',\n",
    "       'agg18_parentesco1_COUNT', 'agg18_parentesco1_MEAN',\n",
    "       'agg18_parentesco2_COUNT', 'agg18_parentesco2_MEAN',\n",
    "       'agg18_parentesco3_COUNT', 'agg18_parentesco3_MEAN',\n",
    "       'agg18_parentesco4_COUNT', 'agg18_parentesco4_MEAN',\n",
    "       'agg18_parentesco5_COUNT', 'agg18_parentesco5_MEAN',\n",
    "       'agg18_parentesco6_COUNT', 'agg18_parentesco6_MEAN',\n",
    "       'agg18_parentesco7_COUNT', 'agg18_parentesco7_MEAN',\n",
    "       'agg18_parentesco8_COUNT', 'agg18_parentesco8_MEAN',\n",
    "       'agg18_parentesco9_COUNT', 'agg18_parentesco9_MEAN'] #+ ['parentesco_LE', 'rez_esc']\n",
    "\n",
    "et_drop_cols.extend([\"idhogar\", \"parentesco1\", 'fe_rent_per_person', 'fe_rent_per_room',\n",
    "       'fe_tablet_adult_density', 'fe_tablet_density'])"
   ]
  },
  {
   "cell_type": "code",
   "execution_count": 25,
   "metadata": {
    "_uuid": "aa255a424ccbd3839015c82777963dc6b79d8cde",
    "collapsed": true
   },
   "outputs": [
    {
     "name": "stdout",
     "output_type": "stream",
     "text": [
      "Train F1: 0.8973744577845608\n",
      "Test F1: 0.4119287284836981\n",
      "Train F1: 0.8973405328848642\n",
      "Test F1: 0.4044941482768548\n",
      "Train F1: 0.8880139756454893\n",
      "Test F1: 0.39881107834328067\n",
      "Train F1: 0.891769612996069\n",
      "Test F1: 0.43265498149713966\n",
      "Train F1: 0.8921492656245431\n",
      "Test F1: 0.452800720791523\n",
      "Train F1: 0.8938989965907618\n",
      "Test F1: 0.43800331626520606\n",
      "Train F1: 0.8967698827248772\n",
      "Test F1: 0.4109323467334529\n",
      "Train F1: 0.8906362327579868\n",
      "Test F1: 0.45892004679838216\n",
      "Train F1: 0.9006816627520686\n",
      "Test F1: 0.42879021233275155\n",
      "Train F1: 0.8971414961089192\n",
      "Test F1: 0.41035647077305115\n"
     ]
    }
   ],
   "source": [
    "# do the same thing for some extra trees classifiers\n",
    "ets = []    \n",
    "for i in range(10):\n",
    "    rf = RandomForestClassifier(max_depth=None, random_state=217+i, n_jobs=4, n_estimators=700, min_impurity_decrease=1e-3, min_samples_leaf=2, verbose=0, class_weight=\"balanced\")\n",
    "    ets.append(('rf{}'.format(i), rf))   \n",
    "\n",
    "vc2 = VotingClassifierLGBM(ets, voting='soft')    \n",
    "_ = vc2.fit(X_train.drop(et_drop_cols, axis=1), y_train, threshold=False)    "
   ]
  },
  {
   "cell_type": "code",
   "execution_count": 26,
   "metadata": {
    "_uuid": "9eee3dd6964fa71d571aa342c83017b40e6b573e",
    "collapsed": true
   },
   "outputs": [
    {
     "name": "stdout",
     "output_type": "stream",
     "text": [
      "Validation score of a VotingClassifier on 3 LGBMs with soft voting strategy: 0.8629\n",
      "Validation score of a VotingClassifier on 3 LGBMs with hard voting strategy: 0.8756\n"
     ]
    }
   ],
   "source": [
    "# w/ threshold, extra drop cols\n",
    "vc2.voting = 'soft'\n",
    "global_rf_score_soft = f1_score(y_test, vc2.predict(X_test.drop(et_drop_cols, axis=1)), average='macro')\n",
    "vc2.voting = 'hard'\n",
    "global_rf_score_hard = f1_score(y_test, vc2.predict(X_test.drop(et_drop_cols, axis=1)), average='macro')\n",
    "\n",
    "print('Validation score of a VotingClassifier on 3 LGBMs with soft voting strategy: {:.4f}'.format(global_rf_score_soft))\n",
    "print('Validation score of a VotingClassifier on 3 LGBMs with hard voting strategy: {:.4f}'.format(global_rf_score_hard))"
   ]
  },
  {
   "cell_type": "code",
   "execution_count": 27,
   "metadata": {
    "_uuid": "86568853e4dd624fc907c312b3786d2193af2ed2",
    "collapsed": true
   },
   "outputs": [
    {
     "name": "stdout",
     "output_type": "stream",
     "text": [
      "Validation score of a VotingClassifier on 3 LGBMs with soft voting strategy: 0.8629\n",
      "Validation score of a VotingClassifier on 3 LGBMs with hard voting strategy: 0.8756\n"
     ]
    }
   ],
   "source": [
    "# w/o threshold, extra drop cols\n",
    "vc2.voting = 'soft'\n",
    "global_rf_score_soft = f1_score(y_test, vc2.predict(X_test.drop(et_drop_cols, axis=1)), average='macro')\n",
    "vc2.voting = 'hard'\n",
    "global_rf_score_hard = f1_score(y_test, vc2.predict(X_test.drop(et_drop_cols, axis=1)), average='macro')\n",
    "\n",
    "print('Validation score of a VotingClassifier on 3 LGBMs with soft voting strategy: {:.4f}'.format(global_rf_score_soft))\n",
    "print('Validation score of a VotingClassifier on 3 LGBMs with hard voting strategy: {:.4f}'.format(global_rf_score_hard))"
   ]
  },
  {
   "cell_type": "code",
   "execution_count": 28,
   "metadata": {
    "_uuid": "1a85b976aeda6675152ec31c2576fef487716ff3",
    "collapsed": true
   },
   "outputs": [
    {
     "data": {
      "text/plain": [
       "{'parentesco_LE', 'rez_esc'}"
      ]
     },
     "execution_count": 28,
     "metadata": {},
     "output_type": "execute_result"
    }
   ],
   "source": [
    "# see which features are not used by ANY models\n",
    "useless_features = []\n",
    "drop_features = set()\n",
    "counter = 0\n",
    "for est in vc2.estimators_:\n",
    "    ranked_features, unused_features = feature_importance(est, X_train.drop(et_drop_cols, axis=1), display_results=False)\n",
    "    useless_features.append(unused_features)\n",
    "    if counter == 0:\n",
    "        drop_features = set(unused_features)\n",
    "    else:\n",
    "        drop_features = drop_features.intersection(set(unused_features))\n",
    "    counter += 1\n",
    "    \n",
    "drop_features"
   ]
  },
  {
   "cell_type": "code",
   "execution_count": 29,
   "metadata": {
    "_uuid": "33e3f7da04fc8d6099b94885bb6a6e259e56a919",
    "collapsed": true
   },
   "outputs": [],
   "source": [
    "def combine_voters(data, weights=[0.5, 0.5]):\n",
    "    # do soft voting with both classifiers\n",
    "    vc.voting=\"soft\"\n",
    "    vc1_probs = vc.predict_proba(data.drop(xgb_drop_cols, axis=1))\n",
    "    vc2.voting=\"soft\"\n",
    "    vc2_probs = vc2.predict_proba(data.drop(et_drop_cols, axis=1))\n",
    "    \n",
    "    final_vote = (vc1_probs * weights[0]) + (vc2_probs * weights[1])\n",
    "    predictions = np.argmax(final_vote, axis=1)\n",
    "    \n",
    "    return predictions"
   ]
  },
  {
   "cell_type": "code",
   "execution_count": 30,
   "metadata": {
    "_uuid": "5cd61449e198aca7bef88120dda16b736f1fca7b",
    "collapsed": true
   },
   "outputs": [
    {
     "data": {
      "text/plain": [
       "0.8894137811995309"
      ]
     },
     "execution_count": 30,
     "metadata": {},
     "output_type": "execute_result"
    }
   ],
   "source": [
    "combo_preds = combine_voters(X_test, weights=[0.5, 0.5])\n",
    "global_combo_score_soft = f1_score(y_test, combo_preds, average='macro')\n",
    "global_combo_score_soft"
   ]
  },
  {
   "cell_type": "code",
   "execution_count": 31,
   "metadata": {
    "_uuid": "324c4cf008dc0dadd6c74f2bf4ed0a77e0314c2f",
    "collapsed": true
   },
   "outputs": [
    {
     "data": {
      "text/plain": [
       "0.8766976544937669"
      ]
     },
     "execution_count": 31,
     "metadata": {},
     "output_type": "execute_result"
    }
   ],
   "source": [
    "combo_preds = combine_voters(X_test, weights=[0.4, 0.6])\n",
    "global_combo_score_soft= f1_score(y_test, combo_preds, average='macro')\n",
    "global_combo_score_soft"
   ]
  },
  {
   "cell_type": "code",
   "execution_count": 32,
   "metadata": {
    "_uuid": "070fc3eeb109d98a71dfe9f35b217ae8646935ae",
    "collapsed": true
   },
   "outputs": [
    {
     "data": {
      "text/plain": [
       "0.8929227633408151"
      ]
     },
     "execution_count": 32,
     "metadata": {},
     "output_type": "execute_result"
    }
   ],
   "source": [
    "combo_preds = combine_voters(X_test, weights=[0.6, 0.4])\n",
    "global_combo_score_soft = f1_score(y_test, combo_preds, average='macro')\n",
    "global_combo_score_soft"
   ]
  },
  {
   "cell_type": "markdown",
   "metadata": {
    "_uuid": "78749eec7f69bcc8c587278a2c1a43ac8b5832e3"
   },
   "source": [
    "# Prepare submission"
   ]
  },
  {
   "cell_type": "code",
   "execution_count": 33,
   "metadata": {
    "_uuid": "32bfd69fe130005cb88865399c460ac00c7b1574",
    "collapsed": true
   },
   "outputs": [],
   "source": [
    "y_subm = pd.DataFrame()\n",
    "y_subm['Id'] = test_ids"
   ]
  },
  {
   "cell_type": "code",
   "execution_count": 34,
   "metadata": {
    "_uuid": "718054937aa849c23ca7c65483f8a52de6f6fd49",
    "collapsed": true
   },
   "outputs": [],
   "source": [
    "vc.voting = 'soft'\n",
    "y_subm_lgb = y_subm.copy(deep=True)\n",
    "y_subm_lgb['Target'] = vc.predict(test.drop(xgb_drop_cols, axis=1)) + 1\n",
    "\n",
    "vc2.voting = 'soft'\n",
    "y_subm_rf = y_subm.copy(deep=True)\n",
    "y_subm_rf['Target'] = vc2.predict(test.drop(et_drop_cols, axis=1)) + 1\n",
    "\n",
    "y_subm_ens = y_subm.copy(deep=True)\n",
    "y_subm_ens['Target'] = combine_voters(test) + 1"
   ]
  },
  {
   "cell_type": "code",
   "execution_count": 35,
   "metadata": {
    "_uuid": "8258f28127f235e427a25f6824566a23df61b8af",
    "collapsed": true
   },
   "outputs": [],
   "source": [
    "from datetime import datetime\n",
    "now = datetime.now()\n",
    "\n",
    "sub_file_lgb = 'submission_soft_XGB_{:.4f}_{}.csv'.format(global_score_soft, str(now.strftime('%Y-%m-%d-%H-%M')))\n",
    "sub_file_rf = 'submission_soft_RF_{:.4f}_{}.csv'.format(global_rf_score_soft, str(now.strftime('%Y-%m-%d-%H-%M')))\n",
    "sub_file_ens = 'submission_ens_{:.4f}_{}.csv'.format(global_combo_score_soft, str(now.strftime('%Y-%m-%d-%H-%M')))\n",
    "\n",
    "y_subm_lgb.to_csv(sub_file_lgb, index=False)\n",
    "y_subm_rf.to_csv(sub_file_rf, index=False)\n",
    "y_subm_ens.to_csv(sub_file_ens, index=False)"
   ]
  },
  {
   "cell_type": "code",
   "execution_count": 36,
   "metadata": {
    "_uuid": "3c6d7f945dec95a777b4221c5fe217c3eea24100",
    "collapsed": true
   },
   "outputs": [],
   "source": []
  }
 ],
 "metadata": {
  "kernelspec": {
   "display_name": "Python 3",
   "language": "python",
   "name": "python3"
  },
  "language_info": {
   "codemirror_mode": {
    "name": "ipython",
    "version": 3
   },
   "file_extension": ".py",
   "mimetype": "text/x-python",
   "name": "python",
   "nbconvert_exporter": "python",
   "pygments_lexer": "ipython3",
   "version": "3.6.6"
  }
 },
 "nbformat": 4,
 "nbformat_minor": 1
}
