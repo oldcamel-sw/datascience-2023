{
 "cells": [
  {
   "cell_type": "code",
   "execution_count": 1,
   "id": "d9639f71",
   "metadata": {
    "ExecuteTime": {
     "end_time": "2023-06-29T13:51:41.542011Z",
     "start_time": "2023-06-29T13:51:39.744579Z"
    }
   },
   "outputs": [],
   "source": [
    "import pandas as pd\n",
    "import numpy as np\n",
    "import matplotlib.pyplot as plt\n",
    "import seaborn as sns\n",
    "%matplotlib inline\n",
    "\n",
    "from collections import Counter\n",
    "\n",
    "from sklearn.ensemble import RandomForestClassifier, AdaBoostClassifier, GradientBoostingClassifier, ExtraTreesClassifier, VotingClassifier\n",
    "from sklearn.discriminant_analysis import LinearDiscriminantAnalysis\n",
    "from sklearn.linear_model import LogisticRegression\n",
    "from sklearn.neighbors import KNeighborsClassifier\n",
    "from sklearn.tree import DecisionTreeClassifier\n",
    "from sklearn.neural_network import MLPClassifier\n",
    "from sklearn.svm import SVC\n",
    "from sklearn.model_selection import GridSearchCV, cross_val_score, StratifiedKFold, learning_curve\n",
    "\n",
    "sns.set(style='white', context='notebook', palette='deep')"
   ]
  },
  {
   "cell_type": "code",
   "execution_count": 6,
   "id": "d2d8c877",
   "metadata": {
    "ExecuteTime": {
     "end_time": "2023-06-29T13:52:36.518130Z",
     "start_time": "2023-06-29T13:52:36.489816Z"
    }
   },
   "outputs": [],
   "source": [
    "train = pd.read_csv('../datasets/titanic/train.csv')\n",
    "test = pd.read_csv('../datasets/titanic/test.csv')\n",
    "IDtest = test['PassengerId']"
   ]
  },
  {
   "cell_type": "code",
   "execution_count": 7,
   "id": "eae9a568",
   "metadata": {
    "ExecuteTime": {
     "end_time": "2023-06-29T14:18:59.068023Z",
     "start_time": "2023-06-29T14:18:59.036683Z"
    }
   },
   "outputs": [],
   "source": [
    "def detect_outliers(df, n, features):\n",
    "    outlier_indices = []\n",
    "    \n",
    "    for col in features:\n",
    "        Q1 = np.percentile(df[col], 25)\n",
    "        Q3 = np.percentile(df[col], 75)\n",
    "        IQR = Q3 - Q1\n",
    "        \n",
    "        outlier_step = 1.5 * IQR\n",
    "        \n",
    "        outlier_list_col = df[(df[col] < Q1 - outlier_step) | (df[col] > Q3 + outlier_step)].index\n",
    "        outlier_indices.extend(outlier_list_col)\n",
    "        \n",
    "    outlier_indices = Counter(outlier_indices)\n",
    "    multiple_outliers = list( k for k, v in outlier_indices.items() if v > n )\n",
    "    \n",
    "    return multiple_outliers\n",
    "\n",
    "Outliers_to_drop = detect_outliers(train, 2, ['Age', 'SibSp', 'Parch', 'Fare'])"
   ]
  },
  {
   "cell_type": "code",
   "execution_count": 8,
   "id": "86107a41",
   "metadata": {
    "ExecuteTime": {
     "end_time": "2023-06-29T14:19:08.469329Z",
     "start_time": "2023-06-29T14:19:08.436050Z"
    }
   },
   "outputs": [
    {
     "data": {
      "text/html": [
       "<div>\n",
       "<style scoped>\n",
       "    .dataframe tbody tr th:only-of-type {\n",
       "        vertical-align: middle;\n",
       "    }\n",
       "\n",
       "    .dataframe tbody tr th {\n",
       "        vertical-align: top;\n",
       "    }\n",
       "\n",
       "    .dataframe thead th {\n",
       "        text-align: right;\n",
       "    }\n",
       "</style>\n",
       "<table border=\"1\" class=\"dataframe\">\n",
       "  <thead>\n",
       "    <tr style=\"text-align: right;\">\n",
       "      <th></th>\n",
       "      <th>PassengerId</th>\n",
       "      <th>Survived</th>\n",
       "      <th>Pclass</th>\n",
       "      <th>Name</th>\n",
       "      <th>Sex</th>\n",
       "      <th>Age</th>\n",
       "      <th>SibSp</th>\n",
       "      <th>Parch</th>\n",
       "      <th>Ticket</th>\n",
       "      <th>Fare</th>\n",
       "      <th>Cabin</th>\n",
       "      <th>Embarked</th>\n",
       "    </tr>\n",
       "  </thead>\n",
       "  <tbody>\n",
       "    <tr>\n",
       "      <th>27</th>\n",
       "      <td>28</td>\n",
       "      <td>0</td>\n",
       "      <td>1</td>\n",
       "      <td>Fortune, Mr. Charles Alexander</td>\n",
       "      <td>male</td>\n",
       "      <td>19.0</td>\n",
       "      <td>3</td>\n",
       "      <td>2</td>\n",
       "      <td>19950</td>\n",
       "      <td>263.00</td>\n",
       "      <td>C23 C25 C27</td>\n",
       "      <td>S</td>\n",
       "    </tr>\n",
       "    <tr>\n",
       "      <th>88</th>\n",
       "      <td>89</td>\n",
       "      <td>1</td>\n",
       "      <td>1</td>\n",
       "      <td>Fortune, Miss. Mabel Helen</td>\n",
       "      <td>female</td>\n",
       "      <td>23.0</td>\n",
       "      <td>3</td>\n",
       "      <td>2</td>\n",
       "      <td>19950</td>\n",
       "      <td>263.00</td>\n",
       "      <td>C23 C25 C27</td>\n",
       "      <td>S</td>\n",
       "    </tr>\n",
       "    <tr>\n",
       "      <th>159</th>\n",
       "      <td>160</td>\n",
       "      <td>0</td>\n",
       "      <td>3</td>\n",
       "      <td>Sage, Master. Thomas Henry</td>\n",
       "      <td>male</td>\n",
       "      <td>NaN</td>\n",
       "      <td>8</td>\n",
       "      <td>2</td>\n",
       "      <td>CA. 2343</td>\n",
       "      <td>69.55</td>\n",
       "      <td>NaN</td>\n",
       "      <td>S</td>\n",
       "    </tr>\n",
       "    <tr>\n",
       "      <th>180</th>\n",
       "      <td>181</td>\n",
       "      <td>0</td>\n",
       "      <td>3</td>\n",
       "      <td>Sage, Miss. Constance Gladys</td>\n",
       "      <td>female</td>\n",
       "      <td>NaN</td>\n",
       "      <td>8</td>\n",
       "      <td>2</td>\n",
       "      <td>CA. 2343</td>\n",
       "      <td>69.55</td>\n",
       "      <td>NaN</td>\n",
       "      <td>S</td>\n",
       "    </tr>\n",
       "    <tr>\n",
       "      <th>201</th>\n",
       "      <td>202</td>\n",
       "      <td>0</td>\n",
       "      <td>3</td>\n",
       "      <td>Sage, Mr. Frederick</td>\n",
       "      <td>male</td>\n",
       "      <td>NaN</td>\n",
       "      <td>8</td>\n",
       "      <td>2</td>\n",
       "      <td>CA. 2343</td>\n",
       "      <td>69.55</td>\n",
       "      <td>NaN</td>\n",
       "      <td>S</td>\n",
       "    </tr>\n",
       "    <tr>\n",
       "      <th>324</th>\n",
       "      <td>325</td>\n",
       "      <td>0</td>\n",
       "      <td>3</td>\n",
       "      <td>Sage, Mr. George John Jr</td>\n",
       "      <td>male</td>\n",
       "      <td>NaN</td>\n",
       "      <td>8</td>\n",
       "      <td>2</td>\n",
       "      <td>CA. 2343</td>\n",
       "      <td>69.55</td>\n",
       "      <td>NaN</td>\n",
       "      <td>S</td>\n",
       "    </tr>\n",
       "    <tr>\n",
       "      <th>341</th>\n",
       "      <td>342</td>\n",
       "      <td>1</td>\n",
       "      <td>1</td>\n",
       "      <td>Fortune, Miss. Alice Elizabeth</td>\n",
       "      <td>female</td>\n",
       "      <td>24.0</td>\n",
       "      <td>3</td>\n",
       "      <td>2</td>\n",
       "      <td>19950</td>\n",
       "      <td>263.00</td>\n",
       "      <td>C23 C25 C27</td>\n",
       "      <td>S</td>\n",
       "    </tr>\n",
       "    <tr>\n",
       "      <th>792</th>\n",
       "      <td>793</td>\n",
       "      <td>0</td>\n",
       "      <td>3</td>\n",
       "      <td>Sage, Miss. Stella Anna</td>\n",
       "      <td>female</td>\n",
       "      <td>NaN</td>\n",
       "      <td>8</td>\n",
       "      <td>2</td>\n",
       "      <td>CA. 2343</td>\n",
       "      <td>69.55</td>\n",
       "      <td>NaN</td>\n",
       "      <td>S</td>\n",
       "    </tr>\n",
       "    <tr>\n",
       "      <th>846</th>\n",
       "      <td>847</td>\n",
       "      <td>0</td>\n",
       "      <td>3</td>\n",
       "      <td>Sage, Mr. Douglas Bullen</td>\n",
       "      <td>male</td>\n",
       "      <td>NaN</td>\n",
       "      <td>8</td>\n",
       "      <td>2</td>\n",
       "      <td>CA. 2343</td>\n",
       "      <td>69.55</td>\n",
       "      <td>NaN</td>\n",
       "      <td>S</td>\n",
       "    </tr>\n",
       "    <tr>\n",
       "      <th>863</th>\n",
       "      <td>864</td>\n",
       "      <td>0</td>\n",
       "      <td>3</td>\n",
       "      <td>Sage, Miss. Dorothy Edith \"Dolly\"</td>\n",
       "      <td>female</td>\n",
       "      <td>NaN</td>\n",
       "      <td>8</td>\n",
       "      <td>2</td>\n",
       "      <td>CA. 2343</td>\n",
       "      <td>69.55</td>\n",
       "      <td>NaN</td>\n",
       "      <td>S</td>\n",
       "    </tr>\n",
       "  </tbody>\n",
       "</table>\n",
       "</div>"
      ],
      "text/plain": [
       "     PassengerId  Survived  Pclass                               Name     Sex  \\\n",
       "27            28         0       1     Fortune, Mr. Charles Alexander    male   \n",
       "88            89         1       1         Fortune, Miss. Mabel Helen  female   \n",
       "159          160         0       3         Sage, Master. Thomas Henry    male   \n",
       "180          181         0       3       Sage, Miss. Constance Gladys  female   \n",
       "201          202         0       3                Sage, Mr. Frederick    male   \n",
       "324          325         0       3           Sage, Mr. George John Jr    male   \n",
       "341          342         1       1     Fortune, Miss. Alice Elizabeth  female   \n",
       "792          793         0       3            Sage, Miss. Stella Anna  female   \n",
       "846          847         0       3           Sage, Mr. Douglas Bullen    male   \n",
       "863          864         0       3  Sage, Miss. Dorothy Edith \"Dolly\"  female   \n",
       "\n",
       "      Age  SibSp  Parch    Ticket    Fare        Cabin Embarked  \n",
       "27   19.0      3      2     19950  263.00  C23 C25 C27        S  \n",
       "88   23.0      3      2     19950  263.00  C23 C25 C27        S  \n",
       "159   NaN      8      2  CA. 2343   69.55          NaN        S  \n",
       "180   NaN      8      2  CA. 2343   69.55          NaN        S  \n",
       "201   NaN      8      2  CA. 2343   69.55          NaN        S  \n",
       "324   NaN      8      2  CA. 2343   69.55          NaN        S  \n",
       "341  24.0      3      2     19950  263.00  C23 C25 C27        S  \n",
       "792   NaN      8      2  CA. 2343   69.55          NaN        S  \n",
       "846   NaN      8      2  CA. 2343   69.55          NaN        S  \n",
       "863   NaN      8      2  CA. 2343   69.55          NaN        S  "
      ]
     },
     "execution_count": 8,
     "metadata": {},
     "output_type": "execute_result"
    }
   ],
   "source": [
    "train.loc[Outliers_to_drop]"
   ]
  },
  {
   "cell_type": "code",
   "execution_count": 9,
   "id": "cb623b28",
   "metadata": {
    "ExecuteTime": {
     "end_time": "2023-06-29T14:19:32.693087Z",
     "start_time": "2023-06-29T14:19:32.685123Z"
    }
   },
   "outputs": [],
   "source": [
    "train = train.drop(Outliers_to_drop, axis=0).reset_index(drop=True)"
   ]
  },
  {
   "cell_type": "code",
   "execution_count": 10,
   "id": "2f05aafc",
   "metadata": {
    "ExecuteTime": {
     "end_time": "2023-06-29T14:19:56.777265Z",
     "start_time": "2023-06-29T14:19:56.762349Z"
    }
   },
   "outputs": [],
   "source": [
    "train_len = len(train)\n",
    "dataset = pd.concat(objs = [train, test], axis=0).reset_index(drop=True)"
   ]
  },
  {
   "cell_type": "code",
   "execution_count": 11,
   "id": "7290e47e",
   "metadata": {
    "ExecuteTime": {
     "end_time": "2023-06-29T14:20:08.389514Z",
     "start_time": "2023-06-29T14:20:08.374717Z"
    }
   },
   "outputs": [
    {
     "data": {
      "text/plain": [
       "PassengerId       0\n",
       "Survived        418\n",
       "Pclass            0\n",
       "Name              0\n",
       "Sex               0\n",
       "Age             256\n",
       "SibSp             0\n",
       "Parch             0\n",
       "Ticket            0\n",
       "Fare              1\n",
       "Cabin          1007\n",
       "Embarked          2\n",
       "dtype: int64"
      ]
     },
     "execution_count": 11,
     "metadata": {},
     "output_type": "execute_result"
    }
   ],
   "source": [
    "dataset = dataset.fillna(np.nan)\n",
    "\n",
    "dataset.isnull().sum()"
   ]
  },
  {
   "cell_type": "code",
   "execution_count": 12,
   "id": "fdb44095",
   "metadata": {
    "ExecuteTime": {
     "end_time": "2023-06-29T14:20:24.481819Z",
     "start_time": "2023-06-29T14:20:24.458838Z"
    }
   },
   "outputs": [
    {
     "name": "stdout",
     "output_type": "stream",
     "text": [
      "<class 'pandas.core.frame.DataFrame'>\n",
      "RangeIndex: 881 entries, 0 to 880\n",
      "Data columns (total 12 columns):\n",
      " #   Column       Non-Null Count  Dtype  \n",
      "---  ------       --------------  -----  \n",
      " 0   PassengerId  881 non-null    int64  \n",
      " 1   Survived     881 non-null    int64  \n",
      " 2   Pclass       881 non-null    int64  \n",
      " 3   Name         881 non-null    object \n",
      " 4   Sex          881 non-null    object \n",
      " 5   Age          711 non-null    float64\n",
      " 6   SibSp        881 non-null    int64  \n",
      " 7   Parch        881 non-null    int64  \n",
      " 8   Ticket       881 non-null    object \n",
      " 9   Fare         881 non-null    float64\n",
      " 10  Cabin        201 non-null    object \n",
      " 11  Embarked     879 non-null    object \n",
      "dtypes: float64(2), int64(5), object(5)\n",
      "memory usage: 82.7+ KB\n"
     ]
    }
   ],
   "source": [
    "train.info()"
   ]
  },
  {
   "cell_type": "code",
   "execution_count": 13,
   "id": "66a81d69",
   "metadata": {
    "ExecuteTime": {
     "end_time": "2023-06-29T14:21:46.581670Z",
     "start_time": "2023-06-29T14:21:46.577694Z"
    }
   },
   "outputs": [],
   "source": [
    "index_NaN_age = list(dataset['Age'][dataset['Age'].isnull()].index)"
   ]
  },
  {
   "cell_type": "code",
   "execution_count": 14,
   "id": "c11260ae",
   "metadata": {
    "ExecuteTime": {
     "end_time": "2023-06-29T14:21:49.372402Z",
     "start_time": "2023-06-29T14:21:49.360407Z"
    }
   },
   "outputs": [
    {
     "data": {
      "text/plain": [
       "[5,\n",
       " 17,\n",
       " 19,\n",
       " 26,\n",
       " 27,\n",
       " 28,\n",
       " 30,\n",
       " 31,\n",
       " 35,\n",
       " 41,\n",
       " 44,\n",
       " 45,\n",
       " 46,\n",
       " 47,\n",
       " 54,\n",
       " 63,\n",
       " 64,\n",
       " 75,\n",
       " 76,\n",
       " 81,\n",
       " 86,\n",
       " 93,\n",
       " 99,\n",
       " 105,\n",
       " 107,\n",
       " 119,\n",
       " 124,\n",
       " 126,\n",
       " 138,\n",
       " 152,\n",
       " 156,\n",
       " 163,\n",
       " 165,\n",
       " 173,\n",
       " 177,\n",
       " 181,\n",
       " 182,\n",
       " 192,\n",
       " 194,\n",
       " 209,\n",
       " 218,\n",
       " 224,\n",
       " 230,\n",
       " 235,\n",
       " 236,\n",
       " 245,\n",
       " 251,\n",
       " 255,\n",
       " 259,\n",
       " 265,\n",
       " 269,\n",
       " 272,\n",
       " 279,\n",
       " 290,\n",
       " 293,\n",
       " 295,\n",
       " 296,\n",
       " 298,\n",
       " 299,\n",
       " 301,\n",
       " 324,\n",
       " 328,\n",
       " 329,\n",
       " 340,\n",
       " 344,\n",
       " 347,\n",
       " 351,\n",
       " 352,\n",
       " 357,\n",
       " 360,\n",
       " 361,\n",
       " 368,\n",
       " 377,\n",
       " 381,\n",
       " 402,\n",
       " 403,\n",
       " 404,\n",
       " 406,\n",
       " 408,\n",
       " 413,\n",
       " 418,\n",
       " 421,\n",
       " 424,\n",
       " 437,\n",
       " 444,\n",
       " 447,\n",
       " 450,\n",
       " 452,\n",
       " 457,\n",
       " 459,\n",
       " 461,\n",
       " 463,\n",
       " 468,\n",
       " 474,\n",
       " 478,\n",
       " 483,\n",
       " 488,\n",
       " 490,\n",
       " 495,\n",
       " 500,\n",
       " 504,\n",
       " 510,\n",
       " 515,\n",
       " 517,\n",
       " 520,\n",
       " 524,\n",
       " 526,\n",
       " 531,\n",
       " 540,\n",
       " 545,\n",
       " 550,\n",
       " 553,\n",
       " 556,\n",
       " 557,\n",
       " 561,\n",
       " 566,\n",
       " 571,\n",
       " 577,\n",
       " 582,\n",
       " 586,\n",
       " 589,\n",
       " 591,\n",
       " 594,\n",
       " 595,\n",
       " 604,\n",
       " 605,\n",
       " 606,\n",
       " 622,\n",
       " 626,\n",
       " 632,\n",
       " 636,\n",
       " 641,\n",
       " 643,\n",
       " 646,\n",
       " 649,\n",
       " 660,\n",
       " 662,\n",
       " 667,\n",
       " 673,\n",
       " 685,\n",
       " 690,\n",
       " 702,\n",
       " 704,\n",
       " 711,\n",
       " 720,\n",
       " 725,\n",
       " 731,\n",
       " 732,\n",
       " 733,\n",
       " 753,\n",
       " 759,\n",
       " 761,\n",
       " 766,\n",
       " 769,\n",
       " 771,\n",
       " 776,\n",
       " 783,\n",
       " 785,\n",
       " 807,\n",
       " 817,\n",
       " 818,\n",
       " 820,\n",
       " 824,\n",
       " 829,\n",
       " 831,\n",
       " 840,\n",
       " 850,\n",
       " 858,\n",
       " 868,\n",
       " 878,\n",
       " 891,\n",
       " 903,\n",
       " 910,\n",
       " 914,\n",
       " 917,\n",
       " 920,\n",
       " 922,\n",
       " 928,\n",
       " 935,\n",
       " 939,\n",
       " 946,\n",
       " 957,\n",
       " 964,\n",
       " 965,\n",
       " 966,\n",
       " 969,\n",
       " 972,\n",
       " 974,\n",
       " 983,\n",
       " 988,\n",
       " 989,\n",
       " 992,\n",
       " 997,\n",
       " 1002,\n",
       " 1005,\n",
       " 1008,\n",
       " 1013,\n",
       " 1014,\n",
       " 1027,\n",
       " 1029,\n",
       " 1032,\n",
       " 1041,\n",
       " 1044,\n",
       " 1049,\n",
       " 1051,\n",
       " 1054,\n",
       " 1064,\n",
       " 1069,\n",
       " 1072,\n",
       " 1080,\n",
       " 1081,\n",
       " 1086,\n",
       " 1092,\n",
       " 1097,\n",
       " 1100,\n",
       " 1106,\n",
       " 1108,\n",
       " 1114,\n",
       " 1124,\n",
       " 1125,\n",
       " 1130,\n",
       " 1136,\n",
       " 1137,\n",
       " 1146,\n",
       " 1147,\n",
       " 1148,\n",
       " 1149,\n",
       " 1152,\n",
       " 1154,\n",
       " 1155,\n",
       " 1163,\n",
       " 1167,\n",
       " 1169,\n",
       " 1170,\n",
       " 1171,\n",
       " 1173,\n",
       " 1178,\n",
       " 1182,\n",
       " 1185,\n",
       " 1193,\n",
       " 1213,\n",
       " 1220,\n",
       " 1223,\n",
       " 1225,\n",
       " 1238,\n",
       " 1239,\n",
       " 1246,\n",
       " 1247,\n",
       " 1261,\n",
       " 1263,\n",
       " 1265,\n",
       " 1289,\n",
       " 1291,\n",
       " 1294,\n",
       " 1297,\n",
       " 1298]"
      ]
     },
     "execution_count": 14,
     "metadata": {},
     "output_type": "execute_result"
    }
   ],
   "source": [
    "for i in index_NaN_age:\n",
    "    age_med = dataset['Age'].median()\n",
    "    age_pred = dataset['Age'][ (dataset['SibSp'] == dataset.iloc[i]['SibSp'] ) ]"
   ]
  },
  {
   "cell_type": "code",
   "execution_count": 15,
   "id": "b19ef4f0",
   "metadata": {
    "ExecuteTime": {
     "end_time": "2023-06-29T14:24:54.713311Z",
     "start_time": "2023-06-29T14:24:54.696442Z"
    }
   },
   "outputs": [
    {
     "data": {
      "text/plain": [
       "0                                 Braund, Mr. Owen Harris\n",
       "1       Cumings, Mrs. John Bradley (Florence Briggs Th...\n",
       "2                                  Heikkinen, Miss. Laina\n",
       "3            Futrelle, Mrs. Jacques Heath (Lily May Peel)\n",
       "4                                Allen, Mr. William Henry\n",
       "                              ...                        \n",
       "1294                                   Spector, Mr. Woolf\n",
       "1295                         Oliva y Ocana, Dona. Fermina\n",
       "1296                         Saether, Mr. Simon Sivertsen\n",
       "1297                                  Ware, Mr. Frederick\n",
       "1298                             Peter, Master. Michael J\n",
       "Name: Name, Length: 1299, dtype: object"
      ]
     },
     "execution_count": 15,
     "metadata": {},
     "output_type": "execute_result"
    }
   ],
   "source": [
    "dataset['Name']"
   ]
  },
  {
   "cell_type": "code",
   "execution_count": 16,
   "id": "ad87daf3",
   "metadata": {
    "ExecuteTime": {
     "end_time": "2023-06-29T14:25:25.377381Z",
     "start_time": "2023-06-29T14:25:25.371626Z"
    }
   },
   "outputs": [],
   "source": [
    "dataset_title = [ i.split(\",\")[1].split(\".\")[0].strip() for i in dataset['Name'] ]"
   ]
  },
  {
   "cell_type": "code",
   "execution_count": 17,
   "id": "b44a604e",
   "metadata": {
    "ExecuteTime": {
     "end_time": "2023-06-29T14:25:42.659905Z",
     "start_time": "2023-06-29T14:25:42.648001Z"
    }
   },
   "outputs": [
    {
     "data": {
      "text/plain": [
       "0      Mr\n",
       "1     Mrs\n",
       "2    Miss\n",
       "3     Mrs\n",
       "4      Mr\n",
       "Name: Title, dtype: object"
      ]
     },
     "execution_count": 17,
     "metadata": {},
     "output_type": "execute_result"
    }
   ],
   "source": [
    "dataset['Title'] = pd.Series(dataset_title)\n",
    "dataset['Title'].head()"
   ]
  },
  {
   "cell_type": "code",
   "execution_count": 18,
   "id": "cc85aedc",
   "metadata": {
    "ExecuteTime": {
     "end_time": "2023-06-29T14:25:53.355950Z",
     "start_time": "2023-06-29T14:25:53.341369Z"
    }
   },
   "outputs": [],
   "source": [
    "# Convert to categorical values Title \n",
    "dataset[\"Title\"] = dataset[\"Title\"].replace(['Lady', 'the Countess','Countess','Capt', 'Col','Don', 'Dr', 'Major', 'Rev', 'Sir', 'Jonkheer', 'Dona'], 'Rare')\n",
    "dataset[\"Title\"] = dataset[\"Title\"].map({\"Master\":0, \"Miss\":1, \"Ms\" : 1 , \"Mme\":1, \"Mlle\":1, \"Mrs\":1, \"Mr\":2, \"Rare\":3})\n",
    "dataset[\"Title\"] = dataset[\"Title\"].astype(int)"
   ]
  },
  {
   "cell_type": "code",
   "execution_count": 19,
   "id": "0adf360f",
   "metadata": {
    "ExecuteTime": {
     "end_time": "2023-06-29T14:26:03.729443Z",
     "start_time": "2023-06-29T14:26:03.720806Z"
    }
   },
   "outputs": [],
   "source": [
    "dataset.drop(labels = [\"Name\"], axis = 1, inplace = True)"
   ]
  },
  {
   "cell_type": "code",
   "execution_count": 20,
   "id": "eb1d555f",
   "metadata": {
    "ExecuteTime": {
     "end_time": "2023-06-29T14:26:20.864976Z",
     "start_time": "2023-06-29T14:26:20.858577Z"
    }
   },
   "outputs": [],
   "source": [
    "dataset['Fsize'] = dataset['SibSp'] + dataset['Parch'] + 1"
   ]
  },
  {
   "cell_type": "code",
   "execution_count": 21,
   "id": "6ae1c3ca",
   "metadata": {
    "ExecuteTime": {
     "end_time": "2023-06-29T14:27:00.117154Z",
     "start_time": "2023-06-29T14:27:00.112803Z"
    }
   },
   "outputs": [],
   "source": [
    "# Create new feature of family size\n",
    "dataset['Single'] = dataset['Fsize'].map(lambda s: 1 if s == 1 else 0)\n",
    "dataset['SmallF'] = dataset['Fsize'].map(lambda s: 1 if  s == 2  else 0)\n",
    "dataset['MedF'] = dataset['Fsize'].map(lambda s: 1 if 3 <= s <= 4 else 0)\n",
    "dataset['LargeF'] = dataset['Fsize'].map(lambda s: 1 if s >= 5 else 0)"
   ]
  },
  {
   "cell_type": "code",
   "execution_count": 22,
   "id": "f4f72bb0",
   "metadata": {
    "ExecuteTime": {
     "end_time": "2023-06-29T14:27:31.148544Z",
     "start_time": "2023-06-29T14:27:31.127111Z"
    }
   },
   "outputs": [],
   "source": [
    "dataset = pd.get_dummies(dataset, columns=['Title'])\n",
    "dataset = pd.get_dummies(dataset, columns=['Embarked'], prefix='Em')"
   ]
  },
  {
   "cell_type": "code",
   "execution_count": 23,
   "id": "65cc8c02",
   "metadata": {
    "ExecuteTime": {
     "end_time": "2023-06-29T14:28:05.624877Z",
     "start_time": "2023-06-29T14:28:05.616259Z"
    }
   },
   "outputs": [
    {
     "data": {
      "text/plain": [
       "1      C85\n",
       "3     C123\n",
       "6      E46\n",
       "10      G6\n",
       "11    C103\n",
       "Name: Cabin, dtype: object"
      ]
     },
     "execution_count": 23,
     "metadata": {},
     "output_type": "execute_result"
    }
   ],
   "source": [
    "dataset['Cabin'][dataset['Cabin'].notnull()].head()"
   ]
  },
  {
   "cell_type": "code",
   "execution_count": 25,
   "id": "05d2c783",
   "metadata": {
    "ExecuteTime": {
     "end_time": "2023-06-29T14:29:02.163085Z",
     "start_time": "2023-06-29T14:29:02.155601Z"
    }
   },
   "outputs": [],
   "source": [
    "# Replace the Cabin number by the type of cabin 'X' if not\n",
    "dataset[\"Cabin\"] = pd.Series([i[0] if not pd.isnull(i) else 'X' for i in dataset['Cabin'] ])"
   ]
  },
  {
   "cell_type": "code",
   "execution_count": 26,
   "id": "fc73309c",
   "metadata": {
    "ExecuteTime": {
     "end_time": "2023-06-29T14:29:22.741102Z",
     "start_time": "2023-06-29T14:29:22.730446Z"
    }
   },
   "outputs": [],
   "source": [
    "dataset = pd.get_dummies(dataset, columns=['Cabin'], prefix='Cbain')"
   ]
  },
  {
   "cell_type": "code",
   "execution_count": 27,
   "id": "b89a8264",
   "metadata": {
    "ExecuteTime": {
     "end_time": "2023-06-29T14:30:47.151129Z",
     "start_time": "2023-06-29T14:30:47.136426Z"
    }
   },
   "outputs": [
    {
     "data": {
      "text/plain": [
       "0        A5\n",
       "1        PC\n",
       "2    STONO2\n",
       "3         X\n",
       "4         X\n",
       "Name: Ticket, dtype: object"
      ]
     },
     "execution_count": 27,
     "metadata": {},
     "output_type": "execute_result"
    }
   ],
   "source": [
    "Ticket = []\n",
    "\n",
    "for i in list(dataset.Ticket):\n",
    "    if not i.isdigit():\n",
    "        Ticket.append(i.replace(\".\",\"\").replace(\"/\",\"\").strip().split(' ')[0])\n",
    "    else:\n",
    "        Ticket.append('X')\n",
    "\n",
    "dataset['Ticket'] = Ticket\n",
    "dataset['Ticket'].head()"
   ]
  },
  {
   "cell_type": "code",
   "execution_count": null,
   "id": "b2bf73fc",
   "metadata": {},
   "outputs": [],
   "source": []
  }
 ],
 "metadata": {
  "kernelspec": {
   "display_name": "Python 3 (ipykernel)",
   "language": "python",
   "name": "python3"
  },
  "language_info": {
   "codemirror_mode": {
    "name": "ipython",
    "version": 3
   },
   "file_extension": ".py",
   "mimetype": "text/x-python",
   "name": "python",
   "nbconvert_exporter": "python",
   "pygments_lexer": "ipython3",
   "version": "3.9.1"
  },
  "toc": {
   "base_numbering": 1,
   "nav_menu": {},
   "number_sections": true,
   "sideBar": true,
   "skip_h1_title": false,
   "title_cell": "Table of Contents",
   "title_sidebar": "Contents",
   "toc_cell": false,
   "toc_position": {},
   "toc_section_display": true,
   "toc_window_display": false
  }
 },
 "nbformat": 4,
 "nbformat_minor": 5
}
